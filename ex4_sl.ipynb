{
 "cells": [
  {
   "cell_type": "code",
   "execution_count": 1,
   "metadata": {},
   "outputs": [],
   "source": [
    "import datetime\n",
    "\n",
    "from pprint import pprint\n",
    "import numpy as np\n",
    "import pandas as pd\n",
    "from numba import jit, f8, i8, i4, b1, void\n",
    "\n",
    "import plotly\n",
    "import plotly.express as px\n",
    "import plotly.figure_factory as ff\n",
    "import plotly.graph_objects as go\n",
    "import plotly.io as pio\n",
    "from plotly.subplots import make_subplots\n",
    "from plotly.graph_objs.scatter import Line\n",
    "from plotly.graph_objs import Scatter\n",
    "\n",
    "from scipy.io import loadmat\n",
    "from sklearn.model_selection import train_test_split"
   ]
  },
  {
   "cell_type": "code",
   "execution_count": 2,
   "metadata": {},
   "outputs": [
    {
     "data": {
      "text/plain": [
       "((5000, 400), (5000, 1), (25, 401), (10, 26))"
      ]
     },
     "execution_count": 2,
     "metadata": {},
     "output_type": "execute_result"
    }
   ],
   "source": [
    "mat = loadmat('ex4data1.mat')\n",
    "X = mat['X']\n",
    "y = mat['y']\n",
    "\n",
    "mat = loadmat('ex4weights.mat')\n",
    "Theta1 = mat['Theta1']\n",
    "Theta2 = mat['Theta2']\n",
    "\n",
    "X.shape, y.shape, Theta1.shape, Theta2.shape"
   ]
  },
  {
   "cell_type": "code",
   "execution_count": 3,
   "metadata": {},
   "outputs": [
    {
     "name": "stdout",
     "output_type": "stream",
     "text": [
      "(2000, 400) (2000,) (1500, 400) (1500,) (1500, 400) (1500,)\n"
     ]
    }
   ],
   "source": [
    "X_train, X_test_base, y_train, y_test_base = train_test_split(X, y.ravel(), test_size=0.6)\n",
    "X_cv, X_test, y_cv, y_test = train_test_split(X_test_base, y_test_base, test_size=0.5)\n",
    "print(X_train.shape, y_train.shape, X_cv.shape, y_cv.shape, X_test.shape, y_test.shape)"
   ]
  },
  {
   "cell_type": "code",
   "execution_count": 11,
   "metadata": {},
   "outputs": [
    {
     "name": "stdout",
     "output_type": "stream",
     "text": [
      "MLPClassifier(activation='relu', alpha=1, batch_size='auto', beta_1=0.9,\n",
      "              beta_2=0.999, early_stopping=False, epsilon=1e-08,\n",
      "              hidden_layer_sizes=26, learning_rate='constant',\n",
      "              learning_rate_init=0.001, max_iter=500, momentum=0.9,\n",
      "              n_iter_no_change=10, nesterovs_momentum=True, power_t=0.5,\n",
      "              random_state=None, shuffle=True, solver='adam', tol=0.0001,\n",
      "              validation_fraction=0.1, verbose=False, warm_start=False)\n"
     ]
    }
   ],
   "source": [
    "from sklearn.neural_network import MLPClassifier\n",
    "mlp = MLPClassifier(hidden_layer_sizes=26, alpha=1, max_iter=500)\n",
    "print(mlp.fit(X_train, y_train))"
   ]
  },
  {
   "cell_type": "code",
   "execution_count": 19,
   "metadata": {},
   "outputs": [
    {
     "name": "stdout",
     "output_type": "stream",
     "text": [
      "2 (26,) 2 (400, 26)\n",
      "0.98\n"
     ]
    }
   ],
   "source": [
    "print(len(mlp.intercepts_), mlp.intercepts_[0].shape, len(mlp.coefs_), mlp.coefs_[0].shape)\n",
    "print(mlp.score(X_train, y_train))"
   ]
  },
  {
   "cell_type": "code",
   "execution_count": 21,
   "metadata": {},
   "outputs": [
    {
     "data": {
      "text/plain": [
       "0.9046666666666666"
      ]
     },
     "execution_count": 21,
     "metadata": {},
     "output_type": "execute_result"
    }
   ],
   "source": [
    "mlp.score(X_cv, y_cv)"
   ]
  },
  {
   "cell_type": "code",
   "execution_count": 24,
   "metadata": {},
   "outputs": [
    {
     "data": {
      "text/plain": [
       "[0.8893333333333333, 0.904, 0.54, 0.092]"
      ]
     },
     "execution_count": 24,
     "metadata": {},
     "output_type": "execute_result"
    }
   ],
   "source": [
    "scores = [0, 0, 0, 0]\n",
    "for i, a in enumerate([0.0001, 1, 50, 1e10]):\n",
    "    mlp = MLPClassifier(hidden_layer_sizes=26, alpha=a, max_iter=500)\n",
    "    mlp.fit(X_train, y_train)\n",
    "    scores[i] = mlp.score(X_cv, y_cv)\n",
    "\n",
    "scores"
   ]
  }
 ],
 "metadata": {
  "kernelspec": {
   "display_name": "Python 3",
   "language": "python",
   "name": "python3"
  },
  "language_info": {
   "codemirror_mode": {
    "name": "ipython",
    "version": 3
   },
   "file_extension": ".py",
   "mimetype": "text/x-python",
   "name": "python",
   "nbconvert_exporter": "python",
   "pygments_lexer": "ipython3",
   "version": "3.7.4"
  }
 },
 "nbformat": 4,
 "nbformat_minor": 4
}
