{
 "cells": [
  {
   "cell_type": "markdown",
   "metadata": {},
   "source": [
    "## 上手く動かない…"
   ]
  },
  {
   "cell_type": "code",
   "execution_count": 1,
   "metadata": {},
   "outputs": [],
   "source": [
    "import datetime\n",
    "\n",
    "import numpy as np\n",
    "import pandas as pd\n",
    "from scipy import optimize\n",
    "\n",
    "import plotly\n",
    "import plotly.express as px\n",
    "import plotly.figure_factory as ff\n",
    "import plotly.graph_objects as go\n",
    "import plotly.io as pio\n",
    "from plotly.subplots import make_subplots\n",
    "from plotly.graph_objs.scatter import Line\n",
    "from plotly.graph_objs import Scatter"
   ]
  },
  {
   "cell_type": "code",
   "execution_count": 216,
   "metadata": {},
   "outputs": [
    {
     "data": {
      "text/plain": [
       "((118, 3), (118, 1), 118, 2)"
      ]
     },
     "execution_count": 216,
     "metadata": {},
     "output_type": "execute_result"
    }
   ],
   "source": [
    "data = np.loadtxt('ex2data2.txt', delimiter=',')\n",
    "X = data[:, [0, 1]]\n",
    "y = data[:, [2]]\n",
    "m = X.shape[0]\n",
    "n = X.shape[1]\n",
    "\n",
    "X = np.c_[np.ones(m), X]\n",
    "\n",
    "X.shape, y.shape, m, n"
   ]
  },
  {
   "cell_type": "code",
   "execution_count": 217,
   "metadata": {},
   "outputs": [
    {
     "data": {
      "application/vnd.plotly.v1+json": {
       "config": {
        "plotlyServerURL": "https://plot.ly"
       },
       "data": [
        {
         "mode": "markers",
         "type": "scatter",
         "x": [
          0.18376,
          0.22408,
          0.29896,
          0.50634,
          0.61578,
          0.60426,
          0.76555,
          0.92684,
          0.82316,
          0.96141,
          0.93836,
          0.86348,
          0.89804,
          0.85196,
          0.82892,
          0.79435,
          0.59274,
          0.51786,
          0.46601,
          0.35081,
          0.28744,
          0.085829,
          0.14919,
          -0.13306,
          -0.40956,
          -0.39228,
          -0.74366,
          -0.69758,
          -0.75518,
          -0.69758,
          -0.4038,
          -0.38076,
          -0.50749,
          -0.54781,
          0.10311,
          0.057028,
          -0.10426,
          -0.081221,
          0.28744,
          0.39689,
          0.63882,
          0.82316,
          0.67339,
          1.0709,
          -0.046659,
          -0.23675,
          -0.15035,
          -0.49021,
          -0.46717,
          -0.28859,
          -0.61118,
          -0.66302,
          -0.59965,
          -0.72638,
          -0.83007,
          -0.72062,
          -0.59389,
          -0.48445,
          -0.0063364,
          0.63265
         ],
         "y": [
          0.93348,
          0.77997,
          0.61915,
          0.75804,
          0.7288,
          0.59722,
          0.50219,
          0.3633,
          0.27558,
          0.085526,
          0.012427,
          -0.082602,
          -0.20687,
          -0.36769,
          -0.5212,
          -0.55775,
          -0.7405,
          -0.5943,
          -0.41886,
          -0.57968,
          -0.76974,
          -0.75512,
          -0.57968,
          -0.4481,
          -0.41155,
          -0.25804,
          -0.25804,
          0.041667,
          0.2902,
          0.68494,
          0.70687,
          0.91886,
          0.90424,
          0.70687,
          0.77997,
          0.91886,
          0.99196,
          1.1089,
          1.087,
          0.82383,
          0.88962,
          0.66301,
          0.64108,
          0.10015,
          -0.57968,
          -0.63816,
          -0.36769,
          -0.3019,
          -0.13377,
          -0.060673,
          -0.067982,
          -0.21418,
          -0.41886,
          -0.082602,
          0.31213,
          0.53874,
          0.49488,
          0.99927,
          0.99927,
          -0.030612
         ]
        },
        {
         "mode": "markers",
         "type": "scatter",
         "x": [
          0.051267,
          -0.092742,
          -0.21371,
          -0.375,
          -0.51325,
          -0.52477,
          -0.39804,
          -0.30588,
          0.016705,
          0.13191,
          0.38537,
          0.52938,
          0.63882,
          0.73675,
          0.54666,
          0.322,
          0.16647,
          -0.046659,
          -0.17339,
          -0.47869,
          -0.60541,
          -0.62846,
          -0.59389,
          -0.42108,
          -0.11578,
          0.20104,
          0.46601,
          0.67339,
          -0.13882,
          -0.29435,
          -0.26555,
          -0.16187,
          -0.17339,
          -0.28283,
          -0.36348,
          -0.30012,
          -0.23675,
          -0.06394,
          0.062788,
          0.22984,
          0.2932,
          0.48329,
          0.64459,
          0.46025,
          0.6273,
          0.57546,
          0.72523,
          0.22408,
          0.44297,
          0.322,
          0.13767,
          -0.0063364,
          -0.092742,
          -0.20795,
          -0.20795,
          -0.43836,
          -0.21947,
          -0.13882
         ],
         "y": [
          0.69956,
          0.68494,
          0.69225,
          0.50219,
          0.46564,
          0.2098,
          0.034357,
          -0.19225,
          -0.40424,
          -0.51389,
          -0.56506,
          -0.5212,
          -0.24342,
          -0.18494,
          0.48757,
          0.5826,
          0.53874,
          0.81652,
          0.69956,
          0.63377,
          0.59722,
          0.33406,
          0.005117,
          -0.27266,
          -0.39693,
          -0.60161,
          -0.53582,
          -0.53582,
          0.54605,
          0.77997,
          0.96272,
          0.8019,
          0.64839,
          0.47295,
          0.31213,
          0.027047,
          -0.21418,
          -0.18494,
          -0.16301,
          -0.41155,
          -0.2288,
          -0.18494,
          -0.14108,
          0.012427,
          0.15863,
          0.26827,
          0.44371,
          0.52412,
          0.67032,
          0.69225,
          0.57529,
          0.39985,
          0.55336,
          0.35599,
          0.17325,
          0.21711,
          -0.016813,
          -0.27266
         ]
        }
       ],
       "layout": {
        "template": {
         "data": {
          "bar": [
           {
            "error_x": {
             "color": "#2a3f5f"
            },
            "error_y": {
             "color": "#2a3f5f"
            },
            "marker": {
             "line": {
              "color": "#E5ECF6",
              "width": 0.5
             }
            },
            "type": "bar"
           }
          ],
          "barpolar": [
           {
            "marker": {
             "line": {
              "color": "#E5ECF6",
              "width": 0.5
             }
            },
            "type": "barpolar"
           }
          ],
          "carpet": [
           {
            "aaxis": {
             "endlinecolor": "#2a3f5f",
             "gridcolor": "white",
             "linecolor": "white",
             "minorgridcolor": "white",
             "startlinecolor": "#2a3f5f"
            },
            "baxis": {
             "endlinecolor": "#2a3f5f",
             "gridcolor": "white",
             "linecolor": "white",
             "minorgridcolor": "white",
             "startlinecolor": "#2a3f5f"
            },
            "type": "carpet"
           }
          ],
          "choropleth": [
           {
            "colorbar": {
             "outlinewidth": 0,
             "ticks": ""
            },
            "type": "choropleth"
           }
          ],
          "contour": [
           {
            "colorbar": {
             "outlinewidth": 0,
             "ticks": ""
            },
            "colorscale": [
             [
              0,
              "#0d0887"
             ],
             [
              0.1111111111111111,
              "#46039f"
             ],
             [
              0.2222222222222222,
              "#7201a8"
             ],
             [
              0.3333333333333333,
              "#9c179e"
             ],
             [
              0.4444444444444444,
              "#bd3786"
             ],
             [
              0.5555555555555556,
              "#d8576b"
             ],
             [
              0.6666666666666666,
              "#ed7953"
             ],
             [
              0.7777777777777778,
              "#fb9f3a"
             ],
             [
              0.8888888888888888,
              "#fdca26"
             ],
             [
              1,
              "#f0f921"
             ]
            ],
            "type": "contour"
           }
          ],
          "contourcarpet": [
           {
            "colorbar": {
             "outlinewidth": 0,
             "ticks": ""
            },
            "type": "contourcarpet"
           }
          ],
          "heatmap": [
           {
            "colorbar": {
             "outlinewidth": 0,
             "ticks": ""
            },
            "colorscale": [
             [
              0,
              "#0d0887"
             ],
             [
              0.1111111111111111,
              "#46039f"
             ],
             [
              0.2222222222222222,
              "#7201a8"
             ],
             [
              0.3333333333333333,
              "#9c179e"
             ],
             [
              0.4444444444444444,
              "#bd3786"
             ],
             [
              0.5555555555555556,
              "#d8576b"
             ],
             [
              0.6666666666666666,
              "#ed7953"
             ],
             [
              0.7777777777777778,
              "#fb9f3a"
             ],
             [
              0.8888888888888888,
              "#fdca26"
             ],
             [
              1,
              "#f0f921"
             ]
            ],
            "type": "heatmap"
           }
          ],
          "heatmapgl": [
           {
            "colorbar": {
             "outlinewidth": 0,
             "ticks": ""
            },
            "colorscale": [
             [
              0,
              "#0d0887"
             ],
             [
              0.1111111111111111,
              "#46039f"
             ],
             [
              0.2222222222222222,
              "#7201a8"
             ],
             [
              0.3333333333333333,
              "#9c179e"
             ],
             [
              0.4444444444444444,
              "#bd3786"
             ],
             [
              0.5555555555555556,
              "#d8576b"
             ],
             [
              0.6666666666666666,
              "#ed7953"
             ],
             [
              0.7777777777777778,
              "#fb9f3a"
             ],
             [
              0.8888888888888888,
              "#fdca26"
             ],
             [
              1,
              "#f0f921"
             ]
            ],
            "type": "heatmapgl"
           }
          ],
          "histogram": [
           {
            "marker": {
             "colorbar": {
              "outlinewidth": 0,
              "ticks": ""
             }
            },
            "type": "histogram"
           }
          ],
          "histogram2d": [
           {
            "colorbar": {
             "outlinewidth": 0,
             "ticks": ""
            },
            "colorscale": [
             [
              0,
              "#0d0887"
             ],
             [
              0.1111111111111111,
              "#46039f"
             ],
             [
              0.2222222222222222,
              "#7201a8"
             ],
             [
              0.3333333333333333,
              "#9c179e"
             ],
             [
              0.4444444444444444,
              "#bd3786"
             ],
             [
              0.5555555555555556,
              "#d8576b"
             ],
             [
              0.6666666666666666,
              "#ed7953"
             ],
             [
              0.7777777777777778,
              "#fb9f3a"
             ],
             [
              0.8888888888888888,
              "#fdca26"
             ],
             [
              1,
              "#f0f921"
             ]
            ],
            "type": "histogram2d"
           }
          ],
          "histogram2dcontour": [
           {
            "colorbar": {
             "outlinewidth": 0,
             "ticks": ""
            },
            "colorscale": [
             [
              0,
              "#0d0887"
             ],
             [
              0.1111111111111111,
              "#46039f"
             ],
             [
              0.2222222222222222,
              "#7201a8"
             ],
             [
              0.3333333333333333,
              "#9c179e"
             ],
             [
              0.4444444444444444,
              "#bd3786"
             ],
             [
              0.5555555555555556,
              "#d8576b"
             ],
             [
              0.6666666666666666,
              "#ed7953"
             ],
             [
              0.7777777777777778,
              "#fb9f3a"
             ],
             [
              0.8888888888888888,
              "#fdca26"
             ],
             [
              1,
              "#f0f921"
             ]
            ],
            "type": "histogram2dcontour"
           }
          ],
          "mesh3d": [
           {
            "colorbar": {
             "outlinewidth": 0,
             "ticks": ""
            },
            "type": "mesh3d"
           }
          ],
          "parcoords": [
           {
            "line": {
             "colorbar": {
              "outlinewidth": 0,
              "ticks": ""
             }
            },
            "type": "parcoords"
           }
          ],
          "pie": [
           {
            "automargin": true,
            "type": "pie"
           }
          ],
          "scatter": [
           {
            "marker": {
             "colorbar": {
              "outlinewidth": 0,
              "ticks": ""
             }
            },
            "type": "scatter"
           }
          ],
          "scatter3d": [
           {
            "line": {
             "colorbar": {
              "outlinewidth": 0,
              "ticks": ""
             }
            },
            "marker": {
             "colorbar": {
              "outlinewidth": 0,
              "ticks": ""
             }
            },
            "type": "scatter3d"
           }
          ],
          "scattercarpet": [
           {
            "marker": {
             "colorbar": {
              "outlinewidth": 0,
              "ticks": ""
             }
            },
            "type": "scattercarpet"
           }
          ],
          "scattergeo": [
           {
            "marker": {
             "colorbar": {
              "outlinewidth": 0,
              "ticks": ""
             }
            },
            "type": "scattergeo"
           }
          ],
          "scattergl": [
           {
            "marker": {
             "colorbar": {
              "outlinewidth": 0,
              "ticks": ""
             }
            },
            "type": "scattergl"
           }
          ],
          "scattermapbox": [
           {
            "marker": {
             "colorbar": {
              "outlinewidth": 0,
              "ticks": ""
             }
            },
            "type": "scattermapbox"
           }
          ],
          "scatterpolar": [
           {
            "marker": {
             "colorbar": {
              "outlinewidth": 0,
              "ticks": ""
             }
            },
            "type": "scatterpolar"
           }
          ],
          "scatterpolargl": [
           {
            "marker": {
             "colorbar": {
              "outlinewidth": 0,
              "ticks": ""
             }
            },
            "type": "scatterpolargl"
           }
          ],
          "scatterternary": [
           {
            "marker": {
             "colorbar": {
              "outlinewidth": 0,
              "ticks": ""
             }
            },
            "type": "scatterternary"
           }
          ],
          "surface": [
           {
            "colorbar": {
             "outlinewidth": 0,
             "ticks": ""
            },
            "colorscale": [
             [
              0,
              "#0d0887"
             ],
             [
              0.1111111111111111,
              "#46039f"
             ],
             [
              0.2222222222222222,
              "#7201a8"
             ],
             [
              0.3333333333333333,
              "#9c179e"
             ],
             [
              0.4444444444444444,
              "#bd3786"
             ],
             [
              0.5555555555555556,
              "#d8576b"
             ],
             [
              0.6666666666666666,
              "#ed7953"
             ],
             [
              0.7777777777777778,
              "#fb9f3a"
             ],
             [
              0.8888888888888888,
              "#fdca26"
             ],
             [
              1,
              "#f0f921"
             ]
            ],
            "type": "surface"
           }
          ],
          "table": [
           {
            "cells": {
             "fill": {
              "color": "#EBF0F8"
             },
             "line": {
              "color": "white"
             }
            },
            "header": {
             "fill": {
              "color": "#C8D4E3"
             },
             "line": {
              "color": "white"
             }
            },
            "type": "table"
           }
          ]
         },
         "layout": {
          "annotationdefaults": {
           "arrowcolor": "#2a3f5f",
           "arrowhead": 0,
           "arrowwidth": 1
          },
          "coloraxis": {
           "colorbar": {
            "outlinewidth": 0,
            "ticks": ""
           }
          },
          "colorscale": {
           "diverging": [
            [
             0,
             "#8e0152"
            ],
            [
             0.1,
             "#c51b7d"
            ],
            [
             0.2,
             "#de77ae"
            ],
            [
             0.3,
             "#f1b6da"
            ],
            [
             0.4,
             "#fde0ef"
            ],
            [
             0.5,
             "#f7f7f7"
            ],
            [
             0.6,
             "#e6f5d0"
            ],
            [
             0.7,
             "#b8e186"
            ],
            [
             0.8,
             "#7fbc41"
            ],
            [
             0.9,
             "#4d9221"
            ],
            [
             1,
             "#276419"
            ]
           ],
           "sequential": [
            [
             0,
             "#0d0887"
            ],
            [
             0.1111111111111111,
             "#46039f"
            ],
            [
             0.2222222222222222,
             "#7201a8"
            ],
            [
             0.3333333333333333,
             "#9c179e"
            ],
            [
             0.4444444444444444,
             "#bd3786"
            ],
            [
             0.5555555555555556,
             "#d8576b"
            ],
            [
             0.6666666666666666,
             "#ed7953"
            ],
            [
             0.7777777777777778,
             "#fb9f3a"
            ],
            [
             0.8888888888888888,
             "#fdca26"
            ],
            [
             1,
             "#f0f921"
            ]
           ],
           "sequentialminus": [
            [
             0,
             "#0d0887"
            ],
            [
             0.1111111111111111,
             "#46039f"
            ],
            [
             0.2222222222222222,
             "#7201a8"
            ],
            [
             0.3333333333333333,
             "#9c179e"
            ],
            [
             0.4444444444444444,
             "#bd3786"
            ],
            [
             0.5555555555555556,
             "#d8576b"
            ],
            [
             0.6666666666666666,
             "#ed7953"
            ],
            [
             0.7777777777777778,
             "#fb9f3a"
            ],
            [
             0.8888888888888888,
             "#fdca26"
            ],
            [
             1,
             "#f0f921"
            ]
           ]
          },
          "colorway": [
           "#636efa",
           "#EF553B",
           "#00cc96",
           "#ab63fa",
           "#FFA15A",
           "#19d3f3",
           "#FF6692",
           "#B6E880",
           "#FF97FF",
           "#FECB52"
          ],
          "font": {
           "color": "#2a3f5f"
          },
          "geo": {
           "bgcolor": "white",
           "lakecolor": "white",
           "landcolor": "#E5ECF6",
           "showlakes": true,
           "showland": true,
           "subunitcolor": "white"
          },
          "hoverlabel": {
           "align": "left"
          },
          "hovermode": "closest",
          "mapbox": {
           "style": "light"
          },
          "paper_bgcolor": "white",
          "plot_bgcolor": "#E5ECF6",
          "polar": {
           "angularaxis": {
            "gridcolor": "white",
            "linecolor": "white",
            "ticks": ""
           },
           "bgcolor": "#E5ECF6",
           "radialaxis": {
            "gridcolor": "white",
            "linecolor": "white",
            "ticks": ""
           }
          },
          "scene": {
           "xaxis": {
            "backgroundcolor": "#E5ECF6",
            "gridcolor": "white",
            "gridwidth": 2,
            "linecolor": "white",
            "showbackground": true,
            "ticks": "",
            "zerolinecolor": "white"
           },
           "yaxis": {
            "backgroundcolor": "#E5ECF6",
            "gridcolor": "white",
            "gridwidth": 2,
            "linecolor": "white",
            "showbackground": true,
            "ticks": "",
            "zerolinecolor": "white"
           },
           "zaxis": {
            "backgroundcolor": "#E5ECF6",
            "gridcolor": "white",
            "gridwidth": 2,
            "linecolor": "white",
            "showbackground": true,
            "ticks": "",
            "zerolinecolor": "white"
           }
          },
          "shapedefaults": {
           "line": {
            "color": "#2a3f5f"
           }
          },
          "ternary": {
           "aaxis": {
            "gridcolor": "white",
            "linecolor": "white",
            "ticks": ""
           },
           "baxis": {
            "gridcolor": "white",
            "linecolor": "white",
            "ticks": ""
           },
           "bgcolor": "#E5ECF6",
           "caxis": {
            "gridcolor": "white",
            "linecolor": "white",
            "ticks": ""
           }
          },
          "title": {
           "x": 0.05
          },
          "xaxis": {
           "automargin": true,
           "gridcolor": "white",
           "linecolor": "white",
           "ticks": "",
           "title": {
            "standoff": 15
           },
           "zerolinecolor": "white",
           "zerolinewidth": 2
          },
          "yaxis": {
           "automargin": true,
           "gridcolor": "white",
           "linecolor": "white",
           "ticks": "",
           "title": {
            "standoff": 15
           },
           "zerolinecolor": "white",
           "zerolinewidth": 2
          }
         }
        }
       }
      },
      "text/html": [
       "<div>\n",
       "        \n",
       "        \n",
       "            <div id=\"bc3ee58c-bc1f-4073-9062-60fa72ede667\" class=\"plotly-graph-div\" style=\"height:525px; width:100%;\"></div>\n",
       "            <script type=\"text/javascript\">\n",
       "                require([\"plotly\"], function(Plotly) {\n",
       "                    window.PLOTLYENV=window.PLOTLYENV || {};\n",
       "                    \n",
       "                if (document.getElementById(\"bc3ee58c-bc1f-4073-9062-60fa72ede667\")) {\n",
       "                    Plotly.newPlot(\n",
       "                        'bc3ee58c-bc1f-4073-9062-60fa72ede667',\n",
       "                        [{\"mode\": \"markers\", \"type\": \"scatter\", \"x\": [0.18376, 0.22408, 0.29896, 0.50634, 0.61578, 0.60426, 0.76555, 0.92684, 0.82316, 0.96141, 0.93836, 0.86348, 0.89804, 0.85196, 0.82892, 0.79435, 0.59274, 0.51786, 0.46601, 0.35081, 0.28744, 0.085829, 0.14919, -0.13306, -0.40956, -0.39228, -0.74366, -0.69758, -0.75518, -0.69758, -0.4038, -0.38076, -0.50749, -0.54781, 0.10311, 0.057028, -0.10426, -0.081221, 0.28744, 0.39689, 0.63882, 0.82316, 0.67339, 1.0709, -0.046659, -0.23675, -0.15035, -0.49021, -0.46717, -0.28859, -0.61118, -0.66302, -0.59965, -0.72638, -0.83007, -0.72062, -0.59389, -0.48445, -0.0063364, 0.63265], \"y\": [0.93348, 0.77997, 0.61915, 0.75804, 0.7288, 0.59722, 0.50219, 0.3633, 0.27558, 0.085526, 0.012427, -0.082602, -0.20687, -0.36769, -0.5212, -0.55775, -0.7405, -0.5943, -0.41886, -0.57968, -0.76974, -0.75512, -0.57968, -0.4481, -0.41155, -0.25804, -0.25804, 0.041667, 0.2902, 0.68494, 0.70687, 0.91886, 0.90424, 0.70687, 0.77997, 0.91886, 0.99196, 1.1089, 1.087, 0.82383, 0.88962, 0.66301, 0.64108, 0.10015, -0.57968, -0.63816, -0.36769, -0.3019, -0.13377, -0.060673, -0.067982, -0.21418, -0.41886, -0.082602, 0.31213, 0.53874, 0.49488, 0.99927, 0.99927, -0.030612]}, {\"mode\": \"markers\", \"type\": \"scatter\", \"x\": [0.051267, -0.092742, -0.21371, -0.375, -0.51325, -0.52477, -0.39804, -0.30588, 0.016705, 0.13191, 0.38537, 0.52938, 0.63882, 0.73675, 0.54666, 0.322, 0.16647, -0.046659, -0.17339, -0.47869, -0.60541, -0.62846, -0.59389, -0.42108, -0.11578, 0.20104, 0.46601, 0.67339, -0.13882, -0.29435, -0.26555, -0.16187, -0.17339, -0.28283, -0.36348, -0.30012, -0.23675, -0.06394, 0.062788, 0.22984, 0.2932, 0.48329, 0.64459, 0.46025, 0.6273, 0.57546, 0.72523, 0.22408, 0.44297, 0.322, 0.13767, -0.0063364, -0.092742, -0.20795, -0.20795, -0.43836, -0.21947, -0.13882], \"y\": [0.69956, 0.68494, 0.69225, 0.50219, 0.46564, 0.2098, 0.034357, -0.19225, -0.40424, -0.51389, -0.56506, -0.5212, -0.24342, -0.18494, 0.48757, 0.5826, 0.53874, 0.81652, 0.69956, 0.63377, 0.59722, 0.33406, 0.005117, -0.27266, -0.39693, -0.60161, -0.53582, -0.53582, 0.54605, 0.77997, 0.96272, 0.8019, 0.64839, 0.47295, 0.31213, 0.027047, -0.21418, -0.18494, -0.16301, -0.41155, -0.2288, -0.18494, -0.14108, 0.012427, 0.15863, 0.26827, 0.44371, 0.52412, 0.67032, 0.69225, 0.57529, 0.39985, 0.55336, 0.35599, 0.17325, 0.21711, -0.016813, -0.27266]}],\n",
       "                        {\"template\": {\"data\": {\"bar\": [{\"error_x\": {\"color\": \"#2a3f5f\"}, \"error_y\": {\"color\": \"#2a3f5f\"}, \"marker\": {\"line\": {\"color\": \"#E5ECF6\", \"width\": 0.5}}, \"type\": \"bar\"}], \"barpolar\": [{\"marker\": {\"line\": {\"color\": \"#E5ECF6\", \"width\": 0.5}}, \"type\": \"barpolar\"}], \"carpet\": [{\"aaxis\": {\"endlinecolor\": \"#2a3f5f\", \"gridcolor\": \"white\", \"linecolor\": \"white\", \"minorgridcolor\": \"white\", \"startlinecolor\": \"#2a3f5f\"}, \"baxis\": {\"endlinecolor\": \"#2a3f5f\", \"gridcolor\": \"white\", \"linecolor\": \"white\", \"minorgridcolor\": \"white\", \"startlinecolor\": \"#2a3f5f\"}, \"type\": \"carpet\"}], \"choropleth\": [{\"colorbar\": {\"outlinewidth\": 0, \"ticks\": \"\"}, \"type\": \"choropleth\"}], \"contour\": [{\"colorbar\": {\"outlinewidth\": 0, \"ticks\": \"\"}, \"colorscale\": [[0.0, \"#0d0887\"], [0.1111111111111111, \"#46039f\"], [0.2222222222222222, \"#7201a8\"], [0.3333333333333333, \"#9c179e\"], [0.4444444444444444, \"#bd3786\"], [0.5555555555555556, \"#d8576b\"], [0.6666666666666666, \"#ed7953\"], [0.7777777777777778, \"#fb9f3a\"], [0.8888888888888888, \"#fdca26\"], [1.0, \"#f0f921\"]], \"type\": \"contour\"}], \"contourcarpet\": [{\"colorbar\": {\"outlinewidth\": 0, \"ticks\": \"\"}, \"type\": \"contourcarpet\"}], \"heatmap\": [{\"colorbar\": {\"outlinewidth\": 0, \"ticks\": \"\"}, \"colorscale\": [[0.0, \"#0d0887\"], [0.1111111111111111, \"#46039f\"], [0.2222222222222222, \"#7201a8\"], [0.3333333333333333, \"#9c179e\"], [0.4444444444444444, \"#bd3786\"], [0.5555555555555556, \"#d8576b\"], [0.6666666666666666, \"#ed7953\"], [0.7777777777777778, \"#fb9f3a\"], [0.8888888888888888, \"#fdca26\"], [1.0, \"#f0f921\"]], \"type\": \"heatmap\"}], \"heatmapgl\": [{\"colorbar\": {\"outlinewidth\": 0, \"ticks\": \"\"}, \"colorscale\": [[0.0, \"#0d0887\"], [0.1111111111111111, \"#46039f\"], [0.2222222222222222, \"#7201a8\"], [0.3333333333333333, \"#9c179e\"], [0.4444444444444444, \"#bd3786\"], [0.5555555555555556, \"#d8576b\"], [0.6666666666666666, \"#ed7953\"], [0.7777777777777778, \"#fb9f3a\"], [0.8888888888888888, \"#fdca26\"], [1.0, \"#f0f921\"]], \"type\": \"heatmapgl\"}], \"histogram\": [{\"marker\": {\"colorbar\": {\"outlinewidth\": 0, \"ticks\": \"\"}}, \"type\": \"histogram\"}], \"histogram2d\": [{\"colorbar\": {\"outlinewidth\": 0, \"ticks\": \"\"}, \"colorscale\": [[0.0, \"#0d0887\"], [0.1111111111111111, \"#46039f\"], [0.2222222222222222, \"#7201a8\"], [0.3333333333333333, \"#9c179e\"], [0.4444444444444444, \"#bd3786\"], [0.5555555555555556, \"#d8576b\"], [0.6666666666666666, \"#ed7953\"], [0.7777777777777778, \"#fb9f3a\"], [0.8888888888888888, \"#fdca26\"], [1.0, \"#f0f921\"]], \"type\": \"histogram2d\"}], \"histogram2dcontour\": [{\"colorbar\": {\"outlinewidth\": 0, \"ticks\": \"\"}, \"colorscale\": [[0.0, \"#0d0887\"], [0.1111111111111111, \"#46039f\"], [0.2222222222222222, \"#7201a8\"], [0.3333333333333333, \"#9c179e\"], [0.4444444444444444, \"#bd3786\"], [0.5555555555555556, \"#d8576b\"], [0.6666666666666666, \"#ed7953\"], [0.7777777777777778, \"#fb9f3a\"], [0.8888888888888888, \"#fdca26\"], [1.0, \"#f0f921\"]], \"type\": \"histogram2dcontour\"}], \"mesh3d\": [{\"colorbar\": {\"outlinewidth\": 0, \"ticks\": \"\"}, \"type\": \"mesh3d\"}], \"parcoords\": [{\"line\": {\"colorbar\": {\"outlinewidth\": 0, \"ticks\": \"\"}}, \"type\": \"parcoords\"}], \"pie\": [{\"automargin\": true, \"type\": \"pie\"}], \"scatter\": [{\"marker\": {\"colorbar\": {\"outlinewidth\": 0, \"ticks\": \"\"}}, \"type\": \"scatter\"}], \"scatter3d\": [{\"line\": {\"colorbar\": {\"outlinewidth\": 0, \"ticks\": \"\"}}, \"marker\": {\"colorbar\": {\"outlinewidth\": 0, \"ticks\": \"\"}}, \"type\": \"scatter3d\"}], \"scattercarpet\": [{\"marker\": {\"colorbar\": {\"outlinewidth\": 0, \"ticks\": \"\"}}, \"type\": \"scattercarpet\"}], \"scattergeo\": [{\"marker\": {\"colorbar\": {\"outlinewidth\": 0, \"ticks\": \"\"}}, \"type\": \"scattergeo\"}], \"scattergl\": [{\"marker\": {\"colorbar\": {\"outlinewidth\": 0, \"ticks\": \"\"}}, \"type\": \"scattergl\"}], \"scattermapbox\": [{\"marker\": {\"colorbar\": {\"outlinewidth\": 0, \"ticks\": \"\"}}, \"type\": \"scattermapbox\"}], \"scatterpolar\": [{\"marker\": {\"colorbar\": {\"outlinewidth\": 0, \"ticks\": \"\"}}, \"type\": \"scatterpolar\"}], \"scatterpolargl\": [{\"marker\": {\"colorbar\": {\"outlinewidth\": 0, \"ticks\": \"\"}}, \"type\": \"scatterpolargl\"}], \"scatterternary\": [{\"marker\": {\"colorbar\": {\"outlinewidth\": 0, \"ticks\": \"\"}}, \"type\": \"scatterternary\"}], \"surface\": [{\"colorbar\": {\"outlinewidth\": 0, \"ticks\": \"\"}, \"colorscale\": [[0.0, \"#0d0887\"], [0.1111111111111111, \"#46039f\"], [0.2222222222222222, \"#7201a8\"], [0.3333333333333333, \"#9c179e\"], [0.4444444444444444, \"#bd3786\"], [0.5555555555555556, \"#d8576b\"], [0.6666666666666666, \"#ed7953\"], [0.7777777777777778, \"#fb9f3a\"], [0.8888888888888888, \"#fdca26\"], [1.0, \"#f0f921\"]], \"type\": \"surface\"}], \"table\": [{\"cells\": {\"fill\": {\"color\": \"#EBF0F8\"}, \"line\": {\"color\": \"white\"}}, \"header\": {\"fill\": {\"color\": \"#C8D4E3\"}, \"line\": {\"color\": \"white\"}}, \"type\": \"table\"}]}, \"layout\": {\"annotationdefaults\": {\"arrowcolor\": \"#2a3f5f\", \"arrowhead\": 0, \"arrowwidth\": 1}, \"coloraxis\": {\"colorbar\": {\"outlinewidth\": 0, \"ticks\": \"\"}}, \"colorscale\": {\"diverging\": [[0, \"#8e0152\"], [0.1, \"#c51b7d\"], [0.2, \"#de77ae\"], [0.3, \"#f1b6da\"], [0.4, \"#fde0ef\"], [0.5, \"#f7f7f7\"], [0.6, \"#e6f5d0\"], [0.7, \"#b8e186\"], [0.8, \"#7fbc41\"], [0.9, \"#4d9221\"], [1, \"#276419\"]], \"sequential\": [[0.0, \"#0d0887\"], [0.1111111111111111, \"#46039f\"], [0.2222222222222222, \"#7201a8\"], [0.3333333333333333, \"#9c179e\"], [0.4444444444444444, \"#bd3786\"], [0.5555555555555556, \"#d8576b\"], [0.6666666666666666, \"#ed7953\"], [0.7777777777777778, \"#fb9f3a\"], [0.8888888888888888, \"#fdca26\"], [1.0, \"#f0f921\"]], \"sequentialminus\": [[0.0, \"#0d0887\"], [0.1111111111111111, \"#46039f\"], [0.2222222222222222, \"#7201a8\"], [0.3333333333333333, \"#9c179e\"], [0.4444444444444444, \"#bd3786\"], [0.5555555555555556, \"#d8576b\"], [0.6666666666666666, \"#ed7953\"], [0.7777777777777778, \"#fb9f3a\"], [0.8888888888888888, \"#fdca26\"], [1.0, \"#f0f921\"]]}, \"colorway\": [\"#636efa\", \"#EF553B\", \"#00cc96\", \"#ab63fa\", \"#FFA15A\", \"#19d3f3\", \"#FF6692\", \"#B6E880\", \"#FF97FF\", \"#FECB52\"], \"font\": {\"color\": \"#2a3f5f\"}, \"geo\": {\"bgcolor\": \"white\", \"lakecolor\": \"white\", \"landcolor\": \"#E5ECF6\", \"showlakes\": true, \"showland\": true, \"subunitcolor\": \"white\"}, \"hoverlabel\": {\"align\": \"left\"}, \"hovermode\": \"closest\", \"mapbox\": {\"style\": \"light\"}, \"paper_bgcolor\": \"white\", \"plot_bgcolor\": \"#E5ECF6\", \"polar\": {\"angularaxis\": {\"gridcolor\": \"white\", \"linecolor\": \"white\", \"ticks\": \"\"}, \"bgcolor\": \"#E5ECF6\", \"radialaxis\": {\"gridcolor\": \"white\", \"linecolor\": \"white\", \"ticks\": \"\"}}, \"scene\": {\"xaxis\": {\"backgroundcolor\": \"#E5ECF6\", \"gridcolor\": \"white\", \"gridwidth\": 2, \"linecolor\": \"white\", \"showbackground\": true, \"ticks\": \"\", \"zerolinecolor\": \"white\"}, \"yaxis\": {\"backgroundcolor\": \"#E5ECF6\", \"gridcolor\": \"white\", \"gridwidth\": 2, \"linecolor\": \"white\", \"showbackground\": true, \"ticks\": \"\", \"zerolinecolor\": \"white\"}, \"zaxis\": {\"backgroundcolor\": \"#E5ECF6\", \"gridcolor\": \"white\", \"gridwidth\": 2, \"linecolor\": \"white\", \"showbackground\": true, \"ticks\": \"\", \"zerolinecolor\": \"white\"}}, \"shapedefaults\": {\"line\": {\"color\": \"#2a3f5f\"}}, \"ternary\": {\"aaxis\": {\"gridcolor\": \"white\", \"linecolor\": \"white\", \"ticks\": \"\"}, \"baxis\": {\"gridcolor\": \"white\", \"linecolor\": \"white\", \"ticks\": \"\"}, \"bgcolor\": \"#E5ECF6\", \"caxis\": {\"gridcolor\": \"white\", \"linecolor\": \"white\", \"ticks\": \"\"}}, \"title\": {\"x\": 0.05}, \"xaxis\": {\"automargin\": true, \"gridcolor\": \"white\", \"linecolor\": \"white\", \"ticks\": \"\", \"title\": {\"standoff\": 15}, \"zerolinecolor\": \"white\", \"zerolinewidth\": 2}, \"yaxis\": {\"automargin\": true, \"gridcolor\": \"white\", \"linecolor\": \"white\", \"ticks\": \"\", \"title\": {\"standoff\": 15}, \"zerolinecolor\": \"white\", \"zerolinewidth\": 2}}}},\n",
       "                        {\"responsive\": true}\n",
       "                    ).then(function(){\n",
       "                            \n",
       "var gd = document.getElementById('bc3ee58c-bc1f-4073-9062-60fa72ede667');\n",
       "var x = new MutationObserver(function (mutations, observer) {{\n",
       "        var display = window.getComputedStyle(gd).display;\n",
       "        if (!display || display === 'none') {{\n",
       "            console.log([gd, 'removed!']);\n",
       "            Plotly.purge(gd);\n",
       "            observer.disconnect();\n",
       "        }}\n",
       "}});\n",
       "\n",
       "// Listen for the removal of the full notebook cells\n",
       "var notebookContainer = gd.closest('#notebook-container');\n",
       "if (notebookContainer) {{\n",
       "    x.observe(notebookContainer, {childList: true});\n",
       "}}\n",
       "\n",
       "// Listen for the clearing of the current output cell\n",
       "var outputEl = gd.closest('.output');\n",
       "if (outputEl) {{\n",
       "    x.observe(outputEl, {childList: true});\n",
       "}}\n",
       "\n",
       "                        })\n",
       "                };\n",
       "                });\n",
       "            </script>\n",
       "        </div>"
      ]
     },
     "metadata": {},
     "output_type": "display_data"
    }
   ],
   "source": [
    "neg = data[data[:, 2] == 0]\n",
    "pos = data[data[:, 2] == 1]\n",
    "\n",
    "fig = go.Figure()\n",
    "fig.add_trace(Scatter(x=neg[:, 0], y=neg[:, 1], mode='markers'))\n",
    "fig.add_trace(Scatter(x=pos[:, 0], y=pos[:, 1], mode='markers'))\n",
    "fig.show()"
   ]
  },
  {
   "cell_type": "code",
   "execution_count": 218,
   "metadata": {},
   "outputs": [
    {
     "data": {
      "text/plain": [
       "array([[ 1.00000000e+00,  1.00000000e+00,  5.12670000e-02, ...,\n",
       "         6.90798869e-06,  3.54151856e-07,  1.81563032e-08],\n",
       "       [ 1.00000000e+00,  1.00000000e+00, -9.27420000e-02, ...,\n",
       "         7.39785525e-05, -6.86091891e-06,  6.36295342e-07],\n",
       "       [ 1.00000000e+00,  1.00000000e+00, -2.13710000e-01, ...,\n",
       "         2.08592830e-03, -4.45783738e-04,  9.52684426e-05],\n",
       "       ...,\n",
       "       [ 1.00000000e+00,  1.00000000e+00, -4.84450000e-01, ...,\n",
       "         5.50802422e-02, -2.66836233e-02,  1.29268813e-02],\n",
       "       [ 1.00000000e+00,  1.00000000e+00, -6.33640000e-03, ...,\n",
       "         1.61201969e-09, -1.02144015e-11,  6.47225339e-14],\n",
       "       [ 1.00000000e+00,  1.00000000e+00,  6.32650000e-01, ...,\n",
       "         1.60196879e-01,  1.01348555e-01,  6.41181634e-02]])"
      ]
     },
     "execution_count": 218,
     "metadata": {},
     "output_type": "execute_result"
    }
   ],
   "source": [
    "def map_feature(x1, x2):\n",
    "    degree = 6\n",
    "    out = np.ones(x1.shape[0])\n",
    "    for i in range(1, degree + 1):\n",
    "        for j in range(i + 1):\n",
    "            col = (x1 ** (i-j)) * (x2 ** j)\n",
    "            out = np.c_[out, col]\n",
    "    return out\n",
    "\n",
    "XX = map_feature(X[:, 0], X[:, 1])\n",
    "XX"
   ]
  },
  {
   "cell_type": "code",
   "execution_count": 219,
   "metadata": {},
   "outputs": [
    {
     "data": {
      "text/plain": [
       "(0.6931471805599454,\n",
       " array([1.        , 1.        , 0.05477891, 1.        , 0.05477891,\n",
       "        0.24757534, 1.        , 0.05477891, 0.24757534, 0.05983333,\n",
       "        1.        , 0.05477891, 0.24757534, 0.05983333, 0.12253843,\n",
       "        1.        , 0.05477891, 0.24757534, 0.05983333, 0.12253843,\n",
       "        0.05196507, 1.        , 0.05477891, 0.24757534, 0.05983333,\n",
       "        0.12253843, 0.05196507, 0.07837118]))"
      ]
     },
     "execution_count": 219,
     "metadata": {},
     "output_type": "execute_result"
    }
   ],
   "source": [
    "def sigmoid(z):\n",
    "    return 1/(1 + np.exp(-z))\n",
    "\n",
    "def z(th, x):\n",
    "    return x @ th\n",
    "\n",
    "def h(th, x):\n",
    "    return sigmoid(z(th, x))\n",
    "\n",
    "def J(th, x, y, lamb):\n",
    "    h_th = h(th, x)\n",
    "    m = x.shape[0]\n",
    "    j = 1/m * ( -y * np.log(h_th) - (1-y) * np.log(1 - h_th) ).sum()\n",
    "    c = lamb / (2 * m) * (th[1:] ** 2).sum()\n",
    "    return j + c\n",
    "\n",
    "def grad(th, x, y, lamb):\n",
    "    g = 1/m * x.T @ (h(th, x) - y)\n",
    "    c = lamb/m * th\n",
    "    c[0] = 0\n",
    "    return g + c.reshape(-1, 1)\n",
    "    \n",
    "# def costFunctionReg(th, x, y, lamb):\n",
    "#     j = J(th, x, y, lamb)\n",
    "#     g = grad(th, x, y, lamb)\n",
    "#     return j, g\n",
    "\n",
    "# 正規化ありのコスト関数\n",
    "def costFunctionReg(theta, X, y, lambda_):\n",
    "    h_theta = 1 / (1 + np.exp(np.dot(-X, theta)))\n",
    "    J = np.sum(-y * np.log(h_theta) - (1 - y) * np.log(1 - h_theta)) / len(y)\n",
    "    J += lambda_ / 2 / len(y) * np.sum(theta[1:] ** 2) #θ0を正則化しない\n",
    "\n",
    "    grad = np.zeros(len(theta))\n",
    "    #θ0を正則化しない\n",
    "    grad[0] = np.sum((h_theta - y) * X[:, 0]) / len(y)\n",
    "    for j in range(1, len(theta)):\n",
    "        grad[j] = np.sum((h_theta - y) * X[:, j]) / len(y) + lambda_ / len(y) * theta[j]\n",
    "    return J, grad\n",
    "\n",
    "\n",
    "initial_theta = np.zeros((XX.shape[1], 1))\n",
    "lamb = 1\n",
    "\n",
    "costFunctionReg(initial_theta, XX, y, lamb)\n",
    "# initial_theta.shape, X.shape, initial_theta, lamb"
   ]
  },
  {
   "cell_type": "code",
   "execution_count": 220,
   "metadata": {},
   "outputs": [
    {
     "data": {
      "text/plain": [
       "(6.511236260180357,\n",
       " array([59.65312387, 59.73786963,  3.35247878, 59.73786963,  3.35247878,\n",
       "        14.8533879 , 59.73786963,  3.35247878, 14.8533879 ,  3.65399075,\n",
       "        59.73786963,  3.35247878, 14.8533879 ,  3.65399075,  7.39454585,\n",
       "        59.73786963,  3.35247878, 14.8533879 ,  3.65399075,  7.39454585,\n",
       "         3.18462465, 59.73786963,  3.35247878, 14.8533879 ,  3.65399075,\n",
       "         7.39454585,  3.18462465,  4.75983163]))"
      ]
     },
     "execution_count": 220,
     "metadata": {},
     "output_type": "execute_result"
    }
   ],
   "source": [
    "test_theta = np.ones((XX.shape[1], 1))\n",
    "cost, g = costFunctionReg(test_theta, XX, y, 10)\n",
    "cost, g"
   ]
  },
  {
   "cell_type": "code",
   "execution_count": 221,
   "metadata": {},
   "outputs": [
    {
     "name": "stdout",
     "output_type": "stream",
     "text": [
      "Optimization terminated successfully.\n",
      "         Current function value: 81.774417\n",
      "         Iterations: 24\n",
      "         Function evaluations: 870\n",
      "         Gradient evaluations: 29\n"
     ]
    },
    {
     "data": {
      "text/plain": [
       "(array([-3.29763259e-02, -1.53906054e-04,  1.85468422e-06, -1.53906054e-04,\n",
       "         1.85468422e-06, -1.72190849e-06, -1.53906054e-04,  1.85468422e-06,\n",
       "        -1.72190849e-06, -9.40773582e-06, -1.53906054e-04,  1.85468422e-06,\n",
       "        -1.72190849e-06, -9.40773582e-06, -9.60055881e-06, -1.53906054e-04,\n",
       "         1.85468422e-06, -1.72190849e-06, -9.40773582e-06, -2.02679149e-06,\n",
       "         9.30922990e-06, -1.53906054e-04,  1.85468422e-06, -1.72190849e-06,\n",
       "        -9.40773582e-06, -2.02679149e-06,  9.30922990e-06,  3.70251513e-05]),\n",
       " 81.77441734267147)"
      ]
     },
     "execution_count": 221,
     "metadata": {},
     "output_type": "execute_result"
    }
   ],
   "source": [
    "from scipy.optimize import fmin_bfgs\n",
    "\n",
    "cost_f = lambda th, x, y, lamb: costFunctionReg(th, x, y, lamb)[0]\n",
    "\n",
    "lamb = 1\n",
    "result = fmin_bfgs(cost_f, initial_theta, args=(XX, y, lamb, ), full_output=True, disp=True)\n",
    "\n",
    "theta, cost = result[0], result[1]\n",
    "theta, cost"
   ]
  },
  {
   "cell_type": "code",
   "execution_count": 222,
   "metadata": {},
   "outputs": [
    {
     "data": {
      "application/vnd.plotly.v1+json": {
       "config": {
        "plotlyServerURL": "https://plot.ly"
       },
       "data": [
        {
         "type": "contour",
         "z": [
          [
           -0.03295062318942784,
           -0.03292998001715862,
           -0.032915191274730526,
           -0.032905034594661965,
           -0.03289850254092131,
           -0.032894775647617974,
           -0.03289319741226599,
           -0.03289325124361997,
           -0.03289453936408363,
           -0.03289676366669066,
           -0.03289970852665807,
           -0.032903225567511976,
           -0.0329072203817859,
           -0.03291164120629141,
           -0.032916469551961286,
           -0.032921712788265126,
           -0.032927398682197344,
           -0.03293357189183774,
           -0.03294029241448434,
           -0.03294763598935886,
           -0.032955696454884456,
           -0.03296459006053611,
           -0.03297446173326329,
           -0.03298549329848508,
           -0.03299791365565792,
           -0.033012010908415636,
           -0.033028146449281905,
           -0.033046770998955304,
           -0.033068442600166684,
           -0.033093846566109045,
           -0.03312381738343982,
           -0.03315936256985574,
           -0.033201688486239896,
           -0.03325222810338151,
           -0.03331267072326802,
           -0.033384993654949575,
           -0.03347149584497611,
           -0.0335748334624068,
           -0.033698057438391854,
           -0.033844652960327,
           -0.03401858092058021,
           -0.03422432131979093,
           -0.03446691862474178,
           -0.03475202908080275,
           -0.035085969978947716,
           -0.035475770877343486,
           -0.03592922677751134,
           -0.03645495325506093,
           -0.0370624435449966,
           -0.037762127581596305
          ],
          [
           -0.032958620776832315,
           -0.032938022026740836,
           -0.03292326185122981,
           -0.032913118899867456,
           -0.03290658677953016,
           -0.032902847089167936,
           -0.03290124440914223,
           -0.032901263245136286,
           -0.032902506926637966,
           -0.032904678459994924,
           -0.032907563336042236,
           -0.03291101429230266,
           -0.03291493802975904,
           -0.03291928388419946,
           -0.03292403445213461,
           -0.032929198171287775,
           -0.03293480385565714,
           -0.03294089718515062,
           -0.03294753914979311,
           -0.03295480644850621,
           -0.03296279384246038,
           -0.032971618462999494,
           -0.03298142607413796,
           -0.03299239928963021,
           -0.033004767744612494,
           -0.03301882022181754,
           -0.03303491873236121,
           -0.0330535145511018,
           -0.03307516620657186,
           -0.033100559425482325,
           -0.033130529031799125,
           -0.033166082800392384,
           -0.03320842726525779,
           -0.033258995482310705,
           -0.033319476746752556,
           -0.033391848265009634,
           -0.033478408781244536,
           -0.03358181415843986,
           -0.033705114914054486,
           -0.03385179571025217,
           -0.03402581679870267,
           -0.034231657419955416,
           -0.034474361157385364,
           -0.03475958324571162,
           -0.03509363983408814,
           -0.03548355920376737,
           -0.035937134940335756,
           -0.03646298106052221,
           -0.037070589093578715,
           -0.037770387117233496
          ],
          [
           -0.032964545802126106,
           -0.03294399552929706,
           -0.032929269779626735,
           -0.032919148089376654,
           -0.03291262497943255,
           -0.032908882986144215,
           -0.03290726764673756,
           -0.0329072644392994,
           -0.032908477677334444,
           -0.032910611358894955,
           -0.03291345197028262,
           -0.03291685324432307,
           -0.03292072287321274,
           -0.032925011175938275,
           -0.032929701720268136,
           -0.032934803899317085,
           -0.032940347462682644,
           -0.032946379002154365,
           -0.03295296039199535,
           -0.03296016918379629,
           -0.03296810095590193,
           -0.03297687361741001,
           -0.03298663366674264,
           -0.03299756440479008,
           -0.03300989610262706,
           -0.033023918123801455,
           -0.0330399930011954,
           -0.033058572468459106,
           -0.03308021544601664,
           -0.03310560798164466,
           -0.033135585145623196,
           -0.033171154880459235,
           -0.03321352380518242,
           -0.0332641249742134,
           -0.033324647590804626,
           -0.03339706867505346,
           -0.033483686686487886,
           -0.033587157101224605,
           -0.033710529943699524,
           -0.033857289272970825,
           -0.034031394623594266,
           -0.03423732440107124,
           -0.03448012123186898,
           -0.03476543926801337,
           -0.03509959344625424,
           -0.035489610701802926,
           -0.03594328313664249,
           -0.036469223142410266,
           -0.03707692047785289,
           -0.037776801300853736
          ],
          [
           -0.03296883577486128,
           -0.032948335820056296,
           -0.03293364803768394,
           -0.03292355272631633,
           -0.0329170451979237,
           -0.0329133088047886,
           -0.032911689920992276,
           -0.032911674878473796,
           -0.032912868857661384,
           -0.03291497673267626,
           -0.032917785871108975,
           -0.032921150888368285,
           -0.03292498035660215,
           -0.032929225468191554,
           -0.03293387065381659,
           -0.03293892615509497,
           -0.03294442255179302,
           -0.03295040724360921,
           -0.03295694288652998,
           -0.03296410778375805,
           -0.032971998231213405,
           -0.032980732817606315,
           -0.03299045867908313,
           -0.03300135970844444,
           -0.03301366671893559,
           -0.03302766956260986,
           -0.03304373120326368,
           -0.03306230374394494,
           -0.03308394640903296,
           -0.03310934548089169,
           -0.03313933619109471,
           -0.03317492656622309,
           -0.033217323228235555,
           -0.03326795914941112,
           -0.03332852336186404,
           -0.03340099262163145,
           -0.03348766502733335,
           -0.033591195593404885,
           -0.033714633777901355,
           -0.03386146296487539,
           -0.03403564190132682,
           -0.0342416480887248,
           -0.03448452312910255,
           -0.034769920025724356,
           -0.03510415243832521,
           -0.03549424589292274,
           -0.03594799094620169,
           -0.03647399830447087,
           -0.03708175589719232,
           -0.037781687905083336
          ],
          [
           -0.032971856861210444,
           -0.03295140718170308,
           -0.03293675892317062,
           -0.03292669302808681,
           -0.032920205482555386,
           -0.03291648033929842,
           -0.032914864695217226,
           -0.03291484562352561,
           -0.03291602906045563,
           -0.032918120646535765,
           -0.03292090852244155,
           -0.0329242480794187,
           -0.032928048664278585,
           -0.032932262238966246,
           -0.032936873994700806,
           -0.032941894920688365,
           -0.03294735632740729,
           -0.03295330632446604,
           -0.03295980825303331,
           -0.032966941072840775,
           -0.03297480170375818,
           -0.03298350932194088,
           -0.03299321161054988,
           -0.03300409296504431,
           -0.033016384653046245,
           -0.033030376928778214,
           -0.03304643310207285,
           -0.0330650055619553,
           -0.033086653754797773,
           -0.03311206411704674,
           -0.0331420719625226,
           -0.03317768532429168,
           -0.03322011075111068,
           -0.03327078105844368,
           -0.03333138503405151,
           -0.03340389909815358,
           -0.03349062091816223,
           -0.03359420497798934,
           -0.03371770010192556,
           -0.033864588933092035,
           -0.03403882936646441,
           -0.0342448979364693,
           -0.03448783515915338,
           -0.034773292828924704,
           -0.03510758326986666,
           -0.035497730541624264,
           -0.035951523599862874,
           -0.03647757141129948,
           -0.03708536002330634,
           -0.03778531158808707
          ],
          [
           -0.03297391192457702,
           -0.03295351090528369,
           -0.03293890205506455,
           -0.032928866847859915,
           -0.0329224018329297,
           -0.03291869165391621,
           -0.032917084022479205,
           -0.03291706664650362,
           -0.0329182461128795,
           -0.03292032872485467,
           -0.03292310329395948,
           -0.03292642588650443,
           -0.03293020652464987,
           -0.032934397842048366,
           -0.03293898569405941,
           -0.03294398172253669,
           -0.03294941787518762,
           -0.03295534287950554,
           -0.03296182067127422,
           -0.03296893077764479,
           -0.03297677065478531,
           -0.03298545998010253,
           -0.03299514689903628,
           -0.033006016226426196,
           -0.03301829960245113,
           -0.03303228760314053,
           -0.03304834380545883,
           -0.03306692080696191,
           -0.03308857820002612,
           -0.033114002500649775,
           -0.033144029031827046,
           -0.03317966576149436,
           -0.0332221190950492,
           -0.03327282162244136,
           -0.033333461819836666,
           -0.033406015705853116,
           -0.03349278045236952,
           -0.033596409949906536,
           -0.03371995232758019,
           -0.03386688942762778,
           -0.03404117823450636,
           -0.03424729425856346,
           -0.03449027687428056,
           -0.03477577661308868,
           -0.035110104410756585,
           -0.03550028280935157,
           -0.03595409911377237,
           -0.0364801605028548,
           -0.0370879510950497,
           -0.037787890968673396
          ],
          [
           -0.032975248095994565,
           -0.032954892840901216,
           -0.032940321904543,
           -0.03293031718586553,
           -0.03292387569228148,
           -0.03292018255480779,
           -0.03291858599777499,
           -0.03291857426310918,
           -0.032919754489186506,
           -0.03292183354425989,
           -0.03292460081445825,
           -0.03292791294635845,
           -0.032931680544129184,
           -0.03293585682124784,
           -0.032940428206789454,
           -0.032945406906288215,
           -0.03295082541717151,
           -0.032956732998766246,
           -0.03296319409687777,
           -0.03297028872294117,
           -0.03297811478774503,
           -0.03298679238972764,
           -0.03299647005784561,
           -0.03300733294901509,
           -0.033019613000125125,
           -0.033033601034623876,
           -0.03304966082367692,
           -0.03306824510189814,
           -0.03308991353765316,
           -0.033115352657935096,
           -0.03314539772781276,
           -0.03318105658445141,
           -0.03322353542570582,
           -0.033274266553285914,
           -0.03333493807049479,
           -0.03340752553453914,
           -0.033494325563412315,
           -0.033597991397349515,
           -0.03372157041485583,
           -0.03386854360330629,
           -0.03404286698411873,
           -0.034249014992498945,
           -0.0344920258117583,
           -0.03477754866220373,
           -0.03511189304460027,
           -0.03550207993820616,
           -0.03595589495338006,
           -0.036481943438761016,
           -0.03708970754302073,
           -0.03778960523118836
          ],
          [
           -0.03297606387431495,
           -0.03295575047819948,
           -0.03294121485576246,
           -0.032931239230467264,
           -0.03292482096884974,
           -0.03292114559172963,
           -0.03291956173999431,
           -0.032919558094955115,
           -0.032920742253275945,
           -0.03292282155647454,
           -0.03292558587499592,
           -0.032928892346858606,
           -0.03293265207087297,
           -0.032936818754432225,
           -0.03294137931587591,
           -0.03294634644142553,
           -0.03295175309669304,
           -0.03295764899276147,
           -0.03296409900683814,
           -0.03297118355748026,
           -0.03297900093439306,
           -0.032987671582800304,
           -0.03299734434238718,
           -0.03300820464081595,
           -0.03302048464181346,
           -0.03303447534783187,
           -0.03305054065728109,
           -0.033069133376334166,
           -0.03309081318530494,
           -0.03311626655959809,
           -0.0331463286452317,
           -0.033182007088932354,
           -0.033224507822802514,
           -0.03327526280356045,
           -0.033335959706352586,
           -0.033408573573138284,
           -0.033495400415647164,
           -0.033599092772908706,
           -0.033722697223354456,
           -0.03386969385149261,
           -0.03404403766915505,
           -0.03425020199131683,
           -0.0344932237664881,
           -0.034778750861678545,
           -0.03511309130193415,
           -0.035503264464446564,
           -0.03595705422723472,
           -0.03648306407239915,
           -0.03709077414394847,
           -0.03779060026019856
          ],
          [
           -0.032976515756185286,
           -0.03295623955663596,
           -0.03294173579642732,
           -0.03293178692902691,
           -0.03292539058703787,
           -0.03292173258948483,
           -0.03292016190367192,
           -0.03292016756161336,
           -0.03292135753103651,
           -0.032923439540957326,
           -0.032926203861828277,
           -0.03292950804025873,
           -0.03293326358830771,
           -0.03293742462734925,
           -0.03294197848651004,
           -0.03294693825567955,
           -0.03295233729309278,
           -0.03295822568748517,
           -0.03296466867482017,
           -0.03297174700958918,
           -0.03297955929068396,
           -0.03298822624184145,
           -0.03299789694666112,
           -0.033008757038194655,
           -0.03302103884310817,
           -0.03303503348041687,
           -0.033051104914792115,
           -0.03306970596444099,
           -0.03309139626355821,
           -0.03311686217935068,
           -0.03314693868363422,
           -0.033182633179003065,
           -0.033225151279571506,
           -0.033275924546288194,
           -0.033336640176822765,
           -0.03340927265002498,
           -0.03349611732495634,
           -0.03359982599449405,
           -0.03372344439350741,
           -0.033870451661606994,
           -0.03404480176046569,
           -0.03425096684571272,
           -0.03449398259339981,
           -0.03477949548103996,
           -0.0351138120232185,
           -0.035503949961776846,
           -0.03595769141056839,
           -0.03648363795478712,
           -0.03709126770486846,
           -0.0377909943049628
          ],
          [
           -0.03297672439581388,
           -0.03295648020554332,
           -0.03294200423814735,
           -0.03293207908855769,
           -0.03292570256836284,
           -0.03292206070916811,
           -0.0329205027205281,
           -0.032920517902451485,
           -0.032921714512478474,
           -0.03292380058733056,
           -0.03292656671913273,
           -0.0329298707862082,
           -0.03293362463844552,
           -0.03293778273723815,
           -0.03294233274999656,
           -0.03294728809923263,
           -0.03295268246621658,
           -0.032958566249206435,
           -0.03296500497624977,
           -0.03297207967255798,
           -0.03297988918245305,
           -0.03298855444588671,
           -0.032998224729532,
           -0.033009085812447415,
           -0.03302137012631338,
           -0.03303536885024118,
           -0.03305144596015444,
           -0.033070054232742924,
           -0.03309175320398886,
           -0.03311722908226573,
           -0.03314731661600938,
           -0.0331830229159618,
           -0.03322555323198709,
           -0.03327633868446012,
           -0.033337065950227424,
           -0.03340970890314072,
           -0.033496562209162764,
           -0.03360027687604574,
           -0.03372389775758197,
           -0.03387090301242715,
           -0.03404524551749613,
           -0.034251396235930986,
           -0.03449438953964155,
           -0.03477987048641853,
           -0.035114144051618904,
           -0.03550422631442394,
           -0.03595789759866944,
           -0.0364837575682487,
           -0.03709128227708766,
           -0.03779088317369271
          ],
          [
           -0.032976780294524936,
           -0.03295656261398016,
           -0.032942109966584046,
           -0.03293220500616647,
           -0.03292584564219309,
           -0.03292221803919956,
           -0.03292067157079841,
           -0.03292069572825816,
           -0.03292189898365511,
           -0.03292398960759732,
           -0.03292675844152123,
           -0.03293006362456075,
           -0.03293381727498855,
           -0.03293797412623008,
           -0.032942522117449864,
           -0.03294747493871045,
           -0.032952866530703395,
           -0.0329587475390532,
           -0.03296518372319334,
           -0.03297225631981488,
           -0.03298006436088753,
           -0.03298872894625312,
           -0.032998399470791535,
           -0.033009261806159165,
           -0.03302154843709959,
           -0.03303555055232703,
           -0.033051632089981985,
           -0.03307024573765943,
           -0.033091950887009475,
           -0.033117433542910336,
           -0.03314752818721398,
           -0.033183241597064095,
           -0.03322577861778634,
           -0.03327656989035145,
           -0.033337301533410385,
           -0.03340994677990219,
           -0.03349679956823405,
           -0.03360051008803422,
           -0.03372412228047684,
           -0.033871113293179746,
           -0.03404543488967423,
           -0.03425155681344775,
           -0.034494512106558566,
           -0.03477994438282336,
           -0.03511415705557679,
           -0.0355041645200039,
           -0.03595774529004471,
           -0.036483497089871426,
           -0.037090893899938034,
           -0.03779034495760222
          ],
          [
           -0.03297674902010214,
           -0.032956552230370174,
           -0.03294211822138579,
           -0.032932229629284764,
           -0.03292588438627541,
           -0.03292226871614726,
           -0.03292073208435206,
           -0.03292076410265739,
           -0.032921973388372584,
           -0.03292406837814722,
           -0.03292684009634195,
           -0.0329301468779719,
           -0.03293390104622236,
           -0.032938057544537054,
           -0.03294260452327883,
           -0.03294755588096277,
           -0.03295294576006174,
           -0.032958824997384444,
           -0.03296525952902587,
           -0.032972330749890165,
           -0.03298013782778608,
           -0.03298880197209477,
           -0.03299847265700992,
           -0.03300933579935068,
           -0.033021623890946615,
           -0.033035628085595396,
           -0.03305171224059288,
           -0.03307032891283555,
           -0.03309203730949552,
           -0.03311752319326783,
           -0.03314762074219041,
           -0.03318333636403635,
           -0.03322587446527853,
           -0.033276665174627004,
           -0.03333739402113837,
           -0.03341003356689817,
           -0.033496876994275136,
           -0.03360057364774838,
           -0.03372416653030668,
           -0.03387113175442047,
           -0.03404541994758605,
           -0.03425149961244247,
           -0.034494402441460736,
           -0.034779770586205315,
           -0.03511390588116853,
           -0.0355038210221769,
           -0.035957292699370244,
           -0.036482916684753196,
           -0.03709016487431895,
           -0.03778944428474579
          ],
          [
           -0.03297667595592115,
           -0.032956494491930735,
           -0.03294207440591212,
           -0.03293219824568864,
           -0.0329258638970507,
           -0.03292225757533888,
           -0.03292072877159935,
           -0.032920767153311645,
           -0.03292198141968908,
           -0.032924080111551325,
           -0.032926854375769865,
           -0.03293016268428541,
           -0.03293391750769814,
           -0.032938073943430186,
           -0.03294262029846065,
           -0.03294757062663306,
           -0.032952959220535205,
           -0.032958837057951586,
           -0.03296527020288804,
           -0.032972340161169136,
           -0.03298014619060776,
           -0.032988809565747304,
           -0.03299847979717618,
           -0.033009342805414926,
           -0.033021631049375604,
           -0.03303563560939382,
           -0.033051720224832964,
           -0.03307033728626122,
           -0.03309204578220058,
           -0.03311753120044881,
           -0.03314762738397349,
           -0.03318334034137862,
           -0.03322587401194372,
           -0.03327665798523534,
           -0.03333737717529096,
           -0.03341000344937552,
           -0.03349682921131007,
           -0.03360050293937338,
           -0.033724066678775304,
           -0.033870995488703315,
           -0.03404523884394098,
           -0.034251263991059044,
           -0.03449410125917912,
           -0.03477939132530948,
           -0.035113434434253674,
           -0.03550324157309126,
           -0.035956587600231245,
           -0.036482066329037874,
           -0.03708914756602878,
           -0.03778823610364574
          ],
          [
           -0.03297659057987095,
           -0.032956419083889674,
           -0.0329420083267465,
           -0.03293214070330747,
           -0.032925813989758385,
           -0.032922214331261995,
           -0.032920691184187736,
           -0.032920734212913944,
           -0.032921952141202464,
           -0.0329240535581457,
           -0.032926829678686154,
           -0.03293013905870847,
           -0.032933894264703716,
           -0.03293805049800639,
           -0.032942596173603594,
           -0.032947545453516976,
           -0.032952932734756746,
           -0.03295880909184848,
           -0.0329652406739322,
           -0.03297230905643385,
           -0.03298011354730943,
           -0.03298877544786135,
           -0.03299844426812733,
           -0.03300930589684187,
           -0.03302159272596982,
           -0.03303559572981293,
           -0.03305167849868825,
           -0.03307029322717945,
           -0.033091998656960386,
           -0.033117479974191025,
           -0.033147570661486096,
           -0.03318327630445594,
           -0.03322580035281983,
           -0.03327657183609193,
           -0.03333727503383952,
           -0.03340988110051368,
           -0.03349668164485251,
           -0.033600324263856736,
           -0.0337238500313378,
           -0.03387073294103838,
           -0.03404492130432529,
           -0.03425088110245502,
           -0.03449364129341147,
           -0.034778841073316365,
           -0.03511277909241193,
           -0.035502464625616174,
           -0.03595567069765048,
           -0.03648098916273978,
           -0.037087887738885016,
           -0.0377867689967082
          ],
          [
           -0.032976510273063975,
           -0.03295634372849165,
           -0.03294193796299815,
           -0.0329320751598216,
           -0.03292575292833008,
           -0.032922157287753384,
           -0.03292063760548702,
           -0.032920683489968634,
           -0.03292190363812711,
           -0.032924006637403816,
           -0.032926783722346545,
           -0.032930093485775816,
           -0.032933848544523504,
           -0.03293800415974414,
           -0.03294254881179851,
           -0.03294749672970972,
           -0.032952882375191755,
           -0.032958756881250495,
           -0.03296518644535703,
           -0.03297225267719365,
           -0.03298005490097214,
           -0.032988714412324545,
           -0.03299838068976637,
           -0.03300923956073228,
           -0.03302152332218421,
           -0.03303552281579193,
           -0.0330516014576861,
           -0.03307021122278361,
           -0.03309191058368568,
           -0.033117384404148,
           -0.03314746578712374,
           -0.033183159877378667,
           -0.033225669618678934,
           -0.033276423465551125,
           -0.03333710504961501,
           -0.03340968480048846,
           -0.03349645352126497,
           -0.033600057918563644,
           -0.03372353808715158,
           -0.03387036694913867,
           -0.03404449164774492,
           -0.03425037689564017,
           -0.034493050277856305,
           -0.034778149509271834,
           -0.035111971646669064,
           -0.035501524255363494,
           -0.03595457853040595,
           -0.03647972437235688,
           -0.03708642741763328,
           -0.037785088023428004
          ],
          [
           -0.032976443658335255,
           -0.03295627750379276,
           -0.03294187276539294,
           -0.03293201136204883,
           -0.03292569068507174,
           -0.03292209657797715,
           -0.03292057827086314,
           -0.03292062526936114,
           -0.0329218461981593,
           -0.0329239495990981,
           -0.03292672668383853,
           -0.03293003604110281,
           -0.032933790298487316,
           -0.032937944738848195,
           -0.03294248787125922,
           -0.03294743395654229,
           -0.0329528174873703,
           -0.03295868962294228,
           -0.03296511657823129,
           -0.03297217996780469,
           -0.03297997910421652,
           -0.03298863525097285,
           -0.032998297830069225,
           -0.03300915258410063,
           -0.03302143169294399,
           -0.033035425845012976,
           -0.03305149826308545,
           -0.033070100684703146,
           -0.033091791297143985,
           -0.03311725462696666,
           -0.033147323384127854,
           -0.03318300226067177,
           -0.03322549368399218,
           -0.03327622552466687,
           -0.03333688075886455,
           -0.03340942908532427,
           -0.03349616049690725,
           -0.033599720806720995,
           -0.03372314912881625,
           -0.03386991731345592,
           -0.034043971336956864,
           -0.034249774646103855,
           -0.034492353457136096,
           -0.034777344009306176,
           -0.035111041773011525,
           -0.03550045261249818,
           -0.0359533459031371,
           -0.036478309603273036,
           -0.0370848072806455,
           -0.0377832370933826
          ],
          [
           -0.03297639346853029,
           -0.0329562236922444,
           -0.03294181648515263,
           -0.032931953455119733,
           -0.03292563173013481,
           -0.03292203693419161,
           -0.03292051811774108,
           -0.03292056464271665,
           -0.032921785022131785,
           -0.03292388771424997,
           -0.03292666387132722,
           -0.03292997204292708,
           -0.03293372483380793,
           -0.03293787751638281,
           -0.03294241859775178,
           -0.03294736234130656,
           -0.032952743242907756,
           -0.03295861246163448,
           -0.032965036205106366,
           -0.03297209606937819,
           -0.03297989133340675,
           -0.03298854320809031,
           -0.032998201039880465,
           -0.03300905046896647,
           -0.03302132354203197,
           -0.033035310779584215,
           -0.03305137519785574,
           -0.033069968285278466,
           -0.03309164793353019,
           -0.033117098323153675,
           -0.033147151763748044,
           -0.03318281248873272,
           -0.03322528240468369,
           -0.03327598879524237,
           -0.03333661397959687,
           -0.033409126925535555,
           -0.033495816817073365,
           -0.033599328576650225,
           -0.03372270034190221,
           -0.033869402897004915,
           -0.03404338105858952,
           -0.034249097016231037,
           -0.034491575627509215,
           -0.03477645166764176,
           -0.03511001903369013,
           -0.03549928190333765,
           -0.03595200784824014,
           -0.03647678290194895,
           -0.037083068582406585,
           -0.03778126086901453
          ],
          [
           -0.03297635894458181,
           -0.03295618215906581,
           -0.032941769532663465,
           -0.03293190232144188,
           -0.03292557735077638,
           -0.032921979987305214,
           -0.032920459065456445,
           -0.03292050376854746,
           -0.03292172246445692,
           -0.03292382349586903,
           -0.03292659792509042,
           -0.03292990423343944,
           -0.03293365497520768,
           -0.032937805386194334,
           -0.03294234394681267,
           -0.03294728489976911,
           -0.03295266272231477,
           -0.032958528553069334,
           -0.03296494857341746,
           -0.03297200434347774,
           -0.03297979509264373,
           -0.032988441964697954,
           -0.032998094217497956,
           -0.03300893737723495,
           -0.03302120334726489,
           -0.03303518247151203,
           -0.03305123755244488,
           -0.03306981982362467,
           -0.033091486876826136,
           -0.03311692254373093,
           -0.033146958732193345,
           -0.033182599217078536,
           -0.03322504538567323,
           -0.03327572393766878,
           -0.03333631653971672,
           -0.03340879143455686,
           -0.03349543700471765,
           -0.033598897290789166,
           -0.03372220946426839,
           -0.03386884325497706,
           -0.03404274233305193,
           -0.03424836764550739,
           -0.03449074270737078,
           -0.034775500847389736,
           -0.03510893440831251,
           -0.03549804590174022,
           -0.03595060111755196,
           -0.03647518418790212,
           -0.037081254605790176,
           -0.037779206198203054
          ],
          [
           -0.03297633776337555,
           -0.03295615126040562,
           -0.0329417308659335,
           -0.03293185744945301,
           -0.03292552750040799,
           -0.032921926096221285,
           -0.032920401824896,
           -0.03292044366218936,
           -0.03292165980335886,
           -0.03292375844948098,
           -0.03292653054834236,
           -0.03292983448990333,
           -0.03293358275633388,
           -0.03293773052662224,
           -0.03294226623575575,
           -0.032947204088474236,
           -0.032952578527595804,
           -0.032958440656915104,
           -0.03296485661867411,
           -0.03297190792560521,
           -0.03297969374754682,
           -0.032988335152631484,
           -0.03299798130304635,
           -0.0330088176053661,
           -0.033021075815458434,
           -0.033035046097961825,
           -0.033051091040335885,
           -0.033069661621484066,
           -0.033091315134948854,
           -0.033116735066679476,
           -0.03314675292737194,
           -0.03318237203938154,
           -0.03322479327820791,
           -0.033275442768552446,
           -0.033336001534948104,
           -0.033408437106961925,
           -0.033495037078969565,
           -0.033598444624502725,
           -0.033721695965168705,
           -0.03386825979414262,
           -0.034042078654231846,
           -0.034247612270513234,
           -0.03448988283754237,
           -0.03477452226113557,
           -0.03510782135472435,
           -0.035496780990282084,
           -0.03594916520382334,
           -0.03647355625547554,
           -0.03707941164412322,
           -0.03777712307662452
          ],
          [
           -0.032976327495404634,
           -0.032956129281292046,
           -0.03294169940883855,
           -0.03293181833216286,
           -0.032925482177433386,
           -0.03292187570697149,
           -0.03292034723792713,
           -0.03292038551552689,
           -0.032921598540894624,
           -0.03292369435344449,
           -0.032926463767846234,
           -0.032929765065563284,
           -0.03293351064096293,
           -0.032937655601999224,
           -0.03294218832546819,
           -0.03294712296683551,
           -0.03295249392463662,
           -0.032958352259449396,
           -0.03296476406743907,
           -0.03297181080847582,
           -0.032979591588824665,
           -0.03298822739840778,
           -0.03299786730263938,
           -0.03300869658883302,
           -0.033020946867181274,
           -0.03303490812630789,
           -0.03305094274339247,
           -0.033069501448867514,
           -0.03309114124568783,
           -0.03311654528317273,
           -0.03314654468542021,
           -0.03318214233429394,
           -0.03322453860698251,
           -0.03327515906813124,
           -0.03333568411654634,
           -0.03340808058647156,
           -0.03349463530343734,
           -0.033597990594682305,
           -0.03372118175414728,
           -0.03386767646204175,
           -0.03404141615898273,
           -0.03424685937470613,
           -0.03448902701135051,
           -0.03477354958131335,
           -0.0351067163996797,
           -0.035495526731223366,
           -0.03594774289198045,
           -0.036471945305395374,
           -0.037077589513039404,
           -0.037775065139901504
          ],
          [
           -0.03297632659221302,
           -0.03295611540337222,
           -0.03294167499915735,
           -0.03293178539548407,
           -0.03292544233387522,
           -0.03292183024163837,
           -0.032920297146615894,
           -0.03292033154650722,
           -0.03292154123276387,
           -0.032923634069056726,
           -0.03292640072431574,
           -0.03292969936034224,
           -0.032933442273993564,
           -0.032937584493940145,
           -0.03294211433199511,
           -0.0329470458890163,
           -0.03295241351538064,
           -0.03295826822603118,
           -0.032964676070096365,
           -0.03297171845508183,
           -0.03297949442563471,
           -0.0329881248968803,
           -0.03299775884233117,
           -0.03300858143636888,
           -0.033020824151297826,
           -0.03303477680897197,
           -0.0330508015869936,
           -0.033069348979484756,
           -0.03309097571243112,
           -0.03311636461359826,
           -0.033146346437020385,
           -0.033181923642061455,
           -0.03322429612704892,
           -0.033274888917479754,
           -0.03333538180879891,
           -0.033407740963750356,
           -0.03349425246430056,
           -0.03359755781813423,
           -0.03372069141972266,
           -0.033867119965964636,
           -0.034040783826399454,
           -0.03424614036799268,
           -0.03448820923449428,
           -0.03477261958036906,
           -0.035105659259299926,
           -0.03549432596726299,
           -0.035946380340175776,
           -0.036470401006117384,
           -0.03707584159212138,
           -0.03777308968554101
          ],
          [
           -0.03297633490362778,
           -0.032956110202440145,
           -0.032941658866395385,
           -0.03293176045635188,
           -0.032925410313790475,
           -0.0329217925170666,
           -0.03292025479223436,
           -0.03292028537844329,
           -0.032921491847907665,
           -0.032923581880448055,
           -0.03292634599260543,
           -0.032929642221327715,
           -0.03293338276222876,
           -0.032937522562419774,
           -0.03294204986791326,
           -0.032946978725599256,
           -0.032952343439794196,
           -0.032958194983362075,
           -0.0329645993634082,
           -0.032971637941545194,
           -0.03297940970873173,
           -0.032988035514683385,
           -0.03299766425185624,
           -0.03300848099400276,
           -0.03302071708930004,
           -0.033034662208050854,
           -0.03305067834495669,
           -0.03306921577596358,
           -0.03309083096968021,
           -0.03311620645336859,
           -0.03314617263350698,
           -0.03318173157092558,
           -0.03322408271051426,
           -0.033274650565503154,
           -0.033335114356315386,
           -0.033407439603992374,
           -0.03349391167819166,
           -0.03359717129975698,
           -0.033720251997860974,
           -0.03386661952172029,
           -0.03404021320688306,
           -0.03424548929608887,
           -0.03448746621470132,
           -0.03477177180071274,
           -0.03510469248932162,
           -0.03549322445208237,
           -0.03594512669062749,
           -0.036468976084962273,
           -0.03707422439633201,
           -0.03777125722466141
          ],
          [
           -0.03297635372478012,
           -0.03295611567575373,
           -0.032941653639397626,
           -0.0329317467106325,
           -0.03292538982147486,
           -0.03292176669336314,
           -0.03292022474405643,
           -0.03292025194910546,
           -0.03292145565789611,
           -0.03292354336426544,
           -0.032926305431689985,
           -0.0329295997730468,
           -0.032933338484946575,
           -0.03293747643663949,
           -0.03294200181349342,
           -0.03294692861504457,
           -0.03295229110762057,
           -0.032958140231536044,
           -0.03296454196286054,
           -0.03297157762975911,
           -0.03297934618340506,
           -0.03298796842346539,
           -0.0329975931781585,
           -0.03300840543888454,
           -0.033020636449427945,
           -0.03303457574973271,
           -0.03305058517424991,
           -0.03306911480485773,
           -0.03309072087835391,
           -0.033116085648520775,
           -0.03314603920276246,
           -0.033181583233314896,
           -0.033223916763027946,
           -0.0332744638257202,
           -0.03333490310110608,
           -0.03340719950429559,
           -0.033493637729866146,
           -0.03359685775050731,
           -0.03371989227023771,
           -0.033866206132194245,
           -0.03403973768099422,
           -0.03424494207966953,
           -0.03448683658117332,
           -0.03477104775445935,
           -0.03510386066513351,
           -0.03549227001067803,
           -0.035944033210247896,
           -0.036467725449039985,
           -0.03707279667723435,
           -0.037769630563508294
          ],
          [
           -0.032976385372915466,
           -0.032956134799140446,
           -0.03294166288375005,
           -0.03293174825082079,
           -0.03292538541945594,
           -0.03292175775218626,
           -0.03292021235794277,
           -0.032920236949602194,
           -0.03292143865610477,
           -0.032923524789144565,
           -0.03292628556443224,
           -0.032929578777530104,
           -0.032933316434259875,
           -0.032937453335682744,
           -0.03294197761765178,
           -0.03294690324493705,
           -0.032952264459922956,
           -0.03295811218587815,
           -0.03296451238479779,
           -0.03297154636981839,
           -0.03297931307220493,
           -0.03298793326291066,
           -0.032997555728709035,
           -0.03300836540289839,
           -0.033020593450579,
           -0.03303452930850235,
           -0.03305053467949319,
           -0.03306905948144385,
           -0.03309065975088099,
           -0.033116017501104954,
           -0.033145962534901326,
           -0.03318149621182517,
           -0.03322381717005762,
           -0.03327434900283482,
           -0.0333347698894496,
           -0.0334070441808252,
           -0.03349345593966176,
           -0.03359664443515524,
           -0.033719641592288484,
           -0.03386591139569515,
           -0.034039391248095775,
           -0.034244535283306426,
           -0.03448635963381976,
           -0.03477048965295863,
           -0.03510320909160192,
           -0.03549151122948306,
           -0.035943151961060786,
           -0.03646670483596263,
           -0.03707161805400054,
           -0.03776827341475909
          ],
          [
           -0.03297643229399224,
           -0.032956170613892076,
           -0.032941690168970264,
           -0.03293176911352628,
           -0.032925401556275394,
           -0.03292177050482352,
           -0.03292022276471445,
           -0.03292024579304956,
           -0.032921446506679976,
           -0.032923532044971185,
           -0.03292629248714007,
           -0.03292958552416442,
           -0.03293332308526491,
           -0.03293745991895945,
           -0.032941984128690066,
           -0.03294690966302215,
           -0.03295227076041627,
           -0.03295811834857233,
           -0.03296451839834616,
           -0.032971552232238695,
           -0.03297931878745742,
           -0.0329879388335504,
           -0.03299756114461274,
           -0.03300837062606539,
           -0.0330205983960065,
           -0.03303453382113528,
           -0.03305053850724808,
           -0.03306906224430715,
           -0.033090660906081745,
           -0.033116016304361694,
           -0.033145957997743385,
           -0.03318148705498832,
           -0.0332238017729539,
           -0.03327432534909687,
           -0.03333473550854912,
           -0.03340699608576589,
           -0.03349339056074657,
           -0.033596557549827745,
           -0.0337195282510489,
           -0.03386576584409034,
           -0.03403920684478383,
           -0.03424430441419546,
           -0.03448607362228104,
           -0.03477013866611393,
           -0.035102782042685424,
           -0.035490995676277365,
           -0.03594253400040741,
           -0.03646596899434658,
           -0.0370707471742095,
           -0.03776724853861674
          ],
          [
           -0.0329764956990696,
           -0.032956224843448234,
           -0.0329417376654867,
           -0.03293181185674853,
           -0.032925441124059825,
           -0.03292180813005845,
           -0.03292025938831556,
           -0.03292028211302969,
           -0.03292148302329312,
           -0.03292356910193094,
           -0.032926330308912365,
           -0.03292962424933451,
           -0.03293336279597873,
           -0.03293750066643935,
           -0.03294202595482469,
           -0.03294695261803092,
           -0.032952314916587885,
           -0.03295816381007777,
           -0.032964565307126,
           -0.032971600769964665,
           -0.03297936917356833,
           -0.03298799131936245,
           -0.03299761600350399,
           -0.033008428139734695,
           -0.03302065883680674,
           -0.03303459743048081,
           -0.033050605470096646,
           -0.03306913265971607,
           -0.0330907347538383,
           -0.03311609340768807,
           -0.03314603798207574,
           -0.03318156930283022,
           -0.0332238853748041,
           -0.03327440905045144,
           -0.03333481765297783,
           -0.033407074554063006,
           -0.0334934627061558,
           -0.03359662012934172,
           -0.033719577352782804,
           -0.033865796810730014,
           -0.03403921419310803,
           -0.034244281750672546,
           -0.03448601355473996,
           -0.034770032711489575,
           -0.03510262053083815,
           -0.03549076764988703,
           -0.03594222711094158,
           -0.036465569394103205,
           -0.037070239404433665,
           -0.03776661541369206
          ],
          [
           -0.03297657373048397,
           -0.032956296039868674,
           -0.03294180427140685,
           -0.03293187566694096,
           -0.03292550354588062,
           -0.03292187024182619,
           -0.03292032199376465,
           -0.032920345791837884,
           -0.032921548177683585,
           -0.03292363599934837,
           -0.03292639912077357,
           -0.03292969508585343,
           -0.032933435737065524,
           -0.0329375757886739,
           -0.0329421033545046,
           -0.032947032430293594,
           -0.032952397330607036,
           -0.032958249080334234,
           -0.032964653760752895,
           -0.03297169281016682,
           -0.03297946527911612,
           -0.03298809204015982,
           -0.03299772195223092,
           -0.03300853997956394,
           -0.033020777265194916,
           -0.033034723159033705,
           -0.033050739200509056,
           -0.03306927505578563,
           -0.03309088640955406,
           -0.033116254811392964,
           -0.033146209476703714,
           -0.03318175104221744,
           -0.03322407727607464,
           -0.03327461074247726,
           -0.033335028420912995,
           -0.03340729327995227,
           -0.03349368780561755,
           -0.03359684948432525,
           -0.0337198082403998,
           -0.033866025828160465,
           -0.03403943717858042,
           -0.03424449370051838,
           -0.03448620853652259,
           -0.03477020377320739,
           -0.03510275960620203,
           -0.03549086545967215,
           -0.03594227306041354,
           -0.03646555146651847,
           -0.037070144050614366,
           -0.037766427437675006
          ],
          [
           -0.03297665915781452,
           -0.032956377260094594,
           -0.03294188326907437,
           -0.0329319539958638,
           -0.03292558239290258,
           -0.03292195048665799,
           -0.03292040426489495,
           -0.0329204305185189,
           -0.032921635637990734,
           -0.032923726364314496,
           -0.03292649249459731,
           -0.03292979154218195,
           -0.03293353535135163,
           -0.03293767866660742,
           -0.03294220965651808,
           -0.032947142392142276,
           -0.03295251128002334,
           -0.03295836744975637,
           -0.032964777096127794,
           -0.03297182177582754,
           -0.03297960065873343,
           -0.03298823473376815,
           -0.03299787296932871,
           -0.03300870042828822,
           -0.03302094833757012,
           -0.033034906112295086,
           -0.033050935334500035,
           -0.03306948568642991,
           -0.03309111283840166,
           -0.03311649829124085,
           -0.03314647117329053,
           -0.03318203199199277,
           -0.03322437834004254,
           -0.03327493255611389,
           -0.03333537134015888,
           -0.033407657323278765,
           -0.03349407259216754,
           -0.033597254168128275,
           -0.03372023144066147,
           -0.03386646555562618,
           -0.03403989075797344,
           -0.03424495768905222,
           -0.03448667863848765,
           -0.03477067475063204,
           -0.03510322518558792,
           -0.035491318234803865,
           -0.03594270439124261,
           -0.03646595137412161,
           -0.03707050110822619,
           -0.03776672865779492
          ],
          [
           -0.032976736603637445,
           -0.03295645327199876,
           -0.032941959511414876,
           -0.032932031727225794,
           -0.03292566253132159,
           -0.03292203367091455,
           -0.03292049091188367,
           -0.032920520876691756,
           -0.03292172983687472,
           -0.032923824460103585,
           -0.03292659451181873,
           -0.03292989751143683,
           -0.032933645343129814,
           -0.03293779282117688,
           -0.032942328209888364,
           -0.032947265698102426,
           -0.0329526398282541,
           -0.03295850188001672,
           -0.03296491820851581,
           -0.03297197053711558,
           -0.032979758204777575,
           -0.032988402367992116,
           -0.03299805215728185,
           -0.03300889278827803,
           -0.03302115562736913,
           -0.033035130211921775,
           -0.03305117822507438,
           -0.0330697494251031,
           -0.033091399529360105,
           -0.03311681005278461,
           -0.03314681010098602,
           -0.03318240011789976,
           -0.03322477758801551,
           -0.03327536469317769,
           -0.03333583792395872,
           -0.03340815964560455,
           -0.033494611618552446,
           -0.03359783047352173,
           -0.033720845141176424,
           -0.033867116236360684,
           -0.03404057739690657,
           -0.03424567857701428,
           -0.03448743129520481,
           -0.0347714558368451,
           -0.03510403041124553,
           -0.03549214226333012,
           -0.035943540739878814,
           -0.03646679231034247,
           -0.037071337542230264,
           -0.03776755003106941
          ],
          [
           -0.032976779299069156,
           -0.03295649729022442,
           -0.03294200613807091,
           -0.032932081873114874,
           -0.03292571679909088,
           -0.03292209241780827,
           -0.032920554308569924,
           -0.03292058896216369,
           -0.0329218025694261,
           -0.0329239017643785,
           -0.032926676321935855,
           -0.03292998381018777,
           -0.03293373619725202,
           -0.03293788841270062,
           -0.032942428863558235,
           -0.03294737190487309,
           -0.032952752264860316,
           -0.032958621424617716,
           -0.03296504595241409,
           -0.032972107792549825,
           -0.03297990650879011,
           -0.0329885634823705,
           -0.032998228064574905,
           -0.03300908568388615,
           -0.03302136790770889,
           -0.03303536445866494,
           -0.033051437185461115,
           -0.0330700359883296,
           -0.03309171669904054,
           -0.03311716091548731,
           -0.033147197790844046,
           -0.03318282777729585,
           -0.033225248324341185,
           -0.03327588153166683,
           -0.03333640375659541,
           -0.0334087771761052,
           -0.033495283303422364,
           -0.0335985584591858,
           -0.033721631197184354,
           -0.03386796168466638,
           -0.03404148303722194,
           -0.03424664460823731,
           -0.034488457232921974,
           -0.03477254042690807,
           -0.03510517153942232,
           -0.03549333686103033,
           -0.035944784685953385,
           -0.03646808032895772,
           -0.037072663096816186,
           -0.03776890521434242
          ],
          [
           -0.032976745369098254,
           -0.03295646724181322,
           -0.03294198082132542,
           -0.03293206180021748,
           -0.03292570221243638,
           -0.03292208335421426,
           -0.032920550659561613,
           -0.03292059053033281,
           -0.03292180912086427,
           -0.03292391307718502,
           -0.03292669223079956,
           -0.032930004247043475,
           -0.03293376122801105,
           -0.03293791827005585,
           -0.03294246397586333,
           -0.032947412921096125,
           -0.03295280007561169,
           -0.03295867717925244,
           -0.03296511107220825,
           -0.032972183979951594,
           -0.03297999575274485,
           -0.03298866805972033,
           -0.032998350537532584,
           -0.03300922889358323,
           -0.03302153496381812,
           -0.03303555872509721,
           -0.03305166226213655,
           -0.033070295689022935,
           -0.03309201502530097,
           -0.03311750202663259,
           -0.03314758597002889,
           -0.033183267393654625,
           -0.03322574379120503,
           -0.03327643726085503,
           -0.03333702410878105,
           -0.03340946640725522,
           -0.03349604550731189,
           -0.03359939750598688,
           -0.03372255066812877,
           -0.033868964802783126,
           -0.034042572594148765,
           -0.03424782288710666,
           -0.03448972592732129,
           -0.03477390055591436,
           -0.03510662335871108,
           -0.03549487977005875,
           -0.03594641713121795,
           -0.03646979970332602,
           -0.03707446563493314,
           -0.037770785884110765
          ],
          [
           -0.032976573647706516,
           -0.03295630156162187,
           -0.03294182154181443,
           -0.032931908985827034,
           -0.03292555570216087,
           -0.032921942827270484,
           -0.03292041569713134,
           -0.032920460673379705,
           -0.03292168392402508,
           -0.03292379215873513,
           -0.03292657531869284,
           -0.032929891221026436,
           -0.03293365215781138,
           -0.032937813449645206,
           -0.03294236395379445,
           -0.03294731852691435,
           -0.0329527124423407,
           -0.03295859776195437,
           -0.03296504166261809,
           -0.032972126717185996,
           -0.0329799531300851,
           -0.0329886429274698,
           -0.03299834610194843,
           -0.03300924871188235,
           -0.03302158293525765,
           -0.03303563907812904,
           -0.03305177953763636,
           -0.03307045471959357,
           -0.03309222091064999,
           -0.03311776010502427,
           -0.03314790178581046,
           -0.033183646660856866,
           -0.03322619235321725,
           -0.033276961046174204,
           -0.03333762908283548,
           -0.033410158520302304,
           -0.033496830638410434,
           -0.03360028140304349,
           -0.033723538884018814,
           -0.033870062627545834,
           -0.03404378498325671,
           -0.03424915438580957,
           -0.0344911805910642,
           -0.034775481866830014,
           -0.03510833413818669,
           -0.035496722087377156,
           -0.03594839220827291,
           -0.0364719078154121,
           -0.0370767060076096,
           -0.03777315658614
          ],
          [
           -0.032976179022778565,
           -0.03295591451752768,
           -0.03294144189402824,
           -0.03293153630364101,
           -0.0329251893797369,
           -0.03292158215076627,
           -0.0329200599079008,
           -0.03292010902724778,
           -0.03292133574663679,
           -0.03292344689697894,
           -0.03292623258819839,
           -0.03292955084973657,
           -0.03293331422562847,
           -0.032937478324151885,
           -0.03294203232204858,
           -0.03294699142331831,
           -0.03295239127258506,
           -0.03295828432303582,
           -0.032964738158931785,
           -0.032971835772692026,
           -0.03297967779654957,
           -0.03298838668877997,
           -0.03299811287450228,
           -0.03300904284105251,
           -0.03302140918792955,
           -0.033035502631313475,
           -0.03305168596315635,
           -0.03307040996484548,
           -0.03309223127543907,
           -0.03311783221447437,
           -0.03314804255934826,
           -0.03318386327727036,
           -0.033226492211788326,
           -0.03327735172388596,
           -0.03333811828765352,
           -0.033410754040530434,
           -0.033497540288120846,
           -0.033601112963581016,
           -0.033724500041579716,
           -0.03387116090683073,
           -0.034045027677198025,
           -0.03425054848137309,
           -0.03449273269112509,
           -0.03477719810812316,
           -0.03511022010533129,
           -0.03549878272297566,
           -0.03595063171908429,
           -0.03647432957459938,
           -0.03707931245306188,
           -0.037775949114868645
          ],
          [
           -0.03297544731080056,
           -0.0329551910654231,
           -0.032940725921601896,
           -0.032930826839347144,
           -0.03292448533318878,
           -0.03292088238132021,
           -0.032919363289314454,
           -0.03291941450841272,
           -0.03292064240838543,
           -0.032922754004965755,
           -0.032925539641855565,
           -0.03292885762730382,
           -0.03293262082525727,
           -0.032936785201084014,
           -0.032941340321868955,
           -0.03294630181128217,
           -0.03295170575901946,
           -0.032957605084815475,
           -0.03296406785702912,
           -0.032971177565801736,
           -0.0329790353507873,
           -0.0329877641834555,
           -0.032997515003966894,
           -0.033008474812620765,
           -0.0330208767158753,
           -0.033035011926940284,
           -0.03305124372094221,
           -0.03307002334466177,
           -0.033091907880843936,
           -0.033117580067080425,
           -0.03314787006926459,
           -0.03318377920961868,
           -0.0332265056492938,
           -0.033277472025542036,
           -0.0333383550434612,
           -0.03341111702231196,
           -0.033498039396407456,
           -0.03360175817057536,
           -0.03372530133019227,
           -0.033872128205790726,
           -0.03404617079223862,
           -0.03425187702249093,
           -0.03449425599591414,
           -0.03477892516118279,
           -0.03511215945374884,
           -0.035500942387883185,
           -0.03595301910328975,
           -0.036476951366292025,
           -0.03708217452559202,
           -0.03777905642260168
          ],
          [
           -0.03297422966134764,
           -0.032953981233998925,
           -0.03293952248239411,
           -0.032929628235998154,
           -0.032923289952763196,
           -0.03291968862434669,
           -0.032918169635901856,
           -0.03291821958044053,
           -0.03291944502776857,
           -0.03292155324799373,
           -0.032924334889605805,
           -0.032927648612129455,
           -0.03293140767334927,
           -0.03293556847110745,
           -0.032940121039673795,
           -0.03294508150068831,
           -0.03295048646867602,
           -0.03295638941113452,
           -0.03296285896319365,
           -0.032969979196847944,
           -0.03297785184476128,
           -0.03298660047864414,
           -0.032996376642203215,
           -0.033007367938663476,
           -0.03301980807286273,
           -0.033033988847918576,
           -0.03305027411646795,
           -0.03306911568647889,
           -0.03309107118163481,
           -0.03311682385629149,
           -0.03314720436500605,
           -0.03318321448663887,
           -0.03322605280302754,
           -0.03327714233223343,
           -0.03333816011636084,
           -0.033411068763948344,
           -0.03349814994693273,
           -0.033602039852185385,
           -0.03372576658762111,
           -0.033872789542879374,
           -0.034047040704577966,
           -0.03425296792613925,
           -0.034495580152188655,
           -0.03478049459752581,
           -0.03511398588066804,
           -0.03550303711196627,
           -0.03595539293629339,
           -0.03647961453030524,
           -0.03708513655427376,
           -0.037782326058492736
          ],
          [
           -0.03297233649136028,
           -0.03295209403931646,
           -0.03293763914335534,
           -0.03292774656917568,
           -0.03292140778638885,
           -0.03291780386981118,
           -0.03291628035532873,
           -0.03291632405033454,
           -0.03291754179873831,
           -0.032919641200548584,
           -0.03292241328602719,
           -0.03292571714441651,
           -0.03292946650723871,
           -0.03293361828616784,
           -0.032938163065474146,
           -0.032943117549040876,
           -0.03294851896195358,
           -0.032954421406661875,
           -0.03296089417371353,
           -0.03296802200706107,
           -0.03297590732394096,
           -0.03298467438932505,
           -0.03299447544494448,
           -0.03300549879288618,
           -0.033017978833761695,
           -0.03303220805944846,
           -0.03304855100040358,
           -0.033067460127550075,
           -0.03308949370873543,
           -0.03311533561976277,
           -0.03314581710999442,
           -0.03318194052252781,
           -0.03322490496894402,
           -0.033276133958628586,
           -0.0333373049826649,
           -0.033410381052299945,
           -0.03349764419198259,
           -0.033601730886974226,
           -0.033725669485531906,
           -0.03387291955566393,
           -0.03404741319645791,
           -0.034253598303981135,
           -0.034496483791753636,
           -0.03478168676579345,
           -0.035115481654234476,
           -0.03550485129151681,
           -0.035957539957149294,
           -0.03648210836904488,
           -0.03708799063142808,
           -0.03778555313731512
          ],
          [
           -0.03296953094920958,
           -0.03294929092916863,
           -0.032934835605184565,
           -0.032924939751942904,
           -0.03291859492492497,
           -0.03291498235777461,
           -0.032913447814237246,
           -0.03291347839467144,
           -0.03291468129713294,
           -0.03291676453303109,
           -0.03291951959735778,
           -0.032922806093488764,
           -0.03292653831255751,
           -0.03293067376740135,
           -0.032935203681080306,
           -0.032940145429968114,
           -0.032945536941415894,
           -0.0329514330459882,
           -0.032957903784271415,
           -0.03296503466825483,
           -0.0329729288972839,
           -0.03298171152858614,
           -0.03299153560236941,
           -0.03300259022149265,
           -0.03301511058570898,
           -0.03302938998048149,
           -0.033045793720371114,
           -0.03306477504699729,
           -0.033086892981570915,
           -0.0331128321319997,
           -0.03314342445456613,
           -0.03317967297017768,
           -0.033222777435189664,
           -0.033274161966800365,
           -0.0333355046230188,
           -0.03340876893720469,
           -0.033496237407181155,
           -0.03360054693891962,
           -0.033724726244797346,
           -0.03387223519642723,
           -0.034047006132060256,
           -0.0342534871185602,
           -0.034496687167950985,
           -0.034782223408536234,
           -0.03511637021059154,
           -0.03550611026662897,
           -0.03595918762623413,
           -0.03648416268547571,
           -0.0370904691308873,
           -0.0377884728380218
          ],
          [
           -0.03296552190855126,
           -0.0329452787572298,
           -0.032930816656775046,
           -0.03292091046958601,
           -0.03291455191719855,
           -0.03291092247372646,
           -0.03290936821387482,
           -0.03290937661552588,
           -0.032910555316897405,
           -0.032912612828273485,
           -0.03291534119830769,
           -0.03291860063489885,
           -0.032922306080639036,
           -0.03292641574283423,
           -0.03293092157809735,
           -0.032935841731513656,
           -0.03294121493037869,
           -0.03294709683250862,
           -0.03295355832912314,
           -0.03296068580230059,
           -0.03296858333700578,
           -0.03297737688769006,
           -0.032987220399464,
           -0.03299830388384236,
           -0.03301086344906166,
           -0.03302519328497008,
           -0.033041659602489885,
           -0.03306071652765226,
           -0.0330829239502046,
           -0.03310896732679024,
           -0.033139679438700644,
           -0.03317606410420007,
           -0.03321932184542264,
           -0.03327087750984182,
           -0.03333240984631249,
           -0.03340588303568535,
           -0.03349358017599366,
           -0.03359813872221286,
           -0.03372258788059201,
           -0.03387038795755823,
           -0.0340454716631933,
           -0.034252287369282784,
           -0.03449584432193758,
           -0.03478175980878796,
           -0.03511630828075,
           -0.035506472428364536,
           -0.03595999621270846,
           -0.03648543985087861,
           -0.03709223675604792,
           -0.0377907524320942
          ],
          [
           -0.032959956491968666,
           -0.03293970228699456,
           -0.032925224659448867,
           -0.03291529864414461,
           -0.03290891621483061,
           -0.032905259173706805,
           -0.03290367399551204,
           -0.032903648626184195,
           -0.03290479123609293,
           -0.032906810927844705,
           -0.03290950039866032,
           -0.032912720557325005,
           -0.032916387095710785,
           -0.03292045901487131,
           -0.03292492910570939,
           -0.03292981638421659,
           -0.03293516048128555,
           -0.03294101798709465,
           -0.032947460750065174,
           -0.03295457613039083,
           -0.03296246920813982,
           -0.032971266945929334,
           -0.03298112430617241,
           -0.03299223232289733,
           -0.03300482812813951,
           -0.033019206932905686,
           -0.03303573596271061,
           -0.03305487034768633,
           -0.03307717096726368,
           -0.03310332424942645,
           -0.03313416392453775,
           -0.03317069473373912,
           -0.03321411809192188,
           -0.03326585970527095,
           -0.03332759914338114,
           -0.033401301365946,
           -0.033489250204018904,
           -0.033594083795846795,
           -0.03371883197727617,
           -0.033866955626731705,
           -0.03404238796476724,
           -0.034249577808189165,
           -0.03449353477875237,
           -0.034779876466428515,
           -0.035114877547246875,
           -0.03550552085570752,
           -0.035959550411767044,
           -0.03648552640239663,
           -0.03709288211771267,
           -0.03779198284167981
          ],
          [
           -0.03295241212440454,
           -0.03293213622550536,
           -0.03291763156098038,
           -0.03290767342873104,
           -0.03290125414685121,
           -0.03289755593921711,
           -0.032895925775649225,
           -0.032895852166646894,
           -0.032896943912695195,
           -0.032898910808144465,
           -0.03290154629966211,
           -0.032904712099256946,
           -0.03290832475187592,
           -0.03291234415757341,
           -0.032916764048252764,
           -0.03292160441898048,
           -0.032926905913872824,
           -0.032932726166554696,
           -0.03293913809519112,
           -0.03294623015209126,
           -0.032954108527884655,
           -0.03296290131027001,
           -0.032972764597336494,
           -0.03298389056545744,
           -0.03299651749175641,
           -0.033010941731145875,
           -0.03302753164793819,
           -0.03304674350202912,
           -0.033069139289653736,
           -0.03309540653871482,
           -0.03312638005868369,
           -0.033163065645073465,
           -0.03320666573848485,
           -0.03325860703822422,
           -0.03332057007049429,
           -0.03339452071115719,
           -0.033482743663069976,
           -0.03358787788799264,
           -0.03371295399306838,
           -0.03386143357187664,
           -0.03403725050005835,
           -0.03424485418551365,
           -0.03448925477317214,
           -0.034776070304335514,
           -0.03511157583059267,
           -0.0355027544823073,
           -0.03595735049167781,
           -0.03648392417036982,
           -0.03709190884172111,
           -0.03779166972751883
          ],
          [
           -0.0329423881163817,
           -0.03292207678686895,
           -0.03290753043940854,
           -0.032897524731638324,
           -0.03289105242410338,
           -0.032887296261920024,
           -0.03288560381101208,
           -0.032885464248919895,
           -0.03288648711018145,
           -0.03288838298628625,
           -0.0328909461802014,
           -0.032894039315470296,
           -0.032897579899883775,
           -0.03290152884372347,
           -0.03290588093257797,
           -0.03291065725473116,
           -0.0329158995831231,
           -0.032921666711883395,
           -0.03292803274743688,
           -0.03293508735418197,
           -0.032942937954741215,
           -0.03295171388478446,
           -0.03296157250242443,
           -0.03297270725218473,
           -0.03298535768354028,
           -0.03299982142403027,
           -0.033016468106943475,
           -0.0330357552535761,
           -0.03305824611006201,
           -0.033084629438775444,
           -0.033115741264306144,
           -0.033152588574007005,
           -0.03319637497311407,
           -0.03324852829443904,
           -0.03331073016263422,
           -0.033384947513029936,
           -0.033473466065044276,
           -0.033578925750165585,
           -0.03370435809450693,
           -0.033853225555933494,
           -0.03402946281576213,
           -0.03423752002503342,
           -0.03448240800535629,
           -0.03476974540432483,
           -0.035105807805507885,
           -0.035497578793010846,
           -0.03595280297060998,
           -0.03648004093545918,
           -0.03708872620636924,
           -0.03778922410665945
          ],
          [
           -0.03292929677701268,
           -0.03290893278556182,
           -0.03289432657663792,
           -0.032884254270237286,
           -0.03287770917343592,
           -0.03287387465812793,
           -0.03287209899333601,
           -0.0328718721320949,
           -0.0328728044529067,
           -0.03287460745576914,
           -0.032877076412776055,
           -0.032880074973290215,
           -0.03288352172368892,
           -0.03288737870168171,
           -0.0328916418652007,
           -0.032896333515863414,
           -0.03290149667700782,
           -0.03290719142630016,
           -0.032913493182914894,
           -0.03292049294928731,
           -0.03292829950743855,
           -0.03293704356987297,
           -0.03294688388504802,
           -0.03295801529741671,
           -0.03297067876204224,
           -0.032985173313785345,
           -0.033001869991063866,
           -0.03302122771418498,
           -0.03304381111824972,
           -0.033070310340629995,
           -0.033101562763018094,
           -0.03313857670804857,
           -0.033182557090492636,
           -0.03323493302302499,
           -0.03329738737656305,
           -0.033371888295178606,
           -0.03346072266558218,
           -0.0335665315411794,
           -0.03369234752070021,
           -0.03384163408140035,
           -0.034018326866835195,
           -0.034226876929206375,
           -0.034472295926280365,
           -0.03476020327288001,
           -0.035096875246948114,
           -0.03548929605018374,
           -0.035945210823250785,
           -0.03647318061555907,
           -0.037082639309617936,
           -0.03778395249996217
          ],
          [
           -0.03291245405679799,
           -0.032892016259524336,
           -0.03287732806182894,
           -0.03286716615466231,
           -0.03286052450168506,
           -0.032856587213080435,
           -0.03285470337393948,
           -0.03285436382721836,
           -0.032855179911268434,
           -0.032856864151938586,
           -0.03285921290925001,
           -0.032862090978643586,
           -0.032865418146799504,
           -0.032869157702029514,
           -0.032873306899241506,
           -0.032877889379476596,
           -0.032882949544018644,
           -0.03288854888307625,
           -0.03289476425903707,
           -0.0329016881442948,
           -0.03290943081364846,
           -0.032918124491274035,
           -0.03292792945226891,
           -0.03293904207876828,
           -0.0329517048706344,
           -0.032966218410718146,
           -0.032982955284692896,
           -0.033002375955461134,
           -0.033025046592133234,
           -0.0330516588535788,
           -0.03308305162655057,
           -0.033120234718380506,
           -0.03316441450424864,
           -0.03321702152902405,
           -0.0332797400636786,
           -0.03335453961627285,
           -0.03344370839751461,
           -0.033549888740889815,
           -0.03367611447736601,
           -0.03382585026466797,
           -0.034003032871126264,
           -0.034212114414097675,
           -0.0344581075529586,
           -0.034746632636670535,
           -0.0350839668059182,
           -0.03547709504982005,
           -0.0359337632172112,
           -0.036462532982498894,
           -0.03707283876609034,
           -0.03777504660939294
          ],
          [
           -0.03289106972021347,
           -0.03287053262304385,
           -0.03285573592457664,
           -0.032845457001286146,
           -0.0328386905894449,
           -0.03283462165501075,
           -0.03283260021808603,
           -0.03283211813194947,
           -0.03283278781666052,
           -0.03283432294723584,
           -0.032836521096398674,
           -0.03283924833190029,
           -0.032842425768414146,
           -0.03284601807400232,
           -0.03285002393115443,
           -0.032854468452399095,
           -0.03285939755048771,
           -0.032864874263150795,
           -0.032870977032426675,
           -0.0328777999385627,
           -0.03288545488848888,
           -0.03289407575886393,
           -0.03290382449369382,
           -0.03291489915652277,
           -0.032927543937196616,
           -0.03294206111319877,
           -0.03295882496555849,
           -0.03297829764933164,
           -0.0330010470186539,
           -0.03302776640636648,
           -0.03305929635821419,
           -0.03309664832161606,
           -0.03314103028900824,
           -0.03319387439575958,
           -0.03325686647265942,
           -0.033331977552978106,
           -0.03342149733409957,
           -0.0335280695937268,
           -0.03365472956065938,
           -0.033804943240143735,
           -0.03398264869379567,
           -0.034192299274095415,
           -0.03443890881345518,
           -0.034728098767858984,
           -0.035066147315075145,
           -0.03546004040744108,
           -0.03591752477922054,
           -0.036447162908533434,
           -0.03705838993385794,
           -0.03776157252510511
          ],
          [
           -0.032864237048086435,
           -0.03284357034942666,
           -0.03282863379787846,
           -0.03281820557598329,
           -0.0328112813146269,
           -0.03280704695900069,
           -0.032804853589135374,
           -0.032804194195007005,
           -0.032804682406215695,
           -0.032806033176236496,
           -0.032808045421243014,
           -0.0328105866135032,
           -0.032813579329347815,
           -0.03281698975171119,
           -0.032820818127244494,
           -0.032825091178001475,
           -0.03282985646769663,
           -0.03283517872253575,
           -0.03284113810661904,
           -0.0328478304519166,
           -0.03285536944281634,
           -0.0328638907552445,
           -0.03287355815035834,
           -0.03288457152281156,
           -0.03289717690359199,
           -0.03291167841743182,
           -0.03292845219479016,
           -0.032947962238408256,
           -0.03297077824443693,
           -0.032997595378136596,
           -0.033029256004149694,
           -0.033066773371345566,
           -0.03311135725223787,
           -0.03316444153697414,
           -0.0332277137818983,
           -0.03330314671268509,
           -0.03339303168204736,
           -0.03350001408201558,
           -0.03362713071078979,
           -0.03377784909416422,
           -0.03395610876152401,
           -0.034166364476414794,
           -0.03441363142168436,
           -0.034703532339196916,
           -0.035042346624119876,
           -0.035437061373782955,
           -0.03589542439110977,
           -0.036425999142622,
           -0.03703822167101568,
           -0.03774245946231034
          ],
          [
           -0.0328309220697606,
           -0.03281009018345879,
           -0.032794977110890876,
           -0.032784361967182596,
           -0.03277724140580798,
           -0.032772802480624974,
           -0.032770397462483274,
           -0.03276952061040492,
           -0.032769786897337165,
           -0.032770912690477785,
           -0.032772698386172874,
           -0.03277501299938715,
           -0.03277778070774654,
           -0.032780969350153365,
           -0.03278458087997401,
           -0.0327886437727988,
           -0.0327932073887746,
           -0.032798338289509704,
           -0.03280411850955115,
           -0.03281064578243475,
           -0.032818035721307086,
           -0.03282642595412045,
           -0.03283598221339989,
           -0.03284690638058291,
           -0.03285944648493147,
           -0.03287390865701659,
           -0.032890671036775135,
           -0.03291019963613948,
           -0.03293306615623916,
           -0.03295996775917524,
           -0.03299174879436715,
           -0.03302942447947173,
           -0.03307420653587506,
           -0.0331275307787564,
           -0.03319108666172486,
           -0.0332668487760283,
           -0.03335711030433485,
           -0.0334645184290868,
           -0.03359211169542681,
           -0.033743359328696945,
           -0.033922202506509604,
           -0.0341330975853915,
           -0.03438106128199963,
           -0.03467171780890984,
           -0.03501134796497795,
           -0.03540694018027313,
           -0.03586624351558393,
           -0.036397822616496586,
           -0.03701111462204584,
           -0.037716488027938234
          ],
          [
           -0.032789952325050095,
           -0.032768913883655736,
           -0.03275358181147485,
           -0.0327427362887085,
           -0.032735375125367845,
           -0.03273068661938395,
           -0.03272802436929018,
           -0.032726884041476924,
           -0.032726882092018905,
           -0.03272773644307465,
           -0.032729249113858834,
           -0.03273129080618667,
           -0.032733787444591024,
           -0.03273670867101181,
           -0.03274005829405794,
           -0.03274386669284161,
           -0.03274818517538519,
           -0.03275308229160046,
           -0.0327586421008402,
           -0.032764964394022496,
           -0.03277216687032721,
           -0.03278038926846515,
           -0.03278979945251939,
           -0.032800601452359336,
           -0.03281304545862709,
           -0.032827439772296255,
           -0.03284416470880329,
           -0.03286368845675115,
           -0.0328865848911855,
           -0.03291355334144337,
           -0.03294544031357424,
           -0.03298326316733346,
           -0.03302823574774838,
           -0.03308179597125663,
           -0.03314563536641709,
           -0.03322173056919314,
           -0.03331237677280847,
           -0.033420223132175256,
           -0.03354831012289484,
           -0.033700108854830844,
           -0.033879562340254715,
           -0.03409112871656378,
           -0.034339826423571584,
           -0.03463128133537093,
           -0.03497177584676909,
           -0.03536829991429578,
           -0.0358286040517832,
           -0.036361254280518916,
           -0.036975689033970874,
           -0.037682278017085014
          ],
          [
           -0.03274000515598205,
           -0.03271871249430092,
           -0.032703112618530254,
           -0.03269198691241122,
           -0.0326843344824147,
           -0.032679345011925466,
           -0.03267637356999888,
           -0.032674917374689944,
           -0.03267459451095482,
           -0.03267512460312484,
           -0.03267631144195299,
           -0.03267802756623266,
           -0.03268020079898915,
           -0.0326828027382433,
           -0.032685839202347744,
           -0.03268934262989572,
           -0.032693366434201995,
           -0.032697981312356586,
           -0.0327032735088507,
           -0.03270934503377522,
           -0.03271631583559163,
           -0.03272432792847543,
           -0.03273355147423179,
           -0.03274419281878402,
           -0.03275650448323408,
           -0.03277079710949592,
           -0.03278745336050095,
           -0.03280694377497614,
           -0.03282984457679448,
           -0.03285685743889803,
           -0.03288883120179326,
           -0.03292678554661883,
           -0.03297193662278596,
           -0.03302572463019122,
           -0.033089843356001535,
           -0.03316627166601208,
           -0.0332573069505761,
           -0.03336560052510767,
           -0.03349419498515653,
           -0.033646563516055585,
           -0.033826651157140744,
           -0.03403891802054329,
           -0.03428838446455461,
           -0.03458067822156346,
           -0.03492208348056557,
           -0.03531959192424586,
           -0.03578095572063293,
           -0.036314742469326124,
           -0.0369303921022949,
           -0.037638275739250895
          ],
          [
           -0.032679595528328165,
           -0.032657994147273106,
           -0.03264207080411898,
           -0.032630608230585674,
           -0.03262260697550026,
           -0.032617258255055535,
           -0.03261391875764101,
           -0.032612087403246295,
           -0.03261138405743695,
           -0.03261153019990284,
           -0.03261233154757878,
           -0.03261366263233793,
           -0.032615453333257195,
           -0.03261767736345556,
           -0.032620342711504546,
           -0.0326234840374111,
           -0.03262715702317326,
           -0.032631434677907835,
           -0.03263640559755088,
           -0.03264217417913044,
           -0.03264886278961176,
           -0.03265661588931505,
           -0.03266560610990553,
           -0.032676042286956045,
           -0.0326881794470821,
           -0.03270233074964938,
           -0.032718881383053545,
           -0.03273830441557277,
           -0.032761178600792445,
           -0.032788208137602484,
           -0.03282024438476706,
           -0.03285830953006674,
           -0.03290362221401316,
           -0.03295762510813597,
           -0.03302201444784249,
           -0.03309877151984954,
           -0.03319019610418792,
           -0.03329894187077928,
           -0.033428053730585376,
           -0.03358100714132978,
           -0.03376174936779223,
           -0.033974742696675116,
           -0.034225009606042675,
           -0.03451817988933247,
           -0.03486053973393946,
           -0.035259082754372346,
           -0.03572156297998255,
           -0.03625654979726549,
           -0.036873484846734375,
           -0.03758274087436647
          ],
          [
           -0.03260706338292538,
           -0.03258509139366278,
           -0.032568781505377176,
           -0.032556917948179546,
           -0.03254850286512343,
           -0.032542729158537786,
           -0.032538955290932245,
           -0.032536682040474885,
           -0.032535531211042336,
           -0.032535226296842495,
           -0.03253557510160954,
           -0.03253645431237147,
           -0.03253779602779013,
           -0.03253957624107352,
           -0.032541805277460804,
           -0.03254452018627948,
           -0.03254777908757526,
           -0.03255165747331428,
           -0.03255624646315764,
           -0.032561653014808664,
           -0.03256800208893235,
           -0.032575440768647435,
           -0.03258414433359084,
           -0.03259432428855458,
           -0.03260623834669503,
           -0.03262020236731485,
           -0.032636604248217176,
           -0.03265591977263229,
           -0.032678730410716755,
           -0.03270574307562511,
           -0.03273781183415377,
           -0.03277596157195759,
           -0.03282141361333883,
           -0.03287561329560844,
           -0.03294025949801998,
           -0.03301733612527583,
           -0.03310914554560601,
           -0.03321834398341928,
           -0.03334797886652677,
           -0.03350152812793807,
           -0.03368294146222975,
           -0.03389668353648633,
           -0.034147779155813705,
           -0.03444186038342497,
           -0.03478521561529877,
           -0.03518484060941008,
           -0.03564849146953331,
           -0.03618473958361813,
           -0.036803028516737404,
           -0.03751373285860785
          ]
         ]
        }
       ],
       "layout": {
        "template": {
         "data": {
          "bar": [
           {
            "error_x": {
             "color": "#2a3f5f"
            },
            "error_y": {
             "color": "#2a3f5f"
            },
            "marker": {
             "line": {
              "color": "#E5ECF6",
              "width": 0.5
             }
            },
            "type": "bar"
           }
          ],
          "barpolar": [
           {
            "marker": {
             "line": {
              "color": "#E5ECF6",
              "width": 0.5
             }
            },
            "type": "barpolar"
           }
          ],
          "carpet": [
           {
            "aaxis": {
             "endlinecolor": "#2a3f5f",
             "gridcolor": "white",
             "linecolor": "white",
             "minorgridcolor": "white",
             "startlinecolor": "#2a3f5f"
            },
            "baxis": {
             "endlinecolor": "#2a3f5f",
             "gridcolor": "white",
             "linecolor": "white",
             "minorgridcolor": "white",
             "startlinecolor": "#2a3f5f"
            },
            "type": "carpet"
           }
          ],
          "choropleth": [
           {
            "colorbar": {
             "outlinewidth": 0,
             "ticks": ""
            },
            "type": "choropleth"
           }
          ],
          "contour": [
           {
            "colorbar": {
             "outlinewidth": 0,
             "ticks": ""
            },
            "colorscale": [
             [
              0,
              "#0d0887"
             ],
             [
              0.1111111111111111,
              "#46039f"
             ],
             [
              0.2222222222222222,
              "#7201a8"
             ],
             [
              0.3333333333333333,
              "#9c179e"
             ],
             [
              0.4444444444444444,
              "#bd3786"
             ],
             [
              0.5555555555555556,
              "#d8576b"
             ],
             [
              0.6666666666666666,
              "#ed7953"
             ],
             [
              0.7777777777777778,
              "#fb9f3a"
             ],
             [
              0.8888888888888888,
              "#fdca26"
             ],
             [
              1,
              "#f0f921"
             ]
            ],
            "type": "contour"
           }
          ],
          "contourcarpet": [
           {
            "colorbar": {
             "outlinewidth": 0,
             "ticks": ""
            },
            "type": "contourcarpet"
           }
          ],
          "heatmap": [
           {
            "colorbar": {
             "outlinewidth": 0,
             "ticks": ""
            },
            "colorscale": [
             [
              0,
              "#0d0887"
             ],
             [
              0.1111111111111111,
              "#46039f"
             ],
             [
              0.2222222222222222,
              "#7201a8"
             ],
             [
              0.3333333333333333,
              "#9c179e"
             ],
             [
              0.4444444444444444,
              "#bd3786"
             ],
             [
              0.5555555555555556,
              "#d8576b"
             ],
             [
              0.6666666666666666,
              "#ed7953"
             ],
             [
              0.7777777777777778,
              "#fb9f3a"
             ],
             [
              0.8888888888888888,
              "#fdca26"
             ],
             [
              1,
              "#f0f921"
             ]
            ],
            "type": "heatmap"
           }
          ],
          "heatmapgl": [
           {
            "colorbar": {
             "outlinewidth": 0,
             "ticks": ""
            },
            "colorscale": [
             [
              0,
              "#0d0887"
             ],
             [
              0.1111111111111111,
              "#46039f"
             ],
             [
              0.2222222222222222,
              "#7201a8"
             ],
             [
              0.3333333333333333,
              "#9c179e"
             ],
             [
              0.4444444444444444,
              "#bd3786"
             ],
             [
              0.5555555555555556,
              "#d8576b"
             ],
             [
              0.6666666666666666,
              "#ed7953"
             ],
             [
              0.7777777777777778,
              "#fb9f3a"
             ],
             [
              0.8888888888888888,
              "#fdca26"
             ],
             [
              1,
              "#f0f921"
             ]
            ],
            "type": "heatmapgl"
           }
          ],
          "histogram": [
           {
            "marker": {
             "colorbar": {
              "outlinewidth": 0,
              "ticks": ""
             }
            },
            "type": "histogram"
           }
          ],
          "histogram2d": [
           {
            "colorbar": {
             "outlinewidth": 0,
             "ticks": ""
            },
            "colorscale": [
             [
              0,
              "#0d0887"
             ],
             [
              0.1111111111111111,
              "#46039f"
             ],
             [
              0.2222222222222222,
              "#7201a8"
             ],
             [
              0.3333333333333333,
              "#9c179e"
             ],
             [
              0.4444444444444444,
              "#bd3786"
             ],
             [
              0.5555555555555556,
              "#d8576b"
             ],
             [
              0.6666666666666666,
              "#ed7953"
             ],
             [
              0.7777777777777778,
              "#fb9f3a"
             ],
             [
              0.8888888888888888,
              "#fdca26"
             ],
             [
              1,
              "#f0f921"
             ]
            ],
            "type": "histogram2d"
           }
          ],
          "histogram2dcontour": [
           {
            "colorbar": {
             "outlinewidth": 0,
             "ticks": ""
            },
            "colorscale": [
             [
              0,
              "#0d0887"
             ],
             [
              0.1111111111111111,
              "#46039f"
             ],
             [
              0.2222222222222222,
              "#7201a8"
             ],
             [
              0.3333333333333333,
              "#9c179e"
             ],
             [
              0.4444444444444444,
              "#bd3786"
             ],
             [
              0.5555555555555556,
              "#d8576b"
             ],
             [
              0.6666666666666666,
              "#ed7953"
             ],
             [
              0.7777777777777778,
              "#fb9f3a"
             ],
             [
              0.8888888888888888,
              "#fdca26"
             ],
             [
              1,
              "#f0f921"
             ]
            ],
            "type": "histogram2dcontour"
           }
          ],
          "mesh3d": [
           {
            "colorbar": {
             "outlinewidth": 0,
             "ticks": ""
            },
            "type": "mesh3d"
           }
          ],
          "parcoords": [
           {
            "line": {
             "colorbar": {
              "outlinewidth": 0,
              "ticks": ""
             }
            },
            "type": "parcoords"
           }
          ],
          "pie": [
           {
            "automargin": true,
            "type": "pie"
           }
          ],
          "scatter": [
           {
            "marker": {
             "colorbar": {
              "outlinewidth": 0,
              "ticks": ""
             }
            },
            "type": "scatter"
           }
          ],
          "scatter3d": [
           {
            "line": {
             "colorbar": {
              "outlinewidth": 0,
              "ticks": ""
             }
            },
            "marker": {
             "colorbar": {
              "outlinewidth": 0,
              "ticks": ""
             }
            },
            "type": "scatter3d"
           }
          ],
          "scattercarpet": [
           {
            "marker": {
             "colorbar": {
              "outlinewidth": 0,
              "ticks": ""
             }
            },
            "type": "scattercarpet"
           }
          ],
          "scattergeo": [
           {
            "marker": {
             "colorbar": {
              "outlinewidth": 0,
              "ticks": ""
             }
            },
            "type": "scattergeo"
           }
          ],
          "scattergl": [
           {
            "marker": {
             "colorbar": {
              "outlinewidth": 0,
              "ticks": ""
             }
            },
            "type": "scattergl"
           }
          ],
          "scattermapbox": [
           {
            "marker": {
             "colorbar": {
              "outlinewidth": 0,
              "ticks": ""
             }
            },
            "type": "scattermapbox"
           }
          ],
          "scatterpolar": [
           {
            "marker": {
             "colorbar": {
              "outlinewidth": 0,
              "ticks": ""
             }
            },
            "type": "scatterpolar"
           }
          ],
          "scatterpolargl": [
           {
            "marker": {
             "colorbar": {
              "outlinewidth": 0,
              "ticks": ""
             }
            },
            "type": "scatterpolargl"
           }
          ],
          "scatterternary": [
           {
            "marker": {
             "colorbar": {
              "outlinewidth": 0,
              "ticks": ""
             }
            },
            "type": "scatterternary"
           }
          ],
          "surface": [
           {
            "colorbar": {
             "outlinewidth": 0,
             "ticks": ""
            },
            "colorscale": [
             [
              0,
              "#0d0887"
             ],
             [
              0.1111111111111111,
              "#46039f"
             ],
             [
              0.2222222222222222,
              "#7201a8"
             ],
             [
              0.3333333333333333,
              "#9c179e"
             ],
             [
              0.4444444444444444,
              "#bd3786"
             ],
             [
              0.5555555555555556,
              "#d8576b"
             ],
             [
              0.6666666666666666,
              "#ed7953"
             ],
             [
              0.7777777777777778,
              "#fb9f3a"
             ],
             [
              0.8888888888888888,
              "#fdca26"
             ],
             [
              1,
              "#f0f921"
             ]
            ],
            "type": "surface"
           }
          ],
          "table": [
           {
            "cells": {
             "fill": {
              "color": "#EBF0F8"
             },
             "line": {
              "color": "white"
             }
            },
            "header": {
             "fill": {
              "color": "#C8D4E3"
             },
             "line": {
              "color": "white"
             }
            },
            "type": "table"
           }
          ]
         },
         "layout": {
          "annotationdefaults": {
           "arrowcolor": "#2a3f5f",
           "arrowhead": 0,
           "arrowwidth": 1
          },
          "coloraxis": {
           "colorbar": {
            "outlinewidth": 0,
            "ticks": ""
           }
          },
          "colorscale": {
           "diverging": [
            [
             0,
             "#8e0152"
            ],
            [
             0.1,
             "#c51b7d"
            ],
            [
             0.2,
             "#de77ae"
            ],
            [
             0.3,
             "#f1b6da"
            ],
            [
             0.4,
             "#fde0ef"
            ],
            [
             0.5,
             "#f7f7f7"
            ],
            [
             0.6,
             "#e6f5d0"
            ],
            [
             0.7,
             "#b8e186"
            ],
            [
             0.8,
             "#7fbc41"
            ],
            [
             0.9,
             "#4d9221"
            ],
            [
             1,
             "#276419"
            ]
           ],
           "sequential": [
            [
             0,
             "#0d0887"
            ],
            [
             0.1111111111111111,
             "#46039f"
            ],
            [
             0.2222222222222222,
             "#7201a8"
            ],
            [
             0.3333333333333333,
             "#9c179e"
            ],
            [
             0.4444444444444444,
             "#bd3786"
            ],
            [
             0.5555555555555556,
             "#d8576b"
            ],
            [
             0.6666666666666666,
             "#ed7953"
            ],
            [
             0.7777777777777778,
             "#fb9f3a"
            ],
            [
             0.8888888888888888,
             "#fdca26"
            ],
            [
             1,
             "#f0f921"
            ]
           ],
           "sequentialminus": [
            [
             0,
             "#0d0887"
            ],
            [
             0.1111111111111111,
             "#46039f"
            ],
            [
             0.2222222222222222,
             "#7201a8"
            ],
            [
             0.3333333333333333,
             "#9c179e"
            ],
            [
             0.4444444444444444,
             "#bd3786"
            ],
            [
             0.5555555555555556,
             "#d8576b"
            ],
            [
             0.6666666666666666,
             "#ed7953"
            ],
            [
             0.7777777777777778,
             "#fb9f3a"
            ],
            [
             0.8888888888888888,
             "#fdca26"
            ],
            [
             1,
             "#f0f921"
            ]
           ]
          },
          "colorway": [
           "#636efa",
           "#EF553B",
           "#00cc96",
           "#ab63fa",
           "#FFA15A",
           "#19d3f3",
           "#FF6692",
           "#B6E880",
           "#FF97FF",
           "#FECB52"
          ],
          "font": {
           "color": "#2a3f5f"
          },
          "geo": {
           "bgcolor": "white",
           "lakecolor": "white",
           "landcolor": "#E5ECF6",
           "showlakes": true,
           "showland": true,
           "subunitcolor": "white"
          },
          "hoverlabel": {
           "align": "left"
          },
          "hovermode": "closest",
          "mapbox": {
           "style": "light"
          },
          "paper_bgcolor": "white",
          "plot_bgcolor": "#E5ECF6",
          "polar": {
           "angularaxis": {
            "gridcolor": "white",
            "linecolor": "white",
            "ticks": ""
           },
           "bgcolor": "#E5ECF6",
           "radialaxis": {
            "gridcolor": "white",
            "linecolor": "white",
            "ticks": ""
           }
          },
          "scene": {
           "xaxis": {
            "backgroundcolor": "#E5ECF6",
            "gridcolor": "white",
            "gridwidth": 2,
            "linecolor": "white",
            "showbackground": true,
            "ticks": "",
            "zerolinecolor": "white"
           },
           "yaxis": {
            "backgroundcolor": "#E5ECF6",
            "gridcolor": "white",
            "gridwidth": 2,
            "linecolor": "white",
            "showbackground": true,
            "ticks": "",
            "zerolinecolor": "white"
           },
           "zaxis": {
            "backgroundcolor": "#E5ECF6",
            "gridcolor": "white",
            "gridwidth": 2,
            "linecolor": "white",
            "showbackground": true,
            "ticks": "",
            "zerolinecolor": "white"
           }
          },
          "shapedefaults": {
           "line": {
            "color": "#2a3f5f"
           }
          },
          "ternary": {
           "aaxis": {
            "gridcolor": "white",
            "linecolor": "white",
            "ticks": ""
           },
           "baxis": {
            "gridcolor": "white",
            "linecolor": "white",
            "ticks": ""
           },
           "bgcolor": "#E5ECF6",
           "caxis": {
            "gridcolor": "white",
            "linecolor": "white",
            "ticks": ""
           }
          },
          "title": {
           "x": 0.05
          },
          "xaxis": {
           "automargin": true,
           "gridcolor": "white",
           "linecolor": "white",
           "ticks": "",
           "title": {
            "standoff": 15
           },
           "zerolinecolor": "white",
           "zerolinewidth": 2
          },
          "yaxis": {
           "automargin": true,
           "gridcolor": "white",
           "linecolor": "white",
           "ticks": "",
           "title": {
            "standoff": 15
           },
           "zerolinecolor": "white",
           "zerolinewidth": 2
          }
         }
        }
       }
      },
      "text/html": [
       "<div>\n",
       "        \n",
       "        \n",
       "            <div id=\"cdc912c6-3d6c-46da-819e-0b343240a116\" class=\"plotly-graph-div\" style=\"height:525px; width:100%;\"></div>\n",
       "            <script type=\"text/javascript\">\n",
       "                require([\"plotly\"], function(Plotly) {\n",
       "                    window.PLOTLYENV=window.PLOTLYENV || {};\n",
       "                    \n",
       "                if (document.getElementById(\"cdc912c6-3d6c-46da-819e-0b343240a116\")) {\n",
       "                    Plotly.newPlot(\n",
       "                        'cdc912c6-3d6c-46da-819e-0b343240a116',\n",
       "                        [{\"type\": \"contour\", \"z\": [[-0.03295062318942784, -0.03292998001715862, -0.032915191274730526, -0.032905034594661965, -0.03289850254092131, -0.032894775647617974, -0.03289319741226599, -0.03289325124361997, -0.03289453936408363, -0.03289676366669066, -0.03289970852665807, -0.032903225567511976, -0.0329072203817859, -0.03291164120629141, -0.032916469551961286, -0.032921712788265126, -0.032927398682197344, -0.03293357189183774, -0.03294029241448434, -0.03294763598935886, -0.032955696454884456, -0.03296459006053611, -0.03297446173326329, -0.03298549329848508, -0.03299791365565792, -0.033012010908415636, -0.033028146449281905, -0.033046770998955304, -0.033068442600166684, -0.033093846566109045, -0.03312381738343982, -0.03315936256985574, -0.033201688486239896, -0.03325222810338151, -0.03331267072326802, -0.033384993654949575, -0.03347149584497611, -0.0335748334624068, -0.033698057438391854, -0.033844652960327, -0.03401858092058021, -0.03422432131979093, -0.03446691862474178, -0.03475202908080275, -0.035085969978947716, -0.035475770877343486, -0.03592922677751134, -0.03645495325506093, -0.0370624435449966, -0.037762127581596305], [-0.032958620776832315, -0.032938022026740836, -0.03292326185122981, -0.032913118899867456, -0.03290658677953016, -0.032902847089167936, -0.03290124440914223, -0.032901263245136286, -0.032902506926637966, -0.032904678459994924, -0.032907563336042236, -0.03291101429230266, -0.03291493802975904, -0.03291928388419946, -0.03292403445213461, -0.032929198171287775, -0.03293480385565714, -0.03294089718515062, -0.03294753914979311, -0.03295480644850621, -0.03296279384246038, -0.032971618462999494, -0.03298142607413796, -0.03299239928963021, -0.033004767744612494, -0.03301882022181754, -0.03303491873236121, -0.0330535145511018, -0.03307516620657186, -0.033100559425482325, -0.033130529031799125, -0.033166082800392384, -0.03320842726525779, -0.033258995482310705, -0.033319476746752556, -0.033391848265009634, -0.033478408781244536, -0.03358181415843986, -0.033705114914054486, -0.03385179571025217, -0.03402581679870267, -0.034231657419955416, -0.034474361157385364, -0.03475958324571162, -0.03509363983408814, -0.03548355920376737, -0.035937134940335756, -0.03646298106052221, -0.037070589093578715, -0.037770387117233496], [-0.032964545802126106, -0.03294399552929706, -0.032929269779626735, -0.032919148089376654, -0.03291262497943255, -0.032908882986144215, -0.03290726764673756, -0.0329072644392994, -0.032908477677334444, -0.032910611358894955, -0.03291345197028262, -0.03291685324432307, -0.03292072287321274, -0.032925011175938275, -0.032929701720268136, -0.032934803899317085, -0.032940347462682644, -0.032946379002154365, -0.03295296039199535, -0.03296016918379629, -0.03296810095590193, -0.03297687361741001, -0.03298663366674264, -0.03299756440479008, -0.03300989610262706, -0.033023918123801455, -0.0330399930011954, -0.033058572468459106, -0.03308021544601664, -0.03310560798164466, -0.033135585145623196, -0.033171154880459235, -0.03321352380518242, -0.0332641249742134, -0.033324647590804626, -0.03339706867505346, -0.033483686686487886, -0.033587157101224605, -0.033710529943699524, -0.033857289272970825, -0.034031394623594266, -0.03423732440107124, -0.03448012123186898, -0.03476543926801337, -0.03509959344625424, -0.035489610701802926, -0.03594328313664249, -0.036469223142410266, -0.03707692047785289, -0.037776801300853736], [-0.03296883577486128, -0.032948335820056296, -0.03293364803768394, -0.03292355272631633, -0.0329170451979237, -0.0329133088047886, -0.032911689920992276, -0.032911674878473796, -0.032912868857661384, -0.03291497673267626, -0.032917785871108975, -0.032921150888368285, -0.03292498035660215, -0.032929225468191554, -0.03293387065381659, -0.03293892615509497, -0.03294442255179302, -0.03295040724360921, -0.03295694288652998, -0.03296410778375805, -0.032971998231213405, -0.032980732817606315, -0.03299045867908313, -0.03300135970844444, -0.03301366671893559, -0.03302766956260986, -0.03304373120326368, -0.03306230374394494, -0.03308394640903296, -0.03310934548089169, -0.03313933619109471, -0.03317492656622309, -0.033217323228235555, -0.03326795914941112, -0.03332852336186404, -0.03340099262163145, -0.03348766502733335, -0.033591195593404885, -0.033714633777901355, -0.03386146296487539, -0.03403564190132682, -0.0342416480887248, -0.03448452312910255, -0.034769920025724356, -0.03510415243832521, -0.03549424589292274, -0.03594799094620169, -0.03647399830447087, -0.03708175589719232, -0.037781687905083336], [-0.032971856861210444, -0.03295140718170308, -0.03293675892317062, -0.03292669302808681, -0.032920205482555386, -0.03291648033929842, -0.032914864695217226, -0.03291484562352561, -0.03291602906045563, -0.032918120646535765, -0.03292090852244155, -0.0329242480794187, -0.032928048664278585, -0.032932262238966246, -0.032936873994700806, -0.032941894920688365, -0.03294735632740729, -0.03295330632446604, -0.03295980825303331, -0.032966941072840775, -0.03297480170375818, -0.03298350932194088, -0.03299321161054988, -0.03300409296504431, -0.033016384653046245, -0.033030376928778214, -0.03304643310207285, -0.0330650055619553, -0.033086653754797773, -0.03311206411704674, -0.0331420719625226, -0.03317768532429168, -0.03322011075111068, -0.03327078105844368, -0.03333138503405151, -0.03340389909815358, -0.03349062091816223, -0.03359420497798934, -0.03371770010192556, -0.033864588933092035, -0.03403882936646441, -0.0342448979364693, -0.03448783515915338, -0.034773292828924704, -0.03510758326986666, -0.035497730541624264, -0.035951523599862874, -0.03647757141129948, -0.03708536002330634, -0.03778531158808707], [-0.03297391192457702, -0.03295351090528369, -0.03293890205506455, -0.032928866847859915, -0.0329224018329297, -0.03291869165391621, -0.032917084022479205, -0.03291706664650362, -0.0329182461128795, -0.03292032872485467, -0.03292310329395948, -0.03292642588650443, -0.03293020652464987, -0.032934397842048366, -0.03293898569405941, -0.03294398172253669, -0.03294941787518762, -0.03295534287950554, -0.03296182067127422, -0.03296893077764479, -0.03297677065478531, -0.03298545998010253, -0.03299514689903628, -0.033006016226426196, -0.03301829960245113, -0.03303228760314053, -0.03304834380545883, -0.03306692080696191, -0.03308857820002612, -0.033114002500649775, -0.033144029031827046, -0.03317966576149436, -0.0332221190950492, -0.03327282162244136, -0.033333461819836666, -0.033406015705853116, -0.03349278045236952, -0.033596409949906536, -0.03371995232758019, -0.03386688942762778, -0.03404117823450636, -0.03424729425856346, -0.03449027687428056, -0.03477577661308868, -0.035110104410756585, -0.03550028280935157, -0.03595409911377237, -0.0364801605028548, -0.0370879510950497, -0.037787890968673396], [-0.032975248095994565, -0.032954892840901216, -0.032940321904543, -0.03293031718586553, -0.03292387569228148, -0.03292018255480779, -0.03291858599777499, -0.03291857426310918, -0.032919754489186506, -0.03292183354425989, -0.03292460081445825, -0.03292791294635845, -0.032931680544129184, -0.03293585682124784, -0.032940428206789454, -0.032945406906288215, -0.03295082541717151, -0.032956732998766246, -0.03296319409687777, -0.03297028872294117, -0.03297811478774503, -0.03298679238972764, -0.03299647005784561, -0.03300733294901509, -0.033019613000125125, -0.033033601034623876, -0.03304966082367692, -0.03306824510189814, -0.03308991353765316, -0.033115352657935096, -0.03314539772781276, -0.03318105658445141, -0.03322353542570582, -0.033274266553285914, -0.03333493807049479, -0.03340752553453914, -0.033494325563412315, -0.033597991397349515, -0.03372157041485583, -0.03386854360330629, -0.03404286698411873, -0.034249014992498945, -0.0344920258117583, -0.03477754866220373, -0.03511189304460027, -0.03550207993820616, -0.03595589495338006, -0.036481943438761016, -0.03708970754302073, -0.03778960523118836], [-0.03297606387431495, -0.03295575047819948, -0.03294121485576246, -0.032931239230467264, -0.03292482096884974, -0.03292114559172963, -0.03291956173999431, -0.032919558094955115, -0.032920742253275945, -0.03292282155647454, -0.03292558587499592, -0.032928892346858606, -0.03293265207087297, -0.032936818754432225, -0.03294137931587591, -0.03294634644142553, -0.03295175309669304, -0.03295764899276147, -0.03296409900683814, -0.03297118355748026, -0.03297900093439306, -0.032987671582800304, -0.03299734434238718, -0.03300820464081595, -0.03302048464181346, -0.03303447534783187, -0.03305054065728109, -0.033069133376334166, -0.03309081318530494, -0.03311626655959809, -0.0331463286452317, -0.033182007088932354, -0.033224507822802514, -0.03327526280356045, -0.033335959706352586, -0.033408573573138284, -0.033495400415647164, -0.033599092772908706, -0.033722697223354456, -0.03386969385149261, -0.03404403766915505, -0.03425020199131683, -0.0344932237664881, -0.034778750861678545, -0.03511309130193415, -0.035503264464446564, -0.03595705422723472, -0.03648306407239915, -0.03709077414394847, -0.03779060026019856], [-0.032976515756185286, -0.03295623955663596, -0.03294173579642732, -0.03293178692902691, -0.03292539058703787, -0.03292173258948483, -0.03292016190367192, -0.03292016756161336, -0.03292135753103651, -0.032923439540957326, -0.032926203861828277, -0.03292950804025873, -0.03293326358830771, -0.03293742462734925, -0.03294197848651004, -0.03294693825567955, -0.03295233729309278, -0.03295822568748517, -0.03296466867482017, -0.03297174700958918, -0.03297955929068396, -0.03298822624184145, -0.03299789694666112, -0.033008757038194655, -0.03302103884310817, -0.03303503348041687, -0.033051104914792115, -0.03306970596444099, -0.03309139626355821, -0.03311686217935068, -0.03314693868363422, -0.033182633179003065, -0.033225151279571506, -0.033275924546288194, -0.033336640176822765, -0.03340927265002498, -0.03349611732495634, -0.03359982599449405, -0.03372344439350741, -0.033870451661606994, -0.03404480176046569, -0.03425096684571272, -0.03449398259339981, -0.03477949548103996, -0.0351138120232185, -0.035503949961776846, -0.03595769141056839, -0.03648363795478712, -0.03709126770486846, -0.0377909943049628], [-0.03297672439581388, -0.03295648020554332, -0.03294200423814735, -0.03293207908855769, -0.03292570256836284, -0.03292206070916811, -0.0329205027205281, -0.032920517902451485, -0.032921714512478474, -0.03292380058733056, -0.03292656671913273, -0.0329298707862082, -0.03293362463844552, -0.03293778273723815, -0.03294233274999656, -0.03294728809923263, -0.03295268246621658, -0.032958566249206435, -0.03296500497624977, -0.03297207967255798, -0.03297988918245305, -0.03298855444588671, -0.032998224729532, -0.033009085812447415, -0.03302137012631338, -0.03303536885024118, -0.03305144596015444, -0.033070054232742924, -0.03309175320398886, -0.03311722908226573, -0.03314731661600938, -0.0331830229159618, -0.03322555323198709, -0.03327633868446012, -0.033337065950227424, -0.03340970890314072, -0.033496562209162764, -0.03360027687604574, -0.03372389775758197, -0.03387090301242715, -0.03404524551749613, -0.034251396235930986, -0.03449438953964155, -0.03477987048641853, -0.035114144051618904, -0.03550422631442394, -0.03595789759866944, -0.0364837575682487, -0.03709128227708766, -0.03779088317369271], [-0.032976780294524936, -0.03295656261398016, -0.032942109966584046, -0.03293220500616647, -0.03292584564219309, -0.03292221803919956, -0.03292067157079841, -0.03292069572825816, -0.03292189898365511, -0.03292398960759732, -0.03292675844152123, -0.03293006362456075, -0.03293381727498855, -0.03293797412623008, -0.032942522117449864, -0.03294747493871045, -0.032952866530703395, -0.0329587475390532, -0.03296518372319334, -0.03297225631981488, -0.03298006436088753, -0.03298872894625312, -0.032998399470791535, -0.033009261806159165, -0.03302154843709959, -0.03303555055232703, -0.033051632089981985, -0.03307024573765943, -0.033091950887009475, -0.033117433542910336, -0.03314752818721398, -0.033183241597064095, -0.03322577861778634, -0.03327656989035145, -0.033337301533410385, -0.03340994677990219, -0.03349679956823405, -0.03360051008803422, -0.03372412228047684, -0.033871113293179746, -0.03404543488967423, -0.03425155681344775, -0.034494512106558566, -0.03477994438282336, -0.03511415705557679, -0.0355041645200039, -0.03595774529004471, -0.036483497089871426, -0.037090893899938034, -0.03779034495760222], [-0.03297674902010214, -0.032956552230370174, -0.03294211822138579, -0.032932229629284764, -0.03292588438627541, -0.03292226871614726, -0.03292073208435206, -0.03292076410265739, -0.032921973388372584, -0.03292406837814722, -0.03292684009634195, -0.0329301468779719, -0.03293390104622236, -0.032938057544537054, -0.03294260452327883, -0.03294755588096277, -0.03295294576006174, -0.032958824997384444, -0.03296525952902587, -0.032972330749890165, -0.03298013782778608, -0.03298880197209477, -0.03299847265700992, -0.03300933579935068, -0.033021623890946615, -0.033035628085595396, -0.03305171224059288, -0.03307032891283555, -0.03309203730949552, -0.03311752319326783, -0.03314762074219041, -0.03318333636403635, -0.03322587446527853, -0.033276665174627004, -0.03333739402113837, -0.03341003356689817, -0.033496876994275136, -0.03360057364774838, -0.03372416653030668, -0.03387113175442047, -0.03404541994758605, -0.03425149961244247, -0.034494402441460736, -0.034779770586205315, -0.03511390588116853, -0.0355038210221769, -0.035957292699370244, -0.036482916684753196, -0.03709016487431895, -0.03778944428474579], [-0.03297667595592115, -0.032956494491930735, -0.03294207440591212, -0.03293219824568864, -0.0329258638970507, -0.03292225757533888, -0.03292072877159935, -0.032920767153311645, -0.03292198141968908, -0.032924080111551325, -0.032926854375769865, -0.03293016268428541, -0.03293391750769814, -0.032938073943430186, -0.03294262029846065, -0.03294757062663306, -0.032952959220535205, -0.032958837057951586, -0.03296527020288804, -0.032972340161169136, -0.03298014619060776, -0.032988809565747304, -0.03299847979717618, -0.033009342805414926, -0.033021631049375604, -0.03303563560939382, -0.033051720224832964, -0.03307033728626122, -0.03309204578220058, -0.03311753120044881, -0.03314762738397349, -0.03318334034137862, -0.03322587401194372, -0.03327665798523534, -0.03333737717529096, -0.03341000344937552, -0.03349682921131007, -0.03360050293937338, -0.033724066678775304, -0.033870995488703315, -0.03404523884394098, -0.034251263991059044, -0.03449410125917912, -0.03477939132530948, -0.035113434434253674, -0.03550324157309126, -0.035956587600231245, -0.036482066329037874, -0.03708914756602878, -0.03778823610364574], [-0.03297659057987095, -0.032956419083889674, -0.0329420083267465, -0.03293214070330747, -0.032925813989758385, -0.032922214331261995, -0.032920691184187736, -0.032920734212913944, -0.032921952141202464, -0.0329240535581457, -0.032926829678686154, -0.03293013905870847, -0.032933894264703716, -0.03293805049800639, -0.032942596173603594, -0.032947545453516976, -0.032952932734756746, -0.03295880909184848, -0.0329652406739322, -0.03297230905643385, -0.03298011354730943, -0.03298877544786135, -0.03299844426812733, -0.03300930589684187, -0.03302159272596982, -0.03303559572981293, -0.03305167849868825, -0.03307029322717945, -0.033091998656960386, -0.033117479974191025, -0.033147570661486096, -0.03318327630445594, -0.03322580035281983, -0.03327657183609193, -0.03333727503383952, -0.03340988110051368, -0.03349668164485251, -0.033600324263856736, -0.0337238500313378, -0.03387073294103838, -0.03404492130432529, -0.03425088110245502, -0.03449364129341147, -0.034778841073316365, -0.03511277909241193, -0.035502464625616174, -0.03595567069765048, -0.03648098916273978, -0.037087887738885016, -0.0377867689967082], [-0.032976510273063975, -0.03295634372849165, -0.03294193796299815, -0.0329320751598216, -0.03292575292833008, -0.032922157287753384, -0.03292063760548702, -0.032920683489968634, -0.03292190363812711, -0.032924006637403816, -0.032926783722346545, -0.032930093485775816, -0.032933848544523504, -0.03293800415974414, -0.03294254881179851, -0.03294749672970972, -0.032952882375191755, -0.032958756881250495, -0.03296518644535703, -0.03297225267719365, -0.03298005490097214, -0.032988714412324545, -0.03299838068976637, -0.03300923956073228, -0.03302152332218421, -0.03303552281579193, -0.0330516014576861, -0.03307021122278361, -0.03309191058368568, -0.033117384404148, -0.03314746578712374, -0.033183159877378667, -0.033225669618678934, -0.033276423465551125, -0.03333710504961501, -0.03340968480048846, -0.03349645352126497, -0.033600057918563644, -0.03372353808715158, -0.03387036694913867, -0.03404449164774492, -0.03425037689564017, -0.034493050277856305, -0.034778149509271834, -0.035111971646669064, -0.035501524255363494, -0.03595457853040595, -0.03647972437235688, -0.03708642741763328, -0.037785088023428004], [-0.032976443658335255, -0.03295627750379276, -0.03294187276539294, -0.03293201136204883, -0.03292569068507174, -0.03292209657797715, -0.03292057827086314, -0.03292062526936114, -0.0329218461981593, -0.0329239495990981, -0.03292672668383853, -0.03293003604110281, -0.032933790298487316, -0.032937944738848195, -0.03294248787125922, -0.03294743395654229, -0.0329528174873703, -0.03295868962294228, -0.03296511657823129, -0.03297217996780469, -0.03297997910421652, -0.03298863525097285, -0.032998297830069225, -0.03300915258410063, -0.03302143169294399, -0.033035425845012976, -0.03305149826308545, -0.033070100684703146, -0.033091791297143985, -0.03311725462696666, -0.033147323384127854, -0.03318300226067177, -0.03322549368399218, -0.03327622552466687, -0.03333688075886455, -0.03340942908532427, -0.03349616049690725, -0.033599720806720995, -0.03372314912881625, -0.03386991731345592, -0.034043971336956864, -0.034249774646103855, -0.034492353457136096, -0.034777344009306176, -0.035111041773011525, -0.03550045261249818, -0.0359533459031371, -0.036478309603273036, -0.0370848072806455, -0.0377832370933826], [-0.03297639346853029, -0.0329562236922444, -0.03294181648515263, -0.032931953455119733, -0.03292563173013481, -0.03292203693419161, -0.03292051811774108, -0.03292056464271665, -0.032921785022131785, -0.03292388771424997, -0.03292666387132722, -0.03292997204292708, -0.03293372483380793, -0.03293787751638281, -0.03294241859775178, -0.03294736234130656, -0.032952743242907756, -0.03295861246163448, -0.032965036205106366, -0.03297209606937819, -0.03297989133340675, -0.03298854320809031, -0.032998201039880465, -0.03300905046896647, -0.03302132354203197, -0.033035310779584215, -0.03305137519785574, -0.033069968285278466, -0.03309164793353019, -0.033117098323153675, -0.033147151763748044, -0.03318281248873272, -0.03322528240468369, -0.03327598879524237, -0.03333661397959687, -0.033409126925535555, -0.033495816817073365, -0.033599328576650225, -0.03372270034190221, -0.033869402897004915, -0.03404338105858952, -0.034249097016231037, -0.034491575627509215, -0.03477645166764176, -0.03511001903369013, -0.03549928190333765, -0.03595200784824014, -0.03647678290194895, -0.037083068582406585, -0.03778126086901453], [-0.03297635894458181, -0.03295618215906581, -0.032941769532663465, -0.03293190232144188, -0.03292557735077638, -0.032921979987305214, -0.032920459065456445, -0.03292050376854746, -0.03292172246445692, -0.03292382349586903, -0.03292659792509042, -0.03292990423343944, -0.03293365497520768, -0.032937805386194334, -0.03294234394681267, -0.03294728489976911, -0.03295266272231477, -0.032958528553069334, -0.03296494857341746, -0.03297200434347774, -0.03297979509264373, -0.032988441964697954, -0.032998094217497956, -0.03300893737723495, -0.03302120334726489, -0.03303518247151203, -0.03305123755244488, -0.03306981982362467, -0.033091486876826136, -0.03311692254373093, -0.033146958732193345, -0.033182599217078536, -0.03322504538567323, -0.03327572393766878, -0.03333631653971672, -0.03340879143455686, -0.03349543700471765, -0.033598897290789166, -0.03372220946426839, -0.03386884325497706, -0.03404274233305193, -0.03424836764550739, -0.03449074270737078, -0.034775500847389736, -0.03510893440831251, -0.03549804590174022, -0.03595060111755196, -0.03647518418790212, -0.037081254605790176, -0.037779206198203054], [-0.03297633776337555, -0.03295615126040562, -0.0329417308659335, -0.03293185744945301, -0.03292552750040799, -0.032921926096221285, -0.032920401824896, -0.03292044366218936, -0.03292165980335886, -0.03292375844948098, -0.03292653054834236, -0.03292983448990333, -0.03293358275633388, -0.03293773052662224, -0.03294226623575575, -0.032947204088474236, -0.032952578527595804, -0.032958440656915104, -0.03296485661867411, -0.03297190792560521, -0.03297969374754682, -0.032988335152631484, -0.03299798130304635, -0.0330088176053661, -0.033021075815458434, -0.033035046097961825, -0.033051091040335885, -0.033069661621484066, -0.033091315134948854, -0.033116735066679476, -0.03314675292737194, -0.03318237203938154, -0.03322479327820791, -0.033275442768552446, -0.033336001534948104, -0.033408437106961925, -0.033495037078969565, -0.033598444624502725, -0.033721695965168705, -0.03386825979414262, -0.034042078654231846, -0.034247612270513234, -0.03448988283754237, -0.03477452226113557, -0.03510782135472435, -0.035496780990282084, -0.03594916520382334, -0.03647355625547554, -0.03707941164412322, -0.03777712307662452], [-0.032976327495404634, -0.032956129281292046, -0.03294169940883855, -0.03293181833216286, -0.032925482177433386, -0.03292187570697149, -0.03292034723792713, -0.03292038551552689, -0.032921598540894624, -0.03292369435344449, -0.032926463767846234, -0.032929765065563284, -0.03293351064096293, -0.032937655601999224, -0.03294218832546819, -0.03294712296683551, -0.03295249392463662, -0.032958352259449396, -0.03296476406743907, -0.03297181080847582, -0.032979591588824665, -0.03298822739840778, -0.03299786730263938, -0.03300869658883302, -0.033020946867181274, -0.03303490812630789, -0.03305094274339247, -0.033069501448867514, -0.03309114124568783, -0.03311654528317273, -0.03314654468542021, -0.03318214233429394, -0.03322453860698251, -0.03327515906813124, -0.03333568411654634, -0.03340808058647156, -0.03349463530343734, -0.033597990594682305, -0.03372118175414728, -0.03386767646204175, -0.03404141615898273, -0.03424685937470613, -0.03448902701135051, -0.03477354958131335, -0.0351067163996797, -0.035495526731223366, -0.03594774289198045, -0.036471945305395374, -0.037077589513039404, -0.037775065139901504], [-0.03297632659221302, -0.03295611540337222, -0.03294167499915735, -0.03293178539548407, -0.03292544233387522, -0.03292183024163837, -0.032920297146615894, -0.03292033154650722, -0.03292154123276387, -0.032923634069056726, -0.03292640072431574, -0.03292969936034224, -0.032933442273993564, -0.032937584493940145, -0.03294211433199511, -0.0329470458890163, -0.03295241351538064, -0.03295826822603118, -0.032964676070096365, -0.03297171845508183, -0.03297949442563471, -0.0329881248968803, -0.03299775884233117, -0.03300858143636888, -0.033020824151297826, -0.03303477680897197, -0.0330508015869936, -0.033069348979484756, -0.03309097571243112, -0.03311636461359826, -0.033146346437020385, -0.033181923642061455, -0.03322429612704892, -0.033274888917479754, -0.03333538180879891, -0.033407740963750356, -0.03349425246430056, -0.03359755781813423, -0.03372069141972266, -0.033867119965964636, -0.034040783826399454, -0.03424614036799268, -0.03448820923449428, -0.03477261958036906, -0.035105659259299926, -0.03549432596726299, -0.035946380340175776, -0.036470401006117384, -0.03707584159212138, -0.03777308968554101], [-0.03297633490362778, -0.032956110202440145, -0.032941658866395385, -0.03293176045635188, -0.032925410313790475, -0.0329217925170666, -0.03292025479223436, -0.03292028537844329, -0.032921491847907665, -0.032923581880448055, -0.03292634599260543, -0.032929642221327715, -0.03293338276222876, -0.032937522562419774, -0.03294204986791326, -0.032946978725599256, -0.032952343439794196, -0.032958194983362075, -0.0329645993634082, -0.032971637941545194, -0.03297940970873173, -0.032988035514683385, -0.03299766425185624, -0.03300848099400276, -0.03302071708930004, -0.033034662208050854, -0.03305067834495669, -0.03306921577596358, -0.03309083096968021, -0.03311620645336859, -0.03314617263350698, -0.03318173157092558, -0.03322408271051426, -0.033274650565503154, -0.033335114356315386, -0.033407439603992374, -0.03349391167819166, -0.03359717129975698, -0.033720251997860974, -0.03386661952172029, -0.03404021320688306, -0.03424548929608887, -0.03448746621470132, -0.03477177180071274, -0.03510469248932162, -0.03549322445208237, -0.03594512669062749, -0.036468976084962273, -0.03707422439633201, -0.03777125722466141], [-0.03297635372478012, -0.03295611567575373, -0.032941653639397626, -0.0329317467106325, -0.03292538982147486, -0.03292176669336314, -0.03292022474405643, -0.03292025194910546, -0.03292145565789611, -0.03292354336426544, -0.032926305431689985, -0.0329295997730468, -0.032933338484946575, -0.03293747643663949, -0.03294200181349342, -0.03294692861504457, -0.03295229110762057, -0.032958140231536044, -0.03296454196286054, -0.03297157762975911, -0.03297934618340506, -0.03298796842346539, -0.0329975931781585, -0.03300840543888454, -0.033020636449427945, -0.03303457574973271, -0.03305058517424991, -0.03306911480485773, -0.03309072087835391, -0.033116085648520775, -0.03314603920276246, -0.033181583233314896, -0.033223916763027946, -0.0332744638257202, -0.03333490310110608, -0.03340719950429559, -0.033493637729866146, -0.03359685775050731, -0.03371989227023771, -0.033866206132194245, -0.03403973768099422, -0.03424494207966953, -0.03448683658117332, -0.03477104775445935, -0.03510386066513351, -0.03549227001067803, -0.035944033210247896, -0.036467725449039985, -0.03707279667723435, -0.037769630563508294], [-0.032976385372915466, -0.032956134799140446, -0.03294166288375005, -0.03293174825082079, -0.03292538541945594, -0.03292175775218626, -0.03292021235794277, -0.032920236949602194, -0.03292143865610477, -0.032923524789144565, -0.03292628556443224, -0.032929578777530104, -0.032933316434259875, -0.032937453335682744, -0.03294197761765178, -0.03294690324493705, -0.032952264459922956, -0.03295811218587815, -0.03296451238479779, -0.03297154636981839, -0.03297931307220493, -0.03298793326291066, -0.032997555728709035, -0.03300836540289839, -0.033020593450579, -0.03303452930850235, -0.03305053467949319, -0.03306905948144385, -0.03309065975088099, -0.033116017501104954, -0.033145962534901326, -0.03318149621182517, -0.03322381717005762, -0.03327434900283482, -0.0333347698894496, -0.0334070441808252, -0.03349345593966176, -0.03359664443515524, -0.033719641592288484, -0.03386591139569515, -0.034039391248095775, -0.034244535283306426, -0.03448635963381976, -0.03477048965295863, -0.03510320909160192, -0.03549151122948306, -0.035943151961060786, -0.03646670483596263, -0.03707161805400054, -0.03776827341475909], [-0.03297643229399224, -0.032956170613892076, -0.032941690168970264, -0.03293176911352628, -0.032925401556275394, -0.03292177050482352, -0.03292022276471445, -0.03292024579304956, -0.032921446506679976, -0.032923532044971185, -0.03292629248714007, -0.03292958552416442, -0.03293332308526491, -0.03293745991895945, -0.032941984128690066, -0.03294690966302215, -0.03295227076041627, -0.03295811834857233, -0.03296451839834616, -0.032971552232238695, -0.03297931878745742, -0.0329879388335504, -0.03299756114461274, -0.03300837062606539, -0.0330205983960065, -0.03303453382113528, -0.03305053850724808, -0.03306906224430715, -0.033090660906081745, -0.033116016304361694, -0.033145957997743385, -0.03318148705498832, -0.0332238017729539, -0.03327432534909687, -0.03333473550854912, -0.03340699608576589, -0.03349339056074657, -0.033596557549827745, -0.0337195282510489, -0.03386576584409034, -0.03403920684478383, -0.03424430441419546, -0.03448607362228104, -0.03477013866611393, -0.035102782042685424, -0.035490995676277365, -0.03594253400040741, -0.03646596899434658, -0.0370707471742095, -0.03776724853861674], [-0.0329764956990696, -0.032956224843448234, -0.0329417376654867, -0.03293181185674853, -0.032925441124059825, -0.03292180813005845, -0.03292025938831556, -0.03292028211302969, -0.03292148302329312, -0.03292356910193094, -0.032926330308912365, -0.03292962424933451, -0.03293336279597873, -0.03293750066643935, -0.03294202595482469, -0.03294695261803092, -0.032952314916587885, -0.03295816381007777, -0.032964565307126, -0.032971600769964665, -0.03297936917356833, -0.03298799131936245, -0.03299761600350399, -0.033008428139734695, -0.03302065883680674, -0.03303459743048081, -0.033050605470096646, -0.03306913265971607, -0.0330907347538383, -0.03311609340768807, -0.03314603798207574, -0.03318156930283022, -0.0332238853748041, -0.03327440905045144, -0.03333481765297783, -0.033407074554063006, -0.0334934627061558, -0.03359662012934172, -0.033719577352782804, -0.033865796810730014, -0.03403921419310803, -0.034244281750672546, -0.03448601355473996, -0.034770032711489575, -0.03510262053083815, -0.03549076764988703, -0.03594222711094158, -0.036465569394103205, -0.037070239404433665, -0.03776661541369206], [-0.03297657373048397, -0.032956296039868674, -0.03294180427140685, -0.03293187566694096, -0.03292550354588062, -0.03292187024182619, -0.03292032199376465, -0.032920345791837884, -0.032921548177683585, -0.03292363599934837, -0.03292639912077357, -0.03292969508585343, -0.032933435737065524, -0.0329375757886739, -0.0329421033545046, -0.032947032430293594, -0.032952397330607036, -0.032958249080334234, -0.032964653760752895, -0.03297169281016682, -0.03297946527911612, -0.03298809204015982, -0.03299772195223092, -0.03300853997956394, -0.033020777265194916, -0.033034723159033705, -0.033050739200509056, -0.03306927505578563, -0.03309088640955406, -0.033116254811392964, -0.033146209476703714, -0.03318175104221744, -0.03322407727607464, -0.03327461074247726, -0.033335028420912995, -0.03340729327995227, -0.03349368780561755, -0.03359684948432525, -0.0337198082403998, -0.033866025828160465, -0.03403943717858042, -0.03424449370051838, -0.03448620853652259, -0.03477020377320739, -0.03510275960620203, -0.03549086545967215, -0.03594227306041354, -0.03646555146651847, -0.037070144050614366, -0.037766427437675006], [-0.03297665915781452, -0.032956377260094594, -0.03294188326907437, -0.0329319539958638, -0.03292558239290258, -0.03292195048665799, -0.03292040426489495, -0.0329204305185189, -0.032921635637990734, -0.032923726364314496, -0.03292649249459731, -0.03292979154218195, -0.03293353535135163, -0.03293767866660742, -0.03294220965651808, -0.032947142392142276, -0.03295251128002334, -0.03295836744975637, -0.032964777096127794, -0.03297182177582754, -0.03297960065873343, -0.03298823473376815, -0.03299787296932871, -0.03300870042828822, -0.03302094833757012, -0.033034906112295086, -0.033050935334500035, -0.03306948568642991, -0.03309111283840166, -0.03311649829124085, -0.03314647117329053, -0.03318203199199277, -0.03322437834004254, -0.03327493255611389, -0.03333537134015888, -0.033407657323278765, -0.03349407259216754, -0.033597254168128275, -0.03372023144066147, -0.03386646555562618, -0.03403989075797344, -0.03424495768905222, -0.03448667863848765, -0.03477067475063204, -0.03510322518558792, -0.035491318234803865, -0.03594270439124261, -0.03646595137412161, -0.03707050110822619, -0.03776672865779492], [-0.032976736603637445, -0.03295645327199876, -0.032941959511414876, -0.032932031727225794, -0.03292566253132159, -0.03292203367091455, -0.03292049091188367, -0.032920520876691756, -0.03292172983687472, -0.032923824460103585, -0.03292659451181873, -0.03292989751143683, -0.032933645343129814, -0.03293779282117688, -0.032942328209888364, -0.032947265698102426, -0.0329526398282541, -0.03295850188001672, -0.03296491820851581, -0.03297197053711558, -0.032979758204777575, -0.032988402367992116, -0.03299805215728185, -0.03300889278827803, -0.03302115562736913, -0.033035130211921775, -0.03305117822507438, -0.0330697494251031, -0.033091399529360105, -0.03311681005278461, -0.03314681010098602, -0.03318240011789976, -0.03322477758801551, -0.03327536469317769, -0.03333583792395872, -0.03340815964560455, -0.033494611618552446, -0.03359783047352173, -0.033720845141176424, -0.033867116236360684, -0.03404057739690657, -0.03424567857701428, -0.03448743129520481, -0.0347714558368451, -0.03510403041124553, -0.03549214226333012, -0.035943540739878814, -0.03646679231034247, -0.037071337542230264, -0.03776755003106941], [-0.032976779299069156, -0.03295649729022442, -0.03294200613807091, -0.032932081873114874, -0.03292571679909088, -0.03292209241780827, -0.032920554308569924, -0.03292058896216369, -0.0329218025694261, -0.0329239017643785, -0.032926676321935855, -0.03292998381018777, -0.03293373619725202, -0.03293788841270062, -0.032942428863558235, -0.03294737190487309, -0.032952752264860316, -0.032958621424617716, -0.03296504595241409, -0.032972107792549825, -0.03297990650879011, -0.0329885634823705, -0.032998228064574905, -0.03300908568388615, -0.03302136790770889, -0.03303536445866494, -0.033051437185461115, -0.0330700359883296, -0.03309171669904054, -0.03311716091548731, -0.033147197790844046, -0.03318282777729585, -0.033225248324341185, -0.03327588153166683, -0.03333640375659541, -0.0334087771761052, -0.033495283303422364, -0.0335985584591858, -0.033721631197184354, -0.03386796168466638, -0.03404148303722194, -0.03424664460823731, -0.034488457232921974, -0.03477254042690807, -0.03510517153942232, -0.03549333686103033, -0.035944784685953385, -0.03646808032895772, -0.037072663096816186, -0.03776890521434242], [-0.032976745369098254, -0.03295646724181322, -0.03294198082132542, -0.03293206180021748, -0.03292570221243638, -0.03292208335421426, -0.032920550659561613, -0.03292059053033281, -0.03292180912086427, -0.03292391307718502, -0.03292669223079956, -0.032930004247043475, -0.03293376122801105, -0.03293791827005585, -0.03294246397586333, -0.032947412921096125, -0.03295280007561169, -0.03295867717925244, -0.03296511107220825, -0.032972183979951594, -0.03297999575274485, -0.03298866805972033, -0.032998350537532584, -0.03300922889358323, -0.03302153496381812, -0.03303555872509721, -0.03305166226213655, -0.033070295689022935, -0.03309201502530097, -0.03311750202663259, -0.03314758597002889, -0.033183267393654625, -0.03322574379120503, -0.03327643726085503, -0.03333702410878105, -0.03340946640725522, -0.03349604550731189, -0.03359939750598688, -0.03372255066812877, -0.033868964802783126, -0.034042572594148765, -0.03424782288710666, -0.03448972592732129, -0.03477390055591436, -0.03510662335871108, -0.03549487977005875, -0.03594641713121795, -0.03646979970332602, -0.03707446563493314, -0.037770785884110765], [-0.032976573647706516, -0.03295630156162187, -0.03294182154181443, -0.032931908985827034, -0.03292555570216087, -0.032921942827270484, -0.03292041569713134, -0.032920460673379705, -0.03292168392402508, -0.03292379215873513, -0.03292657531869284, -0.032929891221026436, -0.03293365215781138, -0.032937813449645206, -0.03294236395379445, -0.03294731852691435, -0.0329527124423407, -0.03295859776195437, -0.03296504166261809, -0.032972126717185996, -0.0329799531300851, -0.0329886429274698, -0.03299834610194843, -0.03300924871188235, -0.03302158293525765, -0.03303563907812904, -0.03305177953763636, -0.03307045471959357, -0.03309222091064999, -0.03311776010502427, -0.03314790178581046, -0.033183646660856866, -0.03322619235321725, -0.033276961046174204, -0.03333762908283548, -0.033410158520302304, -0.033496830638410434, -0.03360028140304349, -0.033723538884018814, -0.033870062627545834, -0.03404378498325671, -0.03424915438580957, -0.0344911805910642, -0.034775481866830014, -0.03510833413818669, -0.035496722087377156, -0.03594839220827291, -0.0364719078154121, -0.0370767060076096, -0.03777315658614], [-0.032976179022778565, -0.03295591451752768, -0.03294144189402824, -0.03293153630364101, -0.0329251893797369, -0.03292158215076627, -0.0329200599079008, -0.03292010902724778, -0.03292133574663679, -0.03292344689697894, -0.03292623258819839, -0.03292955084973657, -0.03293331422562847, -0.032937478324151885, -0.03294203232204858, -0.03294699142331831, -0.03295239127258506, -0.03295828432303582, -0.032964738158931785, -0.032971835772692026, -0.03297967779654957, -0.03298838668877997, -0.03299811287450228, -0.03300904284105251, -0.03302140918792955, -0.033035502631313475, -0.03305168596315635, -0.03307040996484548, -0.03309223127543907, -0.03311783221447437, -0.03314804255934826, -0.03318386327727036, -0.033226492211788326, -0.03327735172388596, -0.03333811828765352, -0.033410754040530434, -0.033497540288120846, -0.033601112963581016, -0.033724500041579716, -0.03387116090683073, -0.034045027677198025, -0.03425054848137309, -0.03449273269112509, -0.03477719810812316, -0.03511022010533129, -0.03549878272297566, -0.03595063171908429, -0.03647432957459938, -0.03707931245306188, -0.037775949114868645], [-0.03297544731080056, -0.0329551910654231, -0.032940725921601896, -0.032930826839347144, -0.03292448533318878, -0.03292088238132021, -0.032919363289314454, -0.03291941450841272, -0.03292064240838543, -0.032922754004965755, -0.032925539641855565, -0.03292885762730382, -0.03293262082525727, -0.032936785201084014, -0.032941340321868955, -0.03294630181128217, -0.03295170575901946, -0.032957605084815475, -0.03296406785702912, -0.032971177565801736, -0.0329790353507873, -0.0329877641834555, -0.032997515003966894, -0.033008474812620765, -0.0330208767158753, -0.033035011926940284, -0.03305124372094221, -0.03307002334466177, -0.033091907880843936, -0.033117580067080425, -0.03314787006926459, -0.03318377920961868, -0.0332265056492938, -0.033277472025542036, -0.0333383550434612, -0.03341111702231196, -0.033498039396407456, -0.03360175817057536, -0.03372530133019227, -0.033872128205790726, -0.03404617079223862, -0.03425187702249093, -0.03449425599591414, -0.03477892516118279, -0.03511215945374884, -0.035500942387883185, -0.03595301910328975, -0.036476951366292025, -0.03708217452559202, -0.03777905642260168], [-0.03297422966134764, -0.032953981233998925, -0.03293952248239411, -0.032929628235998154, -0.032923289952763196, -0.03291968862434669, -0.032918169635901856, -0.03291821958044053, -0.03291944502776857, -0.03292155324799373, -0.032924334889605805, -0.032927648612129455, -0.03293140767334927, -0.03293556847110745, -0.032940121039673795, -0.03294508150068831, -0.03295048646867602, -0.03295638941113452, -0.03296285896319365, -0.032969979196847944, -0.03297785184476128, -0.03298660047864414, -0.032996376642203215, -0.033007367938663476, -0.03301980807286273, -0.033033988847918576, -0.03305027411646795, -0.03306911568647889, -0.03309107118163481, -0.03311682385629149, -0.03314720436500605, -0.03318321448663887, -0.03322605280302754, -0.03327714233223343, -0.03333816011636084, -0.033411068763948344, -0.03349814994693273, -0.033602039852185385, -0.03372576658762111, -0.033872789542879374, -0.034047040704577966, -0.03425296792613925, -0.034495580152188655, -0.03478049459752581, -0.03511398588066804, -0.03550303711196627, -0.03595539293629339, -0.03647961453030524, -0.03708513655427376, -0.037782326058492736], [-0.03297233649136028, -0.03295209403931646, -0.03293763914335534, -0.03292774656917568, -0.03292140778638885, -0.03291780386981118, -0.03291628035532873, -0.03291632405033454, -0.03291754179873831, -0.032919641200548584, -0.03292241328602719, -0.03292571714441651, -0.03292946650723871, -0.03293361828616784, -0.032938163065474146, -0.032943117549040876, -0.03294851896195358, -0.032954421406661875, -0.03296089417371353, -0.03296802200706107, -0.03297590732394096, -0.03298467438932505, -0.03299447544494448, -0.03300549879288618, -0.033017978833761695, -0.03303220805944846, -0.03304855100040358, -0.033067460127550075, -0.03308949370873543, -0.03311533561976277, -0.03314581710999442, -0.03318194052252781, -0.03322490496894402, -0.033276133958628586, -0.0333373049826649, -0.033410381052299945, -0.03349764419198259, -0.033601730886974226, -0.033725669485531906, -0.03387291955566393, -0.03404741319645791, -0.034253598303981135, -0.034496483791753636, -0.03478168676579345, -0.035115481654234476, -0.03550485129151681, -0.035957539957149294, -0.03648210836904488, -0.03708799063142808, -0.03778555313731512], [-0.03296953094920958, -0.03294929092916863, -0.032934835605184565, -0.032924939751942904, -0.03291859492492497, -0.03291498235777461, -0.032913447814237246, -0.03291347839467144, -0.03291468129713294, -0.03291676453303109, -0.03291951959735778, -0.032922806093488764, -0.03292653831255751, -0.03293067376740135, -0.032935203681080306, -0.032940145429968114, -0.032945536941415894, -0.0329514330459882, -0.032957903784271415, -0.03296503466825483, -0.0329729288972839, -0.03298171152858614, -0.03299153560236941, -0.03300259022149265, -0.03301511058570898, -0.03302938998048149, -0.033045793720371114, -0.03306477504699729, -0.033086892981570915, -0.0331128321319997, -0.03314342445456613, -0.03317967297017768, -0.033222777435189664, -0.033274161966800365, -0.0333355046230188, -0.03340876893720469, -0.033496237407181155, -0.03360054693891962, -0.033724726244797346, -0.03387223519642723, -0.034047006132060256, -0.0342534871185602, -0.034496687167950985, -0.034782223408536234, -0.03511637021059154, -0.03550611026662897, -0.03595918762623413, -0.03648416268547571, -0.0370904691308873, -0.0377884728380218], [-0.03296552190855126, -0.0329452787572298, -0.032930816656775046, -0.03292091046958601, -0.03291455191719855, -0.03291092247372646, -0.03290936821387482, -0.03290937661552588, -0.032910555316897405, -0.032912612828273485, -0.03291534119830769, -0.03291860063489885, -0.032922306080639036, -0.03292641574283423, -0.03293092157809735, -0.032935841731513656, -0.03294121493037869, -0.03294709683250862, -0.03295355832912314, -0.03296068580230059, -0.03296858333700578, -0.03297737688769006, -0.032987220399464, -0.03299830388384236, -0.03301086344906166, -0.03302519328497008, -0.033041659602489885, -0.03306071652765226, -0.0330829239502046, -0.03310896732679024, -0.033139679438700644, -0.03317606410420007, -0.03321932184542264, -0.03327087750984182, -0.03333240984631249, -0.03340588303568535, -0.03349358017599366, -0.03359813872221286, -0.03372258788059201, -0.03387038795755823, -0.0340454716631933, -0.034252287369282784, -0.03449584432193758, -0.03478175980878796, -0.03511630828075, -0.035506472428364536, -0.03595999621270846, -0.03648543985087861, -0.03709223675604792, -0.0377907524320942], [-0.032959956491968666, -0.03293970228699456, -0.032925224659448867, -0.03291529864414461, -0.03290891621483061, -0.032905259173706805, -0.03290367399551204, -0.032903648626184195, -0.03290479123609293, -0.032906810927844705, -0.03290950039866032, -0.032912720557325005, -0.032916387095710785, -0.03292045901487131, -0.03292492910570939, -0.03292981638421659, -0.03293516048128555, -0.03294101798709465, -0.032947460750065174, -0.03295457613039083, -0.03296246920813982, -0.032971266945929334, -0.03298112430617241, -0.03299223232289733, -0.03300482812813951, -0.033019206932905686, -0.03303573596271061, -0.03305487034768633, -0.03307717096726368, -0.03310332424942645, -0.03313416392453775, -0.03317069473373912, -0.03321411809192188, -0.03326585970527095, -0.03332759914338114, -0.033401301365946, -0.033489250204018904, -0.033594083795846795, -0.03371883197727617, -0.033866955626731705, -0.03404238796476724, -0.034249577808189165, -0.03449353477875237, -0.034779876466428515, -0.035114877547246875, -0.03550552085570752, -0.035959550411767044, -0.03648552640239663, -0.03709288211771267, -0.03779198284167981], [-0.03295241212440454, -0.03293213622550536, -0.03291763156098038, -0.03290767342873104, -0.03290125414685121, -0.03289755593921711, -0.032895925775649225, -0.032895852166646894, -0.032896943912695195, -0.032898910808144465, -0.03290154629966211, -0.032904712099256946, -0.03290832475187592, -0.03291234415757341, -0.032916764048252764, -0.03292160441898048, -0.032926905913872824, -0.032932726166554696, -0.03293913809519112, -0.03294623015209126, -0.032954108527884655, -0.03296290131027001, -0.032972764597336494, -0.03298389056545744, -0.03299651749175641, -0.033010941731145875, -0.03302753164793819, -0.03304674350202912, -0.033069139289653736, -0.03309540653871482, -0.03312638005868369, -0.033163065645073465, -0.03320666573848485, -0.03325860703822422, -0.03332057007049429, -0.03339452071115719, -0.033482743663069976, -0.03358787788799264, -0.03371295399306838, -0.03386143357187664, -0.03403725050005835, -0.03424485418551365, -0.03448925477317214, -0.034776070304335514, -0.03511157583059267, -0.0355027544823073, -0.03595735049167781, -0.03648392417036982, -0.03709190884172111, -0.03779166972751883], [-0.0329423881163817, -0.03292207678686895, -0.03290753043940854, -0.032897524731638324, -0.03289105242410338, -0.032887296261920024, -0.03288560381101208, -0.032885464248919895, -0.03288648711018145, -0.03288838298628625, -0.0328909461802014, -0.032894039315470296, -0.032897579899883775, -0.03290152884372347, -0.03290588093257797, -0.03291065725473116, -0.0329158995831231, -0.032921666711883395, -0.03292803274743688, -0.03293508735418197, -0.032942937954741215, -0.03295171388478446, -0.03296157250242443, -0.03297270725218473, -0.03298535768354028, -0.03299982142403027, -0.033016468106943475, -0.0330357552535761, -0.03305824611006201, -0.033084629438775444, -0.033115741264306144, -0.033152588574007005, -0.03319637497311407, -0.03324852829443904, -0.03331073016263422, -0.033384947513029936, -0.033473466065044276, -0.033578925750165585, -0.03370435809450693, -0.033853225555933494, -0.03402946281576213, -0.03423752002503342, -0.03448240800535629, -0.03476974540432483, -0.035105807805507885, -0.035497578793010846, -0.03595280297060998, -0.03648004093545918, -0.03708872620636924, -0.03778922410665945], [-0.03292929677701268, -0.03290893278556182, -0.03289432657663792, -0.032884254270237286, -0.03287770917343592, -0.03287387465812793, -0.03287209899333601, -0.0328718721320949, -0.0328728044529067, -0.03287460745576914, -0.032877076412776055, -0.032880074973290215, -0.03288352172368892, -0.03288737870168171, -0.0328916418652007, -0.032896333515863414, -0.03290149667700782, -0.03290719142630016, -0.032913493182914894, -0.03292049294928731, -0.03292829950743855, -0.03293704356987297, -0.03294688388504802, -0.03295801529741671, -0.03297067876204224, -0.032985173313785345, -0.033001869991063866, -0.03302122771418498, -0.03304381111824972, -0.033070310340629995, -0.033101562763018094, -0.03313857670804857, -0.033182557090492636, -0.03323493302302499, -0.03329738737656305, -0.033371888295178606, -0.03346072266558218, -0.0335665315411794, -0.03369234752070021, -0.03384163408140035, -0.034018326866835195, -0.034226876929206375, -0.034472295926280365, -0.03476020327288001, -0.035096875246948114, -0.03548929605018374, -0.035945210823250785, -0.03647318061555907, -0.037082639309617936, -0.03778395249996217], [-0.03291245405679799, -0.032892016259524336, -0.03287732806182894, -0.03286716615466231, -0.03286052450168506, -0.032856587213080435, -0.03285470337393948, -0.03285436382721836, -0.032855179911268434, -0.032856864151938586, -0.03285921290925001, -0.032862090978643586, -0.032865418146799504, -0.032869157702029514, -0.032873306899241506, -0.032877889379476596, -0.032882949544018644, -0.03288854888307625, -0.03289476425903707, -0.0329016881442948, -0.03290943081364846, -0.032918124491274035, -0.03292792945226891, -0.03293904207876828, -0.0329517048706344, -0.032966218410718146, -0.032982955284692896, -0.033002375955461134, -0.033025046592133234, -0.0330516588535788, -0.03308305162655057, -0.033120234718380506, -0.03316441450424864, -0.03321702152902405, -0.0332797400636786, -0.03335453961627285, -0.03344370839751461, -0.033549888740889815, -0.03367611447736601, -0.03382585026466797, -0.034003032871126264, -0.034212114414097675, -0.0344581075529586, -0.034746632636670535, -0.0350839668059182, -0.03547709504982005, -0.0359337632172112, -0.036462532982498894, -0.03707283876609034, -0.03777504660939294], [-0.03289106972021347, -0.03287053262304385, -0.03285573592457664, -0.032845457001286146, -0.0328386905894449, -0.03283462165501075, -0.03283260021808603, -0.03283211813194947, -0.03283278781666052, -0.03283432294723584, -0.032836521096398674, -0.03283924833190029, -0.032842425768414146, -0.03284601807400232, -0.03285002393115443, -0.032854468452399095, -0.03285939755048771, -0.032864874263150795, -0.032870977032426675, -0.0328777999385627, -0.03288545488848888, -0.03289407575886393, -0.03290382449369382, -0.03291489915652277, -0.032927543937196616, -0.03294206111319877, -0.03295882496555849, -0.03297829764933164, -0.0330010470186539, -0.03302776640636648, -0.03305929635821419, -0.03309664832161606, -0.03314103028900824, -0.03319387439575958, -0.03325686647265942, -0.033331977552978106, -0.03342149733409957, -0.0335280695937268, -0.03365472956065938, -0.033804943240143735, -0.03398264869379567, -0.034192299274095415, -0.03443890881345518, -0.034728098767858984, -0.035066147315075145, -0.03546004040744108, -0.03591752477922054, -0.036447162908533434, -0.03705838993385794, -0.03776157252510511], [-0.032864237048086435, -0.03284357034942666, -0.03282863379787846, -0.03281820557598329, -0.0328112813146269, -0.03280704695900069, -0.032804853589135374, -0.032804194195007005, -0.032804682406215695, -0.032806033176236496, -0.032808045421243014, -0.0328105866135032, -0.032813579329347815, -0.03281698975171119, -0.032820818127244494, -0.032825091178001475, -0.03282985646769663, -0.03283517872253575, -0.03284113810661904, -0.0328478304519166, -0.03285536944281634, -0.0328638907552445, -0.03287355815035834, -0.03288457152281156, -0.03289717690359199, -0.03291167841743182, -0.03292845219479016, -0.032947962238408256, -0.03297077824443693, -0.032997595378136596, -0.033029256004149694, -0.033066773371345566, -0.03311135725223787, -0.03316444153697414, -0.0332277137818983, -0.03330314671268509, -0.03339303168204736, -0.03350001408201558, -0.03362713071078979, -0.03377784909416422, -0.03395610876152401, -0.034166364476414794, -0.03441363142168436, -0.034703532339196916, -0.035042346624119876, -0.035437061373782955, -0.03589542439110977, -0.036425999142622, -0.03703822167101568, -0.03774245946231034], [-0.0328309220697606, -0.03281009018345879, -0.032794977110890876, -0.032784361967182596, -0.03277724140580798, -0.032772802480624974, -0.032770397462483274, -0.03276952061040492, -0.032769786897337165, -0.032770912690477785, -0.032772698386172874, -0.03277501299938715, -0.03277778070774654, -0.032780969350153365, -0.03278458087997401, -0.0327886437727988, -0.0327932073887746, -0.032798338289509704, -0.03280411850955115, -0.03281064578243475, -0.032818035721307086, -0.03282642595412045, -0.03283598221339989, -0.03284690638058291, -0.03285944648493147, -0.03287390865701659, -0.032890671036775135, -0.03291019963613948, -0.03293306615623916, -0.03295996775917524, -0.03299174879436715, -0.03302942447947173, -0.03307420653587506, -0.0331275307787564, -0.03319108666172486, -0.0332668487760283, -0.03335711030433485, -0.0334645184290868, -0.03359211169542681, -0.033743359328696945, -0.033922202506509604, -0.0341330975853915, -0.03438106128199963, -0.03467171780890984, -0.03501134796497795, -0.03540694018027313, -0.03586624351558393, -0.036397822616496586, -0.03701111462204584, -0.037716488027938234], [-0.032789952325050095, -0.032768913883655736, -0.03275358181147485, -0.0327427362887085, -0.032735375125367845, -0.03273068661938395, -0.03272802436929018, -0.032726884041476924, -0.032726882092018905, -0.03272773644307465, -0.032729249113858834, -0.03273129080618667, -0.032733787444591024, -0.03273670867101181, -0.03274005829405794, -0.03274386669284161, -0.03274818517538519, -0.03275308229160046, -0.0327586421008402, -0.032764964394022496, -0.03277216687032721, -0.03278038926846515, -0.03278979945251939, -0.032800601452359336, -0.03281304545862709, -0.032827439772296255, -0.03284416470880329, -0.03286368845675115, -0.0328865848911855, -0.03291355334144337, -0.03294544031357424, -0.03298326316733346, -0.03302823574774838, -0.03308179597125663, -0.03314563536641709, -0.03322173056919314, -0.03331237677280847, -0.033420223132175256, -0.03354831012289484, -0.033700108854830844, -0.033879562340254715, -0.03409112871656378, -0.034339826423571584, -0.03463128133537093, -0.03497177584676909, -0.03536829991429578, -0.0358286040517832, -0.036361254280518916, -0.036975689033970874, -0.037682278017085014], [-0.03274000515598205, -0.03271871249430092, -0.032703112618530254, -0.03269198691241122, -0.0326843344824147, -0.032679345011925466, -0.03267637356999888, -0.032674917374689944, -0.03267459451095482, -0.03267512460312484, -0.03267631144195299, -0.03267802756623266, -0.03268020079898915, -0.0326828027382433, -0.032685839202347744, -0.03268934262989572, -0.032693366434201995, -0.032697981312356586, -0.0327032735088507, -0.03270934503377522, -0.03271631583559163, -0.03272432792847543, -0.03273355147423179, -0.03274419281878402, -0.03275650448323408, -0.03277079710949592, -0.03278745336050095, -0.03280694377497614, -0.03282984457679448, -0.03285685743889803, -0.03288883120179326, -0.03292678554661883, -0.03297193662278596, -0.03302572463019122, -0.033089843356001535, -0.03316627166601208, -0.0332573069505761, -0.03336560052510767, -0.03349419498515653, -0.033646563516055585, -0.033826651157140744, -0.03403891802054329, -0.03428838446455461, -0.03458067822156346, -0.03492208348056557, -0.03531959192424586, -0.03578095572063293, -0.036314742469326124, -0.0369303921022949, -0.037638275739250895], [-0.032679595528328165, -0.032657994147273106, -0.03264207080411898, -0.032630608230585674, -0.03262260697550026, -0.032617258255055535, -0.03261391875764101, -0.032612087403246295, -0.03261138405743695, -0.03261153019990284, -0.03261233154757878, -0.03261366263233793, -0.032615453333257195, -0.03261767736345556, -0.032620342711504546, -0.0326234840374111, -0.03262715702317326, -0.032631434677907835, -0.03263640559755088, -0.03264217417913044, -0.03264886278961176, -0.03265661588931505, -0.03266560610990553, -0.032676042286956045, -0.0326881794470821, -0.03270233074964938, -0.032718881383053545, -0.03273830441557277, -0.032761178600792445, -0.032788208137602484, -0.03282024438476706, -0.03285830953006674, -0.03290362221401316, -0.03295762510813597, -0.03302201444784249, -0.03309877151984954, -0.03319019610418792, -0.03329894187077928, -0.033428053730585376, -0.03358100714132978, -0.03376174936779223, -0.033974742696675116, -0.034225009606042675, -0.03451817988933247, -0.03486053973393946, -0.035259082754372346, -0.03572156297998255, -0.03625654979726549, -0.036873484846734375, -0.03758274087436647], [-0.03260706338292538, -0.03258509139366278, -0.032568781505377176, -0.032556917948179546, -0.03254850286512343, -0.032542729158537786, -0.032538955290932245, -0.032536682040474885, -0.032535531211042336, -0.032535226296842495, -0.03253557510160954, -0.03253645431237147, -0.03253779602779013, -0.03253957624107352, -0.032541805277460804, -0.03254452018627948, -0.03254777908757526, -0.03255165747331428, -0.03255624646315764, -0.032561653014808664, -0.03256800208893235, -0.032575440768647435, -0.03258414433359084, -0.03259432428855458, -0.03260623834669503, -0.03262020236731485, -0.032636604248217176, -0.03265591977263229, -0.032678730410716755, -0.03270574307562511, -0.03273781183415377, -0.03277596157195759, -0.03282141361333883, -0.03287561329560844, -0.03294025949801998, -0.03301733612527583, -0.03310914554560601, -0.03321834398341928, -0.03334797886652677, -0.03350152812793807, -0.03368294146222975, -0.03389668353648633, -0.034147779155813705, -0.03444186038342497, -0.03478521561529877, -0.03518484060941008, -0.03564849146953331, -0.03618473958361813, -0.036803028516737404, -0.03751373285860785]]}],\n",
       "                        {\"template\": {\"data\": {\"bar\": [{\"error_x\": {\"color\": \"#2a3f5f\"}, \"error_y\": {\"color\": \"#2a3f5f\"}, \"marker\": {\"line\": {\"color\": \"#E5ECF6\", \"width\": 0.5}}, \"type\": \"bar\"}], \"barpolar\": [{\"marker\": {\"line\": {\"color\": \"#E5ECF6\", \"width\": 0.5}}, \"type\": \"barpolar\"}], \"carpet\": [{\"aaxis\": {\"endlinecolor\": \"#2a3f5f\", \"gridcolor\": \"white\", \"linecolor\": \"white\", \"minorgridcolor\": \"white\", \"startlinecolor\": \"#2a3f5f\"}, \"baxis\": {\"endlinecolor\": \"#2a3f5f\", \"gridcolor\": \"white\", \"linecolor\": \"white\", \"minorgridcolor\": \"white\", \"startlinecolor\": \"#2a3f5f\"}, \"type\": \"carpet\"}], \"choropleth\": [{\"colorbar\": {\"outlinewidth\": 0, \"ticks\": \"\"}, \"type\": \"choropleth\"}], \"contour\": [{\"colorbar\": {\"outlinewidth\": 0, \"ticks\": \"\"}, \"colorscale\": [[0.0, \"#0d0887\"], [0.1111111111111111, \"#46039f\"], [0.2222222222222222, \"#7201a8\"], [0.3333333333333333, \"#9c179e\"], [0.4444444444444444, \"#bd3786\"], [0.5555555555555556, \"#d8576b\"], [0.6666666666666666, \"#ed7953\"], [0.7777777777777778, \"#fb9f3a\"], [0.8888888888888888, \"#fdca26\"], [1.0, \"#f0f921\"]], \"type\": \"contour\"}], \"contourcarpet\": [{\"colorbar\": {\"outlinewidth\": 0, \"ticks\": \"\"}, \"type\": \"contourcarpet\"}], \"heatmap\": [{\"colorbar\": {\"outlinewidth\": 0, \"ticks\": \"\"}, \"colorscale\": [[0.0, \"#0d0887\"], [0.1111111111111111, \"#46039f\"], [0.2222222222222222, \"#7201a8\"], [0.3333333333333333, \"#9c179e\"], [0.4444444444444444, \"#bd3786\"], [0.5555555555555556, \"#d8576b\"], [0.6666666666666666, \"#ed7953\"], [0.7777777777777778, \"#fb9f3a\"], [0.8888888888888888, \"#fdca26\"], [1.0, \"#f0f921\"]], \"type\": \"heatmap\"}], \"heatmapgl\": [{\"colorbar\": {\"outlinewidth\": 0, \"ticks\": \"\"}, \"colorscale\": [[0.0, \"#0d0887\"], [0.1111111111111111, \"#46039f\"], [0.2222222222222222, \"#7201a8\"], [0.3333333333333333, \"#9c179e\"], [0.4444444444444444, \"#bd3786\"], [0.5555555555555556, \"#d8576b\"], [0.6666666666666666, \"#ed7953\"], [0.7777777777777778, \"#fb9f3a\"], [0.8888888888888888, \"#fdca26\"], [1.0, \"#f0f921\"]], \"type\": \"heatmapgl\"}], \"histogram\": [{\"marker\": {\"colorbar\": {\"outlinewidth\": 0, \"ticks\": \"\"}}, \"type\": \"histogram\"}], \"histogram2d\": [{\"colorbar\": {\"outlinewidth\": 0, \"ticks\": \"\"}, \"colorscale\": [[0.0, \"#0d0887\"], [0.1111111111111111, \"#46039f\"], [0.2222222222222222, \"#7201a8\"], [0.3333333333333333, \"#9c179e\"], [0.4444444444444444, \"#bd3786\"], [0.5555555555555556, \"#d8576b\"], [0.6666666666666666, \"#ed7953\"], [0.7777777777777778, \"#fb9f3a\"], [0.8888888888888888, \"#fdca26\"], [1.0, \"#f0f921\"]], \"type\": \"histogram2d\"}], \"histogram2dcontour\": [{\"colorbar\": {\"outlinewidth\": 0, \"ticks\": \"\"}, \"colorscale\": [[0.0, \"#0d0887\"], [0.1111111111111111, \"#46039f\"], [0.2222222222222222, \"#7201a8\"], [0.3333333333333333, \"#9c179e\"], [0.4444444444444444, \"#bd3786\"], [0.5555555555555556, \"#d8576b\"], [0.6666666666666666, \"#ed7953\"], [0.7777777777777778, \"#fb9f3a\"], [0.8888888888888888, \"#fdca26\"], [1.0, \"#f0f921\"]], \"type\": \"histogram2dcontour\"}], \"mesh3d\": [{\"colorbar\": {\"outlinewidth\": 0, \"ticks\": \"\"}, \"type\": \"mesh3d\"}], \"parcoords\": [{\"line\": {\"colorbar\": {\"outlinewidth\": 0, \"ticks\": \"\"}}, \"type\": \"parcoords\"}], \"pie\": [{\"automargin\": true, \"type\": \"pie\"}], \"scatter\": [{\"marker\": {\"colorbar\": {\"outlinewidth\": 0, \"ticks\": \"\"}}, \"type\": \"scatter\"}], \"scatter3d\": [{\"line\": {\"colorbar\": {\"outlinewidth\": 0, \"ticks\": \"\"}}, \"marker\": {\"colorbar\": {\"outlinewidth\": 0, \"ticks\": \"\"}}, \"type\": \"scatter3d\"}], \"scattercarpet\": [{\"marker\": {\"colorbar\": {\"outlinewidth\": 0, \"ticks\": \"\"}}, \"type\": \"scattercarpet\"}], \"scattergeo\": [{\"marker\": {\"colorbar\": {\"outlinewidth\": 0, \"ticks\": \"\"}}, \"type\": \"scattergeo\"}], \"scattergl\": [{\"marker\": {\"colorbar\": {\"outlinewidth\": 0, \"ticks\": \"\"}}, \"type\": \"scattergl\"}], \"scattermapbox\": [{\"marker\": {\"colorbar\": {\"outlinewidth\": 0, \"ticks\": \"\"}}, \"type\": \"scattermapbox\"}], \"scatterpolar\": [{\"marker\": {\"colorbar\": {\"outlinewidth\": 0, \"ticks\": \"\"}}, \"type\": \"scatterpolar\"}], \"scatterpolargl\": [{\"marker\": {\"colorbar\": {\"outlinewidth\": 0, \"ticks\": \"\"}}, \"type\": \"scatterpolargl\"}], \"scatterternary\": [{\"marker\": {\"colorbar\": {\"outlinewidth\": 0, \"ticks\": \"\"}}, \"type\": \"scatterternary\"}], \"surface\": [{\"colorbar\": {\"outlinewidth\": 0, \"ticks\": \"\"}, \"colorscale\": [[0.0, \"#0d0887\"], [0.1111111111111111, \"#46039f\"], [0.2222222222222222, \"#7201a8\"], [0.3333333333333333, \"#9c179e\"], [0.4444444444444444, \"#bd3786\"], [0.5555555555555556, \"#d8576b\"], [0.6666666666666666, \"#ed7953\"], [0.7777777777777778, \"#fb9f3a\"], [0.8888888888888888, \"#fdca26\"], [1.0, \"#f0f921\"]], \"type\": \"surface\"}], \"table\": [{\"cells\": {\"fill\": {\"color\": \"#EBF0F8\"}, \"line\": {\"color\": \"white\"}}, \"header\": {\"fill\": {\"color\": \"#C8D4E3\"}, \"line\": {\"color\": \"white\"}}, \"type\": \"table\"}]}, \"layout\": {\"annotationdefaults\": {\"arrowcolor\": \"#2a3f5f\", \"arrowhead\": 0, \"arrowwidth\": 1}, \"coloraxis\": {\"colorbar\": {\"outlinewidth\": 0, \"ticks\": \"\"}}, \"colorscale\": {\"diverging\": [[0, \"#8e0152\"], [0.1, \"#c51b7d\"], [0.2, \"#de77ae\"], [0.3, \"#f1b6da\"], [0.4, \"#fde0ef\"], [0.5, \"#f7f7f7\"], [0.6, \"#e6f5d0\"], [0.7, \"#b8e186\"], [0.8, \"#7fbc41\"], [0.9, \"#4d9221\"], [1, \"#276419\"]], \"sequential\": [[0.0, \"#0d0887\"], [0.1111111111111111, \"#46039f\"], [0.2222222222222222, \"#7201a8\"], [0.3333333333333333, \"#9c179e\"], [0.4444444444444444, \"#bd3786\"], [0.5555555555555556, \"#d8576b\"], [0.6666666666666666, \"#ed7953\"], [0.7777777777777778, \"#fb9f3a\"], [0.8888888888888888, \"#fdca26\"], [1.0, \"#f0f921\"]], \"sequentialminus\": [[0.0, \"#0d0887\"], [0.1111111111111111, \"#46039f\"], [0.2222222222222222, \"#7201a8\"], [0.3333333333333333, \"#9c179e\"], [0.4444444444444444, \"#bd3786\"], [0.5555555555555556, \"#d8576b\"], [0.6666666666666666, \"#ed7953\"], [0.7777777777777778, \"#fb9f3a\"], [0.8888888888888888, \"#fdca26\"], [1.0, \"#f0f921\"]]}, \"colorway\": [\"#636efa\", \"#EF553B\", \"#00cc96\", \"#ab63fa\", \"#FFA15A\", \"#19d3f3\", \"#FF6692\", \"#B6E880\", \"#FF97FF\", \"#FECB52\"], \"font\": {\"color\": \"#2a3f5f\"}, \"geo\": {\"bgcolor\": \"white\", \"lakecolor\": \"white\", \"landcolor\": \"#E5ECF6\", \"showlakes\": true, \"showland\": true, \"subunitcolor\": \"white\"}, \"hoverlabel\": {\"align\": \"left\"}, \"hovermode\": \"closest\", \"mapbox\": {\"style\": \"light\"}, \"paper_bgcolor\": \"white\", \"plot_bgcolor\": \"#E5ECF6\", \"polar\": {\"angularaxis\": {\"gridcolor\": \"white\", \"linecolor\": \"white\", \"ticks\": \"\"}, \"bgcolor\": \"#E5ECF6\", \"radialaxis\": {\"gridcolor\": \"white\", \"linecolor\": \"white\", \"ticks\": \"\"}}, \"scene\": {\"xaxis\": {\"backgroundcolor\": \"#E5ECF6\", \"gridcolor\": \"white\", \"gridwidth\": 2, \"linecolor\": \"white\", \"showbackground\": true, \"ticks\": \"\", \"zerolinecolor\": \"white\"}, \"yaxis\": {\"backgroundcolor\": \"#E5ECF6\", \"gridcolor\": \"white\", \"gridwidth\": 2, \"linecolor\": \"white\", \"showbackground\": true, \"ticks\": \"\", \"zerolinecolor\": \"white\"}, \"zaxis\": {\"backgroundcolor\": \"#E5ECF6\", \"gridcolor\": \"white\", \"gridwidth\": 2, \"linecolor\": \"white\", \"showbackground\": true, \"ticks\": \"\", \"zerolinecolor\": \"white\"}}, \"shapedefaults\": {\"line\": {\"color\": \"#2a3f5f\"}}, \"ternary\": {\"aaxis\": {\"gridcolor\": \"white\", \"linecolor\": \"white\", \"ticks\": \"\"}, \"baxis\": {\"gridcolor\": \"white\", \"linecolor\": \"white\", \"ticks\": \"\"}, \"bgcolor\": \"#E5ECF6\", \"caxis\": {\"gridcolor\": \"white\", \"linecolor\": \"white\", \"ticks\": \"\"}}, \"title\": {\"x\": 0.05}, \"xaxis\": {\"automargin\": true, \"gridcolor\": \"white\", \"linecolor\": \"white\", \"ticks\": \"\", \"title\": {\"standoff\": 15}, \"zerolinecolor\": \"white\", \"zerolinewidth\": 2}, \"yaxis\": {\"automargin\": true, \"gridcolor\": \"white\", \"linecolor\": \"white\", \"ticks\": \"\", \"title\": {\"standoff\": 15}, \"zerolinecolor\": \"white\", \"zerolinewidth\": 2}}}},\n",
       "                        {\"responsive\": true}\n",
       "                    ).then(function(){\n",
       "                            \n",
       "var gd = document.getElementById('cdc912c6-3d6c-46da-819e-0b343240a116');\n",
       "var x = new MutationObserver(function (mutations, observer) {{\n",
       "        var display = window.getComputedStyle(gd).display;\n",
       "        if (!display || display === 'none') {{\n",
       "            console.log([gd, 'removed!']);\n",
       "            Plotly.purge(gd);\n",
       "            observer.disconnect();\n",
       "        }}\n",
       "}});\n",
       "\n",
       "// Listen for the removal of the full notebook cells\n",
       "var notebookContainer = gd.closest('#notebook-container');\n",
       "if (notebookContainer) {{\n",
       "    x.observe(notebookContainer, {childList: true});\n",
       "}}\n",
       "\n",
       "// Listen for the clearing of the current output cell\n",
       "var outputEl = gd.closest('.output');\n",
       "if (outputEl) {{\n",
       "    x.observe(outputEl, {childList: true});\n",
       "}}\n",
       "\n",
       "                        })\n",
       "                };\n",
       "                });\n",
       "            </script>\n",
       "        </div>"
      ]
     },
     "metadata": {},
     "output_type": "display_data"
    },
    {
     "data": {
      "application/vnd.plotly.v1+json": {
       "config": {
        "plotlyServerURL": "https://plot.ly"
       },
       "data": [
        {
         "mode": "markers",
         "type": "scatter",
         "x": [
          0.18376,
          0.22408,
          0.29896,
          0.50634,
          0.61578,
          0.60426,
          0.76555,
          0.92684,
          0.82316,
          0.96141,
          0.93836,
          0.86348,
          0.89804,
          0.85196,
          0.82892,
          0.79435,
          0.59274,
          0.51786,
          0.46601,
          0.35081,
          0.28744,
          0.085829,
          0.14919,
          -0.13306,
          -0.40956,
          -0.39228,
          -0.74366,
          -0.69758,
          -0.75518,
          -0.69758,
          -0.4038,
          -0.38076,
          -0.50749,
          -0.54781,
          0.10311,
          0.057028,
          -0.10426,
          -0.081221,
          0.28744,
          0.39689,
          0.63882,
          0.82316,
          0.67339,
          1.0709,
          -0.046659,
          -0.23675,
          -0.15035,
          -0.49021,
          -0.46717,
          -0.28859,
          -0.61118,
          -0.66302,
          -0.59965,
          -0.72638,
          -0.83007,
          -0.72062,
          -0.59389,
          -0.48445,
          -0.0063364,
          0.63265
         ],
         "y": [
          0.93348,
          0.77997,
          0.61915,
          0.75804,
          0.7288,
          0.59722,
          0.50219,
          0.3633,
          0.27558,
          0.085526,
          0.012427,
          -0.082602,
          -0.20687,
          -0.36769,
          -0.5212,
          -0.55775,
          -0.7405,
          -0.5943,
          -0.41886,
          -0.57968,
          -0.76974,
          -0.75512,
          -0.57968,
          -0.4481,
          -0.41155,
          -0.25804,
          -0.25804,
          0.041667,
          0.2902,
          0.68494,
          0.70687,
          0.91886,
          0.90424,
          0.70687,
          0.77997,
          0.91886,
          0.99196,
          1.1089,
          1.087,
          0.82383,
          0.88962,
          0.66301,
          0.64108,
          0.10015,
          -0.57968,
          -0.63816,
          -0.36769,
          -0.3019,
          -0.13377,
          -0.060673,
          -0.067982,
          -0.21418,
          -0.41886,
          -0.082602,
          0.31213,
          0.53874,
          0.49488,
          0.99927,
          0.99927,
          -0.030612
         ]
        },
        {
         "mode": "markers",
         "type": "scatter",
         "x": [
          0.051267,
          -0.092742,
          -0.21371,
          -0.375,
          -0.51325,
          -0.52477,
          -0.39804,
          -0.30588,
          0.016705,
          0.13191,
          0.38537,
          0.52938,
          0.63882,
          0.73675,
          0.54666,
          0.322,
          0.16647,
          -0.046659,
          -0.17339,
          -0.47869,
          -0.60541,
          -0.62846,
          -0.59389,
          -0.42108,
          -0.11578,
          0.20104,
          0.46601,
          0.67339,
          -0.13882,
          -0.29435,
          -0.26555,
          -0.16187,
          -0.17339,
          -0.28283,
          -0.36348,
          -0.30012,
          -0.23675,
          -0.06394,
          0.062788,
          0.22984,
          0.2932,
          0.48329,
          0.64459,
          0.46025,
          0.6273,
          0.57546,
          0.72523,
          0.22408,
          0.44297,
          0.322,
          0.13767,
          -0.0063364,
          -0.092742,
          -0.20795,
          -0.20795,
          -0.43836,
          -0.21947,
          -0.13882
         ],
         "y": [
          0.69956,
          0.68494,
          0.69225,
          0.50219,
          0.46564,
          0.2098,
          0.034357,
          -0.19225,
          -0.40424,
          -0.51389,
          -0.56506,
          -0.5212,
          -0.24342,
          -0.18494,
          0.48757,
          0.5826,
          0.53874,
          0.81652,
          0.69956,
          0.63377,
          0.59722,
          0.33406,
          0.005117,
          -0.27266,
          -0.39693,
          -0.60161,
          -0.53582,
          -0.53582,
          0.54605,
          0.77997,
          0.96272,
          0.8019,
          0.64839,
          0.47295,
          0.31213,
          0.027047,
          -0.21418,
          -0.18494,
          -0.16301,
          -0.41155,
          -0.2288,
          -0.18494,
          -0.14108,
          0.012427,
          0.15863,
          0.26827,
          0.44371,
          0.52412,
          0.67032,
          0.69225,
          0.57529,
          0.39985,
          0.55336,
          0.35599,
          0.17325,
          0.21711,
          -0.016813,
          -0.27266
         ]
        }
       ],
       "layout": {
        "template": {
         "data": {
          "bar": [
           {
            "error_x": {
             "color": "#2a3f5f"
            },
            "error_y": {
             "color": "#2a3f5f"
            },
            "marker": {
             "line": {
              "color": "#E5ECF6",
              "width": 0.5
             }
            },
            "type": "bar"
           }
          ],
          "barpolar": [
           {
            "marker": {
             "line": {
              "color": "#E5ECF6",
              "width": 0.5
             }
            },
            "type": "barpolar"
           }
          ],
          "carpet": [
           {
            "aaxis": {
             "endlinecolor": "#2a3f5f",
             "gridcolor": "white",
             "linecolor": "white",
             "minorgridcolor": "white",
             "startlinecolor": "#2a3f5f"
            },
            "baxis": {
             "endlinecolor": "#2a3f5f",
             "gridcolor": "white",
             "linecolor": "white",
             "minorgridcolor": "white",
             "startlinecolor": "#2a3f5f"
            },
            "type": "carpet"
           }
          ],
          "choropleth": [
           {
            "colorbar": {
             "outlinewidth": 0,
             "ticks": ""
            },
            "type": "choropleth"
           }
          ],
          "contour": [
           {
            "colorbar": {
             "outlinewidth": 0,
             "ticks": ""
            },
            "colorscale": [
             [
              0,
              "#0d0887"
             ],
             [
              0.1111111111111111,
              "#46039f"
             ],
             [
              0.2222222222222222,
              "#7201a8"
             ],
             [
              0.3333333333333333,
              "#9c179e"
             ],
             [
              0.4444444444444444,
              "#bd3786"
             ],
             [
              0.5555555555555556,
              "#d8576b"
             ],
             [
              0.6666666666666666,
              "#ed7953"
             ],
             [
              0.7777777777777778,
              "#fb9f3a"
             ],
             [
              0.8888888888888888,
              "#fdca26"
             ],
             [
              1,
              "#f0f921"
             ]
            ],
            "type": "contour"
           }
          ],
          "contourcarpet": [
           {
            "colorbar": {
             "outlinewidth": 0,
             "ticks": ""
            },
            "type": "contourcarpet"
           }
          ],
          "heatmap": [
           {
            "colorbar": {
             "outlinewidth": 0,
             "ticks": ""
            },
            "colorscale": [
             [
              0,
              "#0d0887"
             ],
             [
              0.1111111111111111,
              "#46039f"
             ],
             [
              0.2222222222222222,
              "#7201a8"
             ],
             [
              0.3333333333333333,
              "#9c179e"
             ],
             [
              0.4444444444444444,
              "#bd3786"
             ],
             [
              0.5555555555555556,
              "#d8576b"
             ],
             [
              0.6666666666666666,
              "#ed7953"
             ],
             [
              0.7777777777777778,
              "#fb9f3a"
             ],
             [
              0.8888888888888888,
              "#fdca26"
             ],
             [
              1,
              "#f0f921"
             ]
            ],
            "type": "heatmap"
           }
          ],
          "heatmapgl": [
           {
            "colorbar": {
             "outlinewidth": 0,
             "ticks": ""
            },
            "colorscale": [
             [
              0,
              "#0d0887"
             ],
             [
              0.1111111111111111,
              "#46039f"
             ],
             [
              0.2222222222222222,
              "#7201a8"
             ],
             [
              0.3333333333333333,
              "#9c179e"
             ],
             [
              0.4444444444444444,
              "#bd3786"
             ],
             [
              0.5555555555555556,
              "#d8576b"
             ],
             [
              0.6666666666666666,
              "#ed7953"
             ],
             [
              0.7777777777777778,
              "#fb9f3a"
             ],
             [
              0.8888888888888888,
              "#fdca26"
             ],
             [
              1,
              "#f0f921"
             ]
            ],
            "type": "heatmapgl"
           }
          ],
          "histogram": [
           {
            "marker": {
             "colorbar": {
              "outlinewidth": 0,
              "ticks": ""
             }
            },
            "type": "histogram"
           }
          ],
          "histogram2d": [
           {
            "colorbar": {
             "outlinewidth": 0,
             "ticks": ""
            },
            "colorscale": [
             [
              0,
              "#0d0887"
             ],
             [
              0.1111111111111111,
              "#46039f"
             ],
             [
              0.2222222222222222,
              "#7201a8"
             ],
             [
              0.3333333333333333,
              "#9c179e"
             ],
             [
              0.4444444444444444,
              "#bd3786"
             ],
             [
              0.5555555555555556,
              "#d8576b"
             ],
             [
              0.6666666666666666,
              "#ed7953"
             ],
             [
              0.7777777777777778,
              "#fb9f3a"
             ],
             [
              0.8888888888888888,
              "#fdca26"
             ],
             [
              1,
              "#f0f921"
             ]
            ],
            "type": "histogram2d"
           }
          ],
          "histogram2dcontour": [
           {
            "colorbar": {
             "outlinewidth": 0,
             "ticks": ""
            },
            "colorscale": [
             [
              0,
              "#0d0887"
             ],
             [
              0.1111111111111111,
              "#46039f"
             ],
             [
              0.2222222222222222,
              "#7201a8"
             ],
             [
              0.3333333333333333,
              "#9c179e"
             ],
             [
              0.4444444444444444,
              "#bd3786"
             ],
             [
              0.5555555555555556,
              "#d8576b"
             ],
             [
              0.6666666666666666,
              "#ed7953"
             ],
             [
              0.7777777777777778,
              "#fb9f3a"
             ],
             [
              0.8888888888888888,
              "#fdca26"
             ],
             [
              1,
              "#f0f921"
             ]
            ],
            "type": "histogram2dcontour"
           }
          ],
          "mesh3d": [
           {
            "colorbar": {
             "outlinewidth": 0,
             "ticks": ""
            },
            "type": "mesh3d"
           }
          ],
          "parcoords": [
           {
            "line": {
             "colorbar": {
              "outlinewidth": 0,
              "ticks": ""
             }
            },
            "type": "parcoords"
           }
          ],
          "pie": [
           {
            "automargin": true,
            "type": "pie"
           }
          ],
          "scatter": [
           {
            "marker": {
             "colorbar": {
              "outlinewidth": 0,
              "ticks": ""
             }
            },
            "type": "scatter"
           }
          ],
          "scatter3d": [
           {
            "line": {
             "colorbar": {
              "outlinewidth": 0,
              "ticks": ""
             }
            },
            "marker": {
             "colorbar": {
              "outlinewidth": 0,
              "ticks": ""
             }
            },
            "type": "scatter3d"
           }
          ],
          "scattercarpet": [
           {
            "marker": {
             "colorbar": {
              "outlinewidth": 0,
              "ticks": ""
             }
            },
            "type": "scattercarpet"
           }
          ],
          "scattergeo": [
           {
            "marker": {
             "colorbar": {
              "outlinewidth": 0,
              "ticks": ""
             }
            },
            "type": "scattergeo"
           }
          ],
          "scattergl": [
           {
            "marker": {
             "colorbar": {
              "outlinewidth": 0,
              "ticks": ""
             }
            },
            "type": "scattergl"
           }
          ],
          "scattermapbox": [
           {
            "marker": {
             "colorbar": {
              "outlinewidth": 0,
              "ticks": ""
             }
            },
            "type": "scattermapbox"
           }
          ],
          "scatterpolar": [
           {
            "marker": {
             "colorbar": {
              "outlinewidth": 0,
              "ticks": ""
             }
            },
            "type": "scatterpolar"
           }
          ],
          "scatterpolargl": [
           {
            "marker": {
             "colorbar": {
              "outlinewidth": 0,
              "ticks": ""
             }
            },
            "type": "scatterpolargl"
           }
          ],
          "scatterternary": [
           {
            "marker": {
             "colorbar": {
              "outlinewidth": 0,
              "ticks": ""
             }
            },
            "type": "scatterternary"
           }
          ],
          "surface": [
           {
            "colorbar": {
             "outlinewidth": 0,
             "ticks": ""
            },
            "colorscale": [
             [
              0,
              "#0d0887"
             ],
             [
              0.1111111111111111,
              "#46039f"
             ],
             [
              0.2222222222222222,
              "#7201a8"
             ],
             [
              0.3333333333333333,
              "#9c179e"
             ],
             [
              0.4444444444444444,
              "#bd3786"
             ],
             [
              0.5555555555555556,
              "#d8576b"
             ],
             [
              0.6666666666666666,
              "#ed7953"
             ],
             [
              0.7777777777777778,
              "#fb9f3a"
             ],
             [
              0.8888888888888888,
              "#fdca26"
             ],
             [
              1,
              "#f0f921"
             ]
            ],
            "type": "surface"
           }
          ],
          "table": [
           {
            "cells": {
             "fill": {
              "color": "#EBF0F8"
             },
             "line": {
              "color": "white"
             }
            },
            "header": {
             "fill": {
              "color": "#C8D4E3"
             },
             "line": {
              "color": "white"
             }
            },
            "type": "table"
           }
          ]
         },
         "layout": {
          "annotationdefaults": {
           "arrowcolor": "#2a3f5f",
           "arrowhead": 0,
           "arrowwidth": 1
          },
          "coloraxis": {
           "colorbar": {
            "outlinewidth": 0,
            "ticks": ""
           }
          },
          "colorscale": {
           "diverging": [
            [
             0,
             "#8e0152"
            ],
            [
             0.1,
             "#c51b7d"
            ],
            [
             0.2,
             "#de77ae"
            ],
            [
             0.3,
             "#f1b6da"
            ],
            [
             0.4,
             "#fde0ef"
            ],
            [
             0.5,
             "#f7f7f7"
            ],
            [
             0.6,
             "#e6f5d0"
            ],
            [
             0.7,
             "#b8e186"
            ],
            [
             0.8,
             "#7fbc41"
            ],
            [
             0.9,
             "#4d9221"
            ],
            [
             1,
             "#276419"
            ]
           ],
           "sequential": [
            [
             0,
             "#0d0887"
            ],
            [
             0.1111111111111111,
             "#46039f"
            ],
            [
             0.2222222222222222,
             "#7201a8"
            ],
            [
             0.3333333333333333,
             "#9c179e"
            ],
            [
             0.4444444444444444,
             "#bd3786"
            ],
            [
             0.5555555555555556,
             "#d8576b"
            ],
            [
             0.6666666666666666,
             "#ed7953"
            ],
            [
             0.7777777777777778,
             "#fb9f3a"
            ],
            [
             0.8888888888888888,
             "#fdca26"
            ],
            [
             1,
             "#f0f921"
            ]
           ],
           "sequentialminus": [
            [
             0,
             "#0d0887"
            ],
            [
             0.1111111111111111,
             "#46039f"
            ],
            [
             0.2222222222222222,
             "#7201a8"
            ],
            [
             0.3333333333333333,
             "#9c179e"
            ],
            [
             0.4444444444444444,
             "#bd3786"
            ],
            [
             0.5555555555555556,
             "#d8576b"
            ],
            [
             0.6666666666666666,
             "#ed7953"
            ],
            [
             0.7777777777777778,
             "#fb9f3a"
            ],
            [
             0.8888888888888888,
             "#fdca26"
            ],
            [
             1,
             "#f0f921"
            ]
           ]
          },
          "colorway": [
           "#636efa",
           "#EF553B",
           "#00cc96",
           "#ab63fa",
           "#FFA15A",
           "#19d3f3",
           "#FF6692",
           "#B6E880",
           "#FF97FF",
           "#FECB52"
          ],
          "font": {
           "color": "#2a3f5f"
          },
          "geo": {
           "bgcolor": "white",
           "lakecolor": "white",
           "landcolor": "#E5ECF6",
           "showlakes": true,
           "showland": true,
           "subunitcolor": "white"
          },
          "hoverlabel": {
           "align": "left"
          },
          "hovermode": "closest",
          "mapbox": {
           "style": "light"
          },
          "paper_bgcolor": "white",
          "plot_bgcolor": "#E5ECF6",
          "polar": {
           "angularaxis": {
            "gridcolor": "white",
            "linecolor": "white",
            "ticks": ""
           },
           "bgcolor": "#E5ECF6",
           "radialaxis": {
            "gridcolor": "white",
            "linecolor": "white",
            "ticks": ""
           }
          },
          "scene": {
           "xaxis": {
            "backgroundcolor": "#E5ECF6",
            "gridcolor": "white",
            "gridwidth": 2,
            "linecolor": "white",
            "showbackground": true,
            "ticks": "",
            "zerolinecolor": "white"
           },
           "yaxis": {
            "backgroundcolor": "#E5ECF6",
            "gridcolor": "white",
            "gridwidth": 2,
            "linecolor": "white",
            "showbackground": true,
            "ticks": "",
            "zerolinecolor": "white"
           },
           "zaxis": {
            "backgroundcolor": "#E5ECF6",
            "gridcolor": "white",
            "gridwidth": 2,
            "linecolor": "white",
            "showbackground": true,
            "ticks": "",
            "zerolinecolor": "white"
           }
          },
          "shapedefaults": {
           "line": {
            "color": "#2a3f5f"
           }
          },
          "ternary": {
           "aaxis": {
            "gridcolor": "white",
            "linecolor": "white",
            "ticks": ""
           },
           "baxis": {
            "gridcolor": "white",
            "linecolor": "white",
            "ticks": ""
           },
           "bgcolor": "#E5ECF6",
           "caxis": {
            "gridcolor": "white",
            "linecolor": "white",
            "ticks": ""
           }
          },
          "title": {
           "x": 0.05
          },
          "xaxis": {
           "automargin": true,
           "gridcolor": "white",
           "linecolor": "white",
           "ticks": "",
           "title": {
            "standoff": 15
           },
           "zerolinecolor": "white",
           "zerolinewidth": 2
          },
          "yaxis": {
           "automargin": true,
           "gridcolor": "white",
           "linecolor": "white",
           "ticks": "",
           "title": {
            "standoff": 15
           },
           "zerolinecolor": "white",
           "zerolinewidth": 2
          }
         }
        }
       }
      },
      "text/html": [
       "<div>\n",
       "        \n",
       "        \n",
       "            <div id=\"94fb1c0e-31cd-4131-a5c3-77cf9b3cfee9\" class=\"plotly-graph-div\" style=\"height:525px; width:100%;\"></div>\n",
       "            <script type=\"text/javascript\">\n",
       "                require([\"plotly\"], function(Plotly) {\n",
       "                    window.PLOTLYENV=window.PLOTLYENV || {};\n",
       "                    \n",
       "                if (document.getElementById(\"94fb1c0e-31cd-4131-a5c3-77cf9b3cfee9\")) {\n",
       "                    Plotly.newPlot(\n",
       "                        '94fb1c0e-31cd-4131-a5c3-77cf9b3cfee9',\n",
       "                        [{\"mode\": \"markers\", \"type\": \"scatter\", \"x\": [0.18376, 0.22408, 0.29896, 0.50634, 0.61578, 0.60426, 0.76555, 0.92684, 0.82316, 0.96141, 0.93836, 0.86348, 0.89804, 0.85196, 0.82892, 0.79435, 0.59274, 0.51786, 0.46601, 0.35081, 0.28744, 0.085829, 0.14919, -0.13306, -0.40956, -0.39228, -0.74366, -0.69758, -0.75518, -0.69758, -0.4038, -0.38076, -0.50749, -0.54781, 0.10311, 0.057028, -0.10426, -0.081221, 0.28744, 0.39689, 0.63882, 0.82316, 0.67339, 1.0709, -0.046659, -0.23675, -0.15035, -0.49021, -0.46717, -0.28859, -0.61118, -0.66302, -0.59965, -0.72638, -0.83007, -0.72062, -0.59389, -0.48445, -0.0063364, 0.63265], \"y\": [0.93348, 0.77997, 0.61915, 0.75804, 0.7288, 0.59722, 0.50219, 0.3633, 0.27558, 0.085526, 0.012427, -0.082602, -0.20687, -0.36769, -0.5212, -0.55775, -0.7405, -0.5943, -0.41886, -0.57968, -0.76974, -0.75512, -0.57968, -0.4481, -0.41155, -0.25804, -0.25804, 0.041667, 0.2902, 0.68494, 0.70687, 0.91886, 0.90424, 0.70687, 0.77997, 0.91886, 0.99196, 1.1089, 1.087, 0.82383, 0.88962, 0.66301, 0.64108, 0.10015, -0.57968, -0.63816, -0.36769, -0.3019, -0.13377, -0.060673, -0.067982, -0.21418, -0.41886, -0.082602, 0.31213, 0.53874, 0.49488, 0.99927, 0.99927, -0.030612]}, {\"mode\": \"markers\", \"type\": \"scatter\", \"x\": [0.051267, -0.092742, -0.21371, -0.375, -0.51325, -0.52477, -0.39804, -0.30588, 0.016705, 0.13191, 0.38537, 0.52938, 0.63882, 0.73675, 0.54666, 0.322, 0.16647, -0.046659, -0.17339, -0.47869, -0.60541, -0.62846, -0.59389, -0.42108, -0.11578, 0.20104, 0.46601, 0.67339, -0.13882, -0.29435, -0.26555, -0.16187, -0.17339, -0.28283, -0.36348, -0.30012, -0.23675, -0.06394, 0.062788, 0.22984, 0.2932, 0.48329, 0.64459, 0.46025, 0.6273, 0.57546, 0.72523, 0.22408, 0.44297, 0.322, 0.13767, -0.0063364, -0.092742, -0.20795, -0.20795, -0.43836, -0.21947, -0.13882], \"y\": [0.69956, 0.68494, 0.69225, 0.50219, 0.46564, 0.2098, 0.034357, -0.19225, -0.40424, -0.51389, -0.56506, -0.5212, -0.24342, -0.18494, 0.48757, 0.5826, 0.53874, 0.81652, 0.69956, 0.63377, 0.59722, 0.33406, 0.005117, -0.27266, -0.39693, -0.60161, -0.53582, -0.53582, 0.54605, 0.77997, 0.96272, 0.8019, 0.64839, 0.47295, 0.31213, 0.027047, -0.21418, -0.18494, -0.16301, -0.41155, -0.2288, -0.18494, -0.14108, 0.012427, 0.15863, 0.26827, 0.44371, 0.52412, 0.67032, 0.69225, 0.57529, 0.39985, 0.55336, 0.35599, 0.17325, 0.21711, -0.016813, -0.27266]}],\n",
       "                        {\"template\": {\"data\": {\"bar\": [{\"error_x\": {\"color\": \"#2a3f5f\"}, \"error_y\": {\"color\": \"#2a3f5f\"}, \"marker\": {\"line\": {\"color\": \"#E5ECF6\", \"width\": 0.5}}, \"type\": \"bar\"}], \"barpolar\": [{\"marker\": {\"line\": {\"color\": \"#E5ECF6\", \"width\": 0.5}}, \"type\": \"barpolar\"}], \"carpet\": [{\"aaxis\": {\"endlinecolor\": \"#2a3f5f\", \"gridcolor\": \"white\", \"linecolor\": \"white\", \"minorgridcolor\": \"white\", \"startlinecolor\": \"#2a3f5f\"}, \"baxis\": {\"endlinecolor\": \"#2a3f5f\", \"gridcolor\": \"white\", \"linecolor\": \"white\", \"minorgridcolor\": \"white\", \"startlinecolor\": \"#2a3f5f\"}, \"type\": \"carpet\"}], \"choropleth\": [{\"colorbar\": {\"outlinewidth\": 0, \"ticks\": \"\"}, \"type\": \"choropleth\"}], \"contour\": [{\"colorbar\": {\"outlinewidth\": 0, \"ticks\": \"\"}, \"colorscale\": [[0.0, \"#0d0887\"], [0.1111111111111111, \"#46039f\"], [0.2222222222222222, \"#7201a8\"], [0.3333333333333333, \"#9c179e\"], [0.4444444444444444, \"#bd3786\"], [0.5555555555555556, \"#d8576b\"], [0.6666666666666666, \"#ed7953\"], [0.7777777777777778, \"#fb9f3a\"], [0.8888888888888888, \"#fdca26\"], [1.0, \"#f0f921\"]], \"type\": \"contour\"}], \"contourcarpet\": [{\"colorbar\": {\"outlinewidth\": 0, \"ticks\": \"\"}, \"type\": \"contourcarpet\"}], \"heatmap\": [{\"colorbar\": {\"outlinewidth\": 0, \"ticks\": \"\"}, \"colorscale\": [[0.0, \"#0d0887\"], [0.1111111111111111, \"#46039f\"], [0.2222222222222222, \"#7201a8\"], [0.3333333333333333, \"#9c179e\"], [0.4444444444444444, \"#bd3786\"], [0.5555555555555556, \"#d8576b\"], [0.6666666666666666, \"#ed7953\"], [0.7777777777777778, \"#fb9f3a\"], [0.8888888888888888, \"#fdca26\"], [1.0, \"#f0f921\"]], \"type\": \"heatmap\"}], \"heatmapgl\": [{\"colorbar\": {\"outlinewidth\": 0, \"ticks\": \"\"}, \"colorscale\": [[0.0, \"#0d0887\"], [0.1111111111111111, \"#46039f\"], [0.2222222222222222, \"#7201a8\"], [0.3333333333333333, \"#9c179e\"], [0.4444444444444444, \"#bd3786\"], [0.5555555555555556, \"#d8576b\"], [0.6666666666666666, \"#ed7953\"], [0.7777777777777778, \"#fb9f3a\"], [0.8888888888888888, \"#fdca26\"], [1.0, \"#f0f921\"]], \"type\": \"heatmapgl\"}], \"histogram\": [{\"marker\": {\"colorbar\": {\"outlinewidth\": 0, \"ticks\": \"\"}}, \"type\": \"histogram\"}], \"histogram2d\": [{\"colorbar\": {\"outlinewidth\": 0, \"ticks\": \"\"}, \"colorscale\": [[0.0, \"#0d0887\"], [0.1111111111111111, \"#46039f\"], [0.2222222222222222, \"#7201a8\"], [0.3333333333333333, \"#9c179e\"], [0.4444444444444444, \"#bd3786\"], [0.5555555555555556, \"#d8576b\"], [0.6666666666666666, \"#ed7953\"], [0.7777777777777778, \"#fb9f3a\"], [0.8888888888888888, \"#fdca26\"], [1.0, \"#f0f921\"]], \"type\": \"histogram2d\"}], \"histogram2dcontour\": [{\"colorbar\": {\"outlinewidth\": 0, \"ticks\": \"\"}, \"colorscale\": [[0.0, \"#0d0887\"], [0.1111111111111111, \"#46039f\"], [0.2222222222222222, \"#7201a8\"], [0.3333333333333333, \"#9c179e\"], [0.4444444444444444, \"#bd3786\"], [0.5555555555555556, \"#d8576b\"], [0.6666666666666666, \"#ed7953\"], [0.7777777777777778, \"#fb9f3a\"], [0.8888888888888888, \"#fdca26\"], [1.0, \"#f0f921\"]], \"type\": \"histogram2dcontour\"}], \"mesh3d\": [{\"colorbar\": {\"outlinewidth\": 0, \"ticks\": \"\"}, \"type\": \"mesh3d\"}], \"parcoords\": [{\"line\": {\"colorbar\": {\"outlinewidth\": 0, \"ticks\": \"\"}}, \"type\": \"parcoords\"}], \"pie\": [{\"automargin\": true, \"type\": \"pie\"}], \"scatter\": [{\"marker\": {\"colorbar\": {\"outlinewidth\": 0, \"ticks\": \"\"}}, \"type\": \"scatter\"}], \"scatter3d\": [{\"line\": {\"colorbar\": {\"outlinewidth\": 0, \"ticks\": \"\"}}, \"marker\": {\"colorbar\": {\"outlinewidth\": 0, \"ticks\": \"\"}}, \"type\": \"scatter3d\"}], \"scattercarpet\": [{\"marker\": {\"colorbar\": {\"outlinewidth\": 0, \"ticks\": \"\"}}, \"type\": \"scattercarpet\"}], \"scattergeo\": [{\"marker\": {\"colorbar\": {\"outlinewidth\": 0, \"ticks\": \"\"}}, \"type\": \"scattergeo\"}], \"scattergl\": [{\"marker\": {\"colorbar\": {\"outlinewidth\": 0, \"ticks\": \"\"}}, \"type\": \"scattergl\"}], \"scattermapbox\": [{\"marker\": {\"colorbar\": {\"outlinewidth\": 0, \"ticks\": \"\"}}, \"type\": \"scattermapbox\"}], \"scatterpolar\": [{\"marker\": {\"colorbar\": {\"outlinewidth\": 0, \"ticks\": \"\"}}, \"type\": \"scatterpolar\"}], \"scatterpolargl\": [{\"marker\": {\"colorbar\": {\"outlinewidth\": 0, \"ticks\": \"\"}}, \"type\": \"scatterpolargl\"}], \"scatterternary\": [{\"marker\": {\"colorbar\": {\"outlinewidth\": 0, \"ticks\": \"\"}}, \"type\": \"scatterternary\"}], \"surface\": [{\"colorbar\": {\"outlinewidth\": 0, \"ticks\": \"\"}, \"colorscale\": [[0.0, \"#0d0887\"], [0.1111111111111111, \"#46039f\"], [0.2222222222222222, \"#7201a8\"], [0.3333333333333333, \"#9c179e\"], [0.4444444444444444, \"#bd3786\"], [0.5555555555555556, \"#d8576b\"], [0.6666666666666666, \"#ed7953\"], [0.7777777777777778, \"#fb9f3a\"], [0.8888888888888888, \"#fdca26\"], [1.0, \"#f0f921\"]], \"type\": \"surface\"}], \"table\": [{\"cells\": {\"fill\": {\"color\": \"#EBF0F8\"}, \"line\": {\"color\": \"white\"}}, \"header\": {\"fill\": {\"color\": \"#C8D4E3\"}, \"line\": {\"color\": \"white\"}}, \"type\": \"table\"}]}, \"layout\": {\"annotationdefaults\": {\"arrowcolor\": \"#2a3f5f\", \"arrowhead\": 0, \"arrowwidth\": 1}, \"coloraxis\": {\"colorbar\": {\"outlinewidth\": 0, \"ticks\": \"\"}}, \"colorscale\": {\"diverging\": [[0, \"#8e0152\"], [0.1, \"#c51b7d\"], [0.2, \"#de77ae\"], [0.3, \"#f1b6da\"], [0.4, \"#fde0ef\"], [0.5, \"#f7f7f7\"], [0.6, \"#e6f5d0\"], [0.7, \"#b8e186\"], [0.8, \"#7fbc41\"], [0.9, \"#4d9221\"], [1, \"#276419\"]], \"sequential\": [[0.0, \"#0d0887\"], [0.1111111111111111, \"#46039f\"], [0.2222222222222222, \"#7201a8\"], [0.3333333333333333, \"#9c179e\"], [0.4444444444444444, \"#bd3786\"], [0.5555555555555556, \"#d8576b\"], [0.6666666666666666, \"#ed7953\"], [0.7777777777777778, \"#fb9f3a\"], [0.8888888888888888, \"#fdca26\"], [1.0, \"#f0f921\"]], \"sequentialminus\": [[0.0, \"#0d0887\"], [0.1111111111111111, \"#46039f\"], [0.2222222222222222, \"#7201a8\"], [0.3333333333333333, \"#9c179e\"], [0.4444444444444444, \"#bd3786\"], [0.5555555555555556, \"#d8576b\"], [0.6666666666666666, \"#ed7953\"], [0.7777777777777778, \"#fb9f3a\"], [0.8888888888888888, \"#fdca26\"], [1.0, \"#f0f921\"]]}, \"colorway\": [\"#636efa\", \"#EF553B\", \"#00cc96\", \"#ab63fa\", \"#FFA15A\", \"#19d3f3\", \"#FF6692\", \"#B6E880\", \"#FF97FF\", \"#FECB52\"], \"font\": {\"color\": \"#2a3f5f\"}, \"geo\": {\"bgcolor\": \"white\", \"lakecolor\": \"white\", \"landcolor\": \"#E5ECF6\", \"showlakes\": true, \"showland\": true, \"subunitcolor\": \"white\"}, \"hoverlabel\": {\"align\": \"left\"}, \"hovermode\": \"closest\", \"mapbox\": {\"style\": \"light\"}, \"paper_bgcolor\": \"white\", \"plot_bgcolor\": \"#E5ECF6\", \"polar\": {\"angularaxis\": {\"gridcolor\": \"white\", \"linecolor\": \"white\", \"ticks\": \"\"}, \"bgcolor\": \"#E5ECF6\", \"radialaxis\": {\"gridcolor\": \"white\", \"linecolor\": \"white\", \"ticks\": \"\"}}, \"scene\": {\"xaxis\": {\"backgroundcolor\": \"#E5ECF6\", \"gridcolor\": \"white\", \"gridwidth\": 2, \"linecolor\": \"white\", \"showbackground\": true, \"ticks\": \"\", \"zerolinecolor\": \"white\"}, \"yaxis\": {\"backgroundcolor\": \"#E5ECF6\", \"gridcolor\": \"white\", \"gridwidth\": 2, \"linecolor\": \"white\", \"showbackground\": true, \"ticks\": \"\", \"zerolinecolor\": \"white\"}, \"zaxis\": {\"backgroundcolor\": \"#E5ECF6\", \"gridcolor\": \"white\", \"gridwidth\": 2, \"linecolor\": \"white\", \"showbackground\": true, \"ticks\": \"\", \"zerolinecolor\": \"white\"}}, \"shapedefaults\": {\"line\": {\"color\": \"#2a3f5f\"}}, \"ternary\": {\"aaxis\": {\"gridcolor\": \"white\", \"linecolor\": \"white\", \"ticks\": \"\"}, \"baxis\": {\"gridcolor\": \"white\", \"linecolor\": \"white\", \"ticks\": \"\"}, \"bgcolor\": \"#E5ECF6\", \"caxis\": {\"gridcolor\": \"white\", \"linecolor\": \"white\", \"ticks\": \"\"}}, \"title\": {\"x\": 0.05}, \"xaxis\": {\"automargin\": true, \"gridcolor\": \"white\", \"linecolor\": \"white\", \"ticks\": \"\", \"title\": {\"standoff\": 15}, \"zerolinecolor\": \"white\", \"zerolinewidth\": 2}, \"yaxis\": {\"automargin\": true, \"gridcolor\": \"white\", \"linecolor\": \"white\", \"ticks\": \"\", \"title\": {\"standoff\": 15}, \"zerolinecolor\": \"white\", \"zerolinewidth\": 2}}}},\n",
       "                        {\"responsive\": true}\n",
       "                    ).then(function(){\n",
       "                            \n",
       "var gd = document.getElementById('94fb1c0e-31cd-4131-a5c3-77cf9b3cfee9');\n",
       "var x = new MutationObserver(function (mutations, observer) {{\n",
       "        var display = window.getComputedStyle(gd).display;\n",
       "        if (!display || display === 'none') {{\n",
       "            console.log([gd, 'removed!']);\n",
       "            Plotly.purge(gd);\n",
       "            observer.disconnect();\n",
       "        }}\n",
       "}});\n",
       "\n",
       "// Listen for the removal of the full notebook cells\n",
       "var notebookContainer = gd.closest('#notebook-container');\n",
       "if (notebookContainer) {{\n",
       "    x.observe(notebookContainer, {childList: true});\n",
       "}}\n",
       "\n",
       "// Listen for the clearing of the current output cell\n",
       "var outputEl = gd.closest('.output');\n",
       "if (outputEl) {{\n",
       "    x.observe(outputEl, {childList: true});\n",
       "}}\n",
       "\n",
       "                        })\n",
       "                };\n",
       "                });\n",
       "            </script>\n",
       "        </div>"
      ]
     },
     "metadata": {},
     "output_type": "display_data"
    }
   ],
   "source": [
    "def plotDecisionBoundary(theta, X, y):\n",
    "    pos_x1 = X[:, [1]][y == 1]\n",
    "    pos_x2 = X[:, [2]][y == 1]\n",
    "    neg_x1 = X[:, [1]][y == 0]\n",
    "    neg_x2 = X[:, [2]][y == 0]\n",
    "\n",
    "    fig = go.Figure()\n",
    "    fig.add_trace(Scatter(x=neg_x1, y=neg_x2, mode='markers'))\n",
    "    fig.add_trace(Scatter(x=pos_x1, y=pos_x2, mode='markers'))\n",
    "    fig.show()\n",
    "    \n",
    "# plot_x1 = np.linspace(X[:, 1].min(0), X[:, 1].max(0), 100)\n",
    "u = np.linspace(-1, 1.5, 50)\n",
    "v = np.linspace(-1, 1.5, 50)\n",
    "z = np.zeros((len(v), len(u)))\n",
    "for i in range(len(u)):\n",
    "    for j in range(len(v)):\n",
    "            z[j, i] = map_feature(np.array([u[i]]), np.array([v[j]])) @ theta\n",
    "\n",
    "fig = go.Figure()\n",
    "fig.add_trace(go.Contour(z=z))\n",
    "fig.show()\n",
    "\n",
    "    \n",
    "# X[:, 1].reshape(-1, 1)[y==1]\n",
    "# pos_x1 = X[:, 1][y == 1]\n",
    "\n",
    "    \n",
    "\n",
    "plotDecisionBoundary(theta, X, y)"
   ]
  },
  {
   "cell_type": "code",
   "execution_count": null,
   "metadata": {},
   "outputs": [],
   "source": []
  }
 ],
 "metadata": {
  "kernelspec": {
   "display_name": "Python 3",
   "language": "python",
   "name": "python3"
  },
  "language_info": {
   "codemirror_mode": {
    "name": "ipython",
    "version": 3
   },
   "file_extension": ".py",
   "mimetype": "text/x-python",
   "name": "python",
   "nbconvert_exporter": "python",
   "pygments_lexer": "ipython3",
   "version": "3.7.4"
  }
 },
 "nbformat": 4,
 "nbformat_minor": 2
}
