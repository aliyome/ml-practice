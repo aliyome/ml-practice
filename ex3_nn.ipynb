{
 "cells": [
  {
   "cell_type": "code",
   "execution_count": 29,
   "metadata": {},
   "outputs": [],
   "source": [
    "import datetime\n",
    "\n",
    "import numpy as np\n",
    "import pandas as pd\n",
    "from numba import jit, f8, i8, i4, b1, void\n",
    "\n",
    "import plotly\n",
    "import plotly.express as px\n",
    "import plotly.figure_factory as ff\n",
    "import plotly.graph_objects as go\n",
    "import plotly.io as pio\n",
    "from plotly.subplots import make_subplots\n",
    "from plotly.graph_objs.scatter import Line\n",
    "from plotly.graph_objs import Scatter"
   ]
  },
  {
   "cell_type": "code",
   "execution_count": 40,
   "metadata": {},
   "outputs": [
    {
     "data": {
      "text/plain": [
       "((5000, 400), (5000, 1), (25, 401), (10, 26))"
      ]
     },
     "execution_count": 40,
     "metadata": {},
     "output_type": "execute_result"
    }
   ],
   "source": [
    "from scipy.io import loadmat\n",
    "mat = loadmat('ex3data1.mat')\n",
    "X = mat['X']\n",
    "y = mat['y']\n",
    "\n",
    "mat = loadmat('ex3weights.mat')\n",
    "Theta1 = mat['Theta1']\n",
    "Theta2 = mat['Theta2']\n",
    "\n",
    "X.shape, y.shape, Theta1.shape, Theta2.shape"
   ]
  },
  {
   "cell_type": "code",
   "execution_count": 41,
   "metadata": {},
   "outputs": [],
   "source": [
    "l1_size = 400\n",
    "l2_size = 25\n",
    "labels = 10"
   ]
  },
  {
   "cell_type": "code",
   "execution_count": 48,
   "metadata": {},
   "outputs": [],
   "source": [
    "z = lambda th, x: x @ th\n",
    "sigmoid = lambda z: 1 / (1 + np.exp(-z))"
   ]
  },
  {
   "cell_type": "markdown",
   "metadata": {},
   "source": [
    "## Foward"
   ]
  },
  {
   "cell_type": "code",
   "execution_count": 91,
   "metadata": {},
   "outputs": [
    {
     "name": "stdout",
     "output_type": "stream",
     "text": [
      "(5000, 401) (25, 401)\n",
      "(5000, 25)\n",
      "(5000, 25)\n",
      "(5000, 26) (10, 26)\n",
      "(5000, 10)\n",
      "(5000, 10)\n"
     ]
    }
   ],
   "source": [
    "x1 = X\n",
    "a1 = np.c_[np.ones(x1.shape[0]), x1]\n",
    "\n",
    "print(a1.shape, Theta1.shape)\n",
    "z2 = z(Theta1.T, a1)\n",
    "print(z2.shape)\n",
    "a2 = sigmoid(z2)\n",
    "print(a2.shape)\n",
    "\n",
    "a2 = np.c_[np.ones(a2.shape[0]), a2]\n",
    "print(a2.shape, Theta2.shape)\n",
    "\n",
    "z3 = z(Theta2.T, a2)\n",
    "print(z3.shape)\n",
    "a3 = sigmoid(z3)\n",
    "print(a3.shape)\n",
    "\n",
    "h = a3\n",
    "p = h.argmax(1) + 1"
   ]
  },
  {
   "cell_type": "code",
   "execution_count": 100,
   "metadata": {},
   "outputs": [
    {
     "data": {
      "text/plain": [
       "0.9752"
      ]
     },
     "execution_count": 100,
     "metadata": {},
     "output_type": "execute_result"
    }
   ],
   "source": [
    "(p == y.ravel()).mean()"
   ]
  },
  {
   "cell_type": "code",
   "execution_count": 122,
   "metadata": {},
   "outputs": [
    {
     "name": "stdout",
     "output_type": "stream",
     "text": [
      "(2000, 400) (2000,) (1500, 400) (1500,) (1500, 400) (1500,)\n"
     ]
    },
    {
     "data": {
      "text/plain": [
       "MLPClassifier(activation='relu', alpha=0.0001, batch_size='auto', beta_1=0.9,\n",
       "              beta_2=0.999, early_stopping=False, epsilon=1e-08,\n",
       "              hidden_layer_sizes=26, learning_rate='constant',\n",
       "              learning_rate_init=0.001, max_iter=10000, momentum=0.9,\n",
       "              n_iter_no_change=10, nesterovs_momentum=True, power_t=0.5,\n",
       "              random_state=None, shuffle=True, solver='adam', tol=0.0001,\n",
       "              validation_fraction=0.1, verbose=False, warm_start=False)"
      ]
     },
     "execution_count": 122,
     "metadata": {},
     "output_type": "execute_result"
    }
   ],
   "source": [
    "from sklearn.model_selection import train_test_split\n",
    "from sklearn.neural_network import MLPClassifier\n",
    "\n",
    "X_train, X_test_base, y_train, y_test_base = train_test_split(X, y.ravel(), test_size=0.6)\n",
    "X_cv, X_test, y_cv, y_test = train_test_split(X_test_base, y_test_base, test_size=0.5)\n",
    "\n",
    "print(X_train.shape, y_train.shape, X_cv.shape, y_cv.shape, X_test.shape, y_test.shape)\n",
    "\n",
    "\n",
    "mlp = MLPClassifier(hidden_layer_sizes=(26), solver='adam', max_iter=10000)\n",
    "mlp.fit(X_train, y_train)"
   ]
  },
  {
   "cell_type": "code",
   "execution_count": 123,
   "metadata": {},
   "outputs": [
    {
     "data": {
      "text/plain": [
       "0.9133333333333333"
      ]
     },
     "execution_count": 123,
     "metadata": {},
     "output_type": "execute_result"
    }
   ],
   "source": [
    "# for idx, (intercept, coef) in enumerate(zip(mlp.intercepts_, mlp.coefs_)):\n",
    "#     print(idx)\n",
    "#     print(intercept)\n",
    "#     print(coef)\n",
    "mlp.score(X_cv, y_cv)"
   ]
  }
 ],
 "metadata": {
  "kernelspec": {
   "display_name": "Python 3",
   "language": "python",
   "name": "python3"
  },
  "language_info": {
   "codemirror_mode": {
    "name": "ipython",
    "version": 3
   },
   "file_extension": ".py",
   "mimetype": "text/x-python",
   "name": "python",
   "nbconvert_exporter": "python",
   "pygments_lexer": "ipython3",
   "version": "3.7.4"
  }
 },
 "nbformat": 4,
 "nbformat_minor": 4
}
