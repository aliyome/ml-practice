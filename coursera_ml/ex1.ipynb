{
 "cells": [
  {
   "cell_type": "code",
   "execution_count": 357,
   "metadata": {},
   "outputs": [],
   "source": [
    "import datetime\n",
    "\n",
    "import numpy as np\n",
    "import pandas as pd\n",
    "\n",
    "import plotly\n",
    "import plotly.express as px\n",
    "import plotly.figure_factory as ff\n",
    "import plotly.graph_objects as go\n",
    "import plotly.io as pio\n",
    "from plotly.subplots import make_subplots\n",
    "from plotly.graph_objs.scatter import Line\n",
    "from plotly.graph_objs import Scatter"
   ]
  },
  {
   "cell_type": "code",
   "execution_count": 313,
   "metadata": {},
   "outputs": [],
   "source": [
    "def warmUpExercise():    \n",
    "    return np.eye(5)"
   ]
  },
  {
   "cell_type": "code",
   "execution_count": 314,
   "metadata": {},
   "outputs": [
    {
     "data": {
      "text/plain": [
       "array([[1., 0., 0., 0., 0.],\n",
       "       [0., 1., 0., 0., 0.],\n",
       "       [0., 0., 1., 0., 0.],\n",
       "       [0., 0., 0., 1., 0.],\n",
       "       [0., 0., 0., 0., 1.]])"
      ]
     },
     "execution_count": 314,
     "metadata": {},
     "output_type": "execute_result"
    }
   ],
   "source": [
    "# 5x5 Identity Matrix\n",
    "warmUpExercise()"
   ]
  },
  {
   "cell_type": "code",
   "execution_count": 315,
   "metadata": {},
   "outputs": [
    {
     "data": {
      "application/vnd.plotly.v1+json": {
       "config": {
        "plotlyServerURL": "https://plot.ly"
       },
       "data": [
        {
         "hoverlabel": {
          "namelength": 0
         },
         "hovertemplate": "X=%{x}<br>Y=%{y}",
         "legendgroup": "",
         "marker": {
          "color": "#636efa",
          "symbol": "circle"
         },
         "mode": "markers",
         "name": "",
         "showlegend": false,
         "type": "scatter",
         "x": [
          6.1101,
          5.5277,
          8.5186,
          7.0032,
          5.8598,
          8.3829,
          7.4764,
          8.5781,
          6.4862,
          5.0546,
          5.7107,
          14.164,
          5.734,
          8.4084,
          5.6407,
          5.3794,
          6.3654,
          5.1301,
          6.4296,
          7.0708,
          6.1891,
          20.27,
          5.4901,
          6.3261,
          5.5649,
          18.945,
          12.828,
          10.957,
          13.176,
          22.203,
          5.2524,
          6.5894,
          9.2482,
          5.8918,
          8.2111,
          7.9334,
          8.0959,
          5.6063,
          12.836,
          6.3534,
          5.4069,
          6.8825,
          11.708,
          5.7737,
          7.8247,
          7.0931,
          5.0702,
          5.8014,
          11.7,
          5.5416,
          7.5402,
          5.3077,
          7.4239,
          7.6031,
          6.3328,
          6.3589,
          6.2742,
          5.6397,
          9.3102,
          9.4536,
          8.8254,
          5.1793,
          21.279,
          14.908,
          18.959,
          7.2182,
          8.2951,
          10.236,
          5.4994,
          20.341,
          10.136,
          7.3345,
          6.0062,
          7.2259,
          5.0269,
          6.5479,
          7.5386,
          5.0365,
          10.274,
          5.1077,
          5.7292,
          5.1884,
          6.3557,
          9.7687,
          6.5159,
          8.5172,
          9.1802,
          6.002,
          5.5204,
          5.0594,
          5.7077,
          7.6366,
          5.8707,
          5.3054,
          8.2934,
          13.394,
          5.4369
         ],
         "xaxis": "x",
         "y": [
          17.592,
          9.1302,
          13.662,
          11.854,
          6.8233,
          11.886,
          4.3483,
          12,
          6.5987,
          3.8166,
          3.2522,
          15.505,
          3.1551,
          7.2258,
          0.71618,
          3.5129,
          5.3048,
          0.56077,
          3.6518,
          5.3893,
          3.1386,
          21.767,
          4.263,
          5.1875,
          3.0825,
          22.638,
          13.501,
          7.0467,
          14.692,
          24.147,
          -1.22,
          5.9966,
          12.134,
          1.8495,
          6.5426,
          4.5623,
          4.1164,
          3.3928,
          10.117,
          5.4974,
          0.55657,
          3.9115,
          5.3854,
          2.4406,
          6.7318,
          1.0463,
          5.1337,
          1.844,
          8.0043,
          1.0179,
          6.7504,
          1.8396,
          4.2885,
          4.9981,
          1.4233,
          -1.4211,
          2.4756,
          4.6042,
          3.9624,
          5.4141,
          5.1694,
          -0.74279,
          17.929,
          12.054,
          17.054,
          4.8852,
          5.7442,
          7.7754,
          1.0173,
          20.992,
          6.6799,
          4.0259,
          1.2784,
          3.3411,
          -2.6807,
          0.29678,
          3.8845,
          5.7014,
          6.7526,
          2.0576,
          0.47953,
          0.20421,
          0.67861,
          7.5435,
          5.3436,
          4.2415,
          6.7981,
          0.92695,
          0.152,
          2.8214,
          1.8451,
          4.2959,
          7.2029,
          1.9869,
          0.14454,
          9.0551,
          0.61705
         ],
         "yaxis": "y"
        },
        {
         "alignmentgroup": "True",
         "bingroup": "x",
         "hoverlabel": {
          "namelength": 0
         },
         "hovertemplate": "X=%{x}<br>count=%{y}",
         "legendgroup": "",
         "marker": {
          "color": "#636efa"
         },
         "name": "",
         "offsetgroup": "",
         "opacity": 0.5,
         "showlegend": false,
         "type": "histogram",
         "x": [
          6.1101,
          5.5277,
          8.5186,
          7.0032,
          5.8598,
          8.3829,
          7.4764,
          8.5781,
          6.4862,
          5.0546,
          5.7107,
          14.164,
          5.734,
          8.4084,
          5.6407,
          5.3794,
          6.3654,
          5.1301,
          6.4296,
          7.0708,
          6.1891,
          20.27,
          5.4901,
          6.3261,
          5.5649,
          18.945,
          12.828,
          10.957,
          13.176,
          22.203,
          5.2524,
          6.5894,
          9.2482,
          5.8918,
          8.2111,
          7.9334,
          8.0959,
          5.6063,
          12.836,
          6.3534,
          5.4069,
          6.8825,
          11.708,
          5.7737,
          7.8247,
          7.0931,
          5.0702,
          5.8014,
          11.7,
          5.5416,
          7.5402,
          5.3077,
          7.4239,
          7.6031,
          6.3328,
          6.3589,
          6.2742,
          5.6397,
          9.3102,
          9.4536,
          8.8254,
          5.1793,
          21.279,
          14.908,
          18.959,
          7.2182,
          8.2951,
          10.236,
          5.4994,
          20.341,
          10.136,
          7.3345,
          6.0062,
          7.2259,
          5.0269,
          6.5479,
          7.5386,
          5.0365,
          10.274,
          5.1077,
          5.7292,
          5.1884,
          6.3557,
          9.7687,
          6.5159,
          8.5172,
          9.1802,
          6.002,
          5.5204,
          5.0594,
          5.7077,
          7.6366,
          5.8707,
          5.3054,
          8.2934,
          13.394,
          5.4369
         ],
         "xaxis": "x3",
         "yaxis": "y3"
        },
        {
         "alignmentgroup": "True",
         "bingroup": "y",
         "hoverlabel": {
          "namelength": 0
         },
         "hovertemplate": "Y=%{y}<br>count=%{x}",
         "legendgroup": "",
         "marker": {
          "color": "#636efa"
         },
         "name": "",
         "offsetgroup": "",
         "opacity": 0.5,
         "showlegend": false,
         "type": "histogram",
         "xaxis": "x2",
         "y": [
          17.592,
          9.1302,
          13.662,
          11.854,
          6.8233,
          11.886,
          4.3483,
          12,
          6.5987,
          3.8166,
          3.2522,
          15.505,
          3.1551,
          7.2258,
          0.71618,
          3.5129,
          5.3048,
          0.56077,
          3.6518,
          5.3893,
          3.1386,
          21.767,
          4.263,
          5.1875,
          3.0825,
          22.638,
          13.501,
          7.0467,
          14.692,
          24.147,
          -1.22,
          5.9966,
          12.134,
          1.8495,
          6.5426,
          4.5623,
          4.1164,
          3.3928,
          10.117,
          5.4974,
          0.55657,
          3.9115,
          5.3854,
          2.4406,
          6.7318,
          1.0463,
          5.1337,
          1.844,
          8.0043,
          1.0179,
          6.7504,
          1.8396,
          4.2885,
          4.9981,
          1.4233,
          -1.4211,
          2.4756,
          4.6042,
          3.9624,
          5.4141,
          5.1694,
          -0.74279,
          17.929,
          12.054,
          17.054,
          4.8852,
          5.7442,
          7.7754,
          1.0173,
          20.992,
          6.6799,
          4.0259,
          1.2784,
          3.3411,
          -2.6807,
          0.29678,
          3.8845,
          5.7014,
          6.7526,
          2.0576,
          0.47953,
          0.20421,
          0.67861,
          7.5435,
          5.3436,
          4.2415,
          6.7981,
          0.92695,
          0.152,
          2.8214,
          1.8451,
          4.2959,
          7.2029,
          1.9869,
          0.14454,
          9.0551,
          0.61705
         ],
         "yaxis": "y2"
        }
       ],
       "layout": {
        "barmode": "overlay",
        "height": 600,
        "legend": {
         "tracegroupgap": 0
        },
        "margin": {
         "t": 60
        },
        "template": {
         "data": {
          "bar": [
           {
            "error_x": {
             "color": "#2a3f5f"
            },
            "error_y": {
             "color": "#2a3f5f"
            },
            "marker": {
             "line": {
              "color": "#E5ECF6",
              "width": 0.5
             }
            },
            "type": "bar"
           }
          ],
          "barpolar": [
           {
            "marker": {
             "line": {
              "color": "#E5ECF6",
              "width": 0.5
             }
            },
            "type": "barpolar"
           }
          ],
          "carpet": [
           {
            "aaxis": {
             "endlinecolor": "#2a3f5f",
             "gridcolor": "white",
             "linecolor": "white",
             "minorgridcolor": "white",
             "startlinecolor": "#2a3f5f"
            },
            "baxis": {
             "endlinecolor": "#2a3f5f",
             "gridcolor": "white",
             "linecolor": "white",
             "minorgridcolor": "white",
             "startlinecolor": "#2a3f5f"
            },
            "type": "carpet"
           }
          ],
          "choropleth": [
           {
            "colorbar": {
             "outlinewidth": 0,
             "ticks": ""
            },
            "type": "choropleth"
           }
          ],
          "contour": [
           {
            "colorbar": {
             "outlinewidth": 0,
             "ticks": ""
            },
            "colorscale": [
             [
              0,
              "#0d0887"
             ],
             [
              0.1111111111111111,
              "#46039f"
             ],
             [
              0.2222222222222222,
              "#7201a8"
             ],
             [
              0.3333333333333333,
              "#9c179e"
             ],
             [
              0.4444444444444444,
              "#bd3786"
             ],
             [
              0.5555555555555556,
              "#d8576b"
             ],
             [
              0.6666666666666666,
              "#ed7953"
             ],
             [
              0.7777777777777778,
              "#fb9f3a"
             ],
             [
              0.8888888888888888,
              "#fdca26"
             ],
             [
              1,
              "#f0f921"
             ]
            ],
            "type": "contour"
           }
          ],
          "contourcarpet": [
           {
            "colorbar": {
             "outlinewidth": 0,
             "ticks": ""
            },
            "type": "contourcarpet"
           }
          ],
          "heatmap": [
           {
            "colorbar": {
             "outlinewidth": 0,
             "ticks": ""
            },
            "colorscale": [
             [
              0,
              "#0d0887"
             ],
             [
              0.1111111111111111,
              "#46039f"
             ],
             [
              0.2222222222222222,
              "#7201a8"
             ],
             [
              0.3333333333333333,
              "#9c179e"
             ],
             [
              0.4444444444444444,
              "#bd3786"
             ],
             [
              0.5555555555555556,
              "#d8576b"
             ],
             [
              0.6666666666666666,
              "#ed7953"
             ],
             [
              0.7777777777777778,
              "#fb9f3a"
             ],
             [
              0.8888888888888888,
              "#fdca26"
             ],
             [
              1,
              "#f0f921"
             ]
            ],
            "type": "heatmap"
           }
          ],
          "heatmapgl": [
           {
            "colorbar": {
             "outlinewidth": 0,
             "ticks": ""
            },
            "colorscale": [
             [
              0,
              "#0d0887"
             ],
             [
              0.1111111111111111,
              "#46039f"
             ],
             [
              0.2222222222222222,
              "#7201a8"
             ],
             [
              0.3333333333333333,
              "#9c179e"
             ],
             [
              0.4444444444444444,
              "#bd3786"
             ],
             [
              0.5555555555555556,
              "#d8576b"
             ],
             [
              0.6666666666666666,
              "#ed7953"
             ],
             [
              0.7777777777777778,
              "#fb9f3a"
             ],
             [
              0.8888888888888888,
              "#fdca26"
             ],
             [
              1,
              "#f0f921"
             ]
            ],
            "type": "heatmapgl"
           }
          ],
          "histogram": [
           {
            "marker": {
             "colorbar": {
              "outlinewidth": 0,
              "ticks": ""
             }
            },
            "type": "histogram"
           }
          ],
          "histogram2d": [
           {
            "colorbar": {
             "outlinewidth": 0,
             "ticks": ""
            },
            "colorscale": [
             [
              0,
              "#0d0887"
             ],
             [
              0.1111111111111111,
              "#46039f"
             ],
             [
              0.2222222222222222,
              "#7201a8"
             ],
             [
              0.3333333333333333,
              "#9c179e"
             ],
             [
              0.4444444444444444,
              "#bd3786"
             ],
             [
              0.5555555555555556,
              "#d8576b"
             ],
             [
              0.6666666666666666,
              "#ed7953"
             ],
             [
              0.7777777777777778,
              "#fb9f3a"
             ],
             [
              0.8888888888888888,
              "#fdca26"
             ],
             [
              1,
              "#f0f921"
             ]
            ],
            "type": "histogram2d"
           }
          ],
          "histogram2dcontour": [
           {
            "colorbar": {
             "outlinewidth": 0,
             "ticks": ""
            },
            "colorscale": [
             [
              0,
              "#0d0887"
             ],
             [
              0.1111111111111111,
              "#46039f"
             ],
             [
              0.2222222222222222,
              "#7201a8"
             ],
             [
              0.3333333333333333,
              "#9c179e"
             ],
             [
              0.4444444444444444,
              "#bd3786"
             ],
             [
              0.5555555555555556,
              "#d8576b"
             ],
             [
              0.6666666666666666,
              "#ed7953"
             ],
             [
              0.7777777777777778,
              "#fb9f3a"
             ],
             [
              0.8888888888888888,
              "#fdca26"
             ],
             [
              1,
              "#f0f921"
             ]
            ],
            "type": "histogram2dcontour"
           }
          ],
          "mesh3d": [
           {
            "colorbar": {
             "outlinewidth": 0,
             "ticks": ""
            },
            "type": "mesh3d"
           }
          ],
          "parcoords": [
           {
            "line": {
             "colorbar": {
              "outlinewidth": 0,
              "ticks": ""
             }
            },
            "type": "parcoords"
           }
          ],
          "pie": [
           {
            "automargin": true,
            "type": "pie"
           }
          ],
          "scatter": [
           {
            "marker": {
             "colorbar": {
              "outlinewidth": 0,
              "ticks": ""
             }
            },
            "type": "scatter"
           }
          ],
          "scatter3d": [
           {
            "line": {
             "colorbar": {
              "outlinewidth": 0,
              "ticks": ""
             }
            },
            "marker": {
             "colorbar": {
              "outlinewidth": 0,
              "ticks": ""
             }
            },
            "type": "scatter3d"
           }
          ],
          "scattercarpet": [
           {
            "marker": {
             "colorbar": {
              "outlinewidth": 0,
              "ticks": ""
             }
            },
            "type": "scattercarpet"
           }
          ],
          "scattergeo": [
           {
            "marker": {
             "colorbar": {
              "outlinewidth": 0,
              "ticks": ""
             }
            },
            "type": "scattergeo"
           }
          ],
          "scattergl": [
           {
            "marker": {
             "colorbar": {
              "outlinewidth": 0,
              "ticks": ""
             }
            },
            "type": "scattergl"
           }
          ],
          "scattermapbox": [
           {
            "marker": {
             "colorbar": {
              "outlinewidth": 0,
              "ticks": ""
             }
            },
            "type": "scattermapbox"
           }
          ],
          "scatterpolar": [
           {
            "marker": {
             "colorbar": {
              "outlinewidth": 0,
              "ticks": ""
             }
            },
            "type": "scatterpolar"
           }
          ],
          "scatterpolargl": [
           {
            "marker": {
             "colorbar": {
              "outlinewidth": 0,
              "ticks": ""
             }
            },
            "type": "scatterpolargl"
           }
          ],
          "scatterternary": [
           {
            "marker": {
             "colorbar": {
              "outlinewidth": 0,
              "ticks": ""
             }
            },
            "type": "scatterternary"
           }
          ],
          "surface": [
           {
            "colorbar": {
             "outlinewidth": 0,
             "ticks": ""
            },
            "colorscale": [
             [
              0,
              "#0d0887"
             ],
             [
              0.1111111111111111,
              "#46039f"
             ],
             [
              0.2222222222222222,
              "#7201a8"
             ],
             [
              0.3333333333333333,
              "#9c179e"
             ],
             [
              0.4444444444444444,
              "#bd3786"
             ],
             [
              0.5555555555555556,
              "#d8576b"
             ],
             [
              0.6666666666666666,
              "#ed7953"
             ],
             [
              0.7777777777777778,
              "#fb9f3a"
             ],
             [
              0.8888888888888888,
              "#fdca26"
             ],
             [
              1,
              "#f0f921"
             ]
            ],
            "type": "surface"
           }
          ],
          "table": [
           {
            "cells": {
             "fill": {
              "color": "#EBF0F8"
             },
             "line": {
              "color": "white"
             }
            },
            "header": {
             "fill": {
              "color": "#C8D4E3"
             },
             "line": {
              "color": "white"
             }
            },
            "type": "table"
           }
          ]
         },
         "layout": {
          "annotationdefaults": {
           "arrowcolor": "#2a3f5f",
           "arrowhead": 0,
           "arrowwidth": 1
          },
          "coloraxis": {
           "colorbar": {
            "outlinewidth": 0,
            "ticks": ""
           }
          },
          "colorscale": {
           "diverging": [
            [
             0,
             "#8e0152"
            ],
            [
             0.1,
             "#c51b7d"
            ],
            [
             0.2,
             "#de77ae"
            ],
            [
             0.3,
             "#f1b6da"
            ],
            [
             0.4,
             "#fde0ef"
            ],
            [
             0.5,
             "#f7f7f7"
            ],
            [
             0.6,
             "#e6f5d0"
            ],
            [
             0.7,
             "#b8e186"
            ],
            [
             0.8,
             "#7fbc41"
            ],
            [
             0.9,
             "#4d9221"
            ],
            [
             1,
             "#276419"
            ]
           ],
           "sequential": [
            [
             0,
             "#0d0887"
            ],
            [
             0.1111111111111111,
             "#46039f"
            ],
            [
             0.2222222222222222,
             "#7201a8"
            ],
            [
             0.3333333333333333,
             "#9c179e"
            ],
            [
             0.4444444444444444,
             "#bd3786"
            ],
            [
             0.5555555555555556,
             "#d8576b"
            ],
            [
             0.6666666666666666,
             "#ed7953"
            ],
            [
             0.7777777777777778,
             "#fb9f3a"
            ],
            [
             0.8888888888888888,
             "#fdca26"
            ],
            [
             1,
             "#f0f921"
            ]
           ],
           "sequentialminus": [
            [
             0,
             "#0d0887"
            ],
            [
             0.1111111111111111,
             "#46039f"
            ],
            [
             0.2222222222222222,
             "#7201a8"
            ],
            [
             0.3333333333333333,
             "#9c179e"
            ],
            [
             0.4444444444444444,
             "#bd3786"
            ],
            [
             0.5555555555555556,
             "#d8576b"
            ],
            [
             0.6666666666666666,
             "#ed7953"
            ],
            [
             0.7777777777777778,
             "#fb9f3a"
            ],
            [
             0.8888888888888888,
             "#fdca26"
            ],
            [
             1,
             "#f0f921"
            ]
           ]
          },
          "colorway": [
           "#636efa",
           "#EF553B",
           "#00cc96",
           "#ab63fa",
           "#FFA15A",
           "#19d3f3",
           "#FF6692",
           "#B6E880",
           "#FF97FF",
           "#FECB52"
          ],
          "font": {
           "color": "#2a3f5f"
          },
          "geo": {
           "bgcolor": "white",
           "lakecolor": "white",
           "landcolor": "#E5ECF6",
           "showlakes": true,
           "showland": true,
           "subunitcolor": "white"
          },
          "hoverlabel": {
           "align": "left"
          },
          "hovermode": "closest",
          "mapbox": {
           "style": "light"
          },
          "paper_bgcolor": "white",
          "plot_bgcolor": "#E5ECF6",
          "polar": {
           "angularaxis": {
            "gridcolor": "white",
            "linecolor": "white",
            "ticks": ""
           },
           "bgcolor": "#E5ECF6",
           "radialaxis": {
            "gridcolor": "white",
            "linecolor": "white",
            "ticks": ""
           }
          },
          "scene": {
           "xaxis": {
            "backgroundcolor": "#E5ECF6",
            "gridcolor": "white",
            "gridwidth": 2,
            "linecolor": "white",
            "showbackground": true,
            "ticks": "",
            "zerolinecolor": "white"
           },
           "yaxis": {
            "backgroundcolor": "#E5ECF6",
            "gridcolor": "white",
            "gridwidth": 2,
            "linecolor": "white",
            "showbackground": true,
            "ticks": "",
            "zerolinecolor": "white"
           },
           "zaxis": {
            "backgroundcolor": "#E5ECF6",
            "gridcolor": "white",
            "gridwidth": 2,
            "linecolor": "white",
            "showbackground": true,
            "ticks": "",
            "zerolinecolor": "white"
           }
          },
          "shapedefaults": {
           "line": {
            "color": "#2a3f5f"
           }
          },
          "ternary": {
           "aaxis": {
            "gridcolor": "white",
            "linecolor": "white",
            "ticks": ""
           },
           "baxis": {
            "gridcolor": "white",
            "linecolor": "white",
            "ticks": ""
           },
           "bgcolor": "#E5ECF6",
           "caxis": {
            "gridcolor": "white",
            "linecolor": "white",
            "ticks": ""
           }
          },
          "title": {
           "x": 0.05
          },
          "xaxis": {
           "automargin": true,
           "gridcolor": "white",
           "linecolor": "white",
           "ticks": "",
           "title": {
            "standoff": 15
           },
           "zerolinecolor": "white",
           "zerolinewidth": 2
          },
          "yaxis": {
           "automargin": true,
           "gridcolor": "white",
           "linecolor": "white",
           "ticks": "",
           "title": {
            "standoff": 15
           },
           "zerolinecolor": "white",
           "zerolinewidth": 2
          }
         }
        },
        "width": 800,
        "xaxis": {
         "anchor": "y",
         "domain": [
          0,
          0.7363
         ],
         "title": {
          "text": "X"
         }
        },
        "xaxis2": {
         "anchor": "y2",
         "domain": [
          0.7413,
          1
         ],
         "matches": "x2",
         "showgrid": true,
         "showline": false,
         "showticklabels": false,
         "ticks": ""
        },
        "xaxis3": {
         "anchor": "y3",
         "domain": [
          0,
          0.7363
         ],
         "matches": "x",
         "showgrid": true,
         "showticklabels": false
        },
        "xaxis4": {
         "anchor": "y4",
         "domain": [
          0.7413,
          1
         ],
         "matches": "x2",
         "showgrid": true,
         "showline": false,
         "showticklabels": false,
         "ticks": ""
        },
        "yaxis": {
         "anchor": "x",
         "domain": [
          0,
          0.7326
         ],
         "title": {
          "text": "Y"
         }
        },
        "yaxis2": {
         "anchor": "x2",
         "domain": [
          0,
          0.7326
         ],
         "matches": "y",
         "showgrid": true,
         "showticklabels": false
        },
        "yaxis3": {
         "anchor": "x3",
         "domain": [
          0.7426,
          1
         ],
         "matches": "y3",
         "showgrid": true,
         "showline": false,
         "showticklabels": false,
         "ticks": ""
        },
        "yaxis4": {
         "anchor": "x4",
         "domain": [
          0.7426,
          1
         ],
         "matches": "y3",
         "showgrid": true,
         "showline": false,
         "showticklabels": false,
         "ticks": ""
        }
       }
      },
      "text/html": [
       "<div>\n",
       "        \n",
       "        \n",
       "            <div id=\"88fd6952-6c02-40e8-b951-22d35ed838c4\" class=\"plotly-graph-div\" style=\"height:600px; width:800px;\"></div>\n",
       "            <script type=\"text/javascript\">\n",
       "                require([\"plotly\"], function(Plotly) {\n",
       "                    window.PLOTLYENV=window.PLOTLYENV || {};\n",
       "                    \n",
       "                if (document.getElementById(\"88fd6952-6c02-40e8-b951-22d35ed838c4\")) {\n",
       "                    Plotly.newPlot(\n",
       "                        '88fd6952-6c02-40e8-b951-22d35ed838c4',\n",
       "                        [{\"hoverlabel\": {\"namelength\": 0}, \"hovertemplate\": \"X=%{x}<br>Y=%{y}\", \"legendgroup\": \"\", \"marker\": {\"color\": \"#636efa\", \"symbol\": \"circle\"}, \"mode\": \"markers\", \"name\": \"\", \"showlegend\": false, \"type\": \"scatter\", \"x\": [6.1101, 5.5277, 8.5186, 7.0032, 5.8598, 8.3829, 7.4764, 8.5781, 6.4862, 5.0546, 5.7107, 14.164, 5.734, 8.4084, 5.6407, 5.3794, 6.3654, 5.1301, 6.4296, 7.0708, 6.1891, 20.27, 5.4901, 6.3261, 5.5649, 18.945, 12.828, 10.957, 13.176, 22.203, 5.2524, 6.5894, 9.2482, 5.8918, 8.2111, 7.9334, 8.0959, 5.6063, 12.836, 6.3534, 5.4069, 6.8825, 11.708, 5.7737, 7.8247, 7.0931, 5.0702, 5.8014, 11.7, 5.5416, 7.5402, 5.3077, 7.4239, 7.6031, 6.3328, 6.3589, 6.2742, 5.6397, 9.3102, 9.4536, 8.8254, 5.1793, 21.279, 14.908, 18.959, 7.2182, 8.2951, 10.236, 5.4994, 20.341, 10.136, 7.3345, 6.0062, 7.2259, 5.0269, 6.5479, 7.5386, 5.0365, 10.274, 5.1077, 5.7292, 5.1884, 6.3557, 9.7687, 6.5159, 8.5172, 9.1802, 6.002, 5.5204, 5.0594, 5.7077, 7.6366, 5.8707, 5.3054, 8.2934, 13.394, 5.4369], \"xaxis\": \"x\", \"y\": [17.592, 9.1302, 13.662, 11.854, 6.8233, 11.886, 4.3483, 12.0, 6.5987, 3.8166, 3.2522, 15.505, 3.1551, 7.2258, 0.71618, 3.5129, 5.3048, 0.56077, 3.6518, 5.3893, 3.1386, 21.767, 4.263, 5.1875, 3.0825, 22.638, 13.501, 7.0467, 14.692, 24.147, -1.22, 5.9966, 12.134, 1.8495, 6.5426, 4.5623, 4.1164, 3.3928, 10.117, 5.4974, 0.55657, 3.9115, 5.3854, 2.4406, 6.7318, 1.0463, 5.1337, 1.844, 8.0043, 1.0179, 6.7504, 1.8396, 4.2885, 4.9981, 1.4233, -1.4211, 2.4756, 4.6042, 3.9624, 5.4141, 5.1694, -0.74279, 17.929, 12.054, 17.054, 4.8852, 5.7442, 7.7754, 1.0173, 20.992, 6.6799, 4.0259, 1.2784, 3.3411, -2.6807, 0.29678, 3.8845, 5.7014, 6.7526, 2.0576, 0.47953, 0.20421, 0.67861, 7.5435, 5.3436, 4.2415, 6.7981, 0.92695, 0.152, 2.8214, 1.8451, 4.2959, 7.2029, 1.9869, 0.14454, 9.0551, 0.61705], \"yaxis\": \"y\"}, {\"alignmentgroup\": \"True\", \"bingroup\": \"x\", \"hoverlabel\": {\"namelength\": 0}, \"hovertemplate\": \"X=%{x}<br>count=%{y}\", \"legendgroup\": \"\", \"marker\": {\"color\": \"#636efa\"}, \"name\": \"\", \"offsetgroup\": \"\", \"opacity\": 0.5, \"showlegend\": false, \"type\": \"histogram\", \"x\": [6.1101, 5.5277, 8.5186, 7.0032, 5.8598, 8.3829, 7.4764, 8.5781, 6.4862, 5.0546, 5.7107, 14.164, 5.734, 8.4084, 5.6407, 5.3794, 6.3654, 5.1301, 6.4296, 7.0708, 6.1891, 20.27, 5.4901, 6.3261, 5.5649, 18.945, 12.828, 10.957, 13.176, 22.203, 5.2524, 6.5894, 9.2482, 5.8918, 8.2111, 7.9334, 8.0959, 5.6063, 12.836, 6.3534, 5.4069, 6.8825, 11.708, 5.7737, 7.8247, 7.0931, 5.0702, 5.8014, 11.7, 5.5416, 7.5402, 5.3077, 7.4239, 7.6031, 6.3328, 6.3589, 6.2742, 5.6397, 9.3102, 9.4536, 8.8254, 5.1793, 21.279, 14.908, 18.959, 7.2182, 8.2951, 10.236, 5.4994, 20.341, 10.136, 7.3345, 6.0062, 7.2259, 5.0269, 6.5479, 7.5386, 5.0365, 10.274, 5.1077, 5.7292, 5.1884, 6.3557, 9.7687, 6.5159, 8.5172, 9.1802, 6.002, 5.5204, 5.0594, 5.7077, 7.6366, 5.8707, 5.3054, 8.2934, 13.394, 5.4369], \"xaxis\": \"x3\", \"yaxis\": \"y3\"}, {\"alignmentgroup\": \"True\", \"bingroup\": \"y\", \"hoverlabel\": {\"namelength\": 0}, \"hovertemplate\": \"Y=%{y}<br>count=%{x}\", \"legendgroup\": \"\", \"marker\": {\"color\": \"#636efa\"}, \"name\": \"\", \"offsetgroup\": \"\", \"opacity\": 0.5, \"showlegend\": false, \"type\": \"histogram\", \"xaxis\": \"x2\", \"y\": [17.592, 9.1302, 13.662, 11.854, 6.8233, 11.886, 4.3483, 12.0, 6.5987, 3.8166, 3.2522, 15.505, 3.1551, 7.2258, 0.71618, 3.5129, 5.3048, 0.56077, 3.6518, 5.3893, 3.1386, 21.767, 4.263, 5.1875, 3.0825, 22.638, 13.501, 7.0467, 14.692, 24.147, -1.22, 5.9966, 12.134, 1.8495, 6.5426, 4.5623, 4.1164, 3.3928, 10.117, 5.4974, 0.55657, 3.9115, 5.3854, 2.4406, 6.7318, 1.0463, 5.1337, 1.844, 8.0043, 1.0179, 6.7504, 1.8396, 4.2885, 4.9981, 1.4233, -1.4211, 2.4756, 4.6042, 3.9624, 5.4141, 5.1694, -0.74279, 17.929, 12.054, 17.054, 4.8852, 5.7442, 7.7754, 1.0173, 20.992, 6.6799, 4.0259, 1.2784, 3.3411, -2.6807, 0.29678, 3.8845, 5.7014, 6.7526, 2.0576, 0.47953, 0.20421, 0.67861, 7.5435, 5.3436, 4.2415, 6.7981, 0.92695, 0.152, 2.8214, 1.8451, 4.2959, 7.2029, 1.9869, 0.14454, 9.0551, 0.61705], \"yaxis\": \"y2\"}],\n",
       "                        {\"barmode\": \"overlay\", \"height\": 600, \"legend\": {\"tracegroupgap\": 0}, \"margin\": {\"t\": 60}, \"template\": {\"data\": {\"bar\": [{\"error_x\": {\"color\": \"#2a3f5f\"}, \"error_y\": {\"color\": \"#2a3f5f\"}, \"marker\": {\"line\": {\"color\": \"#E5ECF6\", \"width\": 0.5}}, \"type\": \"bar\"}], \"barpolar\": [{\"marker\": {\"line\": {\"color\": \"#E5ECF6\", \"width\": 0.5}}, \"type\": \"barpolar\"}], \"carpet\": [{\"aaxis\": {\"endlinecolor\": \"#2a3f5f\", \"gridcolor\": \"white\", \"linecolor\": \"white\", \"minorgridcolor\": \"white\", \"startlinecolor\": \"#2a3f5f\"}, \"baxis\": {\"endlinecolor\": \"#2a3f5f\", \"gridcolor\": \"white\", \"linecolor\": \"white\", \"minorgridcolor\": \"white\", \"startlinecolor\": \"#2a3f5f\"}, \"type\": \"carpet\"}], \"choropleth\": [{\"colorbar\": {\"outlinewidth\": 0, \"ticks\": \"\"}, \"type\": \"choropleth\"}], \"contour\": [{\"colorbar\": {\"outlinewidth\": 0, \"ticks\": \"\"}, \"colorscale\": [[0.0, \"#0d0887\"], [0.1111111111111111, \"#46039f\"], [0.2222222222222222, \"#7201a8\"], [0.3333333333333333, \"#9c179e\"], [0.4444444444444444, \"#bd3786\"], [0.5555555555555556, \"#d8576b\"], [0.6666666666666666, \"#ed7953\"], [0.7777777777777778, \"#fb9f3a\"], [0.8888888888888888, \"#fdca26\"], [1.0, \"#f0f921\"]], \"type\": \"contour\"}], \"contourcarpet\": [{\"colorbar\": {\"outlinewidth\": 0, \"ticks\": \"\"}, \"type\": \"contourcarpet\"}], \"heatmap\": [{\"colorbar\": {\"outlinewidth\": 0, \"ticks\": \"\"}, \"colorscale\": [[0.0, \"#0d0887\"], [0.1111111111111111, \"#46039f\"], [0.2222222222222222, \"#7201a8\"], [0.3333333333333333, \"#9c179e\"], [0.4444444444444444, \"#bd3786\"], [0.5555555555555556, \"#d8576b\"], [0.6666666666666666, \"#ed7953\"], [0.7777777777777778, \"#fb9f3a\"], [0.8888888888888888, \"#fdca26\"], [1.0, \"#f0f921\"]], \"type\": \"heatmap\"}], \"heatmapgl\": [{\"colorbar\": {\"outlinewidth\": 0, \"ticks\": \"\"}, \"colorscale\": [[0.0, \"#0d0887\"], [0.1111111111111111, \"#46039f\"], [0.2222222222222222, \"#7201a8\"], [0.3333333333333333, \"#9c179e\"], [0.4444444444444444, \"#bd3786\"], [0.5555555555555556, \"#d8576b\"], [0.6666666666666666, \"#ed7953\"], [0.7777777777777778, \"#fb9f3a\"], [0.8888888888888888, \"#fdca26\"], [1.0, \"#f0f921\"]], \"type\": \"heatmapgl\"}], \"histogram\": [{\"marker\": {\"colorbar\": {\"outlinewidth\": 0, \"ticks\": \"\"}}, \"type\": \"histogram\"}], \"histogram2d\": [{\"colorbar\": {\"outlinewidth\": 0, \"ticks\": \"\"}, \"colorscale\": [[0.0, \"#0d0887\"], [0.1111111111111111, \"#46039f\"], [0.2222222222222222, \"#7201a8\"], [0.3333333333333333, \"#9c179e\"], [0.4444444444444444, \"#bd3786\"], [0.5555555555555556, \"#d8576b\"], [0.6666666666666666, \"#ed7953\"], [0.7777777777777778, \"#fb9f3a\"], [0.8888888888888888, \"#fdca26\"], [1.0, \"#f0f921\"]], \"type\": \"histogram2d\"}], \"histogram2dcontour\": [{\"colorbar\": {\"outlinewidth\": 0, \"ticks\": \"\"}, \"colorscale\": [[0.0, \"#0d0887\"], [0.1111111111111111, \"#46039f\"], [0.2222222222222222, \"#7201a8\"], [0.3333333333333333, \"#9c179e\"], [0.4444444444444444, \"#bd3786\"], [0.5555555555555556, \"#d8576b\"], [0.6666666666666666, \"#ed7953\"], [0.7777777777777778, \"#fb9f3a\"], [0.8888888888888888, \"#fdca26\"], [1.0, \"#f0f921\"]], \"type\": \"histogram2dcontour\"}], \"mesh3d\": [{\"colorbar\": {\"outlinewidth\": 0, \"ticks\": \"\"}, \"type\": \"mesh3d\"}], \"parcoords\": [{\"line\": {\"colorbar\": {\"outlinewidth\": 0, \"ticks\": \"\"}}, \"type\": \"parcoords\"}], \"pie\": [{\"automargin\": true, \"type\": \"pie\"}], \"scatter\": [{\"marker\": {\"colorbar\": {\"outlinewidth\": 0, \"ticks\": \"\"}}, \"type\": \"scatter\"}], \"scatter3d\": [{\"line\": {\"colorbar\": {\"outlinewidth\": 0, \"ticks\": \"\"}}, \"marker\": {\"colorbar\": {\"outlinewidth\": 0, \"ticks\": \"\"}}, \"type\": \"scatter3d\"}], \"scattercarpet\": [{\"marker\": {\"colorbar\": {\"outlinewidth\": 0, \"ticks\": \"\"}}, \"type\": \"scattercarpet\"}], \"scattergeo\": [{\"marker\": {\"colorbar\": {\"outlinewidth\": 0, \"ticks\": \"\"}}, \"type\": \"scattergeo\"}], \"scattergl\": [{\"marker\": {\"colorbar\": {\"outlinewidth\": 0, \"ticks\": \"\"}}, \"type\": \"scattergl\"}], \"scattermapbox\": [{\"marker\": {\"colorbar\": {\"outlinewidth\": 0, \"ticks\": \"\"}}, \"type\": \"scattermapbox\"}], \"scatterpolar\": [{\"marker\": {\"colorbar\": {\"outlinewidth\": 0, \"ticks\": \"\"}}, \"type\": \"scatterpolar\"}], \"scatterpolargl\": [{\"marker\": {\"colorbar\": {\"outlinewidth\": 0, \"ticks\": \"\"}}, \"type\": \"scatterpolargl\"}], \"scatterternary\": [{\"marker\": {\"colorbar\": {\"outlinewidth\": 0, \"ticks\": \"\"}}, \"type\": \"scatterternary\"}], \"surface\": [{\"colorbar\": {\"outlinewidth\": 0, \"ticks\": \"\"}, \"colorscale\": [[0.0, \"#0d0887\"], [0.1111111111111111, \"#46039f\"], [0.2222222222222222, \"#7201a8\"], [0.3333333333333333, \"#9c179e\"], [0.4444444444444444, \"#bd3786\"], [0.5555555555555556, \"#d8576b\"], [0.6666666666666666, \"#ed7953\"], [0.7777777777777778, \"#fb9f3a\"], [0.8888888888888888, \"#fdca26\"], [1.0, \"#f0f921\"]], \"type\": \"surface\"}], \"table\": [{\"cells\": {\"fill\": {\"color\": \"#EBF0F8\"}, \"line\": {\"color\": \"white\"}}, \"header\": {\"fill\": {\"color\": \"#C8D4E3\"}, \"line\": {\"color\": \"white\"}}, \"type\": \"table\"}]}, \"layout\": {\"annotationdefaults\": {\"arrowcolor\": \"#2a3f5f\", \"arrowhead\": 0, \"arrowwidth\": 1}, \"coloraxis\": {\"colorbar\": {\"outlinewidth\": 0, \"ticks\": \"\"}}, \"colorscale\": {\"diverging\": [[0, \"#8e0152\"], [0.1, \"#c51b7d\"], [0.2, \"#de77ae\"], [0.3, \"#f1b6da\"], [0.4, \"#fde0ef\"], [0.5, \"#f7f7f7\"], [0.6, \"#e6f5d0\"], [0.7, \"#b8e186\"], [0.8, \"#7fbc41\"], [0.9, \"#4d9221\"], [1, \"#276419\"]], \"sequential\": [[0.0, \"#0d0887\"], [0.1111111111111111, \"#46039f\"], [0.2222222222222222, \"#7201a8\"], [0.3333333333333333, \"#9c179e\"], [0.4444444444444444, \"#bd3786\"], [0.5555555555555556, \"#d8576b\"], [0.6666666666666666, \"#ed7953\"], [0.7777777777777778, \"#fb9f3a\"], [0.8888888888888888, \"#fdca26\"], [1.0, \"#f0f921\"]], \"sequentialminus\": [[0.0, \"#0d0887\"], [0.1111111111111111, \"#46039f\"], [0.2222222222222222, \"#7201a8\"], [0.3333333333333333, \"#9c179e\"], [0.4444444444444444, \"#bd3786\"], [0.5555555555555556, \"#d8576b\"], [0.6666666666666666, \"#ed7953\"], [0.7777777777777778, \"#fb9f3a\"], [0.8888888888888888, \"#fdca26\"], [1.0, \"#f0f921\"]]}, \"colorway\": [\"#636efa\", \"#EF553B\", \"#00cc96\", \"#ab63fa\", \"#FFA15A\", \"#19d3f3\", \"#FF6692\", \"#B6E880\", \"#FF97FF\", \"#FECB52\"], \"font\": {\"color\": \"#2a3f5f\"}, \"geo\": {\"bgcolor\": \"white\", \"lakecolor\": \"white\", \"landcolor\": \"#E5ECF6\", \"showlakes\": true, \"showland\": true, \"subunitcolor\": \"white\"}, \"hoverlabel\": {\"align\": \"left\"}, \"hovermode\": \"closest\", \"mapbox\": {\"style\": \"light\"}, \"paper_bgcolor\": \"white\", \"plot_bgcolor\": \"#E5ECF6\", \"polar\": {\"angularaxis\": {\"gridcolor\": \"white\", \"linecolor\": \"white\", \"ticks\": \"\"}, \"bgcolor\": \"#E5ECF6\", \"radialaxis\": {\"gridcolor\": \"white\", \"linecolor\": \"white\", \"ticks\": \"\"}}, \"scene\": {\"xaxis\": {\"backgroundcolor\": \"#E5ECF6\", \"gridcolor\": \"white\", \"gridwidth\": 2, \"linecolor\": \"white\", \"showbackground\": true, \"ticks\": \"\", \"zerolinecolor\": \"white\"}, \"yaxis\": {\"backgroundcolor\": \"#E5ECF6\", \"gridcolor\": \"white\", \"gridwidth\": 2, \"linecolor\": \"white\", \"showbackground\": true, \"ticks\": \"\", \"zerolinecolor\": \"white\"}, \"zaxis\": {\"backgroundcolor\": \"#E5ECF6\", \"gridcolor\": \"white\", \"gridwidth\": 2, \"linecolor\": \"white\", \"showbackground\": true, \"ticks\": \"\", \"zerolinecolor\": \"white\"}}, \"shapedefaults\": {\"line\": {\"color\": \"#2a3f5f\"}}, \"ternary\": {\"aaxis\": {\"gridcolor\": \"white\", \"linecolor\": \"white\", \"ticks\": \"\"}, \"baxis\": {\"gridcolor\": \"white\", \"linecolor\": \"white\", \"ticks\": \"\"}, \"bgcolor\": \"#E5ECF6\", \"caxis\": {\"gridcolor\": \"white\", \"linecolor\": \"white\", \"ticks\": \"\"}}, \"title\": {\"x\": 0.05}, \"xaxis\": {\"automargin\": true, \"gridcolor\": \"white\", \"linecolor\": \"white\", \"ticks\": \"\", \"title\": {\"standoff\": 15}, \"zerolinecolor\": \"white\", \"zerolinewidth\": 2}, \"yaxis\": {\"automargin\": true, \"gridcolor\": \"white\", \"linecolor\": \"white\", \"ticks\": \"\", \"title\": {\"standoff\": 15}, \"zerolinecolor\": \"white\", \"zerolinewidth\": 2}}}, \"width\": 800, \"xaxis\": {\"anchor\": \"y\", \"domain\": [0.0, 0.7363], \"title\": {\"text\": \"X\"}}, \"xaxis2\": {\"anchor\": \"y2\", \"domain\": [0.7413, 1.0], \"matches\": \"x2\", \"showgrid\": true, \"showline\": false, \"showticklabels\": false, \"ticks\": \"\"}, \"xaxis3\": {\"anchor\": \"y3\", \"domain\": [0.0, 0.7363], \"matches\": \"x\", \"showgrid\": true, \"showticklabels\": false}, \"xaxis4\": {\"anchor\": \"y4\", \"domain\": [0.7413, 1.0], \"matches\": \"x2\", \"showgrid\": true, \"showline\": false, \"showticklabels\": false, \"ticks\": \"\"}, \"yaxis\": {\"anchor\": \"x\", \"domain\": [0.0, 0.7326], \"title\": {\"text\": \"Y\"}}, \"yaxis2\": {\"anchor\": \"x2\", \"domain\": [0.0, 0.7326], \"matches\": \"y\", \"showgrid\": true, \"showticklabels\": false}, \"yaxis3\": {\"anchor\": \"x3\", \"domain\": [0.7426, 1.0], \"matches\": \"y3\", \"showgrid\": true, \"showline\": false, \"showticklabels\": false, \"ticks\": \"\"}, \"yaxis4\": {\"anchor\": \"x4\", \"domain\": [0.7426, 1.0], \"matches\": \"y3\", \"showgrid\": true, \"showline\": false, \"showticklabels\": false, \"ticks\": \"\"}},\n",
       "                        {\"responsive\": true}\n",
       "                    ).then(function(){\n",
       "                            \n",
       "var gd = document.getElementById('88fd6952-6c02-40e8-b951-22d35ed838c4');\n",
       "var x = new MutationObserver(function (mutations, observer) {{\n",
       "        var display = window.getComputedStyle(gd).display;\n",
       "        if (!display || display === 'none') {{\n",
       "            console.log([gd, 'removed!']);\n",
       "            Plotly.purge(gd);\n",
       "            observer.disconnect();\n",
       "        }}\n",
       "}});\n",
       "\n",
       "// Listen for the removal of the full notebook cells\n",
       "var notebookContainer = gd.closest('#notebook-container');\n",
       "if (notebookContainer) {{\n",
       "    x.observe(notebookContainer, {childList: true});\n",
       "}}\n",
       "\n",
       "// Listen for the clearing of the current output cell\n",
       "var outputEl = gd.closest('.output');\n",
       "if (outputEl) {{\n",
       "    x.observe(outputEl, {childList: true});\n",
       "}}\n",
       "\n",
       "                        })\n",
       "                };\n",
       "                });\n",
       "            </script>\n",
       "        </div>"
      ]
     },
     "metadata": {},
     "output_type": "display_data"
    }
   ],
   "source": [
    "# Plotting Data\n",
    "d = np.loadtxt('ex1data1.txt', delimiter=',')\n",
    "X = d[:, 0]\n",
    "Y = d[:, 1]\n",
    "\n",
    "data = pd.DataFrame({'X':X, 'Y': Y})\n",
    "\n",
    "fig = px.scatter(data, x='X',y='Y',\n",
    "           marginal_x='histogram', marginal_y='histogram',\n",
    "           width=800, height=600\n",
    " )\n",
    "fig.show()"
   ]
  },
  {
   "cell_type": "code",
   "execution_count": 316,
   "metadata": {},
   "outputs": [
    {
     "data": {
      "text/plain": [
       "(          X         Y   X0\n",
       " 0    6.1101  17.59200  1.0\n",
       " 1    5.5277   9.13020  1.0\n",
       " 2    8.5186  13.66200  1.0\n",
       " 3    7.0032  11.85400  1.0\n",
       " 4    5.8598   6.82330  1.0\n",
       " ..      ...       ...  ...\n",
       " 92   5.8707   7.20290  1.0\n",
       " 93   5.3054   1.98690  1.0\n",
       " 94   8.2934   0.14454  1.0\n",
       " 95  13.3940   9.05510  1.0\n",
       " 96   5.4369   0.61705  1.0\n",
       " \n",
       " [97 rows x 3 columns], array([0., 0.]), 1500, 0.01)"
      ]
     },
     "execution_count": 316,
     "metadata": {},
     "output_type": "execute_result"
    }
   ],
   "source": [
    "m = data.shape[0]\n",
    "data['X0'] = np.ones(m)\n",
    "theta = np.zeros(2)\n",
    "iterations = 1500\n",
    "alpha = 0.01\n",
    "\n",
    "data, theta, iterations, alpha"
   ]
  },
  {
   "cell_type": "code",
   "execution_count": 317,
   "metadata": {},
   "outputs": [],
   "source": [
    "def computeCost(X, y, theta):\n",
    "    xt = X.T @ theta\n",
    "    cost = xt - y\n",
    "    J = 1/(2 * m) * (cost **2).sum()\n",
    "    return J"
   ]
  },
  {
   "cell_type": "code",
   "execution_count": 318,
   "metadata": {},
   "outputs": [
    {
     "data": {
      "text/plain": [
       "32.072733877455676"
      ]
     },
     "execution_count": 318,
     "metadata": {},
     "output_type": "execute_result"
    }
   ],
   "source": [
    "xx = np.array([data['X0'], data['X']])\n",
    "J = computeCost(xx, Y, theta)\n",
    "# approx 32.07\n",
    "J"
   ]
  },
  {
   "cell_type": "code",
   "execution_count": 319,
   "metadata": {},
   "outputs": [
    {
     "data": {
      "text/plain": [
       "54.24245508201238"
      ]
     },
     "execution_count": 319,
     "metadata": {},
     "output_type": "execute_result"
    }
   ],
   "source": [
    "J = computeCost(xx, Y, np.array([-1, 2]))\n",
    "# approx 54.24\n",
    "J"
   ]
  },
  {
   "cell_type": "code",
   "execution_count": 320,
   "metadata": {},
   "outputs": [],
   "source": [
    "def gradientDescent(X, y, theta, alpha, iterations):\n",
    "    N = X.shape[0]\n",
    "    J = np.zeros(iterations)\n",
    "\n",
    "    for i in range(iterations):\n",
    "        xt = X.T @ theta\n",
    "        cost = xt - Y\n",
    "\n",
    "        for j in range(N):\n",
    "            grad = (1/m * cost * X[j]).sum()\n",
    "            theta[j] -= alpha * grad\n",
    "            \n",
    "        J[i] = computeCost(X, y, theta)\n",
    "        \n",
    "    return theta, J"
   ]
  },
  {
   "cell_type": "code",
   "execution_count": 321,
   "metadata": {},
   "outputs": [
    {
     "data": {
      "text/plain": [
       "(array([-3.63029144,  1.16636235]),\n",
       " array([6.73719046, 5.93159357, 5.90115471, ..., 4.48343473, 4.48341145,\n",
       "        4.48338826]))"
      ]
     },
     "execution_count": 321,
     "metadata": {},
     "output_type": "execute_result"
    }
   ],
   "source": [
    "th, J = gradientDescent(xx, Y, theta, alpha, iterations)\n",
    "# approx -3.6303 1.1666\n",
    "th, J"
   ]
  },
  {
   "cell_type": "code",
   "execution_count": 348,
   "metadata": {},
   "outputs": [
    {
     "data": {
      "application/vnd.plotly.v1+json": {
       "config": {
        "plotlyServerURL": "https://plot.ly"
       },
       "data": [
        {
         "hoverlabel": {
          "namelength": 0
         },
         "hovertemplate": "J=%{y}",
         "legendgroup": "",
         "marker": {
          "color": "#636efa",
          "symbol": "circle"
         },
         "mode": "markers",
         "name": "",
         "showlegend": false,
         "type": "scattergl",
         "xaxis": "x",
         "y": [
          6.737190464870009,
          5.931593568604956,
          5.901154707081388,
          5.895228586444221,
          5.8900949431173295,
          5.885004158443647,
          5.879932480491418,
          5.874879094762575,
          5.869843911806385,
          5.86482686531293,
          5.859827889932181,
          5.85484692057229,
          5.849883892376587,
          5.844938740722034,
          5.840011401218361,
          5.835101809707226,
          5.830209902261388,
          5.825335615183863,
          5.820478885007099,
          5.815639648492154,
          5.810817842627869,
          5.806013404630044,
          5.801226271940628,
          5.7964563822269,
          5.7917036733806535,
          5.7869680835173956,
          5.782249550975539,
          5.777548014315596,
          5.7728634123193805,
          5.768195683989212,
          5.76354476854712,
          5.758910605434047,
          5.754293134309077,
          5.749692295048628,
          5.745108027745684,
          5.740540272709012,
          5.735988970462381,
          5.731454061743792,
          5.726935487504702,
          5.722433188909257,
          5.717947107333529,
          5.713477184364749,
          5.709023361800548,
          5.704585581648198,
          5.7001637861238565,
          5.695757917651815,
          5.691367918863752,
          5.68699373259798,
          5.682635301898707,
          5.678292570015292,
          5.673965480401506,
          5.6696539767147955,
          5.6653580028155535,
          5.6610775027663784,
          5.6568124208313595,
          5.6525627014753335,
          5.648328289363181,
          5.644109129359092,
          5.639905166525854,
          5.635716346124135,
          5.631542613611772,
          5.627383914643054,
          5.623240195068026,
          5.619111400931778,
          5.61499747847374,
          5.610898374126984,
          5.60681403451753,
          5.602744406463646,
          5.598689436975159,
          5.594649073252759,
          5.590623262687323,
          5.586611952859217,
          5.5826150915376225,
          5.578632626679852,
          5.574664506430678,
          5.570710679121643,
          5.566771093270403,
          5.562845697580051,
          5.558934440938442,
          5.555037272417542,
          5.551154141272753,
          5.547284996942256,
          5.5434297890463515,
          5.539588467386808,
          5.535760981946203,
          5.531947282887275,
          5.5281473205522715,
          5.524361045462306,
          5.520588408316713,
          5.5168293599924025,
          5.513083851543225,
          5.5093518341993315,
          5.5056332593665385,
          5.501928078625699,
          5.498236243732065,
          5.494557706614666,
          5.490892419375677,
          5.487240334289805,
          5.483601403803652,
          5.479975580535112,
          5.476362817272741,
          5.472763066975151,
          5.469176282770398,
          5.465602417955358,
          5.462041425995136,
          5.4584932605224585,
          5.454957875337047,
          5.451435224405051,
          5.447925261858423,
          5.444427941994333,
          5.440943219274565,
          5.437471048324934,
          5.434011383934687,
          5.430564181055919,
          5.427129394802985,
          5.423706980451918,
          5.420296893439836,
          5.416899089364382,
          5.413513523983123,
          5.410140153212987,
          5.406778933129693,
          5.403429819967165,
          5.4000927701169745,
          5.396767740127768,
          5.393454686704697,
          5.390153566708862,
          5.386864337156746,
          5.383586955219661,
          5.380321378223178,
          5.37706756364658,
          5.373825469122317,
          5.37059505243543,
          5.367376271523024,
          5.364169084473712,
          5.360973449527068,
          5.357789325073084,
          5.354616669651632,
          5.3514554419519165,
          5.348305600811943,
          5.34516710521798,
          5.342039914304029,
          5.338923987351284,
          5.335819283787603,
          5.332725763186988,
          5.329643385269053,
          5.326572109898499,
          5.323511897084587,
          5.32046270698063,
          5.317424499883461,
          5.314397236232924,
          5.311380876611354,
          5.3083753817430726,
          5.305380712493861,
          5.302396829870465,
          5.2994236950200815,
          5.296461269229852,
          5.29350951392636,
          5.290568390675129,
          5.287637861180118,
          5.284717887283231,
          5.281808430963811,
          5.278909454338153,
          5.276020919659,
          5.273142789315069,
          5.270275025830544,
          5.267417591864592,
          5.264570450210886,
          5.261733563797111,
          5.258906895684482,
          5.256090409067274,
          5.253284067272322,
          5.250487833758565,
          5.2477016721165555,
          5.244925546067995,
          5.242159419465253,
          5.2394032562909025,
          5.236657020657251,
          5.2339206768058695,
          5.2311941891071285,
          5.228477522059736,
          5.225770640290271,
          5.223073508552728,
          5.220386091728055,
          5.217708354823696,
          5.215040262973137,
          5.212381781435449,
          5.2097328755948435,
          5.207093510960208,
          5.204463653164672,
          5.20184326796515,
          5.199232321241896,
          5.196630778998063,
          5.194038607359259,
          5.191455772573107,
          5.188882241008802,
          5.1863179791566765,
          5.18376295362776,
          5.181217131153349,
          5.1786804785845755,
          5.176152962891966,
          5.173634551165021,
          5.171125210611782,
          5.168624908558404,
          5.166133612448731,
          5.163651289843875,
          5.161177908421789,
          5.15871343597685,
          5.156257840419434,
          5.153811089775505,
          5.151373152186197,
          5.148943995907395,
          5.146523589309322,
          5.144111900876139,
          5.141708899205515,
          5.139314553008234,
          5.136928831107778,
          5.134551702439932,
          5.132183136052364,
          5.129823101104237,
          5.127471566865799,
          5.12512850271798,
          5.122793878152007,
          5.120467662768992,
          5.1181498262795415,
          5.115840338503367,
          5.113539169368884,
          5.111246288912825,
          5.108961667279848,
          5.10668527472215,
          5.104417081599077,
          5.102157058376736,
          5.099905175627619,
          5.097661404030211,
          5.095425714368609,
          5.093198077532151,
          5.090978464515021,
          5.088766846415887,
          5.086563194437517,
          5.084367479886401,
          5.082179674172386,
          5.079999748808296,
          5.0778276754095675,
          5.075663425693872,
          5.073506971480756,
          5.071358284691268,
          5.069217337347596,
          5.067084101572705,
          5.064958549589969,
          5.06284065372281,
          5.060730386394342,
          5.05862772012701,
          5.056532627542231,
          5.054445081360036,
          5.052365054398719,
          5.050292519574479,
          5.0482274499010735,
          5.046169818489457,
          5.044119598547441,
          5.04207676337934,
          5.040041286385626,
          5.038013141062576,
          5.035992301001939,
          5.033978739890578,
          5.03197243151014,
          5.029973349736707,
          5.027981468540455,
          5.025996761985324,
          5.024019204228667,
          5.022048769520927,
          5.020085432205293,
          5.018129166717367,
          5.016179947584834,
          5.014237749427129,
          5.012302546955106,
          5.010374314970709,
          5.008453028366643,
          5.006538662126046,
          5.004631191322175,
          5.002730591118061,
          5.0008368367662,
          4.998949903608226,
          4.997069767074594,
          4.995196402684257,
          4.993329786044343,
          4.991469892849845,
          4.9896166988833,
          4.987770180014478,
          4.98593031220006,
          4.984097071483332,
          4.982270433993872,
          4.9804503759472345,
          4.978636873644648,
          4.976829903472699,
          4.975029441903031,
          4.973235465492034,
          4.97144795088054,
          4.969666874793521,
          4.967892214039785,
          4.966123945511668,
          4.964362046184744,
          4.962606493117519,
          4.96085726345113,
          4.959114334409053,
          4.957377683296804,
          4.95564728750164,
          4.9539231244922695,
          4.95220517181856,
          4.95049340711124,
          4.948787808081611,
          4.9470883525212574,
          4.945395018301759,
          4.943707783374399,
          4.942026625769877,
          4.940351523598029,
          4.938682455047537,
          4.937019398385641,
          4.935362331957869,
          4.933711234187743,
          4.9320660835764984,
          4.930426858702819,
          4.928793538222534,
          4.927166100868362,
          4.925544525449623,
          4.923928790851962,
          4.922318876037079,
          4.920714760042453,
          4.919116421981069,
          4.91752384104114,
          4.915936996485853,
          4.914355867653077,
          4.912780433955111,
          4.91121067487841,
          4.9096465699833125,
          4.908088098903784,
          4.906535241347148,
          4.904987977093815,
          4.903446285997033,
          4.90191014798261,
          4.9003795430486665,
          4.898854451265366,
          4.897334852774656,
          4.895820727790016,
          4.894312056596192,
          4.892808819548944,
          4.891310997074789,
          4.889818569670748,
          4.88833151790409,
          4.88684982241208,
          4.885373463901725,
          4.883902423149523,
          4.88243668100122,
          4.880976218371547,
          4.879521016243985,
          4.878071055670509,
          4.876626317771341,
          4.875186783734713,
          4.87375243481661,
          4.872323252340535,
          4.8708992176972625,
          4.869480312344595,
          4.868066517807122,
          4.866657815675987,
          4.865254187608633,
          4.863855615328574,
          4.862462080625159,
          4.861073565353324,
          4.859690051433372,
          4.858311520850714,
          4.856937955655664,
          4.855569337963178,
          4.854205649952639,
          4.852846873867617,
          4.85149299201564,
          4.850143986767962,
          4.8487998405593355,
          4.847460535887785,
          4.84612605531437,
          4.8447963814629675,
          4.843471497020045,
          4.842151384734429,
          4.840836027417081,
          4.839525407940883,
          4.838219509240404,
          4.836918314311682,
          4.835621806212003,
          4.834329968059677,
          4.833042783033826,
          4.831760234374157,
          4.830482305380745,
          4.829208979413817,
          4.827940239893541,
          4.826676070299799,
          4.825416454171979,
          4.824161375108761,
          4.822910816767898,
          4.821664762866011,
          4.8204231971783695,
          4.819186103538688,
          4.817953465838902,
          4.816725268028978,
          4.8155014941166865,
          4.814282128167403,
          4.813067154303901,
          4.811856556706141,
          4.8106503196110655,
          4.809448427312395,
          4.808250864160424,
          4.807057614561817,
          4.805868662979403,
          4.804683993931975,
          4.80350359199409,
          4.802327441795866,
          4.80115552802278,
          4.799987835415476,
          4.798824348769555,
          4.7976650529353915,
          4.796509932817919,
          4.795358973376449,
          4.7942121596244665,
          4.793069476629436,
          4.791930909512612,
          4.790796443448837,
          4.789666063666354,
          4.788539755446614,
          4.787417504124084,
          4.786299295086054,
          4.785185113772448,
          4.784074945675635,
          4.782968776340239,
          4.781866591362954,
          4.780768376392351,
          4.779674117128695,
          4.778583799323759,
          4.777497408780635,
          4.7764149313535516,
          4.775336352947692,
          4.774261659519005,
          4.773190837074031,
          4.772123871669708,
          4.771060749413197,
          4.770001456461701,
          4.768945979022287,
          4.767894303351698,
          4.7668464157561825,
          4.765802302591315,
          4.764761950261812,
          4.763725345221363,
          4.7626924739724465,
          4.761663323066164,
          4.760637879102053,
          4.759616128727925,
          4.75859805863968,
          4.75758365558114,
          4.7565729063438775,
          4.755565797767038,
          4.7545623167371724,
          4.753562450188067,
          4.752566185100569,
          4.751573508502425,
          4.750584407468098,
          4.7495988691186195,
          4.7486168806214,
          4.7476384291900775,
          4.7466635020843455,
          4.745692086609786,
          4.744724170117706,
          4.743759740004973,
          4.742798783713851,
          4.741841288731831,
          4.740887242591483,
          4.739936632870274,
          4.738989447190423,
          4.738045673218728,
          4.737105298666416,
          4.736168311288972,
          4.735234698885989,
          4.734304449301005,
          4.733377550421342,
          4.732453990177952,
          4.731533756545261,
          4.730616837541011,
          4.729703221226098,
          4.7287928957044265,
          4.7278858491227505,
          4.726982069670518,
          4.726081545579717,
          4.725184265124721,
          4.724290216622142,
          4.723399388430677,
          4.722511768950946,
          4.721627346625359,
          4.7207461099379495,
          4.719868047414232,
          4.718993147621053,
          4.7181213991664395,
          4.717252790699451,
          4.716387310910035,
          4.715524948528875,
          4.7146656923272445,
          4.713809531116866,
          4.712956453749759,
          4.712106449118099,
          4.711259506154067,
          4.710415613829716,
          4.709574761156817,
          4.708736937186721,
          4.707902131010216,
          4.707070331757381,
          4.706241528597454,
          4.70541571073868,
          4.7045928674281745,
          4.7037729879517896,
          4.702956061633963,
          4.70214207783759,
          4.701331025963877,
          4.700522895452206,
          4.699717675780004,
          4.698915356462592,
          4.6981159270530615,
          4.6973193771421275,
          4.696525696358007,
          4.695734874366266,
          4.694946900869702,
          4.694161765608201,
          4.6933794583586,
          4.692599968934568,
          4.691823287186457,
          4.691049403001182,
          4.69027830630208,
          4.689509987048791,
          4.688744435237113,
          4.68798164089888,
          4.6872215941018345,
          4.686464284949491,
          4.685709703581008,
          4.684957840171069,
          4.684208684929745,
          4.683462228102367,
          4.682718459969402,
          4.681977370846331,
          4.681238951083514,
          4.680503191066067,
          4.679770081213745,
          4.679039611980803,
          4.678311773855883,
          4.677586557361888,
          4.676863953055852,
          4.676143951528824,
          4.675426543405748,
          4.674711719345328,
          4.673999470039924,
          4.673289786215412,
          4.672582658631084,
          4.671878078079505,
          4.671176035386413,
          4.6704765214105874,
          4.669779527043733,
          4.669085043210365,
          4.668393060867689,
          4.667703571005477,
          4.667016564645957,
          4.666332032843698,
          4.665649966685489,
          4.664970357290219,
          4.664293195808771,
          4.6636184734239015,
          4.662946181350124,
          4.662276310833599,
          4.661608853152018,
          4.660943799614486,
          4.660281141561418,
          4.659620870364415,
          4.65896297742616,
          4.658307454180302,
          4.657654292091346,
          4.657003482654543,
          4.6563550173957715,
          4.65570888787144,
          4.655065085668367,
          4.654423602403678,
          4.653784429724688,
          4.653147559308802,
          4.6525129828634,
          4.651880692125735,
          4.651250678862817,
          4.650622934871314,
          4.649997451977443,
          4.649374222036858,
          4.648753236934556,
          4.648134488584754,
          4.6475179689308,
          4.646903669945062,
          4.64629158362882,
          4.6456817020121655,
          4.645074017153899,
          4.644468521141423,
          4.6438652060906405,
          4.643264064145854,
          4.642665087479662,
          4.6420682682928565,
          4.6414735988143185,
          4.6408810713009245,
          4.64029067803744,
          4.63970241133642,
          4.6391162635381065,
          4.638532227010339,
          4.637950294148439,
          4.637370457375124,
          4.636792709140407,
          4.636217041921488,
          4.6356434482226705,
          4.635071920575256,
          4.634502451537443,
          4.633935033694241,
          4.633369659657368,
          4.632806322065146,
          4.632245013582422,
          4.63168572690046,
          4.63112845473685,
          4.630573189835415,
          4.630019924966111,
          4.6294686529249365,
          4.628919366533842,
          4.62837205864063,
          4.627826722118864,
          4.627283349867779,
          4.626741934812184,
          4.626202469902373,
          4.625664948114038,
          4.625129362448163,
          4.6245957059309495,
          4.624063971613714,
          4.623534152572803,
          4.623006241909502,
          4.622480232749945,
          4.621956118245025,
          4.621433891570306,
          4.620913545925933,
          4.62039507453654,
          4.619878470651173,
          4.619363727543187,
          4.6188508385101725,
          4.618339796873855,
          4.6178305959800205,
          4.617323229198419,
          4.6168176899226845,
          4.61631397157025,
          4.61581206758225,
          4.61531197142345,
          4.6148136765821555,
          4.614317176570122,
          4.613822464922479,
          4.613329535197642,
          4.612838380977227,
          4.612348995865971,
          4.611861373491642,
          4.611375507504967,
          4.6108913915795355,
          4.610409019411731,
          4.609928384720636,
          4.609449481247963,
          4.60897230275796,
          4.608496843037341,
          4.608023095895197,
          4.60755105516292,
          4.60708071469412,
          4.606612068364546,
          4.606145110072004,
          4.605679833736286,
          4.605216233299077,
          4.604754302723889,
          4.604294035995977,
          4.603835427122256,
          4.603378470131233,
          4.60292315907292,
          4.602469488018764,
          4.602017451061563,
          4.6015670423153985,
          4.601118255915542,
          4.6006710860184,
          4.60022552680142,
          4.599781572463031,
          4.599339217222544,
          4.598898455320108,
          4.598459281016607,
          4.598021688593604,
          4.597585672353254,
          4.597151226618241,
          4.596718345731694,
          4.596287024057118,
          4.595857255978326,
          4.595429035899349,
          4.595002358244385,
          4.5945772174577115,
          4.594153608003617,
          4.59373152436633,
          4.593310961049946,
          4.592891912578358,
          4.592474373495182,
          4.592058338363686,
          4.591643801766726,
          4.591230758306666,
          4.590819202605312,
          4.590409129303844,
          4.590000533062744,
          4.589593408561724,
          4.589187750499662,
          4.588783553594528,
          4.588380812583321,
          4.587979522221996,
          4.587579677285394,
          4.587181272567178,
          4.586784302879765,
          4.586388763054258,
          4.585994647940378,
          4.5856019524063925,
          4.585210671339058,
          4.5848207996435475,
          4.584432332243386,
          4.58404526408038,
          4.583659590114562,
          4.583275305324111,
          4.582892404705298,
          4.582510883272418,
          4.582130736057723,
          4.581751958111355,
          4.581374544501292,
          4.580998490313273,
          4.580623790650735,
          4.580250440634761,
          4.579878435403997,
          4.579507770114607,
          4.5791384399401975,
          4.5787704400717635,
          4.578403765717618,
          4.578038412103337,
          4.577674374471689,
          4.577311648082583,
          4.576950228212997,
          4.576590110156924,
          4.576231289225308,
          4.57587376074598,
          4.575517520063602,
          4.575162562539603,
          4.574808883552121,
          4.574456478495942,
          4.574105342782437,
          4.573755471839512,
          4.573406861111529,
          4.573059506059272,
          4.572713402159866,
          4.572368544906735,
          4.572024929809526,
          4.571682552394067,
          4.5713414082023025,
          4.571001492792229,
          4.5706628017378454,
          4.570325330629095,
          4.569989075071803,
          4.569654030687623,
          4.56932019311398,
          4.568987558004013,
          4.568656121026514,
          4.568325877865882,
          4.567996824222056,
          4.567668955810466,
          4.5673422683619735,
          4.567016757622818,
          4.56669241935456,
          4.566369249334026,
          4.566047243353258,
          4.565726397219447,
          4.565406706754897,
          4.56508816779695,
          4.564770776197948,
          4.564454527825169,
          4.564139418560778,
          4.563825444301772,
          4.563512600959929,
          4.563200884461748,
          4.562890290748406,
          4.562580815775695,
          4.562272455513976,
          4.561965205948124,
          4.561659063077476,
          4.5613540229157845,
          4.56105008149115,
          4.560747234845985,
          4.560445479036962,
          4.560144810134948,
          4.559845224224967,
          4.559546717406144,
          4.559249285791657,
          4.558952925508682,
          4.558657632698341,
          4.558363403515664,
          4.558070234129523,
          4.557778120722592,
          4.557487059491295,
          4.557197046645756,
          4.5569080784097515,
          4.556620151020654,
          4.556333260729399,
          4.556047403800417,
          4.5557625765115946,
          4.555478775154231,
          4.555195996032978,
          4.554914235465802,
          4.554633489783926,
          4.554353755331798,
          4.554075028467021,
          4.553797305560327,
          4.553520582995515,
          4.553244857169413,
          4.552970124491824,
          4.552696381385485,
          4.5524236242860185,
          4.5521518496418825,
          4.5518810539143315,
          4.551611233577364,
          4.551342385117678,
          4.551074505034629,
          4.550807589840181,
          4.550541636058861,
          4.550276640227711,
          4.550012598896252,
          4.549749508626433,
          4.549487365992583,
          4.549226167581372,
          4.5489659099917645,
          4.548706589834975,
          4.548448203734425,
          4.548190748325698,
          4.547934220256497,
          4.547678616186597,
          4.547423932787805,
          4.547170166743919,
          4.546917314750676,
          4.546665373515724,
          4.54641433975856,
          4.5461642102105015,
          4.545914981614642,
          4.5456666507258,
          4.545419214310491,
          4.545172669146869,
          4.544927012024697,
          4.544682239745305,
          4.544438349121537,
          4.5441953369777215,
          4.543953200149624,
          4.543711935484407,
          4.543471539840593,
          4.543232010088012,
          4.542993343107779,
          4.542755535792234,
          4.542518585044917,
          4.5422824877805175,
          4.542047240924838,
          4.541812841414758,
          4.5415792861981865,
          4.541346572234026,
          4.541114696492136,
          4.540883655953286,
          4.540653447609125,
          4.540424068462133,
          4.540195515525591,
          4.5399677858235385,
          4.53974087639073,
          4.539514784272603,
          4.539289506525239,
          4.53906504021532,
          4.538841382420094,
          4.5386185302273425,
          4.538396480735327,
          4.538175231052766,
          4.537954778298796,
          4.537735119602923,
          4.537516252104996,
          4.537298172955165,
          4.537080879313848,
          4.5368643683516865,
          4.536648637249516,
          4.536433683198326,
          4.536219503399223,
          4.536006095063397,
          4.535793455412081,
          4.535581581676518,
          4.535370471097923,
          4.535160120927449,
          4.53495052842615,
          4.534741690864945,
          4.534533605524585,
          4.534326269695612,
          4.534119680678329,
          4.533913835782764,
          4.533708732328634,
          4.53350436764531,
          4.53330073907178,
          4.533097843956624,
          4.532895679657962,
          4.532694243543437,
          4.532493532990171,
          4.532293545384737,
          4.532094278123114,
          4.53189572861067,
          4.531697894262111,
          4.531500772501459,
          4.531304360762014,
          4.531108656486318,
          4.5309136571261295,
          4.530719360142383,
          4.53052576300516,
          4.530332863193653,
          4.530140658196134,
          4.529949145509925,
          4.52975832264136,
          4.529568187105754,
          4.529378736427375,
          4.5291899681394066,
          4.5290018797839195,
          4.528814468911833,
          4.528627733082892,
          4.528441669865631,
          4.528256276837342,
          4.52807155158404,
          4.527887491700442,
          4.527704094789922,
          4.52752135846449,
          4.527339280344758,
          4.527157858059903,
          4.52697708924765,
          4.5267969715542264,
          4.52661750263434,
          4.526438680151148,
          4.5262605017762185,
          4.526082965189513,
          4.5259060680793475,
          4.525729808142365,
          4.525554183083503,
          4.525379190615968,
          4.525204828461203,
          4.525031094348856,
          4.524857986016757,
          4.52468550121088,
          4.5245136376853194,
          4.524342393202259,
          4.524171765531945,
          4.524001752452653,
          4.523832351750661,
          4.523663561220222,
          4.523495378663533,
          4.523327801890707,
          4.523160828719747,
          4.5229944569765115,
          4.522828684494693,
          4.522663509115789,
          4.522498928689069,
          4.522334941071547,
          4.52217154412796,
          4.522008735730735,
          4.521846513759959,
          4.521684876103361,
          4.521523820656275,
          4.521363345321613,
          4.521203448009849,
          4.521044126638972,
          4.520885379134479,
          4.520727203429336,
          4.520569597463955,
          4.520412559186167,
          4.52025608655119,
          4.520100177521617,
          4.519944830067369,
          4.519790042165688,
          4.5196358118010975,
          4.519482136965377,
          4.519329015657548,
          4.519176445883834,
          4.519024425657637,
          4.518872952999525,
          4.5187220259371825,
          4.518571642505413,
          4.518421800746084,
          4.518272498708126,
          4.518123734447491,
          4.517975506027139,
          4.5178278115170025,
          4.517680648993968,
          4.51753401654185,
          4.517387912251362,
          4.517242334220096,
          4.517097280552497,
          4.51695274935984,
          4.516808738760196,
          4.516665246878423,
          4.516522271846126,
          4.516379811801645,
          4.516237864890023,
          4.516096429262984,
          4.515955503078913,
          4.515815084502823,
          4.515675171706341,
          4.515535762867679,
          4.515396856171608,
          4.51525844980944,
          4.515120541979,
          4.514983130884608,
          4.514846214737048,
          4.514709791753551,
          4.514573860157765,
          4.514438418179744,
          4.514303464055912,
          4.514168996029047,
          4.514035012348253,
          4.513901511268946,
          4.513768491052822,
          4.513635949967839,
          4.5135038862881975,
          4.513372298294308,
          4.513241184272778,
          4.513110542516388,
          4.512980371324065,
          4.512850669000864,
          4.512721433857947,
          4.512592664212555,
          4.512464358387996,
          4.512336514713613,
          4.512209131524768,
          4.512082207162816,
          4.511955739975093,
          4.51182972831488,
          4.511704170541396,
          4.511579065019767,
          4.511454410121005,
          4.511330204221997,
          4.511206445705469,
          4.511083132959975,
          4.5109602643798725,
          4.510837838365307,
          4.51071585332218,
          4.51059430766214,
          4.5104731998025525,
          4.510352528166486,
          4.510232291182689,
          4.510112487285568,
          4.509993114915171,
          4.509874172517163,
          4.509755658542809,
          4.509637571448952,
          4.509519909697992,
          4.509402671757868,
          4.509285856102038,
          4.509169461209461,
          4.509053485564569,
          4.508937927657256,
          4.50882278598286,
          4.508708059042126,
          4.508593745341215,
          4.508479843391656,
          4.508366351710347,
          4.508253268819524,
          4.508140593246748,
          4.508028323524883,
          4.507916458192077,
          4.507804995791744,
          4.507693934872545,
          4.507583273988367,
          4.507473011698308,
          4.5073631465666555,
          4.507253677162866,
          4.507144602061551,
          4.507035919842458,
          4.506927629090446,
          4.506819728395472,
          4.506712216352576,
          4.506605091561853,
          4.506498352628444,
          4.506391998162514,
          4.506286026779232,
          4.506180437098758,
          4.506075227746218,
          4.505970397351695,
          4.505865944550205,
          4.505761867981677,
          4.505658166290941,
          4.505554838127713,
          4.5054518821465654,
          4.505349297006919,
          4.505247081373027,
          4.505145233913949,
          4.505043753303542,
          4.5049426382204345,
          4.504841887348024,
          4.504741499374441,
          4.504641472992545,
          4.504541806899904,
          4.504442499798778,
          4.504343550396099,
          4.504244957403458,
          4.504146719537086,
          4.504048835517841,
          4.503951304071183,
          4.5038541239271686,
          4.503757293820424,
          4.5036608124901365,
          4.503564678680033,
          4.503468891138364,
          4.503373448617895,
          4.503278349875875,
          4.503183593674036,
          4.503089178778568,
          4.502995103960105,
          4.502901367993707,
          4.502807969658854,
          4.502714907739411,
          4.502622181023632,
          4.502529788304132,
          4.502437728377876,
          4.5023460000461615,
          4.502254602114604,
          4.502163533393122,
          4.502072792695919,
          4.50198237884147,
          4.501892290652507,
          4.501802526956003,
          4.501713086583154,
          4.5016239683693655,
          4.50153517115424,
          4.501446693781559,
          4.501358535099267,
          4.501270693959463,
          4.5011831692183755,
          4.501095959736354,
          4.501009064377855,
          4.50092248201142,
          4.500836211509674,
          4.500750251749297,
          4.500664601611016,
          4.500579259979591,
          4.500494225743796,
          4.5004094977964115,
          4.500325075034204,
          4.5002409563579135,
          4.500157140672241,
          4.500073626885832,
          4.499990413911261,
          4.499907500665023,
          4.499824886067513,
          4.499742569043015,
          4.4996605485196906,
          4.499578823429555,
          4.49949739270848,
          4.499416255296162,
          4.499335410136122,
          4.499254856175683,
          4.499174592365959,
          4.4990946176618465,
          4.499014931022004,
          4.498935531408838,
          4.498856417788497,
          4.498777589130851,
          4.498699044409482,
          4.498620782601665,
          4.498542802688364,
          4.498465103654211,
          4.498387684487494,
          4.498310544180148,
          4.498233681727737,
          4.498157096129445,
          4.498080786388058,
          4.4980047515099555,
          4.4979289905050965,
          4.497853502387004,
          4.497778286172756,
          4.497703340882973,
          4.497628665541798,
          4.497554259176892,
          4.497480120819419,
          4.4974062495040315,
          4.497332644268859,
          4.497259304155495,
          4.497186228208986,
          4.497113415477821,
          4.497040865013911,
          4.496968575872585,
          4.496896547112575,
          4.496824777796001,
          4.496753266988365,
          4.49668201375853,
          4.496611017178718,
          4.496540276324487,
          4.496469790274732,
          4.496399558111662,
          4.496329578920789,
          4.4962598517909225,
          4.496190375814155,
          4.496121150085846,
          4.496052173704615,
          4.495983445772328,
          4.495914965394088,
          4.495846731678219,
          4.495778743736256,
          4.495711000682937,
          4.495643501636186,
          4.495576245717105,
          4.495509232049965,
          4.495442459762187,
          4.495375927984336,
          4.495309635850108,
          4.4952435824963235,
          4.495177767062906,
          4.495112188692882,
          4.495046846532363,
          4.494981739730534,
          4.49491686743965,
          4.494852228815012,
          4.494787823014971,
          4.494723649200904,
          4.494659706537214,
          4.494595994191306,
          4.494532511333593,
          4.494469257137467,
          4.494406230779307,
          4.494343431438454,
          4.4942808582972,
          4.494218510540789,
          4.494156387357401,
          4.494094487938134,
          4.494032811477003,
          4.493971357170926,
          4.4939101242197115,
          4.493849111826053,
          4.4937883191955175,
          4.493727745536528,
          4.493667390060364,
          4.49360725198114,
          4.493547330515808,
          4.493487624884136,
          4.4934281343087035,
          4.4933688580148905,
          4.493309795230867,
          4.493250945187583,
          4.493192307118759,
          4.493133880260875,
          4.493075663853161,
          4.493017657137589,
          4.492959859358858,
          4.49290226976439,
          4.49284488760432,
          4.492787712131476,
          4.492730742601387,
          4.492673978272259,
          4.492617418404968,
          4.4925610622630545,
          4.492504909112712,
          4.492448958222777,
          4.492393208864718,
          4.4923376603126295,
          4.49228231184322,
          4.492227162735802,
          4.492172212272289,
          4.492117459737173,
          4.492062904417529,
          4.492008545602999,
          4.491954382585781,
          4.491900414660624,
          4.491846641124821,
          4.49179306127819,
          4.491739674423074,
          4.49168647986433,
          4.491633476909316,
          4.491580664867888,
          4.4915280430523845,
          4.491475610777624,
          4.491423367360893,
          4.491371312121932,
          4.491319444382939,
          4.491267763468548,
          4.491216268705829,
          4.491164959424272,
          4.4911138349557875,
          4.4910628946346876,
          4.491012137797685,
          4.49096156378388,
          4.490911171934753,
          4.49086096159416,
          4.490810932108316,
          4.4907610828257924,
          4.490711413097508,
          4.4906619222767175,
          4.490612609719009,
          4.490563474782287,
          4.490514516826771,
          4.490465735214986,
          4.4904171293117505,
          4.490368698484175,
          4.490320442101646,
          4.49027235953582,
          4.490224450160622,
          4.490176713352228,
          4.490129148489064,
          4.490081754951793,
          4.490034532123307,
          4.489987479388724,
          4.4899405961353756,
          4.489893881752801,
          4.489847335632737,
          4.489800957169108,
          4.489754745758032,
          4.489708700797791,
          4.489662821688838,
          4.48961710783379,
          4.489571558637409,
          4.489526173506604,
          4.489480951850421,
          4.489435893080036,
          4.48939099660874,
          4.489346261851942,
          4.489301688227159,
          4.489257275153997,
          4.489213022054162,
          4.4891689283514395,
          4.489124993471691,
          4.489081216842843,
          4.489037597894885,
          4.488994136059861,
          4.4889508307718575,
          4.488907681467004,
          4.4888646875834555,
          4.488821848561395,
          4.48877916384302,
          4.488736632872536,
          4.488694255096154,
          4.488652029962077,
          4.488609956920497,
          4.488568035423583,
          4.488526264925482,
          4.488484644882305,
          4.488443174752122,
          4.488401853994954,
          4.488360682072771,
          4.4883196584494724,
          4.488278782590899,
          4.4882380539648095,
          4.48819747204088,
          4.488157036290699,
          4.488116746187758,
          4.488076601207441,
          4.4880366008270265,
          4.487996744525674,
          4.487957031784418,
          4.487917462086166,
          4.487878034915683,
          4.487838749759592,
          4.4877996061063685,
          4.487760603446323,
          4.487721741271607,
          4.487683019076204,
          4.487644436355913,
          4.487605992608354,
          4.487567687332956,
          4.4875295200309475,
          4.48749149020536,
          4.487453597361009,
          4.487415841004497,
          4.487378220644201,
          4.487340735790274,
          4.487303385954625,
          4.48726617065093,
          4.487229089394612,
          4.487192141702837,
          4.487155327094518,
          4.487118645090293,
          4.487082095212529,
          4.487045676985318,
          4.487009389934457,
          4.486973233587461,
          4.48693720747354,
          4.486901311123601,
          4.486865544070245,
          4.486829905847749,
          4.486794395992074,
          4.486759014040851,
          4.486723759533374,
          4.4866886320105985,
          4.486653631015133,
          4.486618756091233,
          4.486584006784796,
          4.486549382643356,
          4.486514883216077,
          4.486480508053741,
          4.486446256708757,
          4.486412128735142,
          4.486378123688517,
          4.486344241126109,
          4.486310480606735,
          4.486276841690803,
          4.486243323940307,
          4.486209926918811,
          4.486176650191459,
          4.4861434933249615,
          4.486110455887581,
          4.486077537449144,
          4.486044737581024,
          4.486012055856135,
          4.485979491848933,
          4.485947045135406,
          4.4859147152930685,
          4.485882501900957,
          4.485850404539626,
          4.485818422791137,
          4.485786556239061,
          4.485754804468467,
          4.485723167065918,
          4.485691643619467,
          4.48566023371865,
          4.485628936954484,
          4.485597752919457,
          4.4855666812075246,
          4.485535721414104,
          4.485504873136073,
          4.48547413597176,
          4.485443509520939,
          4.485412993384827,
          4.485382587166075,
          4.48535229046877,
          4.485322102898417,
          4.485292024061953,
          4.485262053567721,
          4.485232191025481,
          4.485202436046394,
          4.485172788243024,
          4.485143247229331,
          4.485113812620664,
          4.485084484033761,
          4.485055261086734,
          4.485026143399074,
          4.484997130591648,
          4.484968222286677,
          4.484939418107754,
          4.4849107176798215,
          4.484882120629172,
          4.484853626583452,
          4.484825235171638,
          4.484796946024051,
          4.484768758772342,
          4.484740673049486,
          4.484712688489784,
          4.48468480472885,
          4.484657021403614,
          4.484629338152312,
          4.484601754614484,
          4.484574270430968,
          4.484546885243893,
          4.484519598696683,
          4.484492410434043,
          4.484465320101954,
          4.484438327347678,
          4.484411431819745,
          4.484384633167951,
          4.4843579310433554,
          4.484331325098272,
          4.484304814986266,
          4.484278400362154,
          4.484252080881993,
          4.484225856203082,
          4.4841997259839514,
          4.4841736898843605,
          4.484147747565298,
          4.484121898688973,
          4.4840961429188075,
          4.484070479919441,
          4.484044909356716,
          4.484019430897684,
          4.483994044210589,
          4.483968748964877,
          4.483943544831179,
          4.483918431481317,
          4.483893408588292,
          4.483868475826285,
          4.483843632870646,
          4.483818879397901,
          4.483794215085735,
          4.483769639612999,
          4.483745152659696,
          4.483720753906988,
          4.483696443037178,
          4.483672219733718,
          4.483648083681199,
          4.4836240345653495,
          4.483600072073027,
          4.483576195892218,
          4.483552405712033,
          4.483528701222707,
          4.483505082115582,
          4.48348154808312,
          4.483458098818883,
          4.483434734017543,
          4.483411453374869,
          4.483388256587726
         ],
         "yaxis": "y"
        }
       ],
       "layout": {
        "height": 600,
        "legend": {
         "tracegroupgap": 0
        },
        "template": {
         "data": {
          "bar": [
           {
            "error_x": {
             "color": "#2a3f5f"
            },
            "error_y": {
             "color": "#2a3f5f"
            },
            "marker": {
             "line": {
              "color": "#E5ECF6",
              "width": 0.5
             }
            },
            "type": "bar"
           }
          ],
          "barpolar": [
           {
            "marker": {
             "line": {
              "color": "#E5ECF6",
              "width": 0.5
             }
            },
            "type": "barpolar"
           }
          ],
          "carpet": [
           {
            "aaxis": {
             "endlinecolor": "#2a3f5f",
             "gridcolor": "white",
             "linecolor": "white",
             "minorgridcolor": "white",
             "startlinecolor": "#2a3f5f"
            },
            "baxis": {
             "endlinecolor": "#2a3f5f",
             "gridcolor": "white",
             "linecolor": "white",
             "minorgridcolor": "white",
             "startlinecolor": "#2a3f5f"
            },
            "type": "carpet"
           }
          ],
          "choropleth": [
           {
            "colorbar": {
             "outlinewidth": 0,
             "ticks": ""
            },
            "type": "choropleth"
           }
          ],
          "contour": [
           {
            "colorbar": {
             "outlinewidth": 0,
             "ticks": ""
            },
            "colorscale": [
             [
              0,
              "#0d0887"
             ],
             [
              0.1111111111111111,
              "#46039f"
             ],
             [
              0.2222222222222222,
              "#7201a8"
             ],
             [
              0.3333333333333333,
              "#9c179e"
             ],
             [
              0.4444444444444444,
              "#bd3786"
             ],
             [
              0.5555555555555556,
              "#d8576b"
             ],
             [
              0.6666666666666666,
              "#ed7953"
             ],
             [
              0.7777777777777778,
              "#fb9f3a"
             ],
             [
              0.8888888888888888,
              "#fdca26"
             ],
             [
              1,
              "#f0f921"
             ]
            ],
            "type": "contour"
           }
          ],
          "contourcarpet": [
           {
            "colorbar": {
             "outlinewidth": 0,
             "ticks": ""
            },
            "type": "contourcarpet"
           }
          ],
          "heatmap": [
           {
            "colorbar": {
             "outlinewidth": 0,
             "ticks": ""
            },
            "colorscale": [
             [
              0,
              "#0d0887"
             ],
             [
              0.1111111111111111,
              "#46039f"
             ],
             [
              0.2222222222222222,
              "#7201a8"
             ],
             [
              0.3333333333333333,
              "#9c179e"
             ],
             [
              0.4444444444444444,
              "#bd3786"
             ],
             [
              0.5555555555555556,
              "#d8576b"
             ],
             [
              0.6666666666666666,
              "#ed7953"
             ],
             [
              0.7777777777777778,
              "#fb9f3a"
             ],
             [
              0.8888888888888888,
              "#fdca26"
             ],
             [
              1,
              "#f0f921"
             ]
            ],
            "type": "heatmap"
           }
          ],
          "heatmapgl": [
           {
            "colorbar": {
             "outlinewidth": 0,
             "ticks": ""
            },
            "colorscale": [
             [
              0,
              "#0d0887"
             ],
             [
              0.1111111111111111,
              "#46039f"
             ],
             [
              0.2222222222222222,
              "#7201a8"
             ],
             [
              0.3333333333333333,
              "#9c179e"
             ],
             [
              0.4444444444444444,
              "#bd3786"
             ],
             [
              0.5555555555555556,
              "#d8576b"
             ],
             [
              0.6666666666666666,
              "#ed7953"
             ],
             [
              0.7777777777777778,
              "#fb9f3a"
             ],
             [
              0.8888888888888888,
              "#fdca26"
             ],
             [
              1,
              "#f0f921"
             ]
            ],
            "type": "heatmapgl"
           }
          ],
          "histogram": [
           {
            "marker": {
             "colorbar": {
              "outlinewidth": 0,
              "ticks": ""
             }
            },
            "type": "histogram"
           }
          ],
          "histogram2d": [
           {
            "colorbar": {
             "outlinewidth": 0,
             "ticks": ""
            },
            "colorscale": [
             [
              0,
              "#0d0887"
             ],
             [
              0.1111111111111111,
              "#46039f"
             ],
             [
              0.2222222222222222,
              "#7201a8"
             ],
             [
              0.3333333333333333,
              "#9c179e"
             ],
             [
              0.4444444444444444,
              "#bd3786"
             ],
             [
              0.5555555555555556,
              "#d8576b"
             ],
             [
              0.6666666666666666,
              "#ed7953"
             ],
             [
              0.7777777777777778,
              "#fb9f3a"
             ],
             [
              0.8888888888888888,
              "#fdca26"
             ],
             [
              1,
              "#f0f921"
             ]
            ],
            "type": "histogram2d"
           }
          ],
          "histogram2dcontour": [
           {
            "colorbar": {
             "outlinewidth": 0,
             "ticks": ""
            },
            "colorscale": [
             [
              0,
              "#0d0887"
             ],
             [
              0.1111111111111111,
              "#46039f"
             ],
             [
              0.2222222222222222,
              "#7201a8"
             ],
             [
              0.3333333333333333,
              "#9c179e"
             ],
             [
              0.4444444444444444,
              "#bd3786"
             ],
             [
              0.5555555555555556,
              "#d8576b"
             ],
             [
              0.6666666666666666,
              "#ed7953"
             ],
             [
              0.7777777777777778,
              "#fb9f3a"
             ],
             [
              0.8888888888888888,
              "#fdca26"
             ],
             [
              1,
              "#f0f921"
             ]
            ],
            "type": "histogram2dcontour"
           }
          ],
          "mesh3d": [
           {
            "colorbar": {
             "outlinewidth": 0,
             "ticks": ""
            },
            "type": "mesh3d"
           }
          ],
          "parcoords": [
           {
            "line": {
             "colorbar": {
              "outlinewidth": 0,
              "ticks": ""
             }
            },
            "type": "parcoords"
           }
          ],
          "pie": [
           {
            "automargin": true,
            "type": "pie"
           }
          ],
          "scatter": [
           {
            "marker": {
             "colorbar": {
              "outlinewidth": 0,
              "ticks": ""
             }
            },
            "type": "scatter"
           }
          ],
          "scatter3d": [
           {
            "line": {
             "colorbar": {
              "outlinewidth": 0,
              "ticks": ""
             }
            },
            "marker": {
             "colorbar": {
              "outlinewidth": 0,
              "ticks": ""
             }
            },
            "type": "scatter3d"
           }
          ],
          "scattercarpet": [
           {
            "marker": {
             "colorbar": {
              "outlinewidth": 0,
              "ticks": ""
             }
            },
            "type": "scattercarpet"
           }
          ],
          "scattergeo": [
           {
            "marker": {
             "colorbar": {
              "outlinewidth": 0,
              "ticks": ""
             }
            },
            "type": "scattergeo"
           }
          ],
          "scattergl": [
           {
            "marker": {
             "colorbar": {
              "outlinewidth": 0,
              "ticks": ""
             }
            },
            "type": "scattergl"
           }
          ],
          "scattermapbox": [
           {
            "marker": {
             "colorbar": {
              "outlinewidth": 0,
              "ticks": ""
             }
            },
            "type": "scattermapbox"
           }
          ],
          "scatterpolar": [
           {
            "marker": {
             "colorbar": {
              "outlinewidth": 0,
              "ticks": ""
             }
            },
            "type": "scatterpolar"
           }
          ],
          "scatterpolargl": [
           {
            "marker": {
             "colorbar": {
              "outlinewidth": 0,
              "ticks": ""
             }
            },
            "type": "scatterpolargl"
           }
          ],
          "scatterternary": [
           {
            "marker": {
             "colorbar": {
              "outlinewidth": 0,
              "ticks": ""
             }
            },
            "type": "scatterternary"
           }
          ],
          "surface": [
           {
            "colorbar": {
             "outlinewidth": 0,
             "ticks": ""
            },
            "colorscale": [
             [
              0,
              "#0d0887"
             ],
             [
              0.1111111111111111,
              "#46039f"
             ],
             [
              0.2222222222222222,
              "#7201a8"
             ],
             [
              0.3333333333333333,
              "#9c179e"
             ],
             [
              0.4444444444444444,
              "#bd3786"
             ],
             [
              0.5555555555555556,
              "#d8576b"
             ],
             [
              0.6666666666666666,
              "#ed7953"
             ],
             [
              0.7777777777777778,
              "#fb9f3a"
             ],
             [
              0.8888888888888888,
              "#fdca26"
             ],
             [
              1,
              "#f0f921"
             ]
            ],
            "type": "surface"
           }
          ],
          "table": [
           {
            "cells": {
             "fill": {
              "color": "#EBF0F8"
             },
             "line": {
              "color": "white"
             }
            },
            "header": {
             "fill": {
              "color": "#C8D4E3"
             },
             "line": {
              "color": "white"
             }
            },
            "type": "table"
           }
          ]
         },
         "layout": {
          "annotationdefaults": {
           "arrowcolor": "#2a3f5f",
           "arrowhead": 0,
           "arrowwidth": 1
          },
          "coloraxis": {
           "colorbar": {
            "outlinewidth": 0,
            "ticks": ""
           }
          },
          "colorscale": {
           "diverging": [
            [
             0,
             "#8e0152"
            ],
            [
             0.1,
             "#c51b7d"
            ],
            [
             0.2,
             "#de77ae"
            ],
            [
             0.3,
             "#f1b6da"
            ],
            [
             0.4,
             "#fde0ef"
            ],
            [
             0.5,
             "#f7f7f7"
            ],
            [
             0.6,
             "#e6f5d0"
            ],
            [
             0.7,
             "#b8e186"
            ],
            [
             0.8,
             "#7fbc41"
            ],
            [
             0.9,
             "#4d9221"
            ],
            [
             1,
             "#276419"
            ]
           ],
           "sequential": [
            [
             0,
             "#0d0887"
            ],
            [
             0.1111111111111111,
             "#46039f"
            ],
            [
             0.2222222222222222,
             "#7201a8"
            ],
            [
             0.3333333333333333,
             "#9c179e"
            ],
            [
             0.4444444444444444,
             "#bd3786"
            ],
            [
             0.5555555555555556,
             "#d8576b"
            ],
            [
             0.6666666666666666,
             "#ed7953"
            ],
            [
             0.7777777777777778,
             "#fb9f3a"
            ],
            [
             0.8888888888888888,
             "#fdca26"
            ],
            [
             1,
             "#f0f921"
            ]
           ],
           "sequentialminus": [
            [
             0,
             "#0d0887"
            ],
            [
             0.1111111111111111,
             "#46039f"
            ],
            [
             0.2222222222222222,
             "#7201a8"
            ],
            [
             0.3333333333333333,
             "#9c179e"
            ],
            [
             0.4444444444444444,
             "#bd3786"
            ],
            [
             0.5555555555555556,
             "#d8576b"
            ],
            [
             0.6666666666666666,
             "#ed7953"
            ],
            [
             0.7777777777777778,
             "#fb9f3a"
            ],
            [
             0.8888888888888888,
             "#fdca26"
            ],
            [
             1,
             "#f0f921"
            ]
           ]
          },
          "colorway": [
           "#636efa",
           "#EF553B",
           "#00cc96",
           "#ab63fa",
           "#FFA15A",
           "#19d3f3",
           "#FF6692",
           "#B6E880",
           "#FF97FF",
           "#FECB52"
          ],
          "font": {
           "color": "#2a3f5f"
          },
          "geo": {
           "bgcolor": "white",
           "lakecolor": "white",
           "landcolor": "#E5ECF6",
           "showlakes": true,
           "showland": true,
           "subunitcolor": "white"
          },
          "hoverlabel": {
           "align": "left"
          },
          "hovermode": "closest",
          "mapbox": {
           "style": "light"
          },
          "paper_bgcolor": "white",
          "plot_bgcolor": "#E5ECF6",
          "polar": {
           "angularaxis": {
            "gridcolor": "white",
            "linecolor": "white",
            "ticks": ""
           },
           "bgcolor": "#E5ECF6",
           "radialaxis": {
            "gridcolor": "white",
            "linecolor": "white",
            "ticks": ""
           }
          },
          "scene": {
           "xaxis": {
            "backgroundcolor": "#E5ECF6",
            "gridcolor": "white",
            "gridwidth": 2,
            "linecolor": "white",
            "showbackground": true,
            "ticks": "",
            "zerolinecolor": "white"
           },
           "yaxis": {
            "backgroundcolor": "#E5ECF6",
            "gridcolor": "white",
            "gridwidth": 2,
            "linecolor": "white",
            "showbackground": true,
            "ticks": "",
            "zerolinecolor": "white"
           },
           "zaxis": {
            "backgroundcolor": "#E5ECF6",
            "gridcolor": "white",
            "gridwidth": 2,
            "linecolor": "white",
            "showbackground": true,
            "ticks": "",
            "zerolinecolor": "white"
           }
          },
          "shapedefaults": {
           "line": {
            "color": "#2a3f5f"
           }
          },
          "ternary": {
           "aaxis": {
            "gridcolor": "white",
            "linecolor": "white",
            "ticks": ""
           },
           "baxis": {
            "gridcolor": "white",
            "linecolor": "white",
            "ticks": ""
           },
           "bgcolor": "#E5ECF6",
           "caxis": {
            "gridcolor": "white",
            "linecolor": "white",
            "ticks": ""
           }
          },
          "title": {
           "x": 0.05
          },
          "xaxis": {
           "automargin": true,
           "gridcolor": "white",
           "linecolor": "white",
           "ticks": "",
           "title": {
            "standoff": 15
           },
           "zerolinecolor": "white",
           "zerolinewidth": 2
          },
          "yaxis": {
           "automargin": true,
           "gridcolor": "white",
           "linecolor": "white",
           "ticks": "",
           "title": {
            "standoff": 15
           },
           "zerolinecolor": "white",
           "zerolinewidth": 2
          }
         }
        },
        "title": {
         "text": "cost"
        },
        "xaxis": {
         "anchor": "y",
         "domain": [
          0,
          1
         ]
        },
        "yaxis": {
         "anchor": "x",
         "domain": [
          0,
          1
         ],
         "title": {
          "text": "J"
         }
        }
       }
      },
      "text/html": [
       "<div>\n",
       "        \n",
       "        \n",
       "            <div id=\"329cc7b2-c381-4e83-9aaa-bec0135a1299\" class=\"plotly-graph-div\" style=\"height:600px; width:100%;\"></div>\n",
       "            <script type=\"text/javascript\">\n",
       "                require([\"plotly\"], function(Plotly) {\n",
       "                    window.PLOTLYENV=window.PLOTLYENV || {};\n",
       "                    \n",
       "                if (document.getElementById(\"329cc7b2-c381-4e83-9aaa-bec0135a1299\")) {\n",
       "                    Plotly.newPlot(\n",
       "                        '329cc7b2-c381-4e83-9aaa-bec0135a1299',\n",
       "                        [{\"hoverlabel\": {\"namelength\": 0}, \"hovertemplate\": \"J=%{y}\", \"legendgroup\": \"\", \"marker\": {\"color\": \"#636efa\", \"symbol\": \"circle\"}, \"mode\": \"markers\", \"name\": \"\", \"showlegend\": false, \"type\": \"scattergl\", \"xaxis\": \"x\", \"y\": [6.737190464870009, 5.931593568604956, 5.901154707081388, 5.895228586444221, 5.8900949431173295, 5.885004158443647, 5.879932480491418, 5.874879094762575, 5.869843911806385, 5.86482686531293, 5.859827889932181, 5.85484692057229, 5.849883892376587, 5.844938740722034, 5.840011401218361, 5.835101809707226, 5.830209902261388, 5.825335615183863, 5.820478885007099, 5.815639648492154, 5.810817842627869, 5.806013404630044, 5.801226271940628, 5.7964563822269, 5.7917036733806535, 5.7869680835173956, 5.782249550975539, 5.777548014315596, 5.7728634123193805, 5.768195683989212, 5.76354476854712, 5.758910605434047, 5.754293134309077, 5.749692295048628, 5.745108027745684, 5.740540272709012, 5.735988970462381, 5.731454061743792, 5.726935487504702, 5.722433188909257, 5.717947107333529, 5.713477184364749, 5.709023361800548, 5.704585581648198, 5.7001637861238565, 5.695757917651815, 5.691367918863752, 5.68699373259798, 5.682635301898707, 5.678292570015292, 5.673965480401506, 5.6696539767147955, 5.6653580028155535, 5.6610775027663784, 5.6568124208313595, 5.6525627014753335, 5.648328289363181, 5.644109129359092, 5.639905166525854, 5.635716346124135, 5.631542613611772, 5.627383914643054, 5.623240195068026, 5.619111400931778, 5.61499747847374, 5.610898374126984, 5.60681403451753, 5.602744406463646, 5.598689436975159, 5.594649073252759, 5.590623262687323, 5.586611952859217, 5.5826150915376225, 5.578632626679852, 5.574664506430678, 5.570710679121643, 5.566771093270403, 5.562845697580051, 5.558934440938442, 5.555037272417542, 5.551154141272753, 5.547284996942256, 5.5434297890463515, 5.539588467386808, 5.535760981946203, 5.531947282887275, 5.5281473205522715, 5.524361045462306, 5.520588408316713, 5.5168293599924025, 5.513083851543225, 5.5093518341993315, 5.5056332593665385, 5.501928078625699, 5.498236243732065, 5.494557706614666, 5.490892419375677, 5.487240334289805, 5.483601403803652, 5.479975580535112, 5.476362817272741, 5.472763066975151, 5.469176282770398, 5.465602417955358, 5.462041425995136, 5.4584932605224585, 5.454957875337047, 5.451435224405051, 5.447925261858423, 5.444427941994333, 5.440943219274565, 5.437471048324934, 5.434011383934687, 5.430564181055919, 5.427129394802985, 5.423706980451918, 5.420296893439836, 5.416899089364382, 5.413513523983123, 5.410140153212987, 5.406778933129693, 5.403429819967165, 5.4000927701169745, 5.396767740127768, 5.393454686704697, 5.390153566708862, 5.386864337156746, 5.383586955219661, 5.380321378223178, 5.37706756364658, 5.373825469122317, 5.37059505243543, 5.367376271523024, 5.364169084473712, 5.360973449527068, 5.357789325073084, 5.354616669651632, 5.3514554419519165, 5.348305600811943, 5.34516710521798, 5.342039914304029, 5.338923987351284, 5.335819283787603, 5.332725763186988, 5.329643385269053, 5.326572109898499, 5.323511897084587, 5.32046270698063, 5.317424499883461, 5.314397236232924, 5.311380876611354, 5.3083753817430726, 5.305380712493861, 5.302396829870465, 5.2994236950200815, 5.296461269229852, 5.29350951392636, 5.290568390675129, 5.287637861180118, 5.284717887283231, 5.281808430963811, 5.278909454338153, 5.276020919659, 5.273142789315069, 5.270275025830544, 5.267417591864592, 5.264570450210886, 5.261733563797111, 5.258906895684482, 5.256090409067274, 5.253284067272322, 5.250487833758565, 5.2477016721165555, 5.244925546067995, 5.242159419465253, 5.2394032562909025, 5.236657020657251, 5.2339206768058695, 5.2311941891071285, 5.228477522059736, 5.225770640290271, 5.223073508552728, 5.220386091728055, 5.217708354823696, 5.215040262973137, 5.212381781435449, 5.2097328755948435, 5.207093510960208, 5.204463653164672, 5.20184326796515, 5.199232321241896, 5.196630778998063, 5.194038607359259, 5.191455772573107, 5.188882241008802, 5.1863179791566765, 5.18376295362776, 5.181217131153349, 5.1786804785845755, 5.176152962891966, 5.173634551165021, 5.171125210611782, 5.168624908558404, 5.166133612448731, 5.163651289843875, 5.161177908421789, 5.15871343597685, 5.156257840419434, 5.153811089775505, 5.151373152186197, 5.148943995907395, 5.146523589309322, 5.144111900876139, 5.141708899205515, 5.139314553008234, 5.136928831107778, 5.134551702439932, 5.132183136052364, 5.129823101104237, 5.127471566865799, 5.12512850271798, 5.122793878152007, 5.120467662768992, 5.1181498262795415, 5.115840338503367, 5.113539169368884, 5.111246288912825, 5.108961667279848, 5.10668527472215, 5.104417081599077, 5.102157058376736, 5.099905175627619, 5.097661404030211, 5.095425714368609, 5.093198077532151, 5.090978464515021, 5.088766846415887, 5.086563194437517, 5.084367479886401, 5.082179674172386, 5.079999748808296, 5.0778276754095675, 5.075663425693872, 5.073506971480756, 5.071358284691268, 5.069217337347596, 5.067084101572705, 5.064958549589969, 5.06284065372281, 5.060730386394342, 5.05862772012701, 5.056532627542231, 5.054445081360036, 5.052365054398719, 5.050292519574479, 5.0482274499010735, 5.046169818489457, 5.044119598547441, 5.04207676337934, 5.040041286385626, 5.038013141062576, 5.035992301001939, 5.033978739890578, 5.03197243151014, 5.029973349736707, 5.027981468540455, 5.025996761985324, 5.024019204228667, 5.022048769520927, 5.020085432205293, 5.018129166717367, 5.016179947584834, 5.014237749427129, 5.012302546955106, 5.010374314970709, 5.008453028366643, 5.006538662126046, 5.004631191322175, 5.002730591118061, 5.0008368367662, 4.998949903608226, 4.997069767074594, 4.995196402684257, 4.993329786044343, 4.991469892849845, 4.9896166988833, 4.987770180014478, 4.98593031220006, 4.984097071483332, 4.982270433993872, 4.9804503759472345, 4.978636873644648, 4.976829903472699, 4.975029441903031, 4.973235465492034, 4.97144795088054, 4.969666874793521, 4.967892214039785, 4.966123945511668, 4.964362046184744, 4.962606493117519, 4.96085726345113, 4.959114334409053, 4.957377683296804, 4.95564728750164, 4.9539231244922695, 4.95220517181856, 4.95049340711124, 4.948787808081611, 4.9470883525212574, 4.945395018301759, 4.943707783374399, 4.942026625769877, 4.940351523598029, 4.938682455047537, 4.937019398385641, 4.935362331957869, 4.933711234187743, 4.9320660835764984, 4.930426858702819, 4.928793538222534, 4.927166100868362, 4.925544525449623, 4.923928790851962, 4.922318876037079, 4.920714760042453, 4.919116421981069, 4.91752384104114, 4.915936996485853, 4.914355867653077, 4.912780433955111, 4.91121067487841, 4.9096465699833125, 4.908088098903784, 4.906535241347148, 4.904987977093815, 4.903446285997033, 4.90191014798261, 4.9003795430486665, 4.898854451265366, 4.897334852774656, 4.895820727790016, 4.894312056596192, 4.892808819548944, 4.891310997074789, 4.889818569670748, 4.88833151790409, 4.88684982241208, 4.885373463901725, 4.883902423149523, 4.88243668100122, 4.880976218371547, 4.879521016243985, 4.878071055670509, 4.876626317771341, 4.875186783734713, 4.87375243481661, 4.872323252340535, 4.8708992176972625, 4.869480312344595, 4.868066517807122, 4.866657815675987, 4.865254187608633, 4.863855615328574, 4.862462080625159, 4.861073565353324, 4.859690051433372, 4.858311520850714, 4.856937955655664, 4.855569337963178, 4.854205649952639, 4.852846873867617, 4.85149299201564, 4.850143986767962, 4.8487998405593355, 4.847460535887785, 4.84612605531437, 4.8447963814629675, 4.843471497020045, 4.842151384734429, 4.840836027417081, 4.839525407940883, 4.838219509240404, 4.836918314311682, 4.835621806212003, 4.834329968059677, 4.833042783033826, 4.831760234374157, 4.830482305380745, 4.829208979413817, 4.827940239893541, 4.826676070299799, 4.825416454171979, 4.824161375108761, 4.822910816767898, 4.821664762866011, 4.8204231971783695, 4.819186103538688, 4.817953465838902, 4.816725268028978, 4.8155014941166865, 4.814282128167403, 4.813067154303901, 4.811856556706141, 4.8106503196110655, 4.809448427312395, 4.808250864160424, 4.807057614561817, 4.805868662979403, 4.804683993931975, 4.80350359199409, 4.802327441795866, 4.80115552802278, 4.799987835415476, 4.798824348769555, 4.7976650529353915, 4.796509932817919, 4.795358973376449, 4.7942121596244665, 4.793069476629436, 4.791930909512612, 4.790796443448837, 4.789666063666354, 4.788539755446614, 4.787417504124084, 4.786299295086054, 4.785185113772448, 4.784074945675635, 4.782968776340239, 4.781866591362954, 4.780768376392351, 4.779674117128695, 4.778583799323759, 4.777497408780635, 4.7764149313535516, 4.775336352947692, 4.774261659519005, 4.773190837074031, 4.772123871669708, 4.771060749413197, 4.770001456461701, 4.768945979022287, 4.767894303351698, 4.7668464157561825, 4.765802302591315, 4.764761950261812, 4.763725345221363, 4.7626924739724465, 4.761663323066164, 4.760637879102053, 4.759616128727925, 4.75859805863968, 4.75758365558114, 4.7565729063438775, 4.755565797767038, 4.7545623167371724, 4.753562450188067, 4.752566185100569, 4.751573508502425, 4.750584407468098, 4.7495988691186195, 4.7486168806214, 4.7476384291900775, 4.7466635020843455, 4.745692086609786, 4.744724170117706, 4.743759740004973, 4.742798783713851, 4.741841288731831, 4.740887242591483, 4.739936632870274, 4.738989447190423, 4.738045673218728, 4.737105298666416, 4.736168311288972, 4.735234698885989, 4.734304449301005, 4.733377550421342, 4.732453990177952, 4.731533756545261, 4.730616837541011, 4.729703221226098, 4.7287928957044265, 4.7278858491227505, 4.726982069670518, 4.726081545579717, 4.725184265124721, 4.724290216622142, 4.723399388430677, 4.722511768950946, 4.721627346625359, 4.7207461099379495, 4.719868047414232, 4.718993147621053, 4.7181213991664395, 4.717252790699451, 4.716387310910035, 4.715524948528875, 4.7146656923272445, 4.713809531116866, 4.712956453749759, 4.712106449118099, 4.711259506154067, 4.710415613829716, 4.709574761156817, 4.708736937186721, 4.707902131010216, 4.707070331757381, 4.706241528597454, 4.70541571073868, 4.7045928674281745, 4.7037729879517896, 4.702956061633963, 4.70214207783759, 4.701331025963877, 4.700522895452206, 4.699717675780004, 4.698915356462592, 4.6981159270530615, 4.6973193771421275, 4.696525696358007, 4.695734874366266, 4.694946900869702, 4.694161765608201, 4.6933794583586, 4.692599968934568, 4.691823287186457, 4.691049403001182, 4.69027830630208, 4.689509987048791, 4.688744435237113, 4.68798164089888, 4.6872215941018345, 4.686464284949491, 4.685709703581008, 4.684957840171069, 4.684208684929745, 4.683462228102367, 4.682718459969402, 4.681977370846331, 4.681238951083514, 4.680503191066067, 4.679770081213745, 4.679039611980803, 4.678311773855883, 4.677586557361888, 4.676863953055852, 4.676143951528824, 4.675426543405748, 4.674711719345328, 4.673999470039924, 4.673289786215412, 4.672582658631084, 4.671878078079505, 4.671176035386413, 4.6704765214105874, 4.669779527043733, 4.669085043210365, 4.668393060867689, 4.667703571005477, 4.667016564645957, 4.666332032843698, 4.665649966685489, 4.664970357290219, 4.664293195808771, 4.6636184734239015, 4.662946181350124, 4.662276310833599, 4.661608853152018, 4.660943799614486, 4.660281141561418, 4.659620870364415, 4.65896297742616, 4.658307454180302, 4.657654292091346, 4.657003482654543, 4.6563550173957715, 4.65570888787144, 4.655065085668367, 4.654423602403678, 4.653784429724688, 4.653147559308802, 4.6525129828634, 4.651880692125735, 4.651250678862817, 4.650622934871314, 4.649997451977443, 4.649374222036858, 4.648753236934556, 4.648134488584754, 4.6475179689308, 4.646903669945062, 4.64629158362882, 4.6456817020121655, 4.645074017153899, 4.644468521141423, 4.6438652060906405, 4.643264064145854, 4.642665087479662, 4.6420682682928565, 4.6414735988143185, 4.6408810713009245, 4.64029067803744, 4.63970241133642, 4.6391162635381065, 4.638532227010339, 4.637950294148439, 4.637370457375124, 4.636792709140407, 4.636217041921488, 4.6356434482226705, 4.635071920575256, 4.634502451537443, 4.633935033694241, 4.633369659657368, 4.632806322065146, 4.632245013582422, 4.63168572690046, 4.63112845473685, 4.630573189835415, 4.630019924966111, 4.6294686529249365, 4.628919366533842, 4.62837205864063, 4.627826722118864, 4.627283349867779, 4.626741934812184, 4.626202469902373, 4.625664948114038, 4.625129362448163, 4.6245957059309495, 4.624063971613714, 4.623534152572803, 4.623006241909502, 4.622480232749945, 4.621956118245025, 4.621433891570306, 4.620913545925933, 4.62039507453654, 4.619878470651173, 4.619363727543187, 4.6188508385101725, 4.618339796873855, 4.6178305959800205, 4.617323229198419, 4.6168176899226845, 4.61631397157025, 4.61581206758225, 4.61531197142345, 4.6148136765821555, 4.614317176570122, 4.613822464922479, 4.613329535197642, 4.612838380977227, 4.612348995865971, 4.611861373491642, 4.611375507504967, 4.6108913915795355, 4.610409019411731, 4.609928384720636, 4.609449481247963, 4.60897230275796, 4.608496843037341, 4.608023095895197, 4.60755105516292, 4.60708071469412, 4.606612068364546, 4.606145110072004, 4.605679833736286, 4.605216233299077, 4.604754302723889, 4.604294035995977, 4.603835427122256, 4.603378470131233, 4.60292315907292, 4.602469488018764, 4.602017451061563, 4.6015670423153985, 4.601118255915542, 4.6006710860184, 4.60022552680142, 4.599781572463031, 4.599339217222544, 4.598898455320108, 4.598459281016607, 4.598021688593604, 4.597585672353254, 4.597151226618241, 4.596718345731694, 4.596287024057118, 4.595857255978326, 4.595429035899349, 4.595002358244385, 4.5945772174577115, 4.594153608003617, 4.59373152436633, 4.593310961049946, 4.592891912578358, 4.592474373495182, 4.592058338363686, 4.591643801766726, 4.591230758306666, 4.590819202605312, 4.590409129303844, 4.590000533062744, 4.589593408561724, 4.589187750499662, 4.588783553594528, 4.588380812583321, 4.587979522221996, 4.587579677285394, 4.587181272567178, 4.586784302879765, 4.586388763054258, 4.585994647940378, 4.5856019524063925, 4.585210671339058, 4.5848207996435475, 4.584432332243386, 4.58404526408038, 4.583659590114562, 4.583275305324111, 4.582892404705298, 4.582510883272418, 4.582130736057723, 4.581751958111355, 4.581374544501292, 4.580998490313273, 4.580623790650735, 4.580250440634761, 4.579878435403997, 4.579507770114607, 4.5791384399401975, 4.5787704400717635, 4.578403765717618, 4.578038412103337, 4.577674374471689, 4.577311648082583, 4.576950228212997, 4.576590110156924, 4.576231289225308, 4.57587376074598, 4.575517520063602, 4.575162562539603, 4.574808883552121, 4.574456478495942, 4.574105342782437, 4.573755471839512, 4.573406861111529, 4.573059506059272, 4.572713402159866, 4.572368544906735, 4.572024929809526, 4.571682552394067, 4.5713414082023025, 4.571001492792229, 4.5706628017378454, 4.570325330629095, 4.569989075071803, 4.569654030687623, 4.56932019311398, 4.568987558004013, 4.568656121026514, 4.568325877865882, 4.567996824222056, 4.567668955810466, 4.5673422683619735, 4.567016757622818, 4.56669241935456, 4.566369249334026, 4.566047243353258, 4.565726397219447, 4.565406706754897, 4.56508816779695, 4.564770776197948, 4.564454527825169, 4.564139418560778, 4.563825444301772, 4.563512600959929, 4.563200884461748, 4.562890290748406, 4.562580815775695, 4.562272455513976, 4.561965205948124, 4.561659063077476, 4.5613540229157845, 4.56105008149115, 4.560747234845985, 4.560445479036962, 4.560144810134948, 4.559845224224967, 4.559546717406144, 4.559249285791657, 4.558952925508682, 4.558657632698341, 4.558363403515664, 4.558070234129523, 4.557778120722592, 4.557487059491295, 4.557197046645756, 4.5569080784097515, 4.556620151020654, 4.556333260729399, 4.556047403800417, 4.5557625765115946, 4.555478775154231, 4.555195996032978, 4.554914235465802, 4.554633489783926, 4.554353755331798, 4.554075028467021, 4.553797305560327, 4.553520582995515, 4.553244857169413, 4.552970124491824, 4.552696381385485, 4.5524236242860185, 4.5521518496418825, 4.5518810539143315, 4.551611233577364, 4.551342385117678, 4.551074505034629, 4.550807589840181, 4.550541636058861, 4.550276640227711, 4.550012598896252, 4.549749508626433, 4.549487365992583, 4.549226167581372, 4.5489659099917645, 4.548706589834975, 4.548448203734425, 4.548190748325698, 4.547934220256497, 4.547678616186597, 4.547423932787805, 4.547170166743919, 4.546917314750676, 4.546665373515724, 4.54641433975856, 4.5461642102105015, 4.545914981614642, 4.5456666507258, 4.545419214310491, 4.545172669146869, 4.544927012024697, 4.544682239745305, 4.544438349121537, 4.5441953369777215, 4.543953200149624, 4.543711935484407, 4.543471539840593, 4.543232010088012, 4.542993343107779, 4.542755535792234, 4.542518585044917, 4.5422824877805175, 4.542047240924838, 4.541812841414758, 4.5415792861981865, 4.541346572234026, 4.541114696492136, 4.540883655953286, 4.540653447609125, 4.540424068462133, 4.540195515525591, 4.5399677858235385, 4.53974087639073, 4.539514784272603, 4.539289506525239, 4.53906504021532, 4.538841382420094, 4.5386185302273425, 4.538396480735327, 4.538175231052766, 4.537954778298796, 4.537735119602923, 4.537516252104996, 4.537298172955165, 4.537080879313848, 4.5368643683516865, 4.536648637249516, 4.536433683198326, 4.536219503399223, 4.536006095063397, 4.535793455412081, 4.535581581676518, 4.535370471097923, 4.535160120927449, 4.53495052842615, 4.534741690864945, 4.534533605524585, 4.534326269695612, 4.534119680678329, 4.533913835782764, 4.533708732328634, 4.53350436764531, 4.53330073907178, 4.533097843956624, 4.532895679657962, 4.532694243543437, 4.532493532990171, 4.532293545384737, 4.532094278123114, 4.53189572861067, 4.531697894262111, 4.531500772501459, 4.531304360762014, 4.531108656486318, 4.5309136571261295, 4.530719360142383, 4.53052576300516, 4.530332863193653, 4.530140658196134, 4.529949145509925, 4.52975832264136, 4.529568187105754, 4.529378736427375, 4.5291899681394066, 4.5290018797839195, 4.528814468911833, 4.528627733082892, 4.528441669865631, 4.528256276837342, 4.52807155158404, 4.527887491700442, 4.527704094789922, 4.52752135846449, 4.527339280344758, 4.527157858059903, 4.52697708924765, 4.5267969715542264, 4.52661750263434, 4.526438680151148, 4.5262605017762185, 4.526082965189513, 4.5259060680793475, 4.525729808142365, 4.525554183083503, 4.525379190615968, 4.525204828461203, 4.525031094348856, 4.524857986016757, 4.52468550121088, 4.5245136376853194, 4.524342393202259, 4.524171765531945, 4.524001752452653, 4.523832351750661, 4.523663561220222, 4.523495378663533, 4.523327801890707, 4.523160828719747, 4.5229944569765115, 4.522828684494693, 4.522663509115789, 4.522498928689069, 4.522334941071547, 4.52217154412796, 4.522008735730735, 4.521846513759959, 4.521684876103361, 4.521523820656275, 4.521363345321613, 4.521203448009849, 4.521044126638972, 4.520885379134479, 4.520727203429336, 4.520569597463955, 4.520412559186167, 4.52025608655119, 4.520100177521617, 4.519944830067369, 4.519790042165688, 4.5196358118010975, 4.519482136965377, 4.519329015657548, 4.519176445883834, 4.519024425657637, 4.518872952999525, 4.5187220259371825, 4.518571642505413, 4.518421800746084, 4.518272498708126, 4.518123734447491, 4.517975506027139, 4.5178278115170025, 4.517680648993968, 4.51753401654185, 4.517387912251362, 4.517242334220096, 4.517097280552497, 4.51695274935984, 4.516808738760196, 4.516665246878423, 4.516522271846126, 4.516379811801645, 4.516237864890023, 4.516096429262984, 4.515955503078913, 4.515815084502823, 4.515675171706341, 4.515535762867679, 4.515396856171608, 4.51525844980944, 4.515120541979, 4.514983130884608, 4.514846214737048, 4.514709791753551, 4.514573860157765, 4.514438418179744, 4.514303464055912, 4.514168996029047, 4.514035012348253, 4.513901511268946, 4.513768491052822, 4.513635949967839, 4.5135038862881975, 4.513372298294308, 4.513241184272778, 4.513110542516388, 4.512980371324065, 4.512850669000864, 4.512721433857947, 4.512592664212555, 4.512464358387996, 4.512336514713613, 4.512209131524768, 4.512082207162816, 4.511955739975093, 4.51182972831488, 4.511704170541396, 4.511579065019767, 4.511454410121005, 4.511330204221997, 4.511206445705469, 4.511083132959975, 4.5109602643798725, 4.510837838365307, 4.51071585332218, 4.51059430766214, 4.5104731998025525, 4.510352528166486, 4.510232291182689, 4.510112487285568, 4.509993114915171, 4.509874172517163, 4.509755658542809, 4.509637571448952, 4.509519909697992, 4.509402671757868, 4.509285856102038, 4.509169461209461, 4.509053485564569, 4.508937927657256, 4.50882278598286, 4.508708059042126, 4.508593745341215, 4.508479843391656, 4.508366351710347, 4.508253268819524, 4.508140593246748, 4.508028323524883, 4.507916458192077, 4.507804995791744, 4.507693934872545, 4.507583273988367, 4.507473011698308, 4.5073631465666555, 4.507253677162866, 4.507144602061551, 4.507035919842458, 4.506927629090446, 4.506819728395472, 4.506712216352576, 4.506605091561853, 4.506498352628444, 4.506391998162514, 4.506286026779232, 4.506180437098758, 4.506075227746218, 4.505970397351695, 4.505865944550205, 4.505761867981677, 4.505658166290941, 4.505554838127713, 4.5054518821465654, 4.505349297006919, 4.505247081373027, 4.505145233913949, 4.505043753303542, 4.5049426382204345, 4.504841887348024, 4.504741499374441, 4.504641472992545, 4.504541806899904, 4.504442499798778, 4.504343550396099, 4.504244957403458, 4.504146719537086, 4.504048835517841, 4.503951304071183, 4.5038541239271686, 4.503757293820424, 4.5036608124901365, 4.503564678680033, 4.503468891138364, 4.503373448617895, 4.503278349875875, 4.503183593674036, 4.503089178778568, 4.502995103960105, 4.502901367993707, 4.502807969658854, 4.502714907739411, 4.502622181023632, 4.502529788304132, 4.502437728377876, 4.5023460000461615, 4.502254602114604, 4.502163533393122, 4.502072792695919, 4.50198237884147, 4.501892290652507, 4.501802526956003, 4.501713086583154, 4.5016239683693655, 4.50153517115424, 4.501446693781559, 4.501358535099267, 4.501270693959463, 4.5011831692183755, 4.501095959736354, 4.501009064377855, 4.50092248201142, 4.500836211509674, 4.500750251749297, 4.500664601611016, 4.500579259979591, 4.500494225743796, 4.5004094977964115, 4.500325075034204, 4.5002409563579135, 4.500157140672241, 4.500073626885832, 4.499990413911261, 4.499907500665023, 4.499824886067513, 4.499742569043015, 4.4996605485196906, 4.499578823429555, 4.49949739270848, 4.499416255296162, 4.499335410136122, 4.499254856175683, 4.499174592365959, 4.4990946176618465, 4.499014931022004, 4.498935531408838, 4.498856417788497, 4.498777589130851, 4.498699044409482, 4.498620782601665, 4.498542802688364, 4.498465103654211, 4.498387684487494, 4.498310544180148, 4.498233681727737, 4.498157096129445, 4.498080786388058, 4.4980047515099555, 4.4979289905050965, 4.497853502387004, 4.497778286172756, 4.497703340882973, 4.497628665541798, 4.497554259176892, 4.497480120819419, 4.4974062495040315, 4.497332644268859, 4.497259304155495, 4.497186228208986, 4.497113415477821, 4.497040865013911, 4.496968575872585, 4.496896547112575, 4.496824777796001, 4.496753266988365, 4.49668201375853, 4.496611017178718, 4.496540276324487, 4.496469790274732, 4.496399558111662, 4.496329578920789, 4.4962598517909225, 4.496190375814155, 4.496121150085846, 4.496052173704615, 4.495983445772328, 4.495914965394088, 4.495846731678219, 4.495778743736256, 4.495711000682937, 4.495643501636186, 4.495576245717105, 4.495509232049965, 4.495442459762187, 4.495375927984336, 4.495309635850108, 4.4952435824963235, 4.495177767062906, 4.495112188692882, 4.495046846532363, 4.494981739730534, 4.49491686743965, 4.494852228815012, 4.494787823014971, 4.494723649200904, 4.494659706537214, 4.494595994191306, 4.494532511333593, 4.494469257137467, 4.494406230779307, 4.494343431438454, 4.4942808582972, 4.494218510540789, 4.494156387357401, 4.494094487938134, 4.494032811477003, 4.493971357170926, 4.4939101242197115, 4.493849111826053, 4.4937883191955175, 4.493727745536528, 4.493667390060364, 4.49360725198114, 4.493547330515808, 4.493487624884136, 4.4934281343087035, 4.4933688580148905, 4.493309795230867, 4.493250945187583, 4.493192307118759, 4.493133880260875, 4.493075663853161, 4.493017657137589, 4.492959859358858, 4.49290226976439, 4.49284488760432, 4.492787712131476, 4.492730742601387, 4.492673978272259, 4.492617418404968, 4.4925610622630545, 4.492504909112712, 4.492448958222777, 4.492393208864718, 4.4923376603126295, 4.49228231184322, 4.492227162735802, 4.492172212272289, 4.492117459737173, 4.492062904417529, 4.492008545602999, 4.491954382585781, 4.491900414660624, 4.491846641124821, 4.49179306127819, 4.491739674423074, 4.49168647986433, 4.491633476909316, 4.491580664867888, 4.4915280430523845, 4.491475610777624, 4.491423367360893, 4.491371312121932, 4.491319444382939, 4.491267763468548, 4.491216268705829, 4.491164959424272, 4.4911138349557875, 4.4910628946346876, 4.491012137797685, 4.49096156378388, 4.490911171934753, 4.49086096159416, 4.490810932108316, 4.4907610828257924, 4.490711413097508, 4.4906619222767175, 4.490612609719009, 4.490563474782287, 4.490514516826771, 4.490465735214986, 4.4904171293117505, 4.490368698484175, 4.490320442101646, 4.49027235953582, 4.490224450160622, 4.490176713352228, 4.490129148489064, 4.490081754951793, 4.490034532123307, 4.489987479388724, 4.4899405961353756, 4.489893881752801, 4.489847335632737, 4.489800957169108, 4.489754745758032, 4.489708700797791, 4.489662821688838, 4.48961710783379, 4.489571558637409, 4.489526173506604, 4.489480951850421, 4.489435893080036, 4.48939099660874, 4.489346261851942, 4.489301688227159, 4.489257275153997, 4.489213022054162, 4.4891689283514395, 4.489124993471691, 4.489081216842843, 4.489037597894885, 4.488994136059861, 4.4889508307718575, 4.488907681467004, 4.4888646875834555, 4.488821848561395, 4.48877916384302, 4.488736632872536, 4.488694255096154, 4.488652029962077, 4.488609956920497, 4.488568035423583, 4.488526264925482, 4.488484644882305, 4.488443174752122, 4.488401853994954, 4.488360682072771, 4.4883196584494724, 4.488278782590899, 4.4882380539648095, 4.48819747204088, 4.488157036290699, 4.488116746187758, 4.488076601207441, 4.4880366008270265, 4.487996744525674, 4.487957031784418, 4.487917462086166, 4.487878034915683, 4.487838749759592, 4.4877996061063685, 4.487760603446323, 4.487721741271607, 4.487683019076204, 4.487644436355913, 4.487605992608354, 4.487567687332956, 4.4875295200309475, 4.48749149020536, 4.487453597361009, 4.487415841004497, 4.487378220644201, 4.487340735790274, 4.487303385954625, 4.48726617065093, 4.487229089394612, 4.487192141702837, 4.487155327094518, 4.487118645090293, 4.487082095212529, 4.487045676985318, 4.487009389934457, 4.486973233587461, 4.48693720747354, 4.486901311123601, 4.486865544070245, 4.486829905847749, 4.486794395992074, 4.486759014040851, 4.486723759533374, 4.4866886320105985, 4.486653631015133, 4.486618756091233, 4.486584006784796, 4.486549382643356, 4.486514883216077, 4.486480508053741, 4.486446256708757, 4.486412128735142, 4.486378123688517, 4.486344241126109, 4.486310480606735, 4.486276841690803, 4.486243323940307, 4.486209926918811, 4.486176650191459, 4.4861434933249615, 4.486110455887581, 4.486077537449144, 4.486044737581024, 4.486012055856135, 4.485979491848933, 4.485947045135406, 4.4859147152930685, 4.485882501900957, 4.485850404539626, 4.485818422791137, 4.485786556239061, 4.485754804468467, 4.485723167065918, 4.485691643619467, 4.48566023371865, 4.485628936954484, 4.485597752919457, 4.4855666812075246, 4.485535721414104, 4.485504873136073, 4.48547413597176, 4.485443509520939, 4.485412993384827, 4.485382587166075, 4.48535229046877, 4.485322102898417, 4.485292024061953, 4.485262053567721, 4.485232191025481, 4.485202436046394, 4.485172788243024, 4.485143247229331, 4.485113812620664, 4.485084484033761, 4.485055261086734, 4.485026143399074, 4.484997130591648, 4.484968222286677, 4.484939418107754, 4.4849107176798215, 4.484882120629172, 4.484853626583452, 4.484825235171638, 4.484796946024051, 4.484768758772342, 4.484740673049486, 4.484712688489784, 4.48468480472885, 4.484657021403614, 4.484629338152312, 4.484601754614484, 4.484574270430968, 4.484546885243893, 4.484519598696683, 4.484492410434043, 4.484465320101954, 4.484438327347678, 4.484411431819745, 4.484384633167951, 4.4843579310433554, 4.484331325098272, 4.484304814986266, 4.484278400362154, 4.484252080881993, 4.484225856203082, 4.4841997259839514, 4.4841736898843605, 4.484147747565298, 4.484121898688973, 4.4840961429188075, 4.484070479919441, 4.484044909356716, 4.484019430897684, 4.483994044210589, 4.483968748964877, 4.483943544831179, 4.483918431481317, 4.483893408588292, 4.483868475826285, 4.483843632870646, 4.483818879397901, 4.483794215085735, 4.483769639612999, 4.483745152659696, 4.483720753906988, 4.483696443037178, 4.483672219733718, 4.483648083681199, 4.4836240345653495, 4.483600072073027, 4.483576195892218, 4.483552405712033, 4.483528701222707, 4.483505082115582, 4.48348154808312, 4.483458098818883, 4.483434734017543, 4.483411453374869, 4.483388256587726], \"yaxis\": \"y\"}],\n",
       "                        {\"height\": 600, \"legend\": {\"tracegroupgap\": 0}, \"template\": {\"data\": {\"bar\": [{\"error_x\": {\"color\": \"#2a3f5f\"}, \"error_y\": {\"color\": \"#2a3f5f\"}, \"marker\": {\"line\": {\"color\": \"#E5ECF6\", \"width\": 0.5}}, \"type\": \"bar\"}], \"barpolar\": [{\"marker\": {\"line\": {\"color\": \"#E5ECF6\", \"width\": 0.5}}, \"type\": \"barpolar\"}], \"carpet\": [{\"aaxis\": {\"endlinecolor\": \"#2a3f5f\", \"gridcolor\": \"white\", \"linecolor\": \"white\", \"minorgridcolor\": \"white\", \"startlinecolor\": \"#2a3f5f\"}, \"baxis\": {\"endlinecolor\": \"#2a3f5f\", \"gridcolor\": \"white\", \"linecolor\": \"white\", \"minorgridcolor\": \"white\", \"startlinecolor\": \"#2a3f5f\"}, \"type\": \"carpet\"}], \"choropleth\": [{\"colorbar\": {\"outlinewidth\": 0, \"ticks\": \"\"}, \"type\": \"choropleth\"}], \"contour\": [{\"colorbar\": {\"outlinewidth\": 0, \"ticks\": \"\"}, \"colorscale\": [[0.0, \"#0d0887\"], [0.1111111111111111, \"#46039f\"], [0.2222222222222222, \"#7201a8\"], [0.3333333333333333, \"#9c179e\"], [0.4444444444444444, \"#bd3786\"], [0.5555555555555556, \"#d8576b\"], [0.6666666666666666, \"#ed7953\"], [0.7777777777777778, \"#fb9f3a\"], [0.8888888888888888, \"#fdca26\"], [1.0, \"#f0f921\"]], \"type\": \"contour\"}], \"contourcarpet\": [{\"colorbar\": {\"outlinewidth\": 0, \"ticks\": \"\"}, \"type\": \"contourcarpet\"}], \"heatmap\": [{\"colorbar\": {\"outlinewidth\": 0, \"ticks\": \"\"}, \"colorscale\": [[0.0, \"#0d0887\"], [0.1111111111111111, \"#46039f\"], [0.2222222222222222, \"#7201a8\"], [0.3333333333333333, \"#9c179e\"], [0.4444444444444444, \"#bd3786\"], [0.5555555555555556, \"#d8576b\"], [0.6666666666666666, \"#ed7953\"], [0.7777777777777778, \"#fb9f3a\"], [0.8888888888888888, \"#fdca26\"], [1.0, \"#f0f921\"]], \"type\": \"heatmap\"}], \"heatmapgl\": [{\"colorbar\": {\"outlinewidth\": 0, \"ticks\": \"\"}, \"colorscale\": [[0.0, \"#0d0887\"], [0.1111111111111111, \"#46039f\"], [0.2222222222222222, \"#7201a8\"], [0.3333333333333333, \"#9c179e\"], [0.4444444444444444, \"#bd3786\"], [0.5555555555555556, \"#d8576b\"], [0.6666666666666666, \"#ed7953\"], [0.7777777777777778, \"#fb9f3a\"], [0.8888888888888888, \"#fdca26\"], [1.0, \"#f0f921\"]], \"type\": \"heatmapgl\"}], \"histogram\": [{\"marker\": {\"colorbar\": {\"outlinewidth\": 0, \"ticks\": \"\"}}, \"type\": \"histogram\"}], \"histogram2d\": [{\"colorbar\": {\"outlinewidth\": 0, \"ticks\": \"\"}, \"colorscale\": [[0.0, \"#0d0887\"], [0.1111111111111111, \"#46039f\"], [0.2222222222222222, \"#7201a8\"], [0.3333333333333333, \"#9c179e\"], [0.4444444444444444, \"#bd3786\"], [0.5555555555555556, \"#d8576b\"], [0.6666666666666666, \"#ed7953\"], [0.7777777777777778, \"#fb9f3a\"], [0.8888888888888888, \"#fdca26\"], [1.0, \"#f0f921\"]], \"type\": \"histogram2d\"}], \"histogram2dcontour\": [{\"colorbar\": {\"outlinewidth\": 0, \"ticks\": \"\"}, \"colorscale\": [[0.0, \"#0d0887\"], [0.1111111111111111, \"#46039f\"], [0.2222222222222222, \"#7201a8\"], [0.3333333333333333, \"#9c179e\"], [0.4444444444444444, \"#bd3786\"], [0.5555555555555556, \"#d8576b\"], [0.6666666666666666, \"#ed7953\"], [0.7777777777777778, \"#fb9f3a\"], [0.8888888888888888, \"#fdca26\"], [1.0, \"#f0f921\"]], \"type\": \"histogram2dcontour\"}], \"mesh3d\": [{\"colorbar\": {\"outlinewidth\": 0, \"ticks\": \"\"}, \"type\": \"mesh3d\"}], \"parcoords\": [{\"line\": {\"colorbar\": {\"outlinewidth\": 0, \"ticks\": \"\"}}, \"type\": \"parcoords\"}], \"pie\": [{\"automargin\": true, \"type\": \"pie\"}], \"scatter\": [{\"marker\": {\"colorbar\": {\"outlinewidth\": 0, \"ticks\": \"\"}}, \"type\": \"scatter\"}], \"scatter3d\": [{\"line\": {\"colorbar\": {\"outlinewidth\": 0, \"ticks\": \"\"}}, \"marker\": {\"colorbar\": {\"outlinewidth\": 0, \"ticks\": \"\"}}, \"type\": \"scatter3d\"}], \"scattercarpet\": [{\"marker\": {\"colorbar\": {\"outlinewidth\": 0, \"ticks\": \"\"}}, \"type\": \"scattercarpet\"}], \"scattergeo\": [{\"marker\": {\"colorbar\": {\"outlinewidth\": 0, \"ticks\": \"\"}}, \"type\": \"scattergeo\"}], \"scattergl\": [{\"marker\": {\"colorbar\": {\"outlinewidth\": 0, \"ticks\": \"\"}}, \"type\": \"scattergl\"}], \"scattermapbox\": [{\"marker\": {\"colorbar\": {\"outlinewidth\": 0, \"ticks\": \"\"}}, \"type\": \"scattermapbox\"}], \"scatterpolar\": [{\"marker\": {\"colorbar\": {\"outlinewidth\": 0, \"ticks\": \"\"}}, \"type\": \"scatterpolar\"}], \"scatterpolargl\": [{\"marker\": {\"colorbar\": {\"outlinewidth\": 0, \"ticks\": \"\"}}, \"type\": \"scatterpolargl\"}], \"scatterternary\": [{\"marker\": {\"colorbar\": {\"outlinewidth\": 0, \"ticks\": \"\"}}, \"type\": \"scatterternary\"}], \"surface\": [{\"colorbar\": {\"outlinewidth\": 0, \"ticks\": \"\"}, \"colorscale\": [[0.0, \"#0d0887\"], [0.1111111111111111, \"#46039f\"], [0.2222222222222222, \"#7201a8\"], [0.3333333333333333, \"#9c179e\"], [0.4444444444444444, \"#bd3786\"], [0.5555555555555556, \"#d8576b\"], [0.6666666666666666, \"#ed7953\"], [0.7777777777777778, \"#fb9f3a\"], [0.8888888888888888, \"#fdca26\"], [1.0, \"#f0f921\"]], \"type\": \"surface\"}], \"table\": [{\"cells\": {\"fill\": {\"color\": \"#EBF0F8\"}, \"line\": {\"color\": \"white\"}}, \"header\": {\"fill\": {\"color\": \"#C8D4E3\"}, \"line\": {\"color\": \"white\"}}, \"type\": \"table\"}]}, \"layout\": {\"annotationdefaults\": {\"arrowcolor\": \"#2a3f5f\", \"arrowhead\": 0, \"arrowwidth\": 1}, \"coloraxis\": {\"colorbar\": {\"outlinewidth\": 0, \"ticks\": \"\"}}, \"colorscale\": {\"diverging\": [[0, \"#8e0152\"], [0.1, \"#c51b7d\"], [0.2, \"#de77ae\"], [0.3, \"#f1b6da\"], [0.4, \"#fde0ef\"], [0.5, \"#f7f7f7\"], [0.6, \"#e6f5d0\"], [0.7, \"#b8e186\"], [0.8, \"#7fbc41\"], [0.9, \"#4d9221\"], [1, \"#276419\"]], \"sequential\": [[0.0, \"#0d0887\"], [0.1111111111111111, \"#46039f\"], [0.2222222222222222, \"#7201a8\"], [0.3333333333333333, \"#9c179e\"], [0.4444444444444444, \"#bd3786\"], [0.5555555555555556, \"#d8576b\"], [0.6666666666666666, \"#ed7953\"], [0.7777777777777778, \"#fb9f3a\"], [0.8888888888888888, \"#fdca26\"], [1.0, \"#f0f921\"]], \"sequentialminus\": [[0.0, \"#0d0887\"], [0.1111111111111111, \"#46039f\"], [0.2222222222222222, \"#7201a8\"], [0.3333333333333333, \"#9c179e\"], [0.4444444444444444, \"#bd3786\"], [0.5555555555555556, \"#d8576b\"], [0.6666666666666666, \"#ed7953\"], [0.7777777777777778, \"#fb9f3a\"], [0.8888888888888888, \"#fdca26\"], [1.0, \"#f0f921\"]]}, \"colorway\": [\"#636efa\", \"#EF553B\", \"#00cc96\", \"#ab63fa\", \"#FFA15A\", \"#19d3f3\", \"#FF6692\", \"#B6E880\", \"#FF97FF\", \"#FECB52\"], \"font\": {\"color\": \"#2a3f5f\"}, \"geo\": {\"bgcolor\": \"white\", \"lakecolor\": \"white\", \"landcolor\": \"#E5ECF6\", \"showlakes\": true, \"showland\": true, \"subunitcolor\": \"white\"}, \"hoverlabel\": {\"align\": \"left\"}, \"hovermode\": \"closest\", \"mapbox\": {\"style\": \"light\"}, \"paper_bgcolor\": \"white\", \"plot_bgcolor\": \"#E5ECF6\", \"polar\": {\"angularaxis\": {\"gridcolor\": \"white\", \"linecolor\": \"white\", \"ticks\": \"\"}, \"bgcolor\": \"#E5ECF6\", \"radialaxis\": {\"gridcolor\": \"white\", \"linecolor\": \"white\", \"ticks\": \"\"}}, \"scene\": {\"xaxis\": {\"backgroundcolor\": \"#E5ECF6\", \"gridcolor\": \"white\", \"gridwidth\": 2, \"linecolor\": \"white\", \"showbackground\": true, \"ticks\": \"\", \"zerolinecolor\": \"white\"}, \"yaxis\": {\"backgroundcolor\": \"#E5ECF6\", \"gridcolor\": \"white\", \"gridwidth\": 2, \"linecolor\": \"white\", \"showbackground\": true, \"ticks\": \"\", \"zerolinecolor\": \"white\"}, \"zaxis\": {\"backgroundcolor\": \"#E5ECF6\", \"gridcolor\": \"white\", \"gridwidth\": 2, \"linecolor\": \"white\", \"showbackground\": true, \"ticks\": \"\", \"zerolinecolor\": \"white\"}}, \"shapedefaults\": {\"line\": {\"color\": \"#2a3f5f\"}}, \"ternary\": {\"aaxis\": {\"gridcolor\": \"white\", \"linecolor\": \"white\", \"ticks\": \"\"}, \"baxis\": {\"gridcolor\": \"white\", \"linecolor\": \"white\", \"ticks\": \"\"}, \"bgcolor\": \"#E5ECF6\", \"caxis\": {\"gridcolor\": \"white\", \"linecolor\": \"white\", \"ticks\": \"\"}}, \"title\": {\"x\": 0.05}, \"xaxis\": {\"automargin\": true, \"gridcolor\": \"white\", \"linecolor\": \"white\", \"ticks\": \"\", \"title\": {\"standoff\": 15}, \"zerolinecolor\": \"white\", \"zerolinewidth\": 2}, \"yaxis\": {\"automargin\": true, \"gridcolor\": \"white\", \"linecolor\": \"white\", \"ticks\": \"\", \"title\": {\"standoff\": 15}, \"zerolinecolor\": \"white\", \"zerolinewidth\": 2}}}, \"title\": {\"text\": \"cost\"}, \"xaxis\": {\"anchor\": \"y\", \"domain\": [0.0, 1.0]}, \"yaxis\": {\"anchor\": \"x\", \"domain\": [0.0, 1.0], \"title\": {\"text\": \"J\"}}},\n",
       "                        {\"responsive\": true}\n",
       "                    ).then(function(){\n",
       "                            \n",
       "var gd = document.getElementById('329cc7b2-c381-4e83-9aaa-bec0135a1299');\n",
       "var x = new MutationObserver(function (mutations, observer) {{\n",
       "        var display = window.getComputedStyle(gd).display;\n",
       "        if (!display || display === 'none') {{\n",
       "            console.log([gd, 'removed!']);\n",
       "            Plotly.purge(gd);\n",
       "            observer.disconnect();\n",
       "        }}\n",
       "}});\n",
       "\n",
       "// Listen for the removal of the full notebook cells\n",
       "var notebookContainer = gd.closest('#notebook-container');\n",
       "if (notebookContainer) {{\n",
       "    x.observe(notebookContainer, {childList: true});\n",
       "}}\n",
       "\n",
       "// Listen for the clearing of the current output cell\n",
       "var outputEl = gd.closest('.output');\n",
       "if (outputEl) {{\n",
       "    x.observe(outputEl, {childList: true});\n",
       "}}\n",
       "\n",
       "                        })\n",
       "                };\n",
       "                });\n",
       "            </script>\n",
       "        </div>"
      ]
     },
     "metadata": {},
     "output_type": "display_data"
    }
   ],
   "source": [
    "px.scatter({'J': J}, y='J', title='cost')"
   ]
  },
  {
   "cell_type": "code",
   "execution_count": 368,
   "metadata": {},
   "outputs": [
    {
     "data": {
      "application/vnd.plotly.v1+json": {
       "config": {
        "plotlyServerURL": "https://plot.ly"
       },
       "data": [
        {
         "type": "scatter",
         "x": [
          6.1101,
          5.5277,
          8.5186,
          7.0032,
          5.8598,
          8.3829,
          7.4764,
          8.5781,
          6.4862,
          5.0546,
          5.7107,
          14.164,
          5.734,
          8.4084,
          5.6407,
          5.3794,
          6.3654,
          5.1301,
          6.4296,
          7.0708,
          6.1891,
          20.27,
          5.4901,
          6.3261,
          5.5649,
          18.945,
          12.828,
          10.957,
          13.176,
          22.203,
          5.2524,
          6.5894,
          9.2482,
          5.8918,
          8.2111,
          7.9334,
          8.0959,
          5.6063,
          12.836,
          6.3534,
          5.4069,
          6.8825,
          11.708,
          5.7737,
          7.8247,
          7.0931,
          5.0702,
          5.8014,
          11.7,
          5.5416,
          7.5402,
          5.3077,
          7.4239,
          7.6031,
          6.3328,
          6.3589,
          6.2742,
          5.6397,
          9.3102,
          9.4536,
          8.8254,
          5.1793,
          21.279,
          14.908,
          18.959,
          7.2182,
          8.2951,
          10.236,
          5.4994,
          20.341,
          10.136,
          7.3345,
          6.0062,
          7.2259,
          5.0269,
          6.5479,
          7.5386,
          5.0365,
          10.274,
          5.1077,
          5.7292,
          5.1884,
          6.3557,
          9.7687,
          6.5159,
          8.5172,
          9.1802,
          6.002,
          5.5204,
          5.0594,
          5.7077,
          7.6366,
          5.8707,
          5.3054,
          8.2934,
          13.394,
          5.4369
         ],
         "y": [
          3.4962991573810807,
          2.817009724545638,
          6.305482878164328,
          4.537977372465788,
          3.204358661092084,
          6.14720750722379,
          5.089900036644586,
          6.374881438009295,
          3.934968037342293,
          2.265203696601873,
          3.030454034657049,
          12.890064890748825,
          3.0576302774198676,
          6.176949747157348,
          2.9488086701335576,
          2.6440381879908714,
          3.7940714654217547,
          2.3532640540522096,
          3.8689519283132987,
          4.616823467348473,
          3.588441783057591,
          20.011873401897887,
          2.77315450017302,
          3.748233425053566,
          2.8603984039781207,
          18.466443287703243,
          11.331804790700485,
          9.149540833222613,
          11.737698888617269,
          22.266451825096567,
          2.4959101694982517,
          4.055336631896925,
          7.15646084896917,
          3.241682256302823,
          5.946826455436138,
          5.622927630747947,
          5.812461512677478,
          2.908685805282014,
          11.34113568950317,
          3.7800751172177267,
          2.6761131526250996,
          4.397197436780283,
          10.025478958324635,
          3.1039348627281904,
          5.496144043266469,
          4.642833347760957,
          2.283398949267108,
          3.136243099832486,
          10.01614805952195,
          2.833222161215302,
          5.164313954595995,
          2.5604100074718086,
          5.028666013251968,
          5.2376781464321045,
          3.7560480528008138,
          3.7864901101445736,
          3.6876992190711495,
          2.9476423077832226,
          7.228775314689976,
          7.396031675728098,
          6.6633228472472865,
          2.4106490816887205,
          21.18873301338649,
          13.757838479398497,
          18.48277236060794,
          4.788745277787939,
          6.044800892864327,
          8.308593578630658,
          2.7840016700311403,
          20.094685128771715,
          8.191957343597098,
          4.924393219131966,
          3.375114109181213,
          4.797726267885523,
          2.2328954594975783,
          4.006932594357998,
          5.162447774835458,
          2.2440925380608,
          8.352915347943409,
          2.327137537404693,
          3.0520317381382562,
          2.4212629790767743,
          3.782757750623499,
          7.763552452318841,
          3.9696089991472596,
          6.303849970873861,
          7.077148209146349,
          3.3702153873098033,
          2.8084952793881883,
          2.2708022358834845,
          3.026954947606042,
          5.276751285168345,
          3.217072010710742,
          2.557727374066037,
          6.042818076868755,
          11.991965880990426,
          2.711104023135166
         ]
        },
        {
         "mode": "markers",
         "type": "scatter",
         "x": [
          6.1101,
          5.5277,
          8.5186,
          7.0032,
          5.8598,
          8.3829,
          7.4764,
          8.5781,
          6.4862,
          5.0546,
          5.7107,
          14.164,
          5.734,
          8.4084,
          5.6407,
          5.3794,
          6.3654,
          5.1301,
          6.4296,
          7.0708,
          6.1891,
          20.27,
          5.4901,
          6.3261,
          5.5649,
          18.945,
          12.828,
          10.957,
          13.176,
          22.203,
          5.2524,
          6.5894,
          9.2482,
          5.8918,
          8.2111,
          7.9334,
          8.0959,
          5.6063,
          12.836,
          6.3534,
          5.4069,
          6.8825,
          11.708,
          5.7737,
          7.8247,
          7.0931,
          5.0702,
          5.8014,
          11.7,
          5.5416,
          7.5402,
          5.3077,
          7.4239,
          7.6031,
          6.3328,
          6.3589,
          6.2742,
          5.6397,
          9.3102,
          9.4536,
          8.8254,
          5.1793,
          21.279,
          14.908,
          18.959,
          7.2182,
          8.2951,
          10.236,
          5.4994,
          20.341,
          10.136,
          7.3345,
          6.0062,
          7.2259,
          5.0269,
          6.5479,
          7.5386,
          5.0365,
          10.274,
          5.1077,
          5.7292,
          5.1884,
          6.3557,
          9.7687,
          6.5159,
          8.5172,
          9.1802,
          6.002,
          5.5204,
          5.0594,
          5.7077,
          7.6366,
          5.8707,
          5.3054,
          8.2934,
          13.394,
          5.4369
         ],
         "y": [
          17.592,
          9.1302,
          13.662,
          11.854,
          6.8233,
          11.886,
          4.3483,
          12,
          6.5987,
          3.8166,
          3.2522,
          15.505,
          3.1551,
          7.2258,
          0.71618,
          3.5129,
          5.3048,
          0.56077,
          3.6518,
          5.3893,
          3.1386,
          21.767,
          4.263,
          5.1875,
          3.0825,
          22.638,
          13.501,
          7.0467,
          14.692,
          24.147,
          -1.22,
          5.9966,
          12.134,
          1.8495,
          6.5426,
          4.5623,
          4.1164,
          3.3928,
          10.117,
          5.4974,
          0.55657,
          3.9115,
          5.3854,
          2.4406,
          6.7318,
          1.0463,
          5.1337,
          1.844,
          8.0043,
          1.0179,
          6.7504,
          1.8396,
          4.2885,
          4.9981,
          1.4233,
          -1.4211,
          2.4756,
          4.6042,
          3.9624,
          5.4141,
          5.1694,
          -0.74279,
          17.929,
          12.054,
          17.054,
          4.8852,
          5.7442,
          7.7754,
          1.0173,
          20.992,
          6.6799,
          4.0259,
          1.2784,
          3.3411,
          -2.6807,
          0.29678,
          3.8845,
          5.7014,
          6.7526,
          2.0576,
          0.47953,
          0.20421,
          0.67861,
          7.5435,
          5.3436,
          4.2415,
          6.7981,
          0.92695,
          0.152,
          2.8214,
          1.8451,
          4.2959,
          7.2029,
          1.9869,
          0.14454,
          9.0551,
          0.61705
         ]
        }
       ],
       "layout": {
        "template": {
         "data": {
          "bar": [
           {
            "error_x": {
             "color": "#2a3f5f"
            },
            "error_y": {
             "color": "#2a3f5f"
            },
            "marker": {
             "line": {
              "color": "#E5ECF6",
              "width": 0.5
             }
            },
            "type": "bar"
           }
          ],
          "barpolar": [
           {
            "marker": {
             "line": {
              "color": "#E5ECF6",
              "width": 0.5
             }
            },
            "type": "barpolar"
           }
          ],
          "carpet": [
           {
            "aaxis": {
             "endlinecolor": "#2a3f5f",
             "gridcolor": "white",
             "linecolor": "white",
             "minorgridcolor": "white",
             "startlinecolor": "#2a3f5f"
            },
            "baxis": {
             "endlinecolor": "#2a3f5f",
             "gridcolor": "white",
             "linecolor": "white",
             "minorgridcolor": "white",
             "startlinecolor": "#2a3f5f"
            },
            "type": "carpet"
           }
          ],
          "choropleth": [
           {
            "colorbar": {
             "outlinewidth": 0,
             "ticks": ""
            },
            "type": "choropleth"
           }
          ],
          "contour": [
           {
            "colorbar": {
             "outlinewidth": 0,
             "ticks": ""
            },
            "colorscale": [
             [
              0,
              "#0d0887"
             ],
             [
              0.1111111111111111,
              "#46039f"
             ],
             [
              0.2222222222222222,
              "#7201a8"
             ],
             [
              0.3333333333333333,
              "#9c179e"
             ],
             [
              0.4444444444444444,
              "#bd3786"
             ],
             [
              0.5555555555555556,
              "#d8576b"
             ],
             [
              0.6666666666666666,
              "#ed7953"
             ],
             [
              0.7777777777777778,
              "#fb9f3a"
             ],
             [
              0.8888888888888888,
              "#fdca26"
             ],
             [
              1,
              "#f0f921"
             ]
            ],
            "type": "contour"
           }
          ],
          "contourcarpet": [
           {
            "colorbar": {
             "outlinewidth": 0,
             "ticks": ""
            },
            "type": "contourcarpet"
           }
          ],
          "heatmap": [
           {
            "colorbar": {
             "outlinewidth": 0,
             "ticks": ""
            },
            "colorscale": [
             [
              0,
              "#0d0887"
             ],
             [
              0.1111111111111111,
              "#46039f"
             ],
             [
              0.2222222222222222,
              "#7201a8"
             ],
             [
              0.3333333333333333,
              "#9c179e"
             ],
             [
              0.4444444444444444,
              "#bd3786"
             ],
             [
              0.5555555555555556,
              "#d8576b"
             ],
             [
              0.6666666666666666,
              "#ed7953"
             ],
             [
              0.7777777777777778,
              "#fb9f3a"
             ],
             [
              0.8888888888888888,
              "#fdca26"
             ],
             [
              1,
              "#f0f921"
             ]
            ],
            "type": "heatmap"
           }
          ],
          "heatmapgl": [
           {
            "colorbar": {
             "outlinewidth": 0,
             "ticks": ""
            },
            "colorscale": [
             [
              0,
              "#0d0887"
             ],
             [
              0.1111111111111111,
              "#46039f"
             ],
             [
              0.2222222222222222,
              "#7201a8"
             ],
             [
              0.3333333333333333,
              "#9c179e"
             ],
             [
              0.4444444444444444,
              "#bd3786"
             ],
             [
              0.5555555555555556,
              "#d8576b"
             ],
             [
              0.6666666666666666,
              "#ed7953"
             ],
             [
              0.7777777777777778,
              "#fb9f3a"
             ],
             [
              0.8888888888888888,
              "#fdca26"
             ],
             [
              1,
              "#f0f921"
             ]
            ],
            "type": "heatmapgl"
           }
          ],
          "histogram": [
           {
            "marker": {
             "colorbar": {
              "outlinewidth": 0,
              "ticks": ""
             }
            },
            "type": "histogram"
           }
          ],
          "histogram2d": [
           {
            "colorbar": {
             "outlinewidth": 0,
             "ticks": ""
            },
            "colorscale": [
             [
              0,
              "#0d0887"
             ],
             [
              0.1111111111111111,
              "#46039f"
             ],
             [
              0.2222222222222222,
              "#7201a8"
             ],
             [
              0.3333333333333333,
              "#9c179e"
             ],
             [
              0.4444444444444444,
              "#bd3786"
             ],
             [
              0.5555555555555556,
              "#d8576b"
             ],
             [
              0.6666666666666666,
              "#ed7953"
             ],
             [
              0.7777777777777778,
              "#fb9f3a"
             ],
             [
              0.8888888888888888,
              "#fdca26"
             ],
             [
              1,
              "#f0f921"
             ]
            ],
            "type": "histogram2d"
           }
          ],
          "histogram2dcontour": [
           {
            "colorbar": {
             "outlinewidth": 0,
             "ticks": ""
            },
            "colorscale": [
             [
              0,
              "#0d0887"
             ],
             [
              0.1111111111111111,
              "#46039f"
             ],
             [
              0.2222222222222222,
              "#7201a8"
             ],
             [
              0.3333333333333333,
              "#9c179e"
             ],
             [
              0.4444444444444444,
              "#bd3786"
             ],
             [
              0.5555555555555556,
              "#d8576b"
             ],
             [
              0.6666666666666666,
              "#ed7953"
             ],
             [
              0.7777777777777778,
              "#fb9f3a"
             ],
             [
              0.8888888888888888,
              "#fdca26"
             ],
             [
              1,
              "#f0f921"
             ]
            ],
            "type": "histogram2dcontour"
           }
          ],
          "mesh3d": [
           {
            "colorbar": {
             "outlinewidth": 0,
             "ticks": ""
            },
            "type": "mesh3d"
           }
          ],
          "parcoords": [
           {
            "line": {
             "colorbar": {
              "outlinewidth": 0,
              "ticks": ""
             }
            },
            "type": "parcoords"
           }
          ],
          "pie": [
           {
            "automargin": true,
            "type": "pie"
           }
          ],
          "scatter": [
           {
            "marker": {
             "colorbar": {
              "outlinewidth": 0,
              "ticks": ""
             }
            },
            "type": "scatter"
           }
          ],
          "scatter3d": [
           {
            "line": {
             "colorbar": {
              "outlinewidth": 0,
              "ticks": ""
             }
            },
            "marker": {
             "colorbar": {
              "outlinewidth": 0,
              "ticks": ""
             }
            },
            "type": "scatter3d"
           }
          ],
          "scattercarpet": [
           {
            "marker": {
             "colorbar": {
              "outlinewidth": 0,
              "ticks": ""
             }
            },
            "type": "scattercarpet"
           }
          ],
          "scattergeo": [
           {
            "marker": {
             "colorbar": {
              "outlinewidth": 0,
              "ticks": ""
             }
            },
            "type": "scattergeo"
           }
          ],
          "scattergl": [
           {
            "marker": {
             "colorbar": {
              "outlinewidth": 0,
              "ticks": ""
             }
            },
            "type": "scattergl"
           }
          ],
          "scattermapbox": [
           {
            "marker": {
             "colorbar": {
              "outlinewidth": 0,
              "ticks": ""
             }
            },
            "type": "scattermapbox"
           }
          ],
          "scatterpolar": [
           {
            "marker": {
             "colorbar": {
              "outlinewidth": 0,
              "ticks": ""
             }
            },
            "type": "scatterpolar"
           }
          ],
          "scatterpolargl": [
           {
            "marker": {
             "colorbar": {
              "outlinewidth": 0,
              "ticks": ""
             }
            },
            "type": "scatterpolargl"
           }
          ],
          "scatterternary": [
           {
            "marker": {
             "colorbar": {
              "outlinewidth": 0,
              "ticks": ""
             }
            },
            "type": "scatterternary"
           }
          ],
          "surface": [
           {
            "colorbar": {
             "outlinewidth": 0,
             "ticks": ""
            },
            "colorscale": [
             [
              0,
              "#0d0887"
             ],
             [
              0.1111111111111111,
              "#46039f"
             ],
             [
              0.2222222222222222,
              "#7201a8"
             ],
             [
              0.3333333333333333,
              "#9c179e"
             ],
             [
              0.4444444444444444,
              "#bd3786"
             ],
             [
              0.5555555555555556,
              "#d8576b"
             ],
             [
              0.6666666666666666,
              "#ed7953"
             ],
             [
              0.7777777777777778,
              "#fb9f3a"
             ],
             [
              0.8888888888888888,
              "#fdca26"
             ],
             [
              1,
              "#f0f921"
             ]
            ],
            "type": "surface"
           }
          ],
          "table": [
           {
            "cells": {
             "fill": {
              "color": "#EBF0F8"
             },
             "line": {
              "color": "white"
             }
            },
            "header": {
             "fill": {
              "color": "#C8D4E3"
             },
             "line": {
              "color": "white"
             }
            },
            "type": "table"
           }
          ]
         },
         "layout": {
          "annotationdefaults": {
           "arrowcolor": "#2a3f5f",
           "arrowhead": 0,
           "arrowwidth": 1
          },
          "coloraxis": {
           "colorbar": {
            "outlinewidth": 0,
            "ticks": ""
           }
          },
          "colorscale": {
           "diverging": [
            [
             0,
             "#8e0152"
            ],
            [
             0.1,
             "#c51b7d"
            ],
            [
             0.2,
             "#de77ae"
            ],
            [
             0.3,
             "#f1b6da"
            ],
            [
             0.4,
             "#fde0ef"
            ],
            [
             0.5,
             "#f7f7f7"
            ],
            [
             0.6,
             "#e6f5d0"
            ],
            [
             0.7,
             "#b8e186"
            ],
            [
             0.8,
             "#7fbc41"
            ],
            [
             0.9,
             "#4d9221"
            ],
            [
             1,
             "#276419"
            ]
           ],
           "sequential": [
            [
             0,
             "#0d0887"
            ],
            [
             0.1111111111111111,
             "#46039f"
            ],
            [
             0.2222222222222222,
             "#7201a8"
            ],
            [
             0.3333333333333333,
             "#9c179e"
            ],
            [
             0.4444444444444444,
             "#bd3786"
            ],
            [
             0.5555555555555556,
             "#d8576b"
            ],
            [
             0.6666666666666666,
             "#ed7953"
            ],
            [
             0.7777777777777778,
             "#fb9f3a"
            ],
            [
             0.8888888888888888,
             "#fdca26"
            ],
            [
             1,
             "#f0f921"
            ]
           ],
           "sequentialminus": [
            [
             0,
             "#0d0887"
            ],
            [
             0.1111111111111111,
             "#46039f"
            ],
            [
             0.2222222222222222,
             "#7201a8"
            ],
            [
             0.3333333333333333,
             "#9c179e"
            ],
            [
             0.4444444444444444,
             "#bd3786"
            ],
            [
             0.5555555555555556,
             "#d8576b"
            ],
            [
             0.6666666666666666,
             "#ed7953"
            ],
            [
             0.7777777777777778,
             "#fb9f3a"
            ],
            [
             0.8888888888888888,
             "#fdca26"
            ],
            [
             1,
             "#f0f921"
            ]
           ]
          },
          "colorway": [
           "#636efa",
           "#EF553B",
           "#00cc96",
           "#ab63fa",
           "#FFA15A",
           "#19d3f3",
           "#FF6692",
           "#B6E880",
           "#FF97FF",
           "#FECB52"
          ],
          "font": {
           "color": "#2a3f5f"
          },
          "geo": {
           "bgcolor": "white",
           "lakecolor": "white",
           "landcolor": "#E5ECF6",
           "showlakes": true,
           "showland": true,
           "subunitcolor": "white"
          },
          "hoverlabel": {
           "align": "left"
          },
          "hovermode": "closest",
          "mapbox": {
           "style": "light"
          },
          "paper_bgcolor": "white",
          "plot_bgcolor": "#E5ECF6",
          "polar": {
           "angularaxis": {
            "gridcolor": "white",
            "linecolor": "white",
            "ticks": ""
           },
           "bgcolor": "#E5ECF6",
           "radialaxis": {
            "gridcolor": "white",
            "linecolor": "white",
            "ticks": ""
           }
          },
          "scene": {
           "xaxis": {
            "backgroundcolor": "#E5ECF6",
            "gridcolor": "white",
            "gridwidth": 2,
            "linecolor": "white",
            "showbackground": true,
            "ticks": "",
            "zerolinecolor": "white"
           },
           "yaxis": {
            "backgroundcolor": "#E5ECF6",
            "gridcolor": "white",
            "gridwidth": 2,
            "linecolor": "white",
            "showbackground": true,
            "ticks": "",
            "zerolinecolor": "white"
           },
           "zaxis": {
            "backgroundcolor": "#E5ECF6",
            "gridcolor": "white",
            "gridwidth": 2,
            "linecolor": "white",
            "showbackground": true,
            "ticks": "",
            "zerolinecolor": "white"
           }
          },
          "shapedefaults": {
           "line": {
            "color": "#2a3f5f"
           }
          },
          "ternary": {
           "aaxis": {
            "gridcolor": "white",
            "linecolor": "white",
            "ticks": ""
           },
           "baxis": {
            "gridcolor": "white",
            "linecolor": "white",
            "ticks": ""
           },
           "bgcolor": "#E5ECF6",
           "caxis": {
            "gridcolor": "white",
            "linecolor": "white",
            "ticks": ""
           }
          },
          "title": {
           "x": 0.05
          },
          "xaxis": {
           "automargin": true,
           "gridcolor": "white",
           "linecolor": "white",
           "ticks": "",
           "title": {
            "standoff": 15
           },
           "zerolinecolor": "white",
           "zerolinewidth": 2
          },
          "yaxis": {
           "automargin": true,
           "gridcolor": "white",
           "linecolor": "white",
           "ticks": "",
           "title": {
            "standoff": 15
           },
           "zerolinecolor": "white",
           "zerolinewidth": 2
          }
         }
        }
       }
      },
      "text/html": [
       "<div>\n",
       "        \n",
       "        \n",
       "            <div id=\"d0ca452a-c675-4614-a5d7-c8beea755bfd\" class=\"plotly-graph-div\" style=\"height:525px; width:100%;\"></div>\n",
       "            <script type=\"text/javascript\">\n",
       "                require([\"plotly\"], function(Plotly) {\n",
       "                    window.PLOTLYENV=window.PLOTLYENV || {};\n",
       "                    \n",
       "                if (document.getElementById(\"d0ca452a-c675-4614-a5d7-c8beea755bfd\")) {\n",
       "                    Plotly.newPlot(\n",
       "                        'd0ca452a-c675-4614-a5d7-c8beea755bfd',\n",
       "                        [{\"type\": \"scatter\", \"x\": [6.1101, 5.5277, 8.5186, 7.0032, 5.8598, 8.3829, 7.4764, 8.5781, 6.4862, 5.0546, 5.7107, 14.164, 5.734, 8.4084, 5.6407, 5.3794, 6.3654, 5.1301, 6.4296, 7.0708, 6.1891, 20.27, 5.4901, 6.3261, 5.5649, 18.945, 12.828, 10.957, 13.176, 22.203, 5.2524, 6.5894, 9.2482, 5.8918, 8.2111, 7.9334, 8.0959, 5.6063, 12.836, 6.3534, 5.4069, 6.8825, 11.708, 5.7737, 7.8247, 7.0931, 5.0702, 5.8014, 11.7, 5.5416, 7.5402, 5.3077, 7.4239, 7.6031, 6.3328, 6.3589, 6.2742, 5.6397, 9.3102, 9.4536, 8.8254, 5.1793, 21.279, 14.908, 18.959, 7.2182, 8.2951, 10.236, 5.4994, 20.341, 10.136, 7.3345, 6.0062, 7.2259, 5.0269, 6.5479, 7.5386, 5.0365, 10.274, 5.1077, 5.7292, 5.1884, 6.3557, 9.7687, 6.5159, 8.5172, 9.1802, 6.002, 5.5204, 5.0594, 5.7077, 7.6366, 5.8707, 5.3054, 8.2934, 13.394, 5.4369], \"y\": [3.4962991573810807, 2.817009724545638, 6.305482878164328, 4.537977372465788, 3.204358661092084, 6.14720750722379, 5.089900036644586, 6.374881438009295, 3.934968037342293, 2.265203696601873, 3.030454034657049, 12.890064890748825, 3.0576302774198676, 6.176949747157348, 2.9488086701335576, 2.6440381879908714, 3.7940714654217547, 2.3532640540522096, 3.8689519283132987, 4.616823467348473, 3.588441783057591, 20.011873401897887, 2.77315450017302, 3.748233425053566, 2.8603984039781207, 18.466443287703243, 11.331804790700485, 9.149540833222613, 11.737698888617269, 22.266451825096567, 2.4959101694982517, 4.055336631896925, 7.15646084896917, 3.241682256302823, 5.946826455436138, 5.622927630747947, 5.812461512677478, 2.908685805282014, 11.34113568950317, 3.7800751172177267, 2.6761131526250996, 4.397197436780283, 10.025478958324635, 3.1039348627281904, 5.496144043266469, 4.642833347760957, 2.283398949267108, 3.136243099832486, 10.01614805952195, 2.833222161215302, 5.164313954595995, 2.5604100074718086, 5.028666013251968, 5.2376781464321045, 3.7560480528008138, 3.7864901101445736, 3.6876992190711495, 2.9476423077832226, 7.228775314689976, 7.396031675728098, 6.6633228472472865, 2.4106490816887205, 21.18873301338649, 13.757838479398497, 18.48277236060794, 4.788745277787939, 6.044800892864327, 8.308593578630658, 2.7840016700311403, 20.094685128771715, 8.191957343597098, 4.924393219131966, 3.375114109181213, 4.797726267885523, 2.2328954594975783, 4.006932594357998, 5.162447774835458, 2.2440925380608, 8.352915347943409, 2.327137537404693, 3.0520317381382562, 2.4212629790767743, 3.782757750623499, 7.763552452318841, 3.9696089991472596, 6.303849970873861, 7.077148209146349, 3.3702153873098033, 2.8084952793881883, 2.2708022358834845, 3.026954947606042, 5.276751285168345, 3.217072010710742, 2.557727374066037, 6.042818076868755, 11.991965880990426, 2.711104023135166]}, {\"mode\": \"markers\", \"type\": \"scatter\", \"x\": [6.1101, 5.5277, 8.5186, 7.0032, 5.8598, 8.3829, 7.4764, 8.5781, 6.4862, 5.0546, 5.7107, 14.164, 5.734, 8.4084, 5.6407, 5.3794, 6.3654, 5.1301, 6.4296, 7.0708, 6.1891, 20.27, 5.4901, 6.3261, 5.5649, 18.945, 12.828, 10.957, 13.176, 22.203, 5.2524, 6.5894, 9.2482, 5.8918, 8.2111, 7.9334, 8.0959, 5.6063, 12.836, 6.3534, 5.4069, 6.8825, 11.708, 5.7737, 7.8247, 7.0931, 5.0702, 5.8014, 11.7, 5.5416, 7.5402, 5.3077, 7.4239, 7.6031, 6.3328, 6.3589, 6.2742, 5.6397, 9.3102, 9.4536, 8.8254, 5.1793, 21.279, 14.908, 18.959, 7.2182, 8.2951, 10.236, 5.4994, 20.341, 10.136, 7.3345, 6.0062, 7.2259, 5.0269, 6.5479, 7.5386, 5.0365, 10.274, 5.1077, 5.7292, 5.1884, 6.3557, 9.7687, 6.5159, 8.5172, 9.1802, 6.002, 5.5204, 5.0594, 5.7077, 7.6366, 5.8707, 5.3054, 8.2934, 13.394, 5.4369], \"y\": [17.592, 9.1302, 13.662, 11.854, 6.8233, 11.886, 4.3483, 12.0, 6.5987, 3.8166, 3.2522, 15.505, 3.1551, 7.2258, 0.71618, 3.5129, 5.3048, 0.56077, 3.6518, 5.3893, 3.1386, 21.767, 4.263, 5.1875, 3.0825, 22.638, 13.501, 7.0467, 14.692, 24.147, -1.22, 5.9966, 12.134, 1.8495, 6.5426, 4.5623, 4.1164, 3.3928, 10.117, 5.4974, 0.55657, 3.9115, 5.3854, 2.4406, 6.7318, 1.0463, 5.1337, 1.844, 8.0043, 1.0179, 6.7504, 1.8396, 4.2885, 4.9981, 1.4233, -1.4211, 2.4756, 4.6042, 3.9624, 5.4141, 5.1694, -0.74279, 17.929, 12.054, 17.054, 4.8852, 5.7442, 7.7754, 1.0173, 20.992, 6.6799, 4.0259, 1.2784, 3.3411, -2.6807, 0.29678, 3.8845, 5.7014, 6.7526, 2.0576, 0.47953, 0.20421, 0.67861, 7.5435, 5.3436, 4.2415, 6.7981, 0.92695, 0.152, 2.8214, 1.8451, 4.2959, 7.2029, 1.9869, 0.14454, 9.0551, 0.61705]}],\n",
       "                        {\"template\": {\"data\": {\"bar\": [{\"error_x\": {\"color\": \"#2a3f5f\"}, \"error_y\": {\"color\": \"#2a3f5f\"}, \"marker\": {\"line\": {\"color\": \"#E5ECF6\", \"width\": 0.5}}, \"type\": \"bar\"}], \"barpolar\": [{\"marker\": {\"line\": {\"color\": \"#E5ECF6\", \"width\": 0.5}}, \"type\": \"barpolar\"}], \"carpet\": [{\"aaxis\": {\"endlinecolor\": \"#2a3f5f\", \"gridcolor\": \"white\", \"linecolor\": \"white\", \"minorgridcolor\": \"white\", \"startlinecolor\": \"#2a3f5f\"}, \"baxis\": {\"endlinecolor\": \"#2a3f5f\", \"gridcolor\": \"white\", \"linecolor\": \"white\", \"minorgridcolor\": \"white\", \"startlinecolor\": \"#2a3f5f\"}, \"type\": \"carpet\"}], \"choropleth\": [{\"colorbar\": {\"outlinewidth\": 0, \"ticks\": \"\"}, \"type\": \"choropleth\"}], \"contour\": [{\"colorbar\": {\"outlinewidth\": 0, \"ticks\": \"\"}, \"colorscale\": [[0.0, \"#0d0887\"], [0.1111111111111111, \"#46039f\"], [0.2222222222222222, \"#7201a8\"], [0.3333333333333333, \"#9c179e\"], [0.4444444444444444, \"#bd3786\"], [0.5555555555555556, \"#d8576b\"], [0.6666666666666666, \"#ed7953\"], [0.7777777777777778, \"#fb9f3a\"], [0.8888888888888888, \"#fdca26\"], [1.0, \"#f0f921\"]], \"type\": \"contour\"}], \"contourcarpet\": [{\"colorbar\": {\"outlinewidth\": 0, \"ticks\": \"\"}, \"type\": \"contourcarpet\"}], \"heatmap\": [{\"colorbar\": {\"outlinewidth\": 0, \"ticks\": \"\"}, \"colorscale\": [[0.0, \"#0d0887\"], [0.1111111111111111, \"#46039f\"], [0.2222222222222222, \"#7201a8\"], [0.3333333333333333, \"#9c179e\"], [0.4444444444444444, \"#bd3786\"], [0.5555555555555556, \"#d8576b\"], [0.6666666666666666, \"#ed7953\"], [0.7777777777777778, \"#fb9f3a\"], [0.8888888888888888, \"#fdca26\"], [1.0, \"#f0f921\"]], \"type\": \"heatmap\"}], \"heatmapgl\": [{\"colorbar\": {\"outlinewidth\": 0, \"ticks\": \"\"}, \"colorscale\": [[0.0, \"#0d0887\"], [0.1111111111111111, \"#46039f\"], [0.2222222222222222, \"#7201a8\"], [0.3333333333333333, \"#9c179e\"], [0.4444444444444444, \"#bd3786\"], [0.5555555555555556, \"#d8576b\"], [0.6666666666666666, \"#ed7953\"], [0.7777777777777778, \"#fb9f3a\"], [0.8888888888888888, \"#fdca26\"], [1.0, \"#f0f921\"]], \"type\": \"heatmapgl\"}], \"histogram\": [{\"marker\": {\"colorbar\": {\"outlinewidth\": 0, \"ticks\": \"\"}}, \"type\": \"histogram\"}], \"histogram2d\": [{\"colorbar\": {\"outlinewidth\": 0, \"ticks\": \"\"}, \"colorscale\": [[0.0, \"#0d0887\"], [0.1111111111111111, \"#46039f\"], [0.2222222222222222, \"#7201a8\"], [0.3333333333333333, \"#9c179e\"], [0.4444444444444444, \"#bd3786\"], [0.5555555555555556, \"#d8576b\"], [0.6666666666666666, \"#ed7953\"], [0.7777777777777778, \"#fb9f3a\"], [0.8888888888888888, \"#fdca26\"], [1.0, \"#f0f921\"]], \"type\": \"histogram2d\"}], \"histogram2dcontour\": [{\"colorbar\": {\"outlinewidth\": 0, \"ticks\": \"\"}, \"colorscale\": [[0.0, \"#0d0887\"], [0.1111111111111111, \"#46039f\"], [0.2222222222222222, \"#7201a8\"], [0.3333333333333333, \"#9c179e\"], [0.4444444444444444, \"#bd3786\"], [0.5555555555555556, \"#d8576b\"], [0.6666666666666666, \"#ed7953\"], [0.7777777777777778, \"#fb9f3a\"], [0.8888888888888888, \"#fdca26\"], [1.0, \"#f0f921\"]], \"type\": \"histogram2dcontour\"}], \"mesh3d\": [{\"colorbar\": {\"outlinewidth\": 0, \"ticks\": \"\"}, \"type\": \"mesh3d\"}], \"parcoords\": [{\"line\": {\"colorbar\": {\"outlinewidth\": 0, \"ticks\": \"\"}}, \"type\": \"parcoords\"}], \"pie\": [{\"automargin\": true, \"type\": \"pie\"}], \"scatter\": [{\"marker\": {\"colorbar\": {\"outlinewidth\": 0, \"ticks\": \"\"}}, \"type\": \"scatter\"}], \"scatter3d\": [{\"line\": {\"colorbar\": {\"outlinewidth\": 0, \"ticks\": \"\"}}, \"marker\": {\"colorbar\": {\"outlinewidth\": 0, \"ticks\": \"\"}}, \"type\": \"scatter3d\"}], \"scattercarpet\": [{\"marker\": {\"colorbar\": {\"outlinewidth\": 0, \"ticks\": \"\"}}, \"type\": \"scattercarpet\"}], \"scattergeo\": [{\"marker\": {\"colorbar\": {\"outlinewidth\": 0, \"ticks\": \"\"}}, \"type\": \"scattergeo\"}], \"scattergl\": [{\"marker\": {\"colorbar\": {\"outlinewidth\": 0, \"ticks\": \"\"}}, \"type\": \"scattergl\"}], \"scattermapbox\": [{\"marker\": {\"colorbar\": {\"outlinewidth\": 0, \"ticks\": \"\"}}, \"type\": \"scattermapbox\"}], \"scatterpolar\": [{\"marker\": {\"colorbar\": {\"outlinewidth\": 0, \"ticks\": \"\"}}, \"type\": \"scatterpolar\"}], \"scatterpolargl\": [{\"marker\": {\"colorbar\": {\"outlinewidth\": 0, \"ticks\": \"\"}}, \"type\": \"scatterpolargl\"}], \"scatterternary\": [{\"marker\": {\"colorbar\": {\"outlinewidth\": 0, \"ticks\": \"\"}}, \"type\": \"scatterternary\"}], \"surface\": [{\"colorbar\": {\"outlinewidth\": 0, \"ticks\": \"\"}, \"colorscale\": [[0.0, \"#0d0887\"], [0.1111111111111111, \"#46039f\"], [0.2222222222222222, \"#7201a8\"], [0.3333333333333333, \"#9c179e\"], [0.4444444444444444, \"#bd3786\"], [0.5555555555555556, \"#d8576b\"], [0.6666666666666666, \"#ed7953\"], [0.7777777777777778, \"#fb9f3a\"], [0.8888888888888888, \"#fdca26\"], [1.0, \"#f0f921\"]], \"type\": \"surface\"}], \"table\": [{\"cells\": {\"fill\": {\"color\": \"#EBF0F8\"}, \"line\": {\"color\": \"white\"}}, \"header\": {\"fill\": {\"color\": \"#C8D4E3\"}, \"line\": {\"color\": \"white\"}}, \"type\": \"table\"}]}, \"layout\": {\"annotationdefaults\": {\"arrowcolor\": \"#2a3f5f\", \"arrowhead\": 0, \"arrowwidth\": 1}, \"coloraxis\": {\"colorbar\": {\"outlinewidth\": 0, \"ticks\": \"\"}}, \"colorscale\": {\"diverging\": [[0, \"#8e0152\"], [0.1, \"#c51b7d\"], [0.2, \"#de77ae\"], [0.3, \"#f1b6da\"], [0.4, \"#fde0ef\"], [0.5, \"#f7f7f7\"], [0.6, \"#e6f5d0\"], [0.7, \"#b8e186\"], [0.8, \"#7fbc41\"], [0.9, \"#4d9221\"], [1, \"#276419\"]], \"sequential\": [[0.0, \"#0d0887\"], [0.1111111111111111, \"#46039f\"], [0.2222222222222222, \"#7201a8\"], [0.3333333333333333, \"#9c179e\"], [0.4444444444444444, \"#bd3786\"], [0.5555555555555556, \"#d8576b\"], [0.6666666666666666, \"#ed7953\"], [0.7777777777777778, \"#fb9f3a\"], [0.8888888888888888, \"#fdca26\"], [1.0, \"#f0f921\"]], \"sequentialminus\": [[0.0, \"#0d0887\"], [0.1111111111111111, \"#46039f\"], [0.2222222222222222, \"#7201a8\"], [0.3333333333333333, \"#9c179e\"], [0.4444444444444444, \"#bd3786\"], [0.5555555555555556, \"#d8576b\"], [0.6666666666666666, \"#ed7953\"], [0.7777777777777778, \"#fb9f3a\"], [0.8888888888888888, \"#fdca26\"], [1.0, \"#f0f921\"]]}, \"colorway\": [\"#636efa\", \"#EF553B\", \"#00cc96\", \"#ab63fa\", \"#FFA15A\", \"#19d3f3\", \"#FF6692\", \"#B6E880\", \"#FF97FF\", \"#FECB52\"], \"font\": {\"color\": \"#2a3f5f\"}, \"geo\": {\"bgcolor\": \"white\", \"lakecolor\": \"white\", \"landcolor\": \"#E5ECF6\", \"showlakes\": true, \"showland\": true, \"subunitcolor\": \"white\"}, \"hoverlabel\": {\"align\": \"left\"}, \"hovermode\": \"closest\", \"mapbox\": {\"style\": \"light\"}, \"paper_bgcolor\": \"white\", \"plot_bgcolor\": \"#E5ECF6\", \"polar\": {\"angularaxis\": {\"gridcolor\": \"white\", \"linecolor\": \"white\", \"ticks\": \"\"}, \"bgcolor\": \"#E5ECF6\", \"radialaxis\": {\"gridcolor\": \"white\", \"linecolor\": \"white\", \"ticks\": \"\"}}, \"scene\": {\"xaxis\": {\"backgroundcolor\": \"#E5ECF6\", \"gridcolor\": \"white\", \"gridwidth\": 2, \"linecolor\": \"white\", \"showbackground\": true, \"ticks\": \"\", \"zerolinecolor\": \"white\"}, \"yaxis\": {\"backgroundcolor\": \"#E5ECF6\", \"gridcolor\": \"white\", \"gridwidth\": 2, \"linecolor\": \"white\", \"showbackground\": true, \"ticks\": \"\", \"zerolinecolor\": \"white\"}, \"zaxis\": {\"backgroundcolor\": \"#E5ECF6\", \"gridcolor\": \"white\", \"gridwidth\": 2, \"linecolor\": \"white\", \"showbackground\": true, \"ticks\": \"\", \"zerolinecolor\": \"white\"}}, \"shapedefaults\": {\"line\": {\"color\": \"#2a3f5f\"}}, \"ternary\": {\"aaxis\": {\"gridcolor\": \"white\", \"linecolor\": \"white\", \"ticks\": \"\"}, \"baxis\": {\"gridcolor\": \"white\", \"linecolor\": \"white\", \"ticks\": \"\"}, \"bgcolor\": \"#E5ECF6\", \"caxis\": {\"gridcolor\": \"white\", \"linecolor\": \"white\", \"ticks\": \"\"}}, \"title\": {\"x\": 0.05}, \"xaxis\": {\"automargin\": true, \"gridcolor\": \"white\", \"linecolor\": \"white\", \"ticks\": \"\", \"title\": {\"standoff\": 15}, \"zerolinecolor\": \"white\", \"zerolinewidth\": 2}, \"yaxis\": {\"automargin\": true, \"gridcolor\": \"white\", \"linecolor\": \"white\", \"ticks\": \"\", \"title\": {\"standoff\": 15}, \"zerolinecolor\": \"white\", \"zerolinewidth\": 2}}}},\n",
       "                        {\"responsive\": true}\n",
       "                    ).then(function(){\n",
       "                            \n",
       "var gd = document.getElementById('d0ca452a-c675-4614-a5d7-c8beea755bfd');\n",
       "var x = new MutationObserver(function (mutations, observer) {{\n",
       "        var display = window.getComputedStyle(gd).display;\n",
       "        if (!display || display === 'none') {{\n",
       "            console.log([gd, 'removed!']);\n",
       "            Plotly.purge(gd);\n",
       "            observer.disconnect();\n",
       "        }}\n",
       "}});\n",
       "\n",
       "// Listen for the removal of the full notebook cells\n",
       "var notebookContainer = gd.closest('#notebook-container');\n",
       "if (notebookContainer) {{\n",
       "    x.observe(notebookContainer, {childList: true});\n",
       "}}\n",
       "\n",
       "// Listen for the clearing of the current output cell\n",
       "var outputEl = gd.closest('.output');\n",
       "if (outputEl) {{\n",
       "    x.observe(outputEl, {childList: true});\n",
       "}}\n",
       "\n",
       "                        })\n",
       "                };\n",
       "                });\n",
       "            </script>\n",
       "        </div>"
      ]
     },
     "metadata": {},
     "output_type": "display_data"
    },
    {
     "data": {
      "application/vnd.plotly.v1+json": {
       "config": {
        "plotlyServerURL": "https://plot.ly"
       },
       "data": [
        {
         "hoverlabel": {
          "namelength": 0
         },
         "hovertemplate": "X=%{x}<br>Y=%{y}",
         "legendgroup": "",
         "marker": {
          "color": "#636efa",
          "symbol": "circle"
         },
         "mode": "markers",
         "name": "",
         "showlegend": false,
         "type": "scatter",
         "x": [
          6.1101,
          5.5277,
          8.5186,
          7.0032,
          5.8598,
          8.3829,
          7.4764,
          8.5781,
          6.4862,
          5.0546,
          5.7107,
          14.164,
          5.734,
          8.4084,
          5.6407,
          5.3794,
          6.3654,
          5.1301,
          6.4296,
          7.0708,
          6.1891,
          20.27,
          5.4901,
          6.3261,
          5.5649,
          18.945,
          12.828,
          10.957,
          13.176,
          22.203,
          5.2524,
          6.5894,
          9.2482,
          5.8918,
          8.2111,
          7.9334,
          8.0959,
          5.6063,
          12.836,
          6.3534,
          5.4069,
          6.8825,
          11.708,
          5.7737,
          7.8247,
          7.0931,
          5.0702,
          5.8014,
          11.7,
          5.5416,
          7.5402,
          5.3077,
          7.4239,
          7.6031,
          6.3328,
          6.3589,
          6.2742,
          5.6397,
          9.3102,
          9.4536,
          8.8254,
          5.1793,
          21.279,
          14.908,
          18.959,
          7.2182,
          8.2951,
          10.236,
          5.4994,
          20.341,
          10.136,
          7.3345,
          6.0062,
          7.2259,
          5.0269,
          6.5479,
          7.5386,
          5.0365,
          10.274,
          5.1077,
          5.7292,
          5.1884,
          6.3557,
          9.7687,
          6.5159,
          8.5172,
          9.1802,
          6.002,
          5.5204,
          5.0594,
          5.7077,
          7.6366,
          5.8707,
          5.3054,
          8.2934,
          13.394,
          5.4369
         ],
         "xaxis": "x",
         "y": [
          17.592,
          9.1302,
          13.662,
          11.854,
          6.8233,
          11.886,
          4.3483,
          12,
          6.5987,
          3.8166,
          3.2522,
          15.505,
          3.1551,
          7.2258,
          0.71618,
          3.5129,
          5.3048,
          0.56077,
          3.6518,
          5.3893,
          3.1386,
          21.767,
          4.263,
          5.1875,
          3.0825,
          22.638,
          13.501,
          7.0467,
          14.692,
          24.147,
          -1.22,
          5.9966,
          12.134,
          1.8495,
          6.5426,
          4.5623,
          4.1164,
          3.3928,
          10.117,
          5.4974,
          0.55657,
          3.9115,
          5.3854,
          2.4406,
          6.7318,
          1.0463,
          5.1337,
          1.844,
          8.0043,
          1.0179,
          6.7504,
          1.8396,
          4.2885,
          4.9981,
          1.4233,
          -1.4211,
          2.4756,
          4.6042,
          3.9624,
          5.4141,
          5.1694,
          -0.74279,
          17.929,
          12.054,
          17.054,
          4.8852,
          5.7442,
          7.7754,
          1.0173,
          20.992,
          6.6799,
          4.0259,
          1.2784,
          3.3411,
          -2.6807,
          0.29678,
          3.8845,
          5.7014,
          6.7526,
          2.0576,
          0.47953,
          0.20421,
          0.67861,
          7.5435,
          5.3436,
          4.2415,
          6.7981,
          0.92695,
          0.152,
          2.8214,
          1.8451,
          4.2959,
          7.2029,
          1.9869,
          0.14454,
          9.0551,
          0.61705
         ],
         "yaxis": "y"
        },
        {
         "hoverlabel": {
          "namelength": 0
         },
         "hovertemplate": "<b>OLS trendline</b><br>Y = 1.193034 * X + -3.895781<br>R<sup>2</sup>=0.702032<br><br>X=%{x}<br>Y=%{y} <b>(trend)</b>",
         "legendgroup": "",
         "marker": {
          "color": "#636efa",
          "symbol": "circle"
         },
         "mode": "lines",
         "name": "",
         "showlegend": false,
         "type": "scatter",
         "x": [
          5.0269,
          5.0365,
          5.0546,
          5.0594,
          5.0702,
          5.1077,
          5.1301,
          5.1793,
          5.1884,
          5.2524,
          5.3054,
          5.3077,
          5.3794,
          5.4069,
          5.4369,
          5.4901,
          5.4994,
          5.5204,
          5.5277,
          5.5416,
          5.5649,
          5.6063,
          5.6397,
          5.6407,
          5.7077,
          5.7107,
          5.7292,
          5.734,
          5.7737,
          5.8014,
          5.8598,
          5.8707,
          5.8918,
          6.002,
          6.0062,
          6.1101,
          6.1891,
          6.2742,
          6.3261,
          6.3328,
          6.3534,
          6.3557,
          6.3589,
          6.3654,
          6.4296,
          6.4862,
          6.5159,
          6.5479,
          6.5894,
          6.8825,
          7.0032,
          7.0708,
          7.0931,
          7.2182,
          7.2259,
          7.3345,
          7.4239,
          7.4764,
          7.5386,
          7.5402,
          7.6031,
          7.6366,
          7.8247,
          7.9334,
          8.0959,
          8.2111,
          8.2934,
          8.2951,
          8.3829,
          8.4084,
          8.5172,
          8.5186,
          8.5781,
          8.8254,
          9.1802,
          9.2482,
          9.3102,
          9.4536,
          9.7687,
          10.136,
          10.236,
          10.274,
          10.957,
          11.7,
          11.708,
          12.828,
          12.836,
          13.176,
          13.394,
          14.164,
          14.908,
          18.945,
          18.959,
          20.27,
          20.341,
          21.279,
          22.203
         ],
         "xaxis": "x",
         "y": [
          2.1014799476648105,
          2.11293307064903,
          2.1345269796088613,
          2.140253541100972,
          2.1531383044582193,
          2.1978770661153297,
          2.2246010197451755,
          2.283298275039303,
          2.2941548812014294,
          2.370509034429563,
          2.433739817571612,
          2.4364837949532476,
          2.5220243072416424,
          2.554832732456856,
          2.5906237417825433,
          2.6540931316534304,
          2.665188344544393,
          2.6902420510723757,
          2.6989511966749595,
          2.715534364329194,
          2.7433320482388113,
          2.7927236411082608,
          2.832570964824194,
          2.8337639984683825,
          2.913697252629086,
          2.9172763535616544,
          2.939347475979162,
          2.945074037471272,
          2.9924374731455985,
          3.025484505089651,
          3.0951576699103227,
          3.1081617366319905,
          3.13333474652439,
          3.2648070541140837,
          3.2698177954196797,
          3.393773991050979,
          3.4880236489419567,
          3.5895508120624915,
          3.6514692581959314,
          3.6594625836120014,
          3.6840390766823066,
          3.6867830540639424,
          3.69060076172535,
          3.6983554804125824,
          3.7749482403695542,
          3.8424739446306853,
          3.8779070438631167,
          3.916084120477184,
          3.965595016711052,
          4.3152731778230216,
          4.459272338676705,
          4.539921413023922,
          4.56652606328935,
          4.7157745721774695,
          4.72496093123773,
          4.854524384996719,
          4.961181592787268,
          5.023815859107222,
          5.098022551775815,
          5.099931405606517,
          5.174973221826045,
          5.214939848906395,
          5.4393494773784585,
          5.569032234501867,
          5.762900201682676,
          5.900337677493317,
          5.998524346410122,
          6.000552503605244,
          6.105300857565089,
          6.135723215491925,
          6.265525275979753,
          6.267195523081616,
          6.338181024910897,
          6.633218245118986,
          7.056506582077452,
          7.1376328698823475,
          7.211600955822101,
          7.382681980398889,
          7.758606881683031,
          8.196808139193868,
          8.316111503612829,
          8.361446782092031,
          9.176288761073526,
          10.062712758706393,
          10.07225702785991,
          11.408454709352256,
          11.417998978505773,
          11.823630417530236,
          12.083711751963568,
          13.002347657989555,
          13.88996468926661,
          18.706241510860004,
          18.722943981878657,
          20.287011089411216,
          20.37171647814868,
          21.490782036398517,
          22.593145123629704
         ],
         "yaxis": "y"
        }
       ],
       "layout": {
        "height": 600,
        "legend": {
         "tracegroupgap": 0
        },
        "margin": {
         "t": 60
        },
        "template": {
         "data": {
          "bar": [
           {
            "error_x": {
             "color": "#2a3f5f"
            },
            "error_y": {
             "color": "#2a3f5f"
            },
            "marker": {
             "line": {
              "color": "#E5ECF6",
              "width": 0.5
             }
            },
            "type": "bar"
           }
          ],
          "barpolar": [
           {
            "marker": {
             "line": {
              "color": "#E5ECF6",
              "width": 0.5
             }
            },
            "type": "barpolar"
           }
          ],
          "carpet": [
           {
            "aaxis": {
             "endlinecolor": "#2a3f5f",
             "gridcolor": "white",
             "linecolor": "white",
             "minorgridcolor": "white",
             "startlinecolor": "#2a3f5f"
            },
            "baxis": {
             "endlinecolor": "#2a3f5f",
             "gridcolor": "white",
             "linecolor": "white",
             "minorgridcolor": "white",
             "startlinecolor": "#2a3f5f"
            },
            "type": "carpet"
           }
          ],
          "choropleth": [
           {
            "colorbar": {
             "outlinewidth": 0,
             "ticks": ""
            },
            "type": "choropleth"
           }
          ],
          "contour": [
           {
            "colorbar": {
             "outlinewidth": 0,
             "ticks": ""
            },
            "colorscale": [
             [
              0,
              "#0d0887"
             ],
             [
              0.1111111111111111,
              "#46039f"
             ],
             [
              0.2222222222222222,
              "#7201a8"
             ],
             [
              0.3333333333333333,
              "#9c179e"
             ],
             [
              0.4444444444444444,
              "#bd3786"
             ],
             [
              0.5555555555555556,
              "#d8576b"
             ],
             [
              0.6666666666666666,
              "#ed7953"
             ],
             [
              0.7777777777777778,
              "#fb9f3a"
             ],
             [
              0.8888888888888888,
              "#fdca26"
             ],
             [
              1,
              "#f0f921"
             ]
            ],
            "type": "contour"
           }
          ],
          "contourcarpet": [
           {
            "colorbar": {
             "outlinewidth": 0,
             "ticks": ""
            },
            "type": "contourcarpet"
           }
          ],
          "heatmap": [
           {
            "colorbar": {
             "outlinewidth": 0,
             "ticks": ""
            },
            "colorscale": [
             [
              0,
              "#0d0887"
             ],
             [
              0.1111111111111111,
              "#46039f"
             ],
             [
              0.2222222222222222,
              "#7201a8"
             ],
             [
              0.3333333333333333,
              "#9c179e"
             ],
             [
              0.4444444444444444,
              "#bd3786"
             ],
             [
              0.5555555555555556,
              "#d8576b"
             ],
             [
              0.6666666666666666,
              "#ed7953"
             ],
             [
              0.7777777777777778,
              "#fb9f3a"
             ],
             [
              0.8888888888888888,
              "#fdca26"
             ],
             [
              1,
              "#f0f921"
             ]
            ],
            "type": "heatmap"
           }
          ],
          "heatmapgl": [
           {
            "colorbar": {
             "outlinewidth": 0,
             "ticks": ""
            },
            "colorscale": [
             [
              0,
              "#0d0887"
             ],
             [
              0.1111111111111111,
              "#46039f"
             ],
             [
              0.2222222222222222,
              "#7201a8"
             ],
             [
              0.3333333333333333,
              "#9c179e"
             ],
             [
              0.4444444444444444,
              "#bd3786"
             ],
             [
              0.5555555555555556,
              "#d8576b"
             ],
             [
              0.6666666666666666,
              "#ed7953"
             ],
             [
              0.7777777777777778,
              "#fb9f3a"
             ],
             [
              0.8888888888888888,
              "#fdca26"
             ],
             [
              1,
              "#f0f921"
             ]
            ],
            "type": "heatmapgl"
           }
          ],
          "histogram": [
           {
            "marker": {
             "colorbar": {
              "outlinewidth": 0,
              "ticks": ""
             }
            },
            "type": "histogram"
           }
          ],
          "histogram2d": [
           {
            "colorbar": {
             "outlinewidth": 0,
             "ticks": ""
            },
            "colorscale": [
             [
              0,
              "#0d0887"
             ],
             [
              0.1111111111111111,
              "#46039f"
             ],
             [
              0.2222222222222222,
              "#7201a8"
             ],
             [
              0.3333333333333333,
              "#9c179e"
             ],
             [
              0.4444444444444444,
              "#bd3786"
             ],
             [
              0.5555555555555556,
              "#d8576b"
             ],
             [
              0.6666666666666666,
              "#ed7953"
             ],
             [
              0.7777777777777778,
              "#fb9f3a"
             ],
             [
              0.8888888888888888,
              "#fdca26"
             ],
             [
              1,
              "#f0f921"
             ]
            ],
            "type": "histogram2d"
           }
          ],
          "histogram2dcontour": [
           {
            "colorbar": {
             "outlinewidth": 0,
             "ticks": ""
            },
            "colorscale": [
             [
              0,
              "#0d0887"
             ],
             [
              0.1111111111111111,
              "#46039f"
             ],
             [
              0.2222222222222222,
              "#7201a8"
             ],
             [
              0.3333333333333333,
              "#9c179e"
             ],
             [
              0.4444444444444444,
              "#bd3786"
             ],
             [
              0.5555555555555556,
              "#d8576b"
             ],
             [
              0.6666666666666666,
              "#ed7953"
             ],
             [
              0.7777777777777778,
              "#fb9f3a"
             ],
             [
              0.8888888888888888,
              "#fdca26"
             ],
             [
              1,
              "#f0f921"
             ]
            ],
            "type": "histogram2dcontour"
           }
          ],
          "mesh3d": [
           {
            "colorbar": {
             "outlinewidth": 0,
             "ticks": ""
            },
            "type": "mesh3d"
           }
          ],
          "parcoords": [
           {
            "line": {
             "colorbar": {
              "outlinewidth": 0,
              "ticks": ""
             }
            },
            "type": "parcoords"
           }
          ],
          "pie": [
           {
            "automargin": true,
            "type": "pie"
           }
          ],
          "scatter": [
           {
            "marker": {
             "colorbar": {
              "outlinewidth": 0,
              "ticks": ""
             }
            },
            "type": "scatter"
           }
          ],
          "scatter3d": [
           {
            "line": {
             "colorbar": {
              "outlinewidth": 0,
              "ticks": ""
             }
            },
            "marker": {
             "colorbar": {
              "outlinewidth": 0,
              "ticks": ""
             }
            },
            "type": "scatter3d"
           }
          ],
          "scattercarpet": [
           {
            "marker": {
             "colorbar": {
              "outlinewidth": 0,
              "ticks": ""
             }
            },
            "type": "scattercarpet"
           }
          ],
          "scattergeo": [
           {
            "marker": {
             "colorbar": {
              "outlinewidth": 0,
              "ticks": ""
             }
            },
            "type": "scattergeo"
           }
          ],
          "scattergl": [
           {
            "marker": {
             "colorbar": {
              "outlinewidth": 0,
              "ticks": ""
             }
            },
            "type": "scattergl"
           }
          ],
          "scattermapbox": [
           {
            "marker": {
             "colorbar": {
              "outlinewidth": 0,
              "ticks": ""
             }
            },
            "type": "scattermapbox"
           }
          ],
          "scatterpolar": [
           {
            "marker": {
             "colorbar": {
              "outlinewidth": 0,
              "ticks": ""
             }
            },
            "type": "scatterpolar"
           }
          ],
          "scatterpolargl": [
           {
            "marker": {
             "colorbar": {
              "outlinewidth": 0,
              "ticks": ""
             }
            },
            "type": "scatterpolargl"
           }
          ],
          "scatterternary": [
           {
            "marker": {
             "colorbar": {
              "outlinewidth": 0,
              "ticks": ""
             }
            },
            "type": "scatterternary"
           }
          ],
          "surface": [
           {
            "colorbar": {
             "outlinewidth": 0,
             "ticks": ""
            },
            "colorscale": [
             [
              0,
              "#0d0887"
             ],
             [
              0.1111111111111111,
              "#46039f"
             ],
             [
              0.2222222222222222,
              "#7201a8"
             ],
             [
              0.3333333333333333,
              "#9c179e"
             ],
             [
              0.4444444444444444,
              "#bd3786"
             ],
             [
              0.5555555555555556,
              "#d8576b"
             ],
             [
              0.6666666666666666,
              "#ed7953"
             ],
             [
              0.7777777777777778,
              "#fb9f3a"
             ],
             [
              0.8888888888888888,
              "#fdca26"
             ],
             [
              1,
              "#f0f921"
             ]
            ],
            "type": "surface"
           }
          ],
          "table": [
           {
            "cells": {
             "fill": {
              "color": "#EBF0F8"
             },
             "line": {
              "color": "white"
             }
            },
            "header": {
             "fill": {
              "color": "#C8D4E3"
             },
             "line": {
              "color": "white"
             }
            },
            "type": "table"
           }
          ]
         },
         "layout": {
          "annotationdefaults": {
           "arrowcolor": "#2a3f5f",
           "arrowhead": 0,
           "arrowwidth": 1
          },
          "coloraxis": {
           "colorbar": {
            "outlinewidth": 0,
            "ticks": ""
           }
          },
          "colorscale": {
           "diverging": [
            [
             0,
             "#8e0152"
            ],
            [
             0.1,
             "#c51b7d"
            ],
            [
             0.2,
             "#de77ae"
            ],
            [
             0.3,
             "#f1b6da"
            ],
            [
             0.4,
             "#fde0ef"
            ],
            [
             0.5,
             "#f7f7f7"
            ],
            [
             0.6,
             "#e6f5d0"
            ],
            [
             0.7,
             "#b8e186"
            ],
            [
             0.8,
             "#7fbc41"
            ],
            [
             0.9,
             "#4d9221"
            ],
            [
             1,
             "#276419"
            ]
           ],
           "sequential": [
            [
             0,
             "#0d0887"
            ],
            [
             0.1111111111111111,
             "#46039f"
            ],
            [
             0.2222222222222222,
             "#7201a8"
            ],
            [
             0.3333333333333333,
             "#9c179e"
            ],
            [
             0.4444444444444444,
             "#bd3786"
            ],
            [
             0.5555555555555556,
             "#d8576b"
            ],
            [
             0.6666666666666666,
             "#ed7953"
            ],
            [
             0.7777777777777778,
             "#fb9f3a"
            ],
            [
             0.8888888888888888,
             "#fdca26"
            ],
            [
             1,
             "#f0f921"
            ]
           ],
           "sequentialminus": [
            [
             0,
             "#0d0887"
            ],
            [
             0.1111111111111111,
             "#46039f"
            ],
            [
             0.2222222222222222,
             "#7201a8"
            ],
            [
             0.3333333333333333,
             "#9c179e"
            ],
            [
             0.4444444444444444,
             "#bd3786"
            ],
            [
             0.5555555555555556,
             "#d8576b"
            ],
            [
             0.6666666666666666,
             "#ed7953"
            ],
            [
             0.7777777777777778,
             "#fb9f3a"
            ],
            [
             0.8888888888888888,
             "#fdca26"
            ],
            [
             1,
             "#f0f921"
            ]
           ]
          },
          "colorway": [
           "#636efa",
           "#EF553B",
           "#00cc96",
           "#ab63fa",
           "#FFA15A",
           "#19d3f3",
           "#FF6692",
           "#B6E880",
           "#FF97FF",
           "#FECB52"
          ],
          "font": {
           "color": "#2a3f5f"
          },
          "geo": {
           "bgcolor": "white",
           "lakecolor": "white",
           "landcolor": "#E5ECF6",
           "showlakes": true,
           "showland": true,
           "subunitcolor": "white"
          },
          "hoverlabel": {
           "align": "left"
          },
          "hovermode": "closest",
          "mapbox": {
           "style": "light"
          },
          "paper_bgcolor": "white",
          "plot_bgcolor": "#E5ECF6",
          "polar": {
           "angularaxis": {
            "gridcolor": "white",
            "linecolor": "white",
            "ticks": ""
           },
           "bgcolor": "#E5ECF6",
           "radialaxis": {
            "gridcolor": "white",
            "linecolor": "white",
            "ticks": ""
           }
          },
          "scene": {
           "xaxis": {
            "backgroundcolor": "#E5ECF6",
            "gridcolor": "white",
            "gridwidth": 2,
            "linecolor": "white",
            "showbackground": true,
            "ticks": "",
            "zerolinecolor": "white"
           },
           "yaxis": {
            "backgroundcolor": "#E5ECF6",
            "gridcolor": "white",
            "gridwidth": 2,
            "linecolor": "white",
            "showbackground": true,
            "ticks": "",
            "zerolinecolor": "white"
           },
           "zaxis": {
            "backgroundcolor": "#E5ECF6",
            "gridcolor": "white",
            "gridwidth": 2,
            "linecolor": "white",
            "showbackground": true,
            "ticks": "",
            "zerolinecolor": "white"
           }
          },
          "shapedefaults": {
           "line": {
            "color": "#2a3f5f"
           }
          },
          "ternary": {
           "aaxis": {
            "gridcolor": "white",
            "linecolor": "white",
            "ticks": ""
           },
           "baxis": {
            "gridcolor": "white",
            "linecolor": "white",
            "ticks": ""
           },
           "bgcolor": "#E5ECF6",
           "caxis": {
            "gridcolor": "white",
            "linecolor": "white",
            "ticks": ""
           }
          },
          "title": {
           "x": 0.05
          },
          "xaxis": {
           "automargin": true,
           "gridcolor": "white",
           "linecolor": "white",
           "ticks": "",
           "title": {
            "standoff": 15
           },
           "zerolinecolor": "white",
           "zerolinewidth": 2
          },
          "yaxis": {
           "automargin": true,
           "gridcolor": "white",
           "linecolor": "white",
           "ticks": "",
           "title": {
            "standoff": 15
           },
           "zerolinecolor": "white",
           "zerolinewidth": 2
          }
         }
        },
        "xaxis": {
         "anchor": "y",
         "domain": [
          0,
          1
         ],
         "title": {
          "text": "X"
         }
        },
        "yaxis": {
         "anchor": "x",
         "domain": [
          0,
          1
         ],
         "title": {
          "text": "Y"
         }
        }
       }
      },
      "text/html": [
       "<div>\n",
       "        \n",
       "        \n",
       "            <div id=\"5626571f-b969-4e15-a1ce-841b7fa23d68\" class=\"plotly-graph-div\" style=\"height:600px; width:100%;\"></div>\n",
       "            <script type=\"text/javascript\">\n",
       "                require([\"plotly\"], function(Plotly) {\n",
       "                    window.PLOTLYENV=window.PLOTLYENV || {};\n",
       "                    \n",
       "                if (document.getElementById(\"5626571f-b969-4e15-a1ce-841b7fa23d68\")) {\n",
       "                    Plotly.newPlot(\n",
       "                        '5626571f-b969-4e15-a1ce-841b7fa23d68',\n",
       "                        [{\"hoverlabel\": {\"namelength\": 0}, \"hovertemplate\": \"X=%{x}<br>Y=%{y}\", \"legendgroup\": \"\", \"marker\": {\"color\": \"#636efa\", \"symbol\": \"circle\"}, \"mode\": \"markers\", \"name\": \"\", \"showlegend\": false, \"type\": \"scatter\", \"x\": [6.1101, 5.5277, 8.5186, 7.0032, 5.8598, 8.3829, 7.4764, 8.5781, 6.4862, 5.0546, 5.7107, 14.164, 5.734, 8.4084, 5.6407, 5.3794, 6.3654, 5.1301, 6.4296, 7.0708, 6.1891, 20.27, 5.4901, 6.3261, 5.5649, 18.945, 12.828, 10.957, 13.176, 22.203, 5.2524, 6.5894, 9.2482, 5.8918, 8.2111, 7.9334, 8.0959, 5.6063, 12.836, 6.3534, 5.4069, 6.8825, 11.708, 5.7737, 7.8247, 7.0931, 5.0702, 5.8014, 11.7, 5.5416, 7.5402, 5.3077, 7.4239, 7.6031, 6.3328, 6.3589, 6.2742, 5.6397, 9.3102, 9.4536, 8.8254, 5.1793, 21.279, 14.908, 18.959, 7.2182, 8.2951, 10.236, 5.4994, 20.341, 10.136, 7.3345, 6.0062, 7.2259, 5.0269, 6.5479, 7.5386, 5.0365, 10.274, 5.1077, 5.7292, 5.1884, 6.3557, 9.7687, 6.5159, 8.5172, 9.1802, 6.002, 5.5204, 5.0594, 5.7077, 7.6366, 5.8707, 5.3054, 8.2934, 13.394, 5.4369], \"xaxis\": \"x\", \"y\": [17.592, 9.1302, 13.662, 11.854, 6.8233, 11.886, 4.3483, 12.0, 6.5987, 3.8166, 3.2522, 15.505, 3.1551, 7.2258, 0.71618, 3.5129, 5.3048, 0.56077, 3.6518, 5.3893, 3.1386, 21.767, 4.263, 5.1875, 3.0825, 22.638, 13.501, 7.0467, 14.692, 24.147, -1.22, 5.9966, 12.134, 1.8495, 6.5426, 4.5623, 4.1164, 3.3928, 10.117, 5.4974, 0.55657, 3.9115, 5.3854, 2.4406, 6.7318, 1.0463, 5.1337, 1.844, 8.0043, 1.0179, 6.7504, 1.8396, 4.2885, 4.9981, 1.4233, -1.4211, 2.4756, 4.6042, 3.9624, 5.4141, 5.1694, -0.74279, 17.929, 12.054, 17.054, 4.8852, 5.7442, 7.7754, 1.0173, 20.992, 6.6799, 4.0259, 1.2784, 3.3411, -2.6807, 0.29678, 3.8845, 5.7014, 6.7526, 2.0576, 0.47953, 0.20421, 0.67861, 7.5435, 5.3436, 4.2415, 6.7981, 0.92695, 0.152, 2.8214, 1.8451, 4.2959, 7.2029, 1.9869, 0.14454, 9.0551, 0.61705], \"yaxis\": \"y\"}, {\"hoverlabel\": {\"namelength\": 0}, \"hovertemplate\": \"<b>OLS trendline</b><br>Y = 1.193034 * X + -3.895781<br>R<sup>2</sup>=0.702032<br><br>X=%{x}<br>Y=%{y} <b>(trend)</b>\", \"legendgroup\": \"\", \"marker\": {\"color\": \"#636efa\", \"symbol\": \"circle\"}, \"mode\": \"lines\", \"name\": \"\", \"showlegend\": false, \"type\": \"scatter\", \"x\": [5.0269, 5.0365, 5.0546, 5.0594, 5.0702, 5.1077, 5.1301, 5.1793, 5.1884, 5.2524, 5.3054, 5.3077, 5.3794, 5.4069, 5.4369, 5.4901, 5.4994, 5.5204, 5.5277, 5.5416, 5.5649, 5.6063, 5.6397, 5.6407, 5.7077, 5.7107, 5.7292, 5.734, 5.7737, 5.8014, 5.8598, 5.8707, 5.8918, 6.002, 6.0062, 6.1101, 6.1891, 6.2742, 6.3261, 6.3328, 6.3534, 6.3557, 6.3589, 6.3654, 6.4296, 6.4862, 6.5159, 6.5479, 6.5894, 6.8825, 7.0032, 7.0708, 7.0931, 7.2182, 7.2259, 7.3345, 7.4239, 7.4764, 7.5386, 7.5402, 7.6031, 7.6366, 7.8247, 7.9334, 8.0959, 8.2111, 8.2934, 8.2951, 8.3829, 8.4084, 8.5172, 8.5186, 8.5781, 8.8254, 9.1802, 9.2482, 9.3102, 9.4536, 9.7687, 10.136, 10.236, 10.274, 10.957, 11.7, 11.708, 12.828, 12.836, 13.176, 13.394, 14.164, 14.908, 18.945, 18.959, 20.27, 20.341, 21.279, 22.203], \"xaxis\": \"x\", \"y\": [2.1014799476648105, 2.11293307064903, 2.1345269796088613, 2.140253541100972, 2.1531383044582193, 2.1978770661153297, 2.2246010197451755, 2.283298275039303, 2.2941548812014294, 2.370509034429563, 2.433739817571612, 2.4364837949532476, 2.5220243072416424, 2.554832732456856, 2.5906237417825433, 2.6540931316534304, 2.665188344544393, 2.6902420510723757, 2.6989511966749595, 2.715534364329194, 2.7433320482388113, 2.7927236411082608, 2.832570964824194, 2.8337639984683825, 2.913697252629086, 2.9172763535616544, 2.939347475979162, 2.945074037471272, 2.9924374731455985, 3.025484505089651, 3.0951576699103227, 3.1081617366319905, 3.13333474652439, 3.2648070541140837, 3.2698177954196797, 3.393773991050979, 3.4880236489419567, 3.5895508120624915, 3.6514692581959314, 3.6594625836120014, 3.6840390766823066, 3.6867830540639424, 3.69060076172535, 3.6983554804125824, 3.7749482403695542, 3.8424739446306853, 3.8779070438631167, 3.916084120477184, 3.965595016711052, 4.3152731778230216, 4.459272338676705, 4.539921413023922, 4.56652606328935, 4.7157745721774695, 4.72496093123773, 4.854524384996719, 4.961181592787268, 5.023815859107222, 5.098022551775815, 5.099931405606517, 5.174973221826045, 5.214939848906395, 5.4393494773784585, 5.569032234501867, 5.762900201682676, 5.900337677493317, 5.998524346410122, 6.000552503605244, 6.105300857565089, 6.135723215491925, 6.265525275979753, 6.267195523081616, 6.338181024910897, 6.633218245118986, 7.056506582077452, 7.1376328698823475, 7.211600955822101, 7.382681980398889, 7.758606881683031, 8.196808139193868, 8.316111503612829, 8.361446782092031, 9.176288761073526, 10.062712758706393, 10.07225702785991, 11.408454709352256, 11.417998978505773, 11.823630417530236, 12.083711751963568, 13.002347657989555, 13.88996468926661, 18.706241510860004, 18.722943981878657, 20.287011089411216, 20.37171647814868, 21.490782036398517, 22.593145123629704], \"yaxis\": \"y\"}],\n",
       "                        {\"height\": 600, \"legend\": {\"tracegroupgap\": 0}, \"margin\": {\"t\": 60}, \"template\": {\"data\": {\"bar\": [{\"error_x\": {\"color\": \"#2a3f5f\"}, \"error_y\": {\"color\": \"#2a3f5f\"}, \"marker\": {\"line\": {\"color\": \"#E5ECF6\", \"width\": 0.5}}, \"type\": \"bar\"}], \"barpolar\": [{\"marker\": {\"line\": {\"color\": \"#E5ECF6\", \"width\": 0.5}}, \"type\": \"barpolar\"}], \"carpet\": [{\"aaxis\": {\"endlinecolor\": \"#2a3f5f\", \"gridcolor\": \"white\", \"linecolor\": \"white\", \"minorgridcolor\": \"white\", \"startlinecolor\": \"#2a3f5f\"}, \"baxis\": {\"endlinecolor\": \"#2a3f5f\", \"gridcolor\": \"white\", \"linecolor\": \"white\", \"minorgridcolor\": \"white\", \"startlinecolor\": \"#2a3f5f\"}, \"type\": \"carpet\"}], \"choropleth\": [{\"colorbar\": {\"outlinewidth\": 0, \"ticks\": \"\"}, \"type\": \"choropleth\"}], \"contour\": [{\"colorbar\": {\"outlinewidth\": 0, \"ticks\": \"\"}, \"colorscale\": [[0.0, \"#0d0887\"], [0.1111111111111111, \"#46039f\"], [0.2222222222222222, \"#7201a8\"], [0.3333333333333333, \"#9c179e\"], [0.4444444444444444, \"#bd3786\"], [0.5555555555555556, \"#d8576b\"], [0.6666666666666666, \"#ed7953\"], [0.7777777777777778, \"#fb9f3a\"], [0.8888888888888888, \"#fdca26\"], [1.0, \"#f0f921\"]], \"type\": \"contour\"}], \"contourcarpet\": [{\"colorbar\": {\"outlinewidth\": 0, \"ticks\": \"\"}, \"type\": \"contourcarpet\"}], \"heatmap\": [{\"colorbar\": {\"outlinewidth\": 0, \"ticks\": \"\"}, \"colorscale\": [[0.0, \"#0d0887\"], [0.1111111111111111, \"#46039f\"], [0.2222222222222222, \"#7201a8\"], [0.3333333333333333, \"#9c179e\"], [0.4444444444444444, \"#bd3786\"], [0.5555555555555556, \"#d8576b\"], [0.6666666666666666, \"#ed7953\"], [0.7777777777777778, \"#fb9f3a\"], [0.8888888888888888, \"#fdca26\"], [1.0, \"#f0f921\"]], \"type\": \"heatmap\"}], \"heatmapgl\": [{\"colorbar\": {\"outlinewidth\": 0, \"ticks\": \"\"}, \"colorscale\": [[0.0, \"#0d0887\"], [0.1111111111111111, \"#46039f\"], [0.2222222222222222, \"#7201a8\"], [0.3333333333333333, \"#9c179e\"], [0.4444444444444444, \"#bd3786\"], [0.5555555555555556, \"#d8576b\"], [0.6666666666666666, \"#ed7953\"], [0.7777777777777778, \"#fb9f3a\"], [0.8888888888888888, \"#fdca26\"], [1.0, \"#f0f921\"]], \"type\": \"heatmapgl\"}], \"histogram\": [{\"marker\": {\"colorbar\": {\"outlinewidth\": 0, \"ticks\": \"\"}}, \"type\": \"histogram\"}], \"histogram2d\": [{\"colorbar\": {\"outlinewidth\": 0, \"ticks\": \"\"}, \"colorscale\": [[0.0, \"#0d0887\"], [0.1111111111111111, \"#46039f\"], [0.2222222222222222, \"#7201a8\"], [0.3333333333333333, \"#9c179e\"], [0.4444444444444444, \"#bd3786\"], [0.5555555555555556, \"#d8576b\"], [0.6666666666666666, \"#ed7953\"], [0.7777777777777778, \"#fb9f3a\"], [0.8888888888888888, \"#fdca26\"], [1.0, \"#f0f921\"]], \"type\": \"histogram2d\"}], \"histogram2dcontour\": [{\"colorbar\": {\"outlinewidth\": 0, \"ticks\": \"\"}, \"colorscale\": [[0.0, \"#0d0887\"], [0.1111111111111111, \"#46039f\"], [0.2222222222222222, \"#7201a8\"], [0.3333333333333333, \"#9c179e\"], [0.4444444444444444, \"#bd3786\"], [0.5555555555555556, \"#d8576b\"], [0.6666666666666666, \"#ed7953\"], [0.7777777777777778, \"#fb9f3a\"], [0.8888888888888888, \"#fdca26\"], [1.0, \"#f0f921\"]], \"type\": \"histogram2dcontour\"}], \"mesh3d\": [{\"colorbar\": {\"outlinewidth\": 0, \"ticks\": \"\"}, \"type\": \"mesh3d\"}], \"parcoords\": [{\"line\": {\"colorbar\": {\"outlinewidth\": 0, \"ticks\": \"\"}}, \"type\": \"parcoords\"}], \"pie\": [{\"automargin\": true, \"type\": \"pie\"}], \"scatter\": [{\"marker\": {\"colorbar\": {\"outlinewidth\": 0, \"ticks\": \"\"}}, \"type\": \"scatter\"}], \"scatter3d\": [{\"line\": {\"colorbar\": {\"outlinewidth\": 0, \"ticks\": \"\"}}, \"marker\": {\"colorbar\": {\"outlinewidth\": 0, \"ticks\": \"\"}}, \"type\": \"scatter3d\"}], \"scattercarpet\": [{\"marker\": {\"colorbar\": {\"outlinewidth\": 0, \"ticks\": \"\"}}, \"type\": \"scattercarpet\"}], \"scattergeo\": [{\"marker\": {\"colorbar\": {\"outlinewidth\": 0, \"ticks\": \"\"}}, \"type\": \"scattergeo\"}], \"scattergl\": [{\"marker\": {\"colorbar\": {\"outlinewidth\": 0, \"ticks\": \"\"}}, \"type\": \"scattergl\"}], \"scattermapbox\": [{\"marker\": {\"colorbar\": {\"outlinewidth\": 0, \"ticks\": \"\"}}, \"type\": \"scattermapbox\"}], \"scatterpolar\": [{\"marker\": {\"colorbar\": {\"outlinewidth\": 0, \"ticks\": \"\"}}, \"type\": \"scatterpolar\"}], \"scatterpolargl\": [{\"marker\": {\"colorbar\": {\"outlinewidth\": 0, \"ticks\": \"\"}}, \"type\": \"scatterpolargl\"}], \"scatterternary\": [{\"marker\": {\"colorbar\": {\"outlinewidth\": 0, \"ticks\": \"\"}}, \"type\": \"scatterternary\"}], \"surface\": [{\"colorbar\": {\"outlinewidth\": 0, \"ticks\": \"\"}, \"colorscale\": [[0.0, \"#0d0887\"], [0.1111111111111111, \"#46039f\"], [0.2222222222222222, \"#7201a8\"], [0.3333333333333333, \"#9c179e\"], [0.4444444444444444, \"#bd3786\"], [0.5555555555555556, \"#d8576b\"], [0.6666666666666666, \"#ed7953\"], [0.7777777777777778, \"#fb9f3a\"], [0.8888888888888888, \"#fdca26\"], [1.0, \"#f0f921\"]], \"type\": \"surface\"}], \"table\": [{\"cells\": {\"fill\": {\"color\": \"#EBF0F8\"}, \"line\": {\"color\": \"white\"}}, \"header\": {\"fill\": {\"color\": \"#C8D4E3\"}, \"line\": {\"color\": \"white\"}}, \"type\": \"table\"}]}, \"layout\": {\"annotationdefaults\": {\"arrowcolor\": \"#2a3f5f\", \"arrowhead\": 0, \"arrowwidth\": 1}, \"coloraxis\": {\"colorbar\": {\"outlinewidth\": 0, \"ticks\": \"\"}}, \"colorscale\": {\"diverging\": [[0, \"#8e0152\"], [0.1, \"#c51b7d\"], [0.2, \"#de77ae\"], [0.3, \"#f1b6da\"], [0.4, \"#fde0ef\"], [0.5, \"#f7f7f7\"], [0.6, \"#e6f5d0\"], [0.7, \"#b8e186\"], [0.8, \"#7fbc41\"], [0.9, \"#4d9221\"], [1, \"#276419\"]], \"sequential\": [[0.0, \"#0d0887\"], [0.1111111111111111, \"#46039f\"], [0.2222222222222222, \"#7201a8\"], [0.3333333333333333, \"#9c179e\"], [0.4444444444444444, \"#bd3786\"], [0.5555555555555556, \"#d8576b\"], [0.6666666666666666, \"#ed7953\"], [0.7777777777777778, \"#fb9f3a\"], [0.8888888888888888, \"#fdca26\"], [1.0, \"#f0f921\"]], \"sequentialminus\": [[0.0, \"#0d0887\"], [0.1111111111111111, \"#46039f\"], [0.2222222222222222, \"#7201a8\"], [0.3333333333333333, \"#9c179e\"], [0.4444444444444444, \"#bd3786\"], [0.5555555555555556, \"#d8576b\"], [0.6666666666666666, \"#ed7953\"], [0.7777777777777778, \"#fb9f3a\"], [0.8888888888888888, \"#fdca26\"], [1.0, \"#f0f921\"]]}, \"colorway\": [\"#636efa\", \"#EF553B\", \"#00cc96\", \"#ab63fa\", \"#FFA15A\", \"#19d3f3\", \"#FF6692\", \"#B6E880\", \"#FF97FF\", \"#FECB52\"], \"font\": {\"color\": \"#2a3f5f\"}, \"geo\": {\"bgcolor\": \"white\", \"lakecolor\": \"white\", \"landcolor\": \"#E5ECF6\", \"showlakes\": true, \"showland\": true, \"subunitcolor\": \"white\"}, \"hoverlabel\": {\"align\": \"left\"}, \"hovermode\": \"closest\", \"mapbox\": {\"style\": \"light\"}, \"paper_bgcolor\": \"white\", \"plot_bgcolor\": \"#E5ECF6\", \"polar\": {\"angularaxis\": {\"gridcolor\": \"white\", \"linecolor\": \"white\", \"ticks\": \"\"}, \"bgcolor\": \"#E5ECF6\", \"radialaxis\": {\"gridcolor\": \"white\", \"linecolor\": \"white\", \"ticks\": \"\"}}, \"scene\": {\"xaxis\": {\"backgroundcolor\": \"#E5ECF6\", \"gridcolor\": \"white\", \"gridwidth\": 2, \"linecolor\": \"white\", \"showbackground\": true, \"ticks\": \"\", \"zerolinecolor\": \"white\"}, \"yaxis\": {\"backgroundcolor\": \"#E5ECF6\", \"gridcolor\": \"white\", \"gridwidth\": 2, \"linecolor\": \"white\", \"showbackground\": true, \"ticks\": \"\", \"zerolinecolor\": \"white\"}, \"zaxis\": {\"backgroundcolor\": \"#E5ECF6\", \"gridcolor\": \"white\", \"gridwidth\": 2, \"linecolor\": \"white\", \"showbackground\": true, \"ticks\": \"\", \"zerolinecolor\": \"white\"}}, \"shapedefaults\": {\"line\": {\"color\": \"#2a3f5f\"}}, \"ternary\": {\"aaxis\": {\"gridcolor\": \"white\", \"linecolor\": \"white\", \"ticks\": \"\"}, \"baxis\": {\"gridcolor\": \"white\", \"linecolor\": \"white\", \"ticks\": \"\"}, \"bgcolor\": \"#E5ECF6\", \"caxis\": {\"gridcolor\": \"white\", \"linecolor\": \"white\", \"ticks\": \"\"}}, \"title\": {\"x\": 0.05}, \"xaxis\": {\"automargin\": true, \"gridcolor\": \"white\", \"linecolor\": \"white\", \"ticks\": \"\", \"title\": {\"standoff\": 15}, \"zerolinecolor\": \"white\", \"zerolinewidth\": 2}, \"yaxis\": {\"automargin\": true, \"gridcolor\": \"white\", \"linecolor\": \"white\", \"ticks\": \"\", \"title\": {\"standoff\": 15}, \"zerolinecolor\": \"white\", \"zerolinewidth\": 2}}}, \"xaxis\": {\"anchor\": \"y\", \"domain\": [0.0, 1.0], \"title\": {\"text\": \"X\"}}, \"yaxis\": {\"anchor\": \"x\", \"domain\": [0.0, 1.0], \"title\": {\"text\": \"Y\"}}},\n",
       "                        {\"responsive\": true}\n",
       "                    ).then(function(){\n",
       "                            \n",
       "var gd = document.getElementById('5626571f-b969-4e15-a1ce-841b7fa23d68');\n",
       "var x = new MutationObserver(function (mutations, observer) {{\n",
       "        var display = window.getComputedStyle(gd).display;\n",
       "        if (!display || display === 'none') {{\n",
       "            console.log([gd, 'removed!']);\n",
       "            Plotly.purge(gd);\n",
       "            observer.disconnect();\n",
       "        }}\n",
       "}});\n",
       "\n",
       "// Listen for the removal of the full notebook cells\n",
       "var notebookContainer = gd.closest('#notebook-container');\n",
       "if (notebookContainer) {{\n",
       "    x.observe(notebookContainer, {childList: true});\n",
       "}}\n",
       "\n",
       "// Listen for the clearing of the current output cell\n",
       "var outputEl = gd.closest('.output');\n",
       "if (outputEl) {{\n",
       "    x.observe(outputEl, {childList: true});\n",
       "}}\n",
       "\n",
       "                        })\n",
       "                };\n",
       "                });\n",
       "            </script>\n",
       "        </div>"
      ]
     },
     "metadata": {},
     "output_type": "display_data"
    }
   ],
   "source": [
    "fig = go.Figure()\n",
    "h = theta @ xx\n",
    "fig.add_trace(Scatter(x=X, y=h))\n",
    "fig.add_trace(Scatter(x=X, y=Y, mode='markers'))\n",
    "fig.show()\n",
    "\n",
    "px.scatter({'X':X, 'Y':Y}, x='X', y='Y', trendline='ols')"
   ]
  },
  {
   "cell_type": "code",
   "execution_count": 390,
   "metadata": {},
   "outputs": [
    {
     "name": "stdout",
     "output_type": "stream",
     "text": [
      "For population = 35,000, predict: 4519.767867701776\n",
      "For population = 70,000, predict: 45342.45012944714\n"
     ]
    }
   ],
   "source": [
    "predict1 = [1, 3.5] @ theta\n",
    "print('For population = 35,000, predict: {}'.format(predict1 * 10000))\n",
    "predict2 = [1, 7] @ theta\n",
    "print('For population = 70,000, predict: {}'.format(predict2 * 10000))"
   ]
  },
  {
   "cell_type": "code",
   "execution_count": null,
   "metadata": {},
   "outputs": [],
   "source": []
  }
 ],
 "metadata": {
  "kernelspec": {
   "display_name": "Python 3",
   "language": "python",
   "name": "python3"
  },
  "language_info": {
   "codemirror_mode": {
    "name": "ipython",
    "version": 3
   },
   "file_extension": ".py",
   "mimetype": "text/x-python",
   "name": "python",
   "nbconvert_exporter": "python",
   "pygments_lexer": "ipython3",
   "version": "3.7.4"
  }
 },
 "nbformat": 4,
 "nbformat_minor": 2
}
