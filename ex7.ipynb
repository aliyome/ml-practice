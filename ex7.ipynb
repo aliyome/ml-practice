{
 "cells": [
  {
   "cell_type": "code",
   "execution_count": 1,
   "metadata": {},
   "outputs": [],
   "source": [
    "import datetime\n",
    "\n",
    "from pprint import pprint\n",
    "import numpy as np\n",
    "import pandas as pd\n",
    "from numba import jit, f8, i8, i4, b1, void\n",
    "\n",
    "import plotly\n",
    "import plotly.express as px\n",
    "import plotly.figure_factory as ff\n",
    "import plotly.graph_objects as go\n",
    "import plotly.io as pio\n",
    "from plotly.subplots import make_subplots\n",
    "from plotly.graph_objs.scatter import Line\n",
    "from plotly.graph_objs import Scatter\n",
    "\n",
    "from scipy.io import loadmat\n",
    "from sklearn.model_selection import train_test_split"
   ]
  },
  {
   "cell_type": "code",
   "execution_count": 4,
   "metadata": {},
   "outputs": [
    {
     "data": {
      "text/plain": [
       "(300, 2)"
      ]
     },
     "execution_count": 4,
     "metadata": {},
     "output_type": "execute_result"
    }
   ],
   "source": [
    "mat = loadmat('ex7data2.mat')\n",
    "X = mat['X']\n",
    "X.shape"
   ]
  },
  {
   "cell_type": "code",
   "execution_count": 5,
   "metadata": {},
   "outputs": [
    {
     "data": {
      "text/plain": [
       "array([[3, 3],\n",
       "       [6, 2],\n",
       "       [8, 5]])"
      ]
     },
     "execution_count": 5,
     "metadata": {},
     "output_type": "execute_result"
    }
   ],
   "source": [
    "K = 3\n",
    "initial_centroids = np.array([[3, 3], [6,2], [8,5]])\n",
    "initial_centroids"
   ]
  },
  {
   "cell_type": "code",
   "execution_count": 51,
   "metadata": {},
   "outputs": [
    {
     "name": "stdout",
     "output_type": "stream",
     "text": [
      "0, 2, 1 [0 2 1]\n"
     ]
    }
   ],
   "source": [
    "def findClosestCentroids(X, centroids):\n",
    "    m = X.shape[0]\n",
    "    k = centroids.shape[0]\n",
    "    xsum = np.zeros((m, k))\n",
    "\n",
    "    for i in range(n):\n",
    "        xsum[:, i] = ((X - centroids[i]) ** 2).sum(1)\n",
    "\n",
    "    return xsum.argmin(1)\n",
    "\n",
    "# X[0], initial_centroids[0], (X-initial_centroids[0])[0], ((X-initial_centroids[0]) ** 2)[0], ((X-initial_centroids[0]) ** 2).sum(1)\n",
    "idx = findClosestCentroids(X, initial_centroids)\n",
    "print('0, 2, 1', idx[0:3])"
   ]
  },
  {
   "cell_type": "code",
   "execution_count": 57,
   "metadata": {},
   "outputs": [
    {
     "name": "stdout",
     "output_type": "stream",
     "text": [
      "(the centroids should be\n",
      "   [ 2.428301 3.157924 ]\n",
      "   [ 5.813503 2.633656 ]\n",
      "   [ 7.119387 3.616684 ]\n",
      "[[2.42830111 3.15792418]\n",
      " [5.81350331 2.63365645]\n",
      " [7.11938687 3.6166844 ]]\n"
     ]
    }
   ],
   "source": [
    "def computeCentroids(X, idx, k):\n",
    "    centroids = np.zeros((k, X.shape[1]))\n",
    "    for i in idx:\n",
    "        centroids[i] = X[idx == i].mean(0)\n",
    "\n",
    "    return centroids\n",
    "\n",
    "centroids = computeCentroids(X, idx, initial_centroids.shape[0])\n",
    "print('(the centroids should be');\n",
    "print('   [ 2.428301 3.157924 ]');\n",
    "print('   [ 5.813503 2.633656 ]');\n",
    "print('   [ 7.119387 3.616684 ]');\n",
    "print(centroids)"
   ]
  },
  {
   "cell_type": "code",
   "execution_count": 58,
   "metadata": {},
   "outputs": [],
   "source": [
    "m = X.shape[0]\n",
    "n = X.shape[1]\n",
    "K = 3\n",
    "max_iters = 10\n",
    "initial_centroids = np.array([[3, 3], [6,2], [8,5]])"
   ]
  },
  {
   "cell_type": "code",
   "execution_count": null,
   "metadata": {},
   "outputs": [],
   "source": []
  },
  {
   "cell_type": "code",
   "execution_count": null,
   "metadata": {},
   "outputs": [],
   "source": []
  }
 ],
 "metadata": {
  "kernelspec": {
   "display_name": "Python 3",
   "language": "python",
   "name": "python3"
  },
  "language_info": {
   "codemirror_mode": {
    "name": "ipython",
    "version": 3
   },
   "file_extension": ".py",
   "mimetype": "text/x-python",
   "name": "python",
   "nbconvert_exporter": "python",
   "pygments_lexer": "ipython3",
   "version": "3.7.4"
  }
 },
 "nbformat": 4,
 "nbformat_minor": 4
}
